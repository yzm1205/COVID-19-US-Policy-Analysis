{
 "cells": [
  {
   "cell_type": "code",
   "execution_count": 31,
   "metadata": {},
   "outputs": [],
   "source": [
    "import pandas as pd\n",
    "import os\n",
    "import matplotlib.pyplot as plt\n",
    "import numpy as np\n",
    "from datetime import datetime as dt"
   ]
  },
  {
   "cell_type": "code",
   "execution_count": 32,
   "metadata": {},
   "outputs": [],
   "source": [
    "# AI/AN -> American Indian/ Alska Native\n",
    "# NHPI -> Native Hawaiian/ Pacific Islander"
   ]
  },
  {
   "cell_type": "code",
   "execution_count": 444,
   "metadata": {},
   "outputs": [],
   "source": [
    "import os\n",
    "import pandas as pd\n",
    "\n",
    "path = r\"Dataset/Race and ethinicity state data\"\n",
    "\n",
    "def read_cvs(path):\n",
    "    f = [cvs_ for cvs_ in os.listdir(path) if cvs_.endswith('.csv')]  # fetching all csv files\n",
    "    return f\n",
    "\n",
    "files_ = read_cvs(path)\n",
    "st = ['al', 'ak', 'az', 'ar', 'ca', 'co', 'ct', 'de', 'dc', 'fl', 'ga', 'hi', 'id', 'il', 'in', 'ia', 'ks', 'ky', 'la', 'md', 'ma', 'mi', 'mn', 'ms', 'mo', 'mt', 'ne', 'nv', 'nh', 'nj', 'nm', 'ny', 'nd', 'oh', 'ok', 'or', 'pa', 'ri', 'sc', 'sd', 'tn', 'tx', 'ut', 'vt', 'va', 'wa', 'wv', 'wi', 'wy']\n",
    "st= [x.upper() for x in st]\n",
    "\n",
    "st_copy = st.copy()\n",
    "\n",
    "date_list = pd.DataFrame(data=pd.date_range(start='04-12-2020',end='03-07-2021'),columns=[\"Date\"])\n",
    "\n",
    "records = []\n",
    "files_ = read_cvs(path)\n",
    "for index_, js_ in enumerate(files_):\n",
    "        with open(os.path.join(path, js_)) as file_:\n",
    "            st_copy[index_] = pd.read_csv(file_)\n",
    "            st_copy[index_] = st_copy[index_][::-1].reset_index().drop('index',axis=1)\n",
    "            # st_copy[index_] = st_copy[index_].drop(\"Index\")\n",
    "            records.append(st_copy[index_])\n",
    "\n",
    "data_records = dict(zip(st,records))\n",
    "records_copy = data_records.copy()\n"
   ]
  },
  {
   "cell_type": "code",
   "execution_count": 445,
   "metadata": {},
   "outputs": [],
   "source": [
    "\n",
    "def date_processing(state_list,data,date_range):\n",
    "    \"\"\"\n",
    "    1) Converting the date in the standard format (mm-dd-yyyy).\n",
    "    2) Filling up the missing dates in the dataset.\n",
    "    \"\"\"\n",
    "    st_count=0\n",
    "    for state in state_list:\n",
    "        for i in range(len(data[\"AL\"][\"Date\"])):\n",
    "            #data_records[state].Date[i]=dt.strftime(pd.to_datetime(str(data_records[state].Date[i])[:4]+\"-\"+ str(data_records[state].Date[i])[4:6]+\"-\"+ str(data_records[state].Date[i])[6:],format=\"%Y-%m-%d\").date(),format=\"%m-%d-%y\") Do not use\n",
    "            x_date = (str(data[state].Date[i])[:4],str(data[state].Date[i])[4:6],str(data[state].Date[i])[6:])\n",
    "            x_date = \"-\".join(x_date)\n",
    "            data[state].Date[i]=dt.strftime(pd.to_datetime(x_date).date(),format=\"%m-%d-%Y\")\n",
    "            data[state].Date[i]=pd.to_datetime(data[state].Date[i]).date()\n",
    "        st_count +=1\n",
    "        print(st_count)\n",
    "        data[state].Date = data[state].Date.astype('datetime64[ns]')\n",
    "        date_range=date_range.astype('datetime64[ns]')\n",
    "        data[state]=pd.merge(date_range,data[state],on='Date',how='outer')  # Merging Dataset. \n",
    "        data[state].State.fillna(state,inplace=True)\n",
    "        \n",
    "# date_processing(st,data_records,date_list)"
   ]
  },
  {
   "cell_type": "code",
   "execution_count": 446,
   "metadata": {},
   "outputs": [
    {
     "data": {
      "text/html": [
       "<div>\n",
       "<style scoped>\n",
       "    .dataframe tbody tr th:only-of-type {\n",
       "        vertical-align: middle;\n",
       "    }\n",
       "\n",
       "    .dataframe tbody tr th {\n",
       "        vertical-align: top;\n",
       "    }\n",
       "\n",
       "    .dataframe thead th {\n",
       "        text-align: right;\n",
       "    }\n",
       "</style>\n",
       "<table border=\"1\" class=\"dataframe\">\n",
       "  <thead>\n",
       "    <tr style=\"text-align: right;\">\n",
       "      <th></th>\n",
       "      <th>State</th>\n",
       "      <th>Date</th>\n",
       "      <th>Cases_Asian</th>\n",
       "      <th>Cases_AIAN</th>\n",
       "      <th>Cases_Black</th>\n",
       "      <th>Cases_White</th>\n",
       "      <th>Cases_Other</th>\n",
       "      <th>Cases_NHPI</th>\n",
       "      <th>Cases_Multiracial</th>\n",
       "      <th>Cases_LatinX</th>\n",
       "      <th>...</th>\n",
       "      <th>Tests_Black</th>\n",
       "      <th>Tests_Ethnicity_Hispanic</th>\n",
       "      <th>Tests_Ethnicity_NonHispanic</th>\n",
       "      <th>Tests_Ethnicity_Unknown</th>\n",
       "      <th>Tests_LatinX</th>\n",
       "      <th>Tests_Multiracial</th>\n",
       "      <th>Tests_NHPI</th>\n",
       "      <th>Tests_Other</th>\n",
       "      <th>Tests_White</th>\n",
       "      <th>Tests_Total</th>\n",
       "    </tr>\n",
       "  </thead>\n",
       "  <tbody>\n",
       "    <tr>\n",
       "      <th>0</th>\n",
       "      <td>AL</td>\n",
       "      <td>20200412</td>\n",
       "      <td>37</td>\n",
       "      <td>NaN</td>\n",
       "      <td>1279</td>\n",
       "      <td>1657</td>\n",
       "      <td>66</td>\n",
       "      <td>NaN</td>\n",
       "      <td>NaN</td>\n",
       "      <td>NaN</td>\n",
       "      <td>...</td>\n",
       "      <td>NaN</td>\n",
       "      <td>NaN</td>\n",
       "      <td>NaN</td>\n",
       "      <td>NaN</td>\n",
       "      <td>NaN</td>\n",
       "      <td>NaN</td>\n",
       "      <td>NaN</td>\n",
       "      <td>NaN</td>\n",
       "      <td>NaN</td>\n",
       "      <td>NaN</td>\n",
       "    </tr>\n",
       "    <tr>\n",
       "      <th>1</th>\n",
       "      <td>AL</td>\n",
       "      <td>20200415</td>\n",
       "      <td>41</td>\n",
       "      <td>NaN</td>\n",
       "      <td>1594</td>\n",
       "      <td>1996</td>\n",
       "      <td>85</td>\n",
       "      <td>NaN</td>\n",
       "      <td>NaN</td>\n",
       "      <td>NaN</td>\n",
       "      <td>...</td>\n",
       "      <td>NaN</td>\n",
       "      <td>NaN</td>\n",
       "      <td>NaN</td>\n",
       "      <td>NaN</td>\n",
       "      <td>NaN</td>\n",
       "      <td>NaN</td>\n",
       "      <td>NaN</td>\n",
       "      <td>NaN</td>\n",
       "      <td>NaN</td>\n",
       "      <td>NaN</td>\n",
       "    </tr>\n",
       "    <tr>\n",
       "      <th>2</th>\n",
       "      <td>AL</td>\n",
       "      <td>20200419</td>\n",
       "      <td>45</td>\n",
       "      <td>NaN</td>\n",
       "      <td>1831</td>\n",
       "      <td>2300</td>\n",
       "      <td>102</td>\n",
       "      <td>NaN</td>\n",
       "      <td>NaN</td>\n",
       "      <td>NaN</td>\n",
       "      <td>...</td>\n",
       "      <td>NaN</td>\n",
       "      <td>NaN</td>\n",
       "      <td>NaN</td>\n",
       "      <td>NaN</td>\n",
       "      <td>NaN</td>\n",
       "      <td>NaN</td>\n",
       "      <td>NaN</td>\n",
       "      <td>NaN</td>\n",
       "      <td>NaN</td>\n",
       "      <td>NaN</td>\n",
       "    </tr>\n",
       "    <tr>\n",
       "      <th>3</th>\n",
       "      <td>AL</td>\n",
       "      <td>20200422</td>\n",
       "      <td>42</td>\n",
       "      <td>NaN</td>\n",
       "      <td>1842</td>\n",
       "      <td>2296</td>\n",
       "      <td>110</td>\n",
       "      <td>NaN</td>\n",
       "      <td>NaN</td>\n",
       "      <td>NaN</td>\n",
       "      <td>...</td>\n",
       "      <td>NaN</td>\n",
       "      <td>NaN</td>\n",
       "      <td>NaN</td>\n",
       "      <td>NaN</td>\n",
       "      <td>NaN</td>\n",
       "      <td>NaN</td>\n",
       "      <td>NaN</td>\n",
       "      <td>NaN</td>\n",
       "      <td>NaN</td>\n",
       "      <td>NaN</td>\n",
       "    </tr>\n",
       "    <tr>\n",
       "      <th>4</th>\n",
       "      <td>AL</td>\n",
       "      <td>20200426</td>\n",
       "      <td>50</td>\n",
       "      <td>NaN</td>\n",
       "      <td>2411</td>\n",
       "      <td>2947</td>\n",
       "      <td>163</td>\n",
       "      <td>NaN</td>\n",
       "      <td>NaN</td>\n",
       "      <td>NaN</td>\n",
       "      <td>...</td>\n",
       "      <td>NaN</td>\n",
       "      <td>NaN</td>\n",
       "      <td>NaN</td>\n",
       "      <td>NaN</td>\n",
       "      <td>NaN</td>\n",
       "      <td>NaN</td>\n",
       "      <td>NaN</td>\n",
       "      <td>NaN</td>\n",
       "      <td>NaN</td>\n",
       "      <td>NaN</td>\n",
       "    </tr>\n",
       "    <tr>\n",
       "      <th>...</th>\n",
       "      <td>...</td>\n",
       "      <td>...</td>\n",
       "      <td>...</td>\n",
       "      <td>...</td>\n",
       "      <td>...</td>\n",
       "      <td>...</td>\n",
       "      <td>...</td>\n",
       "      <td>...</td>\n",
       "      <td>...</td>\n",
       "      <td>...</td>\n",
       "      <td>...</td>\n",
       "      <td>...</td>\n",
       "      <td>...</td>\n",
       "      <td>...</td>\n",
       "      <td>...</td>\n",
       "      <td>...</td>\n",
       "      <td>...</td>\n",
       "      <td>...</td>\n",
       "      <td>...</td>\n",
       "      <td>...</td>\n",
       "      <td>...</td>\n",
       "    </tr>\n",
       "    <tr>\n",
       "      <th>90</th>\n",
       "      <td>AL</td>\n",
       "      <td>20210221</td>\n",
       "      <td>2172</td>\n",
       "      <td>NaN</td>\n",
       "      <td>79834</td>\n",
       "      <td>154388</td>\n",
       "      <td>37418</td>\n",
       "      <td>NaN</td>\n",
       "      <td>NaN</td>\n",
       "      <td>NaN</td>\n",
       "      <td>...</td>\n",
       "      <td>NaN</td>\n",
       "      <td>NaN</td>\n",
       "      <td>NaN</td>\n",
       "      <td>NaN</td>\n",
       "      <td>NaN</td>\n",
       "      <td>NaN</td>\n",
       "      <td>NaN</td>\n",
       "      <td>NaN</td>\n",
       "      <td>NaN</td>\n",
       "      <td>NaN</td>\n",
       "    </tr>\n",
       "    <tr>\n",
       "      <th>91</th>\n",
       "      <td>AL</td>\n",
       "      <td>20210224</td>\n",
       "      <td>2224</td>\n",
       "      <td>NaN</td>\n",
       "      <td>81137</td>\n",
       "      <td>157043</td>\n",
       "      <td>37660</td>\n",
       "      <td>NaN</td>\n",
       "      <td>NaN</td>\n",
       "      <td>NaN</td>\n",
       "      <td>...</td>\n",
       "      <td>NaN</td>\n",
       "      <td>NaN</td>\n",
       "      <td>NaN</td>\n",
       "      <td>NaN</td>\n",
       "      <td>NaN</td>\n",
       "      <td>NaN</td>\n",
       "      <td>NaN</td>\n",
       "      <td>NaN</td>\n",
       "      <td>NaN</td>\n",
       "      <td>NaN</td>\n",
       "    </tr>\n",
       "    <tr>\n",
       "      <th>92</th>\n",
       "      <td>AL</td>\n",
       "      <td>20210228</td>\n",
       "      <td>2237</td>\n",
       "      <td>NaN</td>\n",
       "      <td>81782</td>\n",
       "      <td>158420</td>\n",
       "      <td>37809</td>\n",
       "      <td>NaN</td>\n",
       "      <td>NaN</td>\n",
       "      <td>NaN</td>\n",
       "      <td>...</td>\n",
       "      <td>NaN</td>\n",
       "      <td>NaN</td>\n",
       "      <td>NaN</td>\n",
       "      <td>NaN</td>\n",
       "      <td>NaN</td>\n",
       "      <td>NaN</td>\n",
       "      <td>NaN</td>\n",
       "      <td>NaN</td>\n",
       "      <td>NaN</td>\n",
       "      <td>NaN</td>\n",
       "    </tr>\n",
       "    <tr>\n",
       "      <th>93</th>\n",
       "      <td>AL</td>\n",
       "      <td>20210303</td>\n",
       "      <td>2248</td>\n",
       "      <td>NaN</td>\n",
       "      <td>82171</td>\n",
       "      <td>159154</td>\n",
       "      <td>37912</td>\n",
       "      <td>NaN</td>\n",
       "      <td>NaN</td>\n",
       "      <td>NaN</td>\n",
       "      <td>...</td>\n",
       "      <td>NaN</td>\n",
       "      <td>NaN</td>\n",
       "      <td>NaN</td>\n",
       "      <td>NaN</td>\n",
       "      <td>NaN</td>\n",
       "      <td>NaN</td>\n",
       "      <td>NaN</td>\n",
       "      <td>NaN</td>\n",
       "      <td>NaN</td>\n",
       "      <td>NaN</td>\n",
       "    </tr>\n",
       "    <tr>\n",
       "      <th>94</th>\n",
       "      <td>AL</td>\n",
       "      <td>20210307</td>\n",
       "      <td>2273</td>\n",
       "      <td>NaN</td>\n",
       "      <td>82790</td>\n",
       "      <td>160347</td>\n",
       "      <td>38000</td>\n",
       "      <td>NaN</td>\n",
       "      <td>NaN</td>\n",
       "      <td>NaN</td>\n",
       "      <td>...</td>\n",
       "      <td>NaN</td>\n",
       "      <td>NaN</td>\n",
       "      <td>NaN</td>\n",
       "      <td>NaN</td>\n",
       "      <td>NaN</td>\n",
       "      <td>NaN</td>\n",
       "      <td>NaN</td>\n",
       "      <td>NaN</td>\n",
       "      <td>NaN</td>\n",
       "      <td>NaN</td>\n",
       "    </tr>\n",
       "  </tbody>\n",
       "</table>\n",
       "<p>95 rows × 50 columns</p>\n",
       "</div>"
      ],
      "text/plain": [
       "   State      Date  Cases_Asian  Cases_AIAN  Cases_Black  Cases_White  \\\n",
       "0     AL  20200412           37         NaN         1279         1657   \n",
       "1     AL  20200415           41         NaN         1594         1996   \n",
       "2     AL  20200419           45         NaN         1831         2300   \n",
       "3     AL  20200422           42         NaN         1842         2296   \n",
       "4     AL  20200426           50         NaN         2411         2947   \n",
       "..   ...       ...          ...         ...          ...          ...   \n",
       "90    AL  20210221         2172         NaN        79834       154388   \n",
       "91    AL  20210224         2224         NaN        81137       157043   \n",
       "92    AL  20210228         2237         NaN        81782       158420   \n",
       "93    AL  20210303         2248         NaN        82171       159154   \n",
       "94    AL  20210307         2273         NaN        82790       160347   \n",
       "\n",
       "    Cases_Other  Cases_NHPI  Cases_Multiracial  Cases_LatinX  ...  \\\n",
       "0            66         NaN                NaN           NaN  ...   \n",
       "1            85         NaN                NaN           NaN  ...   \n",
       "2           102         NaN                NaN           NaN  ...   \n",
       "3           110         NaN                NaN           NaN  ...   \n",
       "4           163         NaN                NaN           NaN  ...   \n",
       "..          ...         ...                ...           ...  ...   \n",
       "90        37418         NaN                NaN           NaN  ...   \n",
       "91        37660         NaN                NaN           NaN  ...   \n",
       "92        37809         NaN                NaN           NaN  ...   \n",
       "93        37912         NaN                NaN           NaN  ...   \n",
       "94        38000         NaN                NaN           NaN  ...   \n",
       "\n",
       "    Tests_Black  Tests_Ethnicity_Hispanic  Tests_Ethnicity_NonHispanic  \\\n",
       "0           NaN                       NaN                          NaN   \n",
       "1           NaN                       NaN                          NaN   \n",
       "2           NaN                       NaN                          NaN   \n",
       "3           NaN                       NaN                          NaN   \n",
       "4           NaN                       NaN                          NaN   \n",
       "..          ...                       ...                          ...   \n",
       "90          NaN                       NaN                          NaN   \n",
       "91          NaN                       NaN                          NaN   \n",
       "92          NaN                       NaN                          NaN   \n",
       "93          NaN                       NaN                          NaN   \n",
       "94          NaN                       NaN                          NaN   \n",
       "\n",
       "    Tests_Ethnicity_Unknown  Tests_LatinX  Tests_Multiracial  Tests_NHPI  \\\n",
       "0                       NaN           NaN                NaN         NaN   \n",
       "1                       NaN           NaN                NaN         NaN   \n",
       "2                       NaN           NaN                NaN         NaN   \n",
       "3                       NaN           NaN                NaN         NaN   \n",
       "4                       NaN           NaN                NaN         NaN   \n",
       "..                      ...           ...                ...         ...   \n",
       "90                      NaN           NaN                NaN         NaN   \n",
       "91                      NaN           NaN                NaN         NaN   \n",
       "92                      NaN           NaN                NaN         NaN   \n",
       "93                      NaN           NaN                NaN         NaN   \n",
       "94                      NaN           NaN                NaN         NaN   \n",
       "\n",
       "    Tests_Other  Tests_White  Tests_Total  \n",
       "0           NaN          NaN          NaN  \n",
       "1           NaN          NaN          NaN  \n",
       "2           NaN          NaN          NaN  \n",
       "3           NaN          NaN          NaN  \n",
       "4           NaN          NaN          NaN  \n",
       "..          ...          ...          ...  \n",
       "90          NaN          NaN          NaN  \n",
       "91          NaN          NaN          NaN  \n",
       "92          NaN          NaN          NaN  \n",
       "93          NaN          NaN          NaN  \n",
       "94          NaN          NaN          NaN  \n",
       "\n",
       "[95 rows x 50 columns]"
      ]
     },
     "execution_count": 446,
     "metadata": {},
     "output_type": "execute_result"
    }
   ],
   "source": [
    "data_records[\"AL\"][:96]"
   ]
  },
  {
   "cell_type": "code",
   "execution_count": 447,
   "metadata": {},
   "outputs": [
    {
     "name": "stderr",
     "output_type": "stream",
     "text": [
      "C:\\Users\\lenovo\\AppData\\Roaming\\Python\\Python37\\site-packages\\ipykernel_launcher.py:8: SettingWithCopyWarning: \n",
      "A value is trying to be set on a copy of a slice from a DataFrame\n",
      "\n",
      "See the caveats in the documentation: https://pandas.pydata.org/pandas-docs/stable/user_guide/indexing.html#returning-a-view-versus-a-copy\n",
      "  \n",
      "C:\\Users\\lenovo\\AppData\\Roaming\\Python\\Python37\\site-packages\\pandas\\core\\indexing.py:1732: SettingWithCopyWarning: \n",
      "A value is trying to be set on a copy of a slice from a DataFrame\n",
      "\n",
      "See the caveats in the documentation: https://pandas.pydata.org/pandas-docs/stable/user_guide/indexing.html#returning-a-view-versus-a-copy\n",
      "  self._setitem_single_block(indexer, value, name)\n"
     ]
    }
   ],
   "source": [
    "import pandas as pd\n",
    "date_list = pd.DataFrame(data=pd.date_range(start='04-12-2020',end='03-07-2021'),columns=[\"Date\"])  \n",
    "for state in st:\n",
    "    for i in range(len(records_copy[\"AL\"][\"Date\"])):\n",
    "        #data_records[state].Date[i]=dt.strftime(pd.to_datetime(str(data_records[state].Date[i])[:4]+\"-\"+ str(data_records[state].Date[i])[4:6]+\"-\"+ str(data_records[state].Date[i])[6:],format=\"%Y-%m-%d\").date(),format=\"%m-%d-%y\") Do not use\n",
    "        x_date = (str(data_records[state].Date[i])[:4],str(data_records[state].Date[i])[4:6],str(data_records[state].Date[i])[6:])\n",
    "        x_date = \"-\".join(x_date)\n",
    "        data_records[state].Date[i]=dt.strftime(pd.to_datetime(x_date).date(),format=\"%m-%d-%Y\")\n",
    "        data_records[state].Date[i]=pd.to_datetime(data_records[state].Date[i]).date()\n",
    "        \n",
    "    data_records[state].Date = data_records[state].Date.astype('datetime64[ns]')\n",
    "    date_list=date_list.astype('datetime64[ns]')\n",
    "    data_records[state]=pd.merge(date_list,data_records[state],on='Date',how='outer')  # Merging Dataset. \n",
    "    data_records[state].State.fillna(state,inplace=True)\n",
    "\n",
    "\n",
    "def race_data_processing(data=data_records,states=st,date_df=date_list):\n",
    "    \n",
    "    for state in states:\n",
    "        for i in range(len(date_df)):\n",
    "            data[state].iloc[:,2:8] = data[state].iloc[:,2:8].interpolate(method='polynomial',order=2).fillna(0).astype('int')  # interpolation\n",
    "            data[state].iloc[:,2:8].fillna(0,inplace=True)\n",
    "            data[state].iloc[:,2:8].astype('int')\n",
    "\n",
    "            data[state][\"Daily_Cases_Asian\"]=( data[state][\"Cases_Asian\"]- data[state][\"Cases_Asian\"].shift(1)).rolling(14).mean() # number of new cases on that particular day. \n",
    "            data[state][\"Daily_Cases_Black\"]= (data[state][\"Cases_Black\"]- data[state][\"Cases_Black\"].shift(1)).rolling(14).mean() # number of new cases on that particular day. \n",
    "            data[state][\"Daily_Cases_White\"]= (data[state][\"Cases_White\"]- data[state][\"Cases_White\"].shift(1)).rolling(14).mean() # number of new cases on that particular day. \n",
    "            data[state][\"Daily_Cases_Other\"]= (data[state][\"Cases_Other\"]- data[state][\"Cases_Other\"].shift(1)).rolling(14).mean() # number of new cases on that particular day. \n",
    "            data[state][\"Daily_Cases_AIAN\"] = (data[state][\"Cases_AIAN\"] -  data[state][\"Cases_AIAN\"].shift(1)).rolling(14).mean()\n",
    "            data[state][\"Daily_Cases_NHPI\"] = (data[state][\"Cases_NHPI\"] -  data[state][\"Cases_NHPI\"].shift(1)).rolling(14).mean()\n",
    "            # data[state][\"Daily_Cases_Mulltiracial\"] = data[state][\"Cases_Multiracial\"] -  data[state][\"Cases_Multiracial\"].shift(1).rolling(7).mean()\n",
    "            # data[state][\"Daily_Cases_LatinX\"] = data[state][\"Cases_LatinX\"] -  data[state][\"Cases_LatinX\"].shift(1).rolling(7).mean()\n",
    "            # # data[state][\"Daily_Cases_Ethnicity_NonHispanic\"] = data[state][\"Cases_Ethnicity_NonHispanic\"] -  data[state][\"Cases_Ethnicity_NonHispanic\"].shift(1).rolling(7).mean()\n",
    "            # # data[state][\"Daily_Cases_Ethnicity_Hispanic\"] = data[state][\"Cases_Ethnicity_Hispanic\"] -  data[state][\"Cases_Ethnicity_Hispanic\"].shift(1).rolling(7).mean()\n",
    "            # # data[state][\"Daily_Cases_Ethnicity_Unknown\"] = data[state][\"Cases_Ethnicity_Unknown\"] -  data[state][\"Cases_Ethnicity_Unknown\"].shift(1).rolling(7).mean()\n",
    "\n",
    "\n",
    "            # filling the null values in the Daily_cases_Race columns. Total 6 columns. \n",
    "            data[state].iloc[:,-6:] = data[state].iloc[:,-6:].interpolate(method='linear',limit_direction = 'backward').round() \n",
    "\n",
    "    \n",
    "        \n",
    "race_data_processing()   \n",
    "        "
   ]
  },
  {
   "cell_type": "code",
   "execution_count": 448,
   "metadata": {},
   "outputs": [
    {
     "data": {
      "text/html": [
       "<div>\n",
       "<style scoped>\n",
       "    .dataframe tbody tr th:only-of-type {\n",
       "        vertical-align: middle;\n",
       "    }\n",
       "\n",
       "    .dataframe tbody tr th {\n",
       "        vertical-align: top;\n",
       "    }\n",
       "\n",
       "    .dataframe thead th {\n",
       "        text-align: right;\n",
       "    }\n",
       "</style>\n",
       "<table border=\"1\" class=\"dataframe\">\n",
       "  <thead>\n",
       "    <tr style=\"text-align: right;\">\n",
       "      <th></th>\n",
       "      <th>Daily_Cases_Asian</th>\n",
       "      <th>Daily_Cases_Black</th>\n",
       "      <th>Daily_Cases_White</th>\n",
       "      <th>Daily_Cases_Other</th>\n",
       "      <th>Daily_Cases_AIAN</th>\n",
       "      <th>Daily_Cases_NHPI</th>\n",
       "    </tr>\n",
       "  </thead>\n",
       "  <tbody>\n",
       "    <tr>\n",
       "      <th>0</th>\n",
       "      <td>1.0</td>\n",
       "      <td>81.0</td>\n",
       "      <td>92.0</td>\n",
       "      <td>7.0</td>\n",
       "      <td>0.0</td>\n",
       "      <td>0.0</td>\n",
       "    </tr>\n",
       "    <tr>\n",
       "      <th>1</th>\n",
       "      <td>1.0</td>\n",
       "      <td>81.0</td>\n",
       "      <td>92.0</td>\n",
       "      <td>7.0</td>\n",
       "      <td>0.0</td>\n",
       "      <td>0.0</td>\n",
       "    </tr>\n",
       "    <tr>\n",
       "      <th>2</th>\n",
       "      <td>1.0</td>\n",
       "      <td>81.0</td>\n",
       "      <td>92.0</td>\n",
       "      <td>7.0</td>\n",
       "      <td>0.0</td>\n",
       "      <td>0.0</td>\n",
       "    </tr>\n",
       "    <tr>\n",
       "      <th>3</th>\n",
       "      <td>1.0</td>\n",
       "      <td>81.0</td>\n",
       "      <td>92.0</td>\n",
       "      <td>7.0</td>\n",
       "      <td>0.0</td>\n",
       "      <td>0.0</td>\n",
       "    </tr>\n",
       "    <tr>\n",
       "      <th>4</th>\n",
       "      <td>1.0</td>\n",
       "      <td>81.0</td>\n",
       "      <td>92.0</td>\n",
       "      <td>7.0</td>\n",
       "      <td>0.0</td>\n",
       "      <td>0.0</td>\n",
       "    </tr>\n",
       "    <tr>\n",
       "      <th>...</th>\n",
       "      <td>...</td>\n",
       "      <td>...</td>\n",
       "      <td>...</td>\n",
       "      <td>...</td>\n",
       "      <td>...</td>\n",
       "      <td>...</td>\n",
       "    </tr>\n",
       "    <tr>\n",
       "      <th>325</th>\n",
       "      <td>5.0</td>\n",
       "      <td>167.0</td>\n",
       "      <td>340.0</td>\n",
       "      <td>35.0</td>\n",
       "      <td>0.0</td>\n",
       "      <td>0.0</td>\n",
       "    </tr>\n",
       "    <tr>\n",
       "      <th>326</th>\n",
       "      <td>6.0</td>\n",
       "      <td>178.0</td>\n",
       "      <td>361.0</td>\n",
       "      <td>37.0</td>\n",
       "      <td>0.0</td>\n",
       "      <td>0.0</td>\n",
       "    </tr>\n",
       "    <tr>\n",
       "      <th>327</th>\n",
       "      <td>7.0</td>\n",
       "      <td>196.0</td>\n",
       "      <td>397.0</td>\n",
       "      <td>40.0</td>\n",
       "      <td>0.0</td>\n",
       "      <td>0.0</td>\n",
       "    </tr>\n",
       "    <tr>\n",
       "      <th>328</th>\n",
       "      <td>7.0</td>\n",
       "      <td>211.0</td>\n",
       "      <td>425.0</td>\n",
       "      <td>42.0</td>\n",
       "      <td>0.0</td>\n",
       "      <td>0.0</td>\n",
       "    </tr>\n",
       "    <tr>\n",
       "      <th>329</th>\n",
       "      <td>7.0</td>\n",
       "      <td>211.0</td>\n",
       "      <td>426.0</td>\n",
       "      <td>42.0</td>\n",
       "      <td>0.0</td>\n",
       "      <td>0.0</td>\n",
       "    </tr>\n",
       "  </tbody>\n",
       "</table>\n",
       "<p>330 rows × 6 columns</p>\n",
       "</div>"
      ],
      "text/plain": [
       "     Daily_Cases_Asian  Daily_Cases_Black  Daily_Cases_White  \\\n",
       "0                  1.0               81.0               92.0   \n",
       "1                  1.0               81.0               92.0   \n",
       "2                  1.0               81.0               92.0   \n",
       "3                  1.0               81.0               92.0   \n",
       "4                  1.0               81.0               92.0   \n",
       "..                 ...                ...                ...   \n",
       "325                5.0              167.0              340.0   \n",
       "326                6.0              178.0              361.0   \n",
       "327                7.0              196.0              397.0   \n",
       "328                7.0              211.0              425.0   \n",
       "329                7.0              211.0              426.0   \n",
       "\n",
       "     Daily_Cases_Other  Daily_Cases_AIAN  Daily_Cases_NHPI  \n",
       "0                  7.0               0.0               0.0  \n",
       "1                  7.0               0.0               0.0  \n",
       "2                  7.0               0.0               0.0  \n",
       "3                  7.0               0.0               0.0  \n",
       "4                  7.0               0.0               0.0  \n",
       "..                 ...               ...               ...  \n",
       "325               35.0               0.0               0.0  \n",
       "326               37.0               0.0               0.0  \n",
       "327               40.0               0.0               0.0  \n",
       "328               42.0               0.0               0.0  \n",
       "329               42.0               0.0               0.0  \n",
       "\n",
       "[330 rows x 6 columns]"
      ]
     },
     "execution_count": 448,
     "metadata": {},
     "output_type": "execute_result"
    }
   ],
   "source": [
    "data_records[\"AL\"].iloc[:,-6:]"
   ]
  },
  {
   "cell_type": "code",
   "execution_count": 468,
   "metadata": {},
   "outputs": [
    {
     "data": {
      "text/plain": [
       "0        81.0\n",
       "1        81.0\n",
       "2        81.0\n",
       "3        81.0\n",
       "4        81.0\n",
       "        ...  \n",
       "265   -1564.0\n",
       "266   -1671.0\n",
       "267   -1181.0\n",
       "268    -212.0\n",
       "269     517.0\n",
       "Name: Daily_Cases_Black, Length: 270, dtype: float64"
      ]
     },
     "execution_count": 468,
     "metadata": {},
     "output_type": "execute_result"
    }
   ],
   "source": [
    "data_records[\"AL\"][\"Daily_Cases_Black\"][:270]"
   ]
  },
  {
   "cell_type": "code",
   "execution_count": 507,
   "metadata": {},
   "outputs": [],
   "source": [
    "st1 = ['al', 'ak', 'az', 'ar', 'ca', 'co', 'ct', 'de', 'dc', 'fl', 'ga', 'hi', 'id', 'il', 'in', 'ia', 'ks', 'ky', 'la', 'md', 'ma', 'mi', 'mn', 'ms', 'mo', 'mt', 'ne', 'nv', 'nh', 'nj', 'nm', 'ny', 'nd', 'oh', 'ok', 'or', 'pa', 'ri', 'sc', 'tn', 'tx', 'ut', 'vt', 'va', 'wa', 'wv', 'wi', 'wy']\n",
    "st_copy1 = st1.copy()\n",
    "st_copy1 = [x.upper() for x in st_copy1]\n"
   ]
  },
  {
   "cell_type": "code",
   "execution_count": 469,
   "metadata": {},
   "outputs": [],
   "source": [
    "\n",
    "def target_conse_5(data,target): \n",
    "    \"\"\"\n",
    "    data = ca_data.%change\n",
    "    target = ca_data.target_conse_3\n",
    "    \n",
    "    Target Assigning 1 when we see drop in % change in \n",
    "    number of cases for 3 consecutive days.\n",
    "\n",
    "    Problems: 1) for cal state we found on 4 1's. which is very \n",
    "    less when considered 3 consecutive day delays.\n",
    "    2) \n",
    "    \"\"\"\n",
    "    for i in range(5,len(data)-1):\n",
    "        if data[i]<data[i-1]:                   # 5 - 4th day\n",
    "            if data[i-1] < data[i-2]:           # 4 - 3nd day\n",
    "                if data[i-2] < data[i-3]:       # 3 - 2rd day\n",
    "                    if data[i-3] < data[i-4]:   # 2 - 1st day\n",
    "                        # if data[i+4] < data[i-5]:\n",
    "                            # target[i] = 1\n",
    "                            # target[i+1] = 1\n",
    "                            # target[i+2] = 1\n",
    "                        target[i] = 1\n",
    "        \n",
    "    target.fillna(0,inplace=True)"
   ]
  },
  {
   "cell_type": "code",
   "execution_count": 472,
   "metadata": {},
   "outputs": [
    {
     "data": {
      "text/html": [
       "<div>\n",
       "<style scoped>\n",
       "    .dataframe tbody tr th:only-of-type {\n",
       "        vertical-align: middle;\n",
       "    }\n",
       "\n",
       "    .dataframe tbody tr th {\n",
       "        vertical-align: top;\n",
       "    }\n",
       "\n",
       "    .dataframe thead th {\n",
       "        text-align: right;\n",
       "    }\n",
       "</style>\n",
       "<table border=\"1\" class=\"dataframe\">\n",
       "  <thead>\n",
       "    <tr style=\"text-align: right;\">\n",
       "      <th></th>\n",
       "      <th>Date</th>\n",
       "      <th>State</th>\n",
       "      <th>Cases_Asian</th>\n",
       "      <th>Cases_AIAN</th>\n",
       "      <th>Cases_Black</th>\n",
       "      <th>Cases_White</th>\n",
       "      <th>Cases_Other</th>\n",
       "      <th>Cases_NHPI</th>\n",
       "      <th>Cases_Multiracial</th>\n",
       "      <th>Cases_LatinX</th>\n",
       "      <th>...</th>\n",
       "      <th>Tests_NHPI</th>\n",
       "      <th>Tests_Other</th>\n",
       "      <th>Tests_White</th>\n",
       "      <th>Tests_Total</th>\n",
       "      <th>Daily_Cases_Asian</th>\n",
       "      <th>Daily_Cases_Black</th>\n",
       "      <th>Daily_Cases_White</th>\n",
       "      <th>Daily_Cases_Other</th>\n",
       "      <th>Daily_Cases_AIAN</th>\n",
       "      <th>Daily_Cases_NHPI</th>\n",
       "    </tr>\n",
       "  </thead>\n",
       "  <tbody>\n",
       "    <tr>\n",
       "      <th>0</th>\n",
       "      <td>2020-04-12</td>\n",
       "      <td>AL</td>\n",
       "      <td>37</td>\n",
       "      <td>0</td>\n",
       "      <td>1279</td>\n",
       "      <td>1657</td>\n",
       "      <td>66</td>\n",
       "      <td>0</td>\n",
       "      <td>NaN</td>\n",
       "      <td>NaN</td>\n",
       "      <td>...</td>\n",
       "      <td>NaN</td>\n",
       "      <td>NaN</td>\n",
       "      <td>NaN</td>\n",
       "      <td>NaN</td>\n",
       "      <td>1.0</td>\n",
       "      <td>81.0</td>\n",
       "      <td>92.0</td>\n",
       "      <td>7.0</td>\n",
       "      <td>0.0</td>\n",
       "      <td>0.0</td>\n",
       "    </tr>\n",
       "    <tr>\n",
       "      <th>1</th>\n",
       "      <td>2020-04-13</td>\n",
       "      <td>AL</td>\n",
       "      <td>38</td>\n",
       "      <td>0</td>\n",
       "      <td>1394</td>\n",
       "      <td>1775</td>\n",
       "      <td>72</td>\n",
       "      <td>0</td>\n",
       "      <td>NaN</td>\n",
       "      <td>NaN</td>\n",
       "      <td>...</td>\n",
       "      <td>NaN</td>\n",
       "      <td>NaN</td>\n",
       "      <td>NaN</td>\n",
       "      <td>NaN</td>\n",
       "      <td>1.0</td>\n",
       "      <td>81.0</td>\n",
       "      <td>92.0</td>\n",
       "      <td>7.0</td>\n",
       "      <td>0.0</td>\n",
       "      <td>0.0</td>\n",
       "    </tr>\n",
       "    <tr>\n",
       "      <th>2</th>\n",
       "      <td>2020-04-14</td>\n",
       "      <td>AL</td>\n",
       "      <td>39</td>\n",
       "      <td>0</td>\n",
       "      <td>1499</td>\n",
       "      <td>1888</td>\n",
       "      <td>79</td>\n",
       "      <td>0</td>\n",
       "      <td>NaN</td>\n",
       "      <td>NaN</td>\n",
       "      <td>...</td>\n",
       "      <td>NaN</td>\n",
       "      <td>NaN</td>\n",
       "      <td>NaN</td>\n",
       "      <td>NaN</td>\n",
       "      <td>1.0</td>\n",
       "      <td>81.0</td>\n",
       "      <td>92.0</td>\n",
       "      <td>7.0</td>\n",
       "      <td>0.0</td>\n",
       "      <td>0.0</td>\n",
       "    </tr>\n",
       "    <tr>\n",
       "      <th>3</th>\n",
       "      <td>2020-04-15</td>\n",
       "      <td>AL</td>\n",
       "      <td>41</td>\n",
       "      <td>0</td>\n",
       "      <td>1594</td>\n",
       "      <td>1996</td>\n",
       "      <td>85</td>\n",
       "      <td>0</td>\n",
       "      <td>NaN</td>\n",
       "      <td>NaN</td>\n",
       "      <td>...</td>\n",
       "      <td>NaN</td>\n",
       "      <td>NaN</td>\n",
       "      <td>NaN</td>\n",
       "      <td>NaN</td>\n",
       "      <td>1.0</td>\n",
       "      <td>81.0</td>\n",
       "      <td>92.0</td>\n",
       "      <td>7.0</td>\n",
       "      <td>0.0</td>\n",
       "      <td>0.0</td>\n",
       "    </tr>\n",
       "    <tr>\n",
       "      <th>4</th>\n",
       "      <td>2020-04-16</td>\n",
       "      <td>AL</td>\n",
       "      <td>42</td>\n",
       "      <td>0</td>\n",
       "      <td>1677</td>\n",
       "      <td>2097</td>\n",
       "      <td>90</td>\n",
       "      <td>0</td>\n",
       "      <td>NaN</td>\n",
       "      <td>NaN</td>\n",
       "      <td>...</td>\n",
       "      <td>NaN</td>\n",
       "      <td>NaN</td>\n",
       "      <td>NaN</td>\n",
       "      <td>NaN</td>\n",
       "      <td>1.0</td>\n",
       "      <td>81.0</td>\n",
       "      <td>92.0</td>\n",
       "      <td>7.0</td>\n",
       "      <td>0.0</td>\n",
       "      <td>0.0</td>\n",
       "    </tr>\n",
       "    <tr>\n",
       "      <th>...</th>\n",
       "      <td>...</td>\n",
       "      <td>...</td>\n",
       "      <td>...</td>\n",
       "      <td>...</td>\n",
       "      <td>...</td>\n",
       "      <td>...</td>\n",
       "      <td>...</td>\n",
       "      <td>...</td>\n",
       "      <td>...</td>\n",
       "      <td>...</td>\n",
       "      <td>...</td>\n",
       "      <td>...</td>\n",
       "      <td>...</td>\n",
       "      <td>...</td>\n",
       "      <td>...</td>\n",
       "      <td>...</td>\n",
       "      <td>...</td>\n",
       "      <td>...</td>\n",
       "      <td>...</td>\n",
       "      <td>...</td>\n",
       "      <td>...</td>\n",
       "    </tr>\n",
       "    <tr>\n",
       "      <th>325</th>\n",
       "      <td>2021-03-03</td>\n",
       "      <td>AL</td>\n",
       "      <td>2248</td>\n",
       "      <td>0</td>\n",
       "      <td>82171</td>\n",
       "      <td>159154</td>\n",
       "      <td>37912</td>\n",
       "      <td>0</td>\n",
       "      <td>NaN</td>\n",
       "      <td>NaN</td>\n",
       "      <td>...</td>\n",
       "      <td>NaN</td>\n",
       "      <td>NaN</td>\n",
       "      <td>NaN</td>\n",
       "      <td>NaN</td>\n",
       "      <td>5.0</td>\n",
       "      <td>167.0</td>\n",
       "      <td>340.0</td>\n",
       "      <td>35.0</td>\n",
       "      <td>0.0</td>\n",
       "      <td>0.0</td>\n",
       "    </tr>\n",
       "    <tr>\n",
       "      <th>326</th>\n",
       "      <td>2021-03-04</td>\n",
       "      <td>AL</td>\n",
       "      <td>2253</td>\n",
       "      <td>0</td>\n",
       "      <td>82316</td>\n",
       "      <td>159428</td>\n",
       "      <td>37940</td>\n",
       "      <td>0</td>\n",
       "      <td>NaN</td>\n",
       "      <td>NaN</td>\n",
       "      <td>...</td>\n",
       "      <td>NaN</td>\n",
       "      <td>NaN</td>\n",
       "      <td>NaN</td>\n",
       "      <td>NaN</td>\n",
       "      <td>6.0</td>\n",
       "      <td>178.0</td>\n",
       "      <td>361.0</td>\n",
       "      <td>37.0</td>\n",
       "      <td>0.0</td>\n",
       "      <td>0.0</td>\n",
       "    </tr>\n",
       "    <tr>\n",
       "      <th>327</th>\n",
       "      <td>2021-03-05</td>\n",
       "      <td>AL</td>\n",
       "      <td>2259</td>\n",
       "      <td>0</td>\n",
       "      <td>82467</td>\n",
       "      <td>159718</td>\n",
       "      <td>37964</td>\n",
       "      <td>0</td>\n",
       "      <td>NaN</td>\n",
       "      <td>NaN</td>\n",
       "      <td>...</td>\n",
       "      <td>NaN</td>\n",
       "      <td>NaN</td>\n",
       "      <td>NaN</td>\n",
       "      <td>NaN</td>\n",
       "      <td>7.0</td>\n",
       "      <td>196.0</td>\n",
       "      <td>397.0</td>\n",
       "      <td>40.0</td>\n",
       "      <td>0.0</td>\n",
       "      <td>0.0</td>\n",
       "    </tr>\n",
       "    <tr>\n",
       "      <th>328</th>\n",
       "      <td>2021-03-06</td>\n",
       "      <td>AL</td>\n",
       "      <td>2265</td>\n",
       "      <td>0</td>\n",
       "      <td>82625</td>\n",
       "      <td>160024</td>\n",
       "      <td>37984</td>\n",
       "      <td>0</td>\n",
       "      <td>NaN</td>\n",
       "      <td>NaN</td>\n",
       "      <td>...</td>\n",
       "      <td>NaN</td>\n",
       "      <td>NaN</td>\n",
       "      <td>NaN</td>\n",
       "      <td>NaN</td>\n",
       "      <td>7.0</td>\n",
       "      <td>211.0</td>\n",
       "      <td>425.0</td>\n",
       "      <td>42.0</td>\n",
       "      <td>0.0</td>\n",
       "      <td>0.0</td>\n",
       "    </tr>\n",
       "    <tr>\n",
       "      <th>329</th>\n",
       "      <td>2021-03-07</td>\n",
       "      <td>AL</td>\n",
       "      <td>2273</td>\n",
       "      <td>0</td>\n",
       "      <td>82790</td>\n",
       "      <td>160347</td>\n",
       "      <td>38000</td>\n",
       "      <td>0</td>\n",
       "      <td>NaN</td>\n",
       "      <td>NaN</td>\n",
       "      <td>...</td>\n",
       "      <td>NaN</td>\n",
       "      <td>NaN</td>\n",
       "      <td>NaN</td>\n",
       "      <td>NaN</td>\n",
       "      <td>7.0</td>\n",
       "      <td>211.0</td>\n",
       "      <td>426.0</td>\n",
       "      <td>42.0</td>\n",
       "      <td>0.0</td>\n",
       "      <td>0.0</td>\n",
       "    </tr>\n",
       "  </tbody>\n",
       "</table>\n",
       "<p>330 rows × 56 columns</p>\n",
       "</div>"
      ],
      "text/plain": [
       "          Date State  Cases_Asian  Cases_AIAN  Cases_Black  Cases_White  \\\n",
       "0   2020-04-12    AL           37           0         1279         1657   \n",
       "1   2020-04-13    AL           38           0         1394         1775   \n",
       "2   2020-04-14    AL           39           0         1499         1888   \n",
       "3   2020-04-15    AL           41           0         1594         1996   \n",
       "4   2020-04-16    AL           42           0         1677         2097   \n",
       "..         ...   ...          ...         ...          ...          ...   \n",
       "325 2021-03-03    AL         2248           0        82171       159154   \n",
       "326 2021-03-04    AL         2253           0        82316       159428   \n",
       "327 2021-03-05    AL         2259           0        82467       159718   \n",
       "328 2021-03-06    AL         2265           0        82625       160024   \n",
       "329 2021-03-07    AL         2273           0        82790       160347   \n",
       "\n",
       "     Cases_Other  Cases_NHPI  Cases_Multiracial  Cases_LatinX  ...  \\\n",
       "0             66           0                NaN           NaN  ...   \n",
       "1             72           0                NaN           NaN  ...   \n",
       "2             79           0                NaN           NaN  ...   \n",
       "3             85           0                NaN           NaN  ...   \n",
       "4             90           0                NaN           NaN  ...   \n",
       "..           ...         ...                ...           ...  ...   \n",
       "325        37912           0                NaN           NaN  ...   \n",
       "326        37940           0                NaN           NaN  ...   \n",
       "327        37964           0                NaN           NaN  ...   \n",
       "328        37984           0                NaN           NaN  ...   \n",
       "329        38000           0                NaN           NaN  ...   \n",
       "\n",
       "     Tests_NHPI  Tests_Other  Tests_White  Tests_Total  Daily_Cases_Asian  \\\n",
       "0           NaN          NaN          NaN          NaN                1.0   \n",
       "1           NaN          NaN          NaN          NaN                1.0   \n",
       "2           NaN          NaN          NaN          NaN                1.0   \n",
       "3           NaN          NaN          NaN          NaN                1.0   \n",
       "4           NaN          NaN          NaN          NaN                1.0   \n",
       "..          ...          ...          ...          ...                ...   \n",
       "325         NaN          NaN          NaN          NaN                5.0   \n",
       "326         NaN          NaN          NaN          NaN                6.0   \n",
       "327         NaN          NaN          NaN          NaN                7.0   \n",
       "328         NaN          NaN          NaN          NaN                7.0   \n",
       "329         NaN          NaN          NaN          NaN                7.0   \n",
       "\n",
       "     Daily_Cases_Black  Daily_Cases_White  Daily_Cases_Other  \\\n",
       "0                 81.0               92.0                7.0   \n",
       "1                 81.0               92.0                7.0   \n",
       "2                 81.0               92.0                7.0   \n",
       "3                 81.0               92.0                7.0   \n",
       "4                 81.0               92.0                7.0   \n",
       "..                 ...                ...                ...   \n",
       "325              167.0              340.0               35.0   \n",
       "326              178.0              361.0               37.0   \n",
       "327              196.0              397.0               40.0   \n",
       "328              211.0              425.0               42.0   \n",
       "329              211.0              426.0               42.0   \n",
       "\n",
       "     Daily_Cases_AIAN  Daily_Cases_NHPI  \n",
       "0                 0.0               0.0  \n",
       "1                 0.0               0.0  \n",
       "2                 0.0               0.0  \n",
       "3                 0.0               0.0  \n",
       "4                 0.0               0.0  \n",
       "..                ...               ...  \n",
       "325               0.0               0.0  \n",
       "326               0.0               0.0  \n",
       "327               0.0               0.0  \n",
       "328               0.0               0.0  \n",
       "329               0.0               0.0  \n",
       "\n",
       "[330 rows x 56 columns]"
      ]
     },
     "execution_count": 472,
     "metadata": {},
     "output_type": "execute_result"
    }
   ],
   "source": [
    "data_records[\"AL\"]"
   ]
  },
  {
   "cell_type": "code",
   "execution_count": 478,
   "metadata": {},
   "outputs": [
    {
     "name": "stdout",
     "output_type": "stream",
     "text": [
      "Cases_Asian\n",
      "Cases_AIAN\n",
      "Cases_Black\n",
      "Cases_White\n",
      "Cases_Other\n",
      "Cases_NHPI\n"
     ]
    }
   ],
   "source": [
    "for r in race:\n",
    "    print(r)"
   ]
  },
  {
   "cell_type": "code",
   "execution_count": 509,
   "metadata": {},
   "outputs": [
    {
     "name": "stderr",
     "output_type": "stream",
     "text": [
      "C:\\Users\\lenovo\\AppData\\Roaming\\Python\\Python37\\site-packages\\ipykernel_launcher.py:22: SettingWithCopyWarning: \n",
      "A value is trying to be set on a copy of a slice from a DataFrame\n",
      "\n",
      "See the caveats in the documentation: https://pandas.pydata.org/pandas-docs/stable/user_guide/indexing.html#returning-a-view-versus-a-copy\n"
     ]
    }
   ],
   "source": [
    "race=data_records['AL'].columns[2:8]\n",
    "\n",
    "for sts in st_copy1: # creating targe_racename variable in dataframe\n",
    "   for r in race:\n",
    "       data_records[sts][\"target_\" + f\"{r.split('_')[-1]}\"] = np.nan\n",
    "\n",
    "for sts in st_copy1:\n",
    "    for r in race:\n",
    "        aa = \"Daily_\"+r\n",
    "        data = data_records[sts][aa]\n",
    "        rname = f\"{r.split('_')[-1]}\"\n",
    "        target = data_records[sts][\"target_\" + rname]\n",
    "        target_conse_5(data,target)\n",
    "# how to can include below function for target variables\n",
    "    \n",
    "    "
   ]
  },
  {
   "cell_type": "code",
   "execution_count": 481,
   "metadata": {},
   "outputs": [
    {
     "data": {
      "text/plain": [
       "0      0.0\n",
       "1      0.0\n",
       "2      0.0\n",
       "3      0.0\n",
       "4      0.0\n",
       "      ... \n",
       "325    0.0\n",
       "326    0.0\n",
       "327    0.0\n",
       "328    0.0\n",
       "329    0.0\n",
       "Name: target_Black, Length: 330, dtype: float64"
      ]
     },
     "execution_count": 481,
     "metadata": {},
     "output_type": "execute_result"
    }
   ],
   "source": [
    "data_records[\"AL\"].iloc[:,][\"target_Black\"].vali"
   ]
  },
  {
   "cell_type": "code",
   "execution_count": 483,
   "metadata": {},
   "outputs": [
    {
     "data": {
      "text/plain": [
       "[<matplotlib.lines.Line2D at 0x220d98de588>]"
      ]
     },
     "execution_count": 483,
     "metadata": {},
     "output_type": "execute_result"
    },
    {
     "data": {
      "image/png": "[encoded data removed]",
      "text/plain": [
       "<Figure size 432x288 with 1 Axes>"
      ]
     },
     "metadata": {
      "needs_background": "light"
     },
     "output_type": "display_data"
    }
   ],
   "source": [
    "plt.plot(data_records[\"AL\"][\"Daily_Cases_Asian\"][:])"
   ]
  },
  {
   "cell_type": "code",
   "execution_count": 484,
   "metadata": {},
   "outputs": [
    {
     "data": {
      "text/plain": [
       "Index(['Date', 'State', 'Cases_Asian', 'Cases_AIAN', 'Cases_Black',\n",
       "       'Cases_White', 'Cases_Other', 'Cases_NHPI', 'Cases_Multiracial',\n",
       "       'Cases_LatinX', 'Cases_Ethnicity_NonHispanic',\n",
       "       'Cases_Ethnicity_Hispanic', 'Cases_Ethnicity_Unknown', 'Cases_Total',\n",
       "       'Deaths_AIAN', 'Deaths_Asian', 'Deaths_Black',\n",
       "       'Deaths_Ethnicity_Hispanic', 'Deaths_Ethnicity_NonHispanic',\n",
       "       'Deaths_Ethnicity_Unknown', 'Deaths_LatinX', 'Deaths_Multiracial',\n",
       "       'Deaths_NHPI', 'Deaths_Other', 'Deaths_White', 'Deaths_Total',\n",
       "       'Hospitalizations_AIAN', 'Hospitalizations_Asian',\n",
       "       'Hospitalizations_Black', 'Hospitalizations_Ethnicity_Hispanic',\n",
       "       'Hospitalizations_Ethnicity_NonHispanic',\n",
       "       'Hospitalizations_Ethnicity_Unknown', 'Hospitalizations_LatinX',\n",
       "       'Hospitalizations_Multiracial', 'Hospitalizations_NHPI',\n",
       "       'Hospitalizations_Other', 'Hospitalizations_White',\n",
       "       'Hospitalizations_Total', 'Tests_AIAN', 'Tests_Asian', 'Tests_Black',\n",
       "       'Tests_Ethnicity_Hispanic', 'Tests_Ethnicity_NonHispanic',\n",
       "       'Tests_Ethnicity_Unknown', 'Tests_LatinX', 'Tests_Multiracial',\n",
       "       'Tests_NHPI', 'Tests_Other', 'Tests_White', 'Tests_Total',\n",
       "       'Daily_Cases_Asian', 'Daily_Cases_Black', 'Daily_Cases_White',\n",
       "       'Daily_Cases_Other', 'Daily_Cases_AIAN', 'Daily_Cases_NHPI',\n",
       "       'target_Asian', 'target_AIAN', 'target_Black', 'target_White',\n",
       "       'target_Other', 'target_NHPI'],\n",
       "      dtype='object')"
      ]
     },
     "execution_count": 484,
     "metadata": {},
     "output_type": "execute_result"
    }
   ],
   "source": [
    "data_records[\"AL\"].columns"
   ]
  },
  {
   "cell_type": "code",
   "execution_count": 485,
   "metadata": {},
   "outputs": [
    {
     "data": {
      "text/html": [
       "<div>\n",
       "<style scoped>\n",
       "    .dataframe tbody tr th:only-of-type {\n",
       "        vertical-align: middle;\n",
       "    }\n",
       "\n",
       "    .dataframe tbody tr th {\n",
       "        vertical-align: top;\n",
       "    }\n",
       "\n",
       "    .dataframe thead th {\n",
       "        text-align: right;\n",
       "    }\n",
       "</style>\n",
       "<table border=\"1\" class=\"dataframe\">\n",
       "  <thead>\n",
       "    <tr style=\"text-align: right;\">\n",
       "      <th></th>\n",
       "      <th>Date</th>\n",
       "      <th>State</th>\n",
       "      <th>Cases_Asian</th>\n",
       "      <th>Cases_AIAN</th>\n",
       "      <th>Cases_Black</th>\n",
       "      <th>Cases_White</th>\n",
       "      <th>Cases_Other</th>\n",
       "      <th>Cases_NHPI</th>\n",
       "      <th>Cases_Multiracial</th>\n",
       "      <th>Cases_LatinX</th>\n",
       "      <th>...</th>\n",
       "      <th>Daily_Cases_White</th>\n",
       "      <th>Daily_Cases_Other</th>\n",
       "      <th>Daily_Cases_AIAN</th>\n",
       "      <th>Daily_Cases_NHPI</th>\n",
       "      <th>target_Asian</th>\n",
       "      <th>target_AIAN</th>\n",
       "      <th>target_Black</th>\n",
       "      <th>target_White</th>\n",
       "      <th>target_Other</th>\n",
       "      <th>target_NHPI</th>\n",
       "    </tr>\n",
       "  </thead>\n",
       "  <tbody>\n",
       "    <tr>\n",
       "      <th>0</th>\n",
       "      <td>2020-04-12</td>\n",
       "      <td>CA</td>\n",
       "      <td>1756</td>\n",
       "      <td>27</td>\n",
       "      <td>945</td>\n",
       "      <td>4323</td>\n",
       "      <td>1216</td>\n",
       "      <td>270</td>\n",
       "      <td>NaN</td>\n",
       "      <td>4729.0</td>\n",
       "      <td>...</td>\n",
       "      <td>244.0</td>\n",
       "      <td>43.0</td>\n",
       "      <td>2.0</td>\n",
       "      <td>-15.0</td>\n",
       "      <td>0.0</td>\n",
       "      <td>0.0</td>\n",
       "      <td>0.0</td>\n",
       "      <td>0.0</td>\n",
       "      <td>0.0</td>\n",
       "      <td>0.0</td>\n",
       "    </tr>\n",
       "    <tr>\n",
       "      <th>1</th>\n",
       "      <td>2020-04-13</td>\n",
       "      <td>CA</td>\n",
       "      <td>1858</td>\n",
       "      <td>28</td>\n",
       "      <td>1000</td>\n",
       "      <td>4526</td>\n",
       "      <td>1215</td>\n",
       "      <td>320</td>\n",
       "      <td>NaN</td>\n",
       "      <td>NaN</td>\n",
       "      <td>...</td>\n",
       "      <td>244.0</td>\n",
       "      <td>43.0</td>\n",
       "      <td>2.0</td>\n",
       "      <td>-15.0</td>\n",
       "      <td>0.0</td>\n",
       "      <td>0.0</td>\n",
       "      <td>0.0</td>\n",
       "      <td>0.0</td>\n",
       "      <td>0.0</td>\n",
       "      <td>0.0</td>\n",
       "    </tr>\n",
       "    <tr>\n",
       "      <th>2</th>\n",
       "      <td>2020-04-14</td>\n",
       "      <td>CA</td>\n",
       "      <td>1960</td>\n",
       "      <td>29</td>\n",
       "      <td>1055</td>\n",
       "      <td>4725</td>\n",
       "      <td>1233</td>\n",
       "      <td>335</td>\n",
       "      <td>NaN</td>\n",
       "      <td>NaN</td>\n",
       "      <td>...</td>\n",
       "      <td>244.0</td>\n",
       "      <td>43.0</td>\n",
       "      <td>2.0</td>\n",
       "      <td>-15.0</td>\n",
       "      <td>0.0</td>\n",
       "      <td>0.0</td>\n",
       "      <td>0.0</td>\n",
       "      <td>0.0</td>\n",
       "      <td>0.0</td>\n",
       "      <td>0.0</td>\n",
       "    </tr>\n",
       "    <tr>\n",
       "      <th>3</th>\n",
       "      <td>2020-04-15</td>\n",
       "      <td>CA</td>\n",
       "      <td>2063</td>\n",
       "      <td>31</td>\n",
       "      <td>1111</td>\n",
       "      <td>4921</td>\n",
       "      <td>1270</td>\n",
       "      <td>317</td>\n",
       "      <td>317.0</td>\n",
       "      <td>5873.0</td>\n",
       "      <td>...</td>\n",
       "      <td>244.0</td>\n",
       "      <td>43.0</td>\n",
       "      <td>2.0</td>\n",
       "      <td>-15.0</td>\n",
       "      <td>0.0</td>\n",
       "      <td>0.0</td>\n",
       "      <td>0.0</td>\n",
       "      <td>0.0</td>\n",
       "      <td>0.0</td>\n",
       "      <td>0.0</td>\n",
       "    </tr>\n",
       "    <tr>\n",
       "      <th>4</th>\n",
       "      <td>2020-04-16</td>\n",
       "      <td>CA</td>\n",
       "      <td>2165</td>\n",
       "      <td>32</td>\n",
       "      <td>1166</td>\n",
       "      <td>5112</td>\n",
       "      <td>1324</td>\n",
       "      <td>263</td>\n",
       "      <td>NaN</td>\n",
       "      <td>NaN</td>\n",
       "      <td>...</td>\n",
       "      <td>244.0</td>\n",
       "      <td>43.0</td>\n",
       "      <td>2.0</td>\n",
       "      <td>-15.0</td>\n",
       "      <td>0.0</td>\n",
       "      <td>0.0</td>\n",
       "      <td>0.0</td>\n",
       "      <td>0.0</td>\n",
       "      <td>0.0</td>\n",
       "      <td>0.0</td>\n",
       "    </tr>\n",
       "    <tr>\n",
       "      <th>...</th>\n",
       "      <td>...</td>\n",
       "      <td>...</td>\n",
       "      <td>...</td>\n",
       "      <td>...</td>\n",
       "      <td>...</td>\n",
       "      <td>...</td>\n",
       "      <td>...</td>\n",
       "      <td>...</td>\n",
       "      <td>...</td>\n",
       "      <td>...</td>\n",
       "      <td>...</td>\n",
       "      <td>...</td>\n",
       "      <td>...</td>\n",
       "      <td>...</td>\n",
       "      <td>...</td>\n",
       "      <td>...</td>\n",
       "      <td>...</td>\n",
       "      <td>...</td>\n",
       "      <td>...</td>\n",
       "      <td>...</td>\n",
       "      <td>...</td>\n",
       "    </tr>\n",
       "    <tr>\n",
       "      <th>325</th>\n",
       "      <td>2021-03-03</td>\n",
       "      <td>CA</td>\n",
       "      <td>184765</td>\n",
       "      <td>8915</td>\n",
       "      <td>110115</td>\n",
       "      <td>541927</td>\n",
       "      <td>305557</td>\n",
       "      <td>15228</td>\n",
       "      <td>41858.0</td>\n",
       "      <td>1494376.0</td>\n",
       "      <td>...</td>\n",
       "      <td>1227.0</td>\n",
       "      <td>-126.0</td>\n",
       "      <td>25.0</td>\n",
       "      <td>24.0</td>\n",
       "      <td>1.0</td>\n",
       "      <td>0.0</td>\n",
       "      <td>1.0</td>\n",
       "      <td>1.0</td>\n",
       "      <td>1.0</td>\n",
       "      <td>0.0</td>\n",
       "    </tr>\n",
       "    <tr>\n",
       "      <th>326</th>\n",
       "      <td>2021-03-04</td>\n",
       "      <td>CA</td>\n",
       "      <td>185153</td>\n",
       "      <td>8936</td>\n",
       "      <td>110340</td>\n",
       "      <td>542892</td>\n",
       "      <td>305371</td>\n",
       "      <td>15242</td>\n",
       "      <td>NaN</td>\n",
       "      <td>NaN</td>\n",
       "      <td>...</td>\n",
       "      <td>1192.0</td>\n",
       "      <td>-134.0</td>\n",
       "      <td>25.0</td>\n",
       "      <td>23.0</td>\n",
       "      <td>1.0</td>\n",
       "      <td>0.0</td>\n",
       "      <td>1.0</td>\n",
       "      <td>1.0</td>\n",
       "      <td>1.0</td>\n",
       "      <td>0.0</td>\n",
       "    </tr>\n",
       "    <tr>\n",
       "      <th>327</th>\n",
       "      <td>2021-03-05</td>\n",
       "      <td>CA</td>\n",
       "      <td>185582</td>\n",
       "      <td>8962</td>\n",
       "      <td>110610</td>\n",
       "      <td>543997</td>\n",
       "      <td>305129</td>\n",
       "      <td>15256</td>\n",
       "      <td>NaN</td>\n",
       "      <td>NaN</td>\n",
       "      <td>...</td>\n",
       "      <td>1153.0</td>\n",
       "      <td>-140.0</td>\n",
       "      <td>24.0</td>\n",
       "      <td>22.0</td>\n",
       "      <td>1.0</td>\n",
       "      <td>0.0</td>\n",
       "      <td>1.0</td>\n",
       "      <td>1.0</td>\n",
       "      <td>1.0</td>\n",
       "      <td>0.0</td>\n",
       "    </tr>\n",
       "    <tr>\n",
       "      <th>328</th>\n",
       "      <td>2021-03-06</td>\n",
       "      <td>CA</td>\n",
       "      <td>186052</td>\n",
       "      <td>8991</td>\n",
       "      <td>110922</td>\n",
       "      <td>545243</td>\n",
       "      <td>304831</td>\n",
       "      <td>15269</td>\n",
       "      <td>NaN</td>\n",
       "      <td>NaN</td>\n",
       "      <td>...</td>\n",
       "      <td>1123.0</td>\n",
       "      <td>-150.0</td>\n",
       "      <td>24.0</td>\n",
       "      <td>21.0</td>\n",
       "      <td>1.0</td>\n",
       "      <td>0.0</td>\n",
       "      <td>1.0</td>\n",
       "      <td>1.0</td>\n",
       "      <td>1.0</td>\n",
       "      <td>0.0</td>\n",
       "    </tr>\n",
       "    <tr>\n",
       "      <th>329</th>\n",
       "      <td>2021-03-07</td>\n",
       "      <td>CA</td>\n",
       "      <td>186562</td>\n",
       "      <td>9025</td>\n",
       "      <td>111279</td>\n",
       "      <td>546630</td>\n",
       "      <td>304477</td>\n",
       "      <td>15281</td>\n",
       "      <td>42824.0</td>\n",
       "      <td>1509103.0</td>\n",
       "      <td>...</td>\n",
       "      <td>1119.0</td>\n",
       "      <td>-171.0</td>\n",
       "      <td>25.0</td>\n",
       "      <td>20.0</td>\n",
       "      <td>0.0</td>\n",
       "      <td>0.0</td>\n",
       "      <td>0.0</td>\n",
       "      <td>0.0</td>\n",
       "      <td>0.0</td>\n",
       "      <td>0.0</td>\n",
       "    </tr>\n",
       "  </tbody>\n",
       "</table>\n",
       "<p>330 rows × 62 columns</p>\n",
       "</div>"
      ],
      "text/plain": [
       "          Date State  Cases_Asian  Cases_AIAN  Cases_Black  Cases_White  \\\n",
       "0   2020-04-12    CA         1756          27          945         4323   \n",
       "1   2020-04-13    CA         1858          28         1000         4526   \n",
       "2   2020-04-14    CA         1960          29         1055         4725   \n",
       "3   2020-04-15    CA         2063          31         1111         4921   \n",
       "4   2020-04-16    CA         2165          32         1166         5112   \n",
       "..         ...   ...          ...         ...          ...          ...   \n",
       "325 2021-03-03    CA       184765        8915       110115       541927   \n",
       "326 2021-03-04    CA       185153        8936       110340       542892   \n",
       "327 2021-03-05    CA       185582        8962       110610       543997   \n",
       "328 2021-03-06    CA       186052        8991       110922       545243   \n",
       "329 2021-03-07    CA       186562        9025       111279       546630   \n",
       "\n",
       "     Cases_Other  Cases_NHPI  Cases_Multiracial  Cases_LatinX  ...  \\\n",
       "0           1216         270                NaN        4729.0  ...   \n",
       "1           1215         320                NaN           NaN  ...   \n",
       "2           1233         335                NaN           NaN  ...   \n",
       "3           1270         317              317.0        5873.0  ...   \n",
       "4           1324         263                NaN           NaN  ...   \n",
       "..           ...         ...                ...           ...  ...   \n",
       "325       305557       15228            41858.0     1494376.0  ...   \n",
       "326       305371       15242                NaN           NaN  ...   \n",
       "327       305129       15256                NaN           NaN  ...   \n",
       "328       304831       15269                NaN           NaN  ...   \n",
       "329       304477       15281            42824.0     1509103.0  ...   \n",
       "\n",
       "     Daily_Cases_White  Daily_Cases_Other  Daily_Cases_AIAN  Daily_Cases_NHPI  \\\n",
       "0                244.0               43.0               2.0             -15.0   \n",
       "1                244.0               43.0               2.0             -15.0   \n",
       "2                244.0               43.0               2.0             -15.0   \n",
       "3                244.0               43.0               2.0             -15.0   \n",
       "4                244.0               43.0               2.0             -15.0   \n",
       "..                 ...                ...               ...               ...   \n",
       "325             1227.0             -126.0              25.0              24.0   \n",
       "326             1192.0             -134.0              25.0              23.0   \n",
       "327             1153.0             -140.0              24.0              22.0   \n",
       "328             1123.0             -150.0              24.0              21.0   \n",
       "329             1119.0             -171.0              25.0              20.0   \n",
       "\n",
       "     target_Asian  target_AIAN  target_Black  target_White  target_Other  \\\n",
       "0             0.0          0.0           0.0           0.0           0.0   \n",
       "1             0.0          0.0           0.0           0.0           0.0   \n",
       "2             0.0          0.0           0.0           0.0           0.0   \n",
       "3             0.0          0.0           0.0           0.0           0.0   \n",
       "4             0.0          0.0           0.0           0.0           0.0   \n",
       "..            ...          ...           ...           ...           ...   \n",
       "325           1.0          0.0           1.0           1.0           1.0   \n",
       "326           1.0          0.0           1.0           1.0           1.0   \n",
       "327           1.0          0.0           1.0           1.0           1.0   \n",
       "328           1.0          0.0           1.0           1.0           1.0   \n",
       "329           0.0          0.0           0.0           0.0           0.0   \n",
       "\n",
       "     target_NHPI  \n",
       "0            0.0  \n",
       "1            0.0  \n",
       "2            0.0  \n",
       "3            0.0  \n",
       "4            0.0  \n",
       "..           ...  \n",
       "325          0.0  \n",
       "326          0.0  \n",
       "327          0.0  \n",
       "328          0.0  \n",
       "329          0.0  \n",
       "\n",
       "[330 rows x 62 columns]"
      ]
     },
     "execution_count": 485,
     "metadata": {},
     "output_type": "execute_result"
    }
   ],
   "source": [
    "data_records[\"CA\"]"
   ]
  },
  {
   "cell_type": "code",
   "execution_count": 510,
   "metadata": {},
   "outputs": [],
   "source": [
    "target_data=data_records[\"AL\"].iloc[::,-6:]\n",
    "for ste in st_copy1[1:]:\n",
    "    # temp = data_records[ste].iloc[::,-6:]\n",
    "    target_data=target_data.append(data_records[ste].iloc[::,-6:],ignore_index=True)\n",
    "    "
   ]
  },
  {
   "cell_type": "code",
   "execution_count": 511,
   "metadata": {},
   "outputs": [
    {
     "data": {
      "text/plain": [
       "48"
      ]
     },
     "execution_count": 511,
     "metadata": {},
     "output_type": "execute_result"
    }
   ],
   "source": [
    "len(st_copy1)"
   ]
  },
  {
   "cell_type": "code",
   "execution_count": 512,
   "metadata": {},
   "outputs": [],
   "source": [
    "target_data=target_data.astype('int')"
   ]
  },
  {
   "cell_type": "code",
   "execution_count": 513,
   "metadata": {},
   "outputs": [
    {
     "data": {
      "text/html": [
       "<div>\n",
       "<style scoped>\n",
       "    .dataframe tbody tr th:only-of-type {\n",
       "        vertical-align: middle;\n",
       "    }\n",
       "\n",
       "    .dataframe tbody tr th {\n",
       "        vertical-align: top;\n",
       "    }\n",
       "\n",
       "    .dataframe thead th {\n",
       "        text-align: right;\n",
       "    }\n",
       "</style>\n",
       "<table border=\"1\" class=\"dataframe\">\n",
       "  <thead>\n",
       "    <tr style=\"text-align: right;\">\n",
       "      <th></th>\n",
       "      <th>target_Asian</th>\n",
       "      <th>target_AIAN</th>\n",
       "      <th>target_Black</th>\n",
       "      <th>target_White</th>\n",
       "      <th>target_Other</th>\n",
       "      <th>target_NHPI</th>\n",
       "    </tr>\n",
       "  </thead>\n",
       "  <tbody>\n",
       "    <tr>\n",
       "      <th>0</th>\n",
       "      <td>0</td>\n",
       "      <td>0</td>\n",
       "      <td>0</td>\n",
       "      <td>0</td>\n",
       "      <td>0</td>\n",
       "      <td>0</td>\n",
       "    </tr>\n",
       "    <tr>\n",
       "      <th>1</th>\n",
       "      <td>0</td>\n",
       "      <td>0</td>\n",
       "      <td>0</td>\n",
       "      <td>0</td>\n",
       "      <td>0</td>\n",
       "      <td>0</td>\n",
       "    </tr>\n",
       "    <tr>\n",
       "      <th>2</th>\n",
       "      <td>0</td>\n",
       "      <td>0</td>\n",
       "      <td>0</td>\n",
       "      <td>0</td>\n",
       "      <td>0</td>\n",
       "      <td>0</td>\n",
       "    </tr>\n",
       "    <tr>\n",
       "      <th>3</th>\n",
       "      <td>0</td>\n",
       "      <td>0</td>\n",
       "      <td>0</td>\n",
       "      <td>0</td>\n",
       "      <td>0</td>\n",
       "      <td>0</td>\n",
       "    </tr>\n",
       "    <tr>\n",
       "      <th>4</th>\n",
       "      <td>0</td>\n",
       "      <td>0</td>\n",
       "      <td>0</td>\n",
       "      <td>0</td>\n",
       "      <td>0</td>\n",
       "      <td>0</td>\n",
       "    </tr>\n",
       "    <tr>\n",
       "      <th>...</th>\n",
       "      <td>...</td>\n",
       "      <td>...</td>\n",
       "      <td>...</td>\n",
       "      <td>...</td>\n",
       "      <td>...</td>\n",
       "      <td>...</td>\n",
       "    </tr>\n",
       "    <tr>\n",
       "      <th>15835</th>\n",
       "      <td>0</td>\n",
       "      <td>0</td>\n",
       "      <td>0</td>\n",
       "      <td>0</td>\n",
       "      <td>0</td>\n",
       "      <td>0</td>\n",
       "    </tr>\n",
       "    <tr>\n",
       "      <th>15836</th>\n",
       "      <td>0</td>\n",
       "      <td>0</td>\n",
       "      <td>0</td>\n",
       "      <td>0</td>\n",
       "      <td>0</td>\n",
       "      <td>0</td>\n",
       "    </tr>\n",
       "    <tr>\n",
       "      <th>15837</th>\n",
       "      <td>0</td>\n",
       "      <td>0</td>\n",
       "      <td>0</td>\n",
       "      <td>0</td>\n",
       "      <td>0</td>\n",
       "      <td>0</td>\n",
       "    </tr>\n",
       "    <tr>\n",
       "      <th>15838</th>\n",
       "      <td>0</td>\n",
       "      <td>0</td>\n",
       "      <td>0</td>\n",
       "      <td>0</td>\n",
       "      <td>0</td>\n",
       "      <td>0</td>\n",
       "    </tr>\n",
       "    <tr>\n",
       "      <th>15839</th>\n",
       "      <td>0</td>\n",
       "      <td>0</td>\n",
       "      <td>0</td>\n",
       "      <td>0</td>\n",
       "      <td>0</td>\n",
       "      <td>0</td>\n",
       "    </tr>\n",
       "  </tbody>\n",
       "</table>\n",
       "<p>15840 rows × 6 columns</p>\n",
       "</div>"
      ],
      "text/plain": [
       "       target_Asian  target_AIAN  target_Black  target_White  target_Other  \\\n",
       "0                 0            0             0             0             0   \n",
       "1                 0            0             0             0             0   \n",
       "2                 0            0             0             0             0   \n",
       "3                 0            0             0             0             0   \n",
       "4                 0            0             0             0             0   \n",
       "...             ...          ...           ...           ...           ...   \n",
       "15835             0            0             0             0             0   \n",
       "15836             0            0             0             0             0   \n",
       "15837             0            0             0             0             0   \n",
       "15838             0            0             0             0             0   \n",
       "15839             0            0             0             0             0   \n",
       "\n",
       "       target_NHPI  \n",
       "0                0  \n",
       "1                0  \n",
       "2                0  \n",
       "3                0  \n",
       "4                0  \n",
       "...            ...  \n",
       "15835            0  \n",
       "15836            0  \n",
       "15837            0  \n",
       "15838            0  \n",
       "15839            0  \n",
       "\n",
       "[15840 rows x 6 columns]"
      ]
     },
     "execution_count": 513,
     "metadata": {},
     "output_type": "execute_result"
    }
   ],
   "source": [
    "target_data"
   ]
  },
  {
   "cell_type": "code",
   "execution_count": 515,
   "metadata": {},
   "outputs": [],
   "source": [
    "# target_data.to_csv(\"race_taget_final_v1.csv\")"
   ]
  },
  {
   "cell_type": "markdown",
   "metadata": {},
   "source": [
    "# Calling Policy Data"
   ]
  },
  {
   "cell_type": "code",
   "execution_count": 516,
   "metadata": {},
   "outputs": [
    {
     "data": {
      "text/html": [
       "<div>\n",
       "<style scoped>\n",
       "    .dataframe tbody tr th:only-of-type {\n",
       "        vertical-align: middle;\n",
       "    }\n",
       "\n",
       "    .dataframe tbody tr th {\n",
       "        vertical-align: top;\n",
       "    }\n",
       "\n",
       "    .dataframe thead th {\n",
       "        text-align: right;\n",
       "    }\n",
       "</style>\n",
       "<table border=\"1\" class=\"dataframe\">\n",
       "  <thead>\n",
       "    <tr style=\"text-align: right;\">\n",
       "      <th></th>\n",
       "      <th>days</th>\n",
       "      <th>p2</th>\n",
       "      <th>p3</th>\n",
       "      <th>p4</th>\n",
       "      <th>p5</th>\n",
       "      <th>p6</th>\n",
       "    </tr>\n",
       "  </thead>\n",
       "  <tbody>\n",
       "    <tr>\n",
       "      <th>0</th>\n",
       "      <td>1</td>\n",
       "      <td>0.0</td>\n",
       "      <td>0.000000</td>\n",
       "      <td>0.000000</td>\n",
       "      <td>0.000000</td>\n",
       "      <td>0.0</td>\n",
       "    </tr>\n",
       "    <tr>\n",
       "      <th>1</th>\n",
       "      <td>2</td>\n",
       "      <td>0.0</td>\n",
       "      <td>0.000000</td>\n",
       "      <td>0.000000</td>\n",
       "      <td>0.000000</td>\n",
       "      <td>0.0</td>\n",
       "    </tr>\n",
       "    <tr>\n",
       "      <th>2</th>\n",
       "      <td>3</td>\n",
       "      <td>0.0</td>\n",
       "      <td>0.000000</td>\n",
       "      <td>0.000000</td>\n",
       "      <td>0.000000</td>\n",
       "      <td>0.0</td>\n",
       "    </tr>\n",
       "    <tr>\n",
       "      <th>3</th>\n",
       "      <td>4</td>\n",
       "      <td>0.0</td>\n",
       "      <td>0.000000</td>\n",
       "      <td>0.000000</td>\n",
       "      <td>0.000000</td>\n",
       "      <td>0.0</td>\n",
       "    </tr>\n",
       "    <tr>\n",
       "      <th>4</th>\n",
       "      <td>5</td>\n",
       "      <td>0.0</td>\n",
       "      <td>0.000000</td>\n",
       "      <td>0.000000</td>\n",
       "      <td>0.000000</td>\n",
       "      <td>0.0</td>\n",
       "    </tr>\n",
       "    <tr>\n",
       "      <th>...</th>\n",
       "      <td>...</td>\n",
       "      <td>...</td>\n",
       "      <td>...</td>\n",
       "      <td>...</td>\n",
       "      <td>...</td>\n",
       "      <td>...</td>\n",
       "    </tr>\n",
       "    <tr>\n",
       "      <th>19675</th>\n",
       "      <td>406</td>\n",
       "      <td>0.0</td>\n",
       "      <td>0.023659</td>\n",
       "      <td>0.023659</td>\n",
       "      <td>0.473121</td>\n",
       "      <td>0.0</td>\n",
       "    </tr>\n",
       "    <tr>\n",
       "      <th>19676</th>\n",
       "      <td>407</td>\n",
       "      <td>0.0</td>\n",
       "      <td>0.023424</td>\n",
       "      <td>0.023424</td>\n",
       "      <td>0.468413</td>\n",
       "      <td>0.0</td>\n",
       "    </tr>\n",
       "    <tr>\n",
       "      <th>19677</th>\n",
       "      <td>408</td>\n",
       "      <td>0.0</td>\n",
       "      <td>0.023191</td>\n",
       "      <td>0.023191</td>\n",
       "      <td>0.463752</td>\n",
       "      <td>0.0</td>\n",
       "    </tr>\n",
       "    <tr>\n",
       "      <th>19678</th>\n",
       "      <td>409</td>\n",
       "      <td>0.0</td>\n",
       "      <td>0.022960</td>\n",
       "      <td>0.022960</td>\n",
       "      <td>0.459138</td>\n",
       "      <td>0.0</td>\n",
       "    </tr>\n",
       "    <tr>\n",
       "      <th>19679</th>\n",
       "      <td>410</td>\n",
       "      <td>0.0</td>\n",
       "      <td>0.022732</td>\n",
       "      <td>0.022732</td>\n",
       "      <td>0.454569</td>\n",
       "      <td>0.0</td>\n",
       "    </tr>\n",
       "  </tbody>\n",
       "</table>\n",
       "<p>19680 rows × 6 columns</p>\n",
       "</div>"
      ],
      "text/plain": [
       "       days   p2        p3        p4        p5   p6\n",
       "0         1  0.0  0.000000  0.000000  0.000000  0.0\n",
       "1         2  0.0  0.000000  0.000000  0.000000  0.0\n",
       "2         3  0.0  0.000000  0.000000  0.000000  0.0\n",
       "3         4  0.0  0.000000  0.000000  0.000000  0.0\n",
       "4         5  0.0  0.000000  0.000000  0.000000  0.0\n",
       "...     ...  ...       ...       ...       ...  ...\n",
       "19675   406  0.0  0.023659  0.023659  0.473121  0.0\n",
       "19676   407  0.0  0.023424  0.023424  0.468413  0.0\n",
       "19677   408  0.0  0.023191  0.023191  0.463752  0.0\n",
       "19678   409  0.0  0.022960  0.022960  0.459138  0.0\n",
       "19679   410  0.0  0.022732  0.022732  0.454569  0.0\n",
       "\n",
       "[19680 rows x 6 columns]"
      ]
     },
     "execution_count": 516,
     "metadata": {},
     "output_type": "execute_result"
    }
   ],
   "source": [
    "# Call policy data\n",
    "policy_data = pd.read_csv(\"State_combine_data_new_2.csv\")\n",
    "target_data=pd.read_csv(\"race_taget_final_v1.csv\")\n",
    "policy_data.drop(policy_data.columns[0],axis=1,inplace=True)\n",
    "policy_data.drop(policy_data.columns[-2:],axis=1,inplace=True)\n",
    "policy_data=policy_data.iloc[:,:6]\n",
    "policy_data"
   ]
  },
  {
   "cell_type": "code",
   "execution_count": 517,
   "metadata": {},
   "outputs": [
    {
     "data": {
      "text/html": [
       "<div>\n",
       "<style scoped>\n",
       "    .dataframe tbody tr th:only-of-type {\n",
       "        vertical-align: middle;\n",
       "    }\n",
       "\n",
       "    .dataframe tbody tr th {\n",
       "        vertical-align: top;\n",
       "    }\n",
       "\n",
       "    .dataframe thead th {\n",
       "        text-align: right;\n",
       "    }\n",
       "</style>\n",
       "<table border=\"1\" class=\"dataframe\">\n",
       "  <thead>\n",
       "    <tr style=\"text-align: right;\">\n",
       "      <th></th>\n",
       "      <th>target_Asian</th>\n",
       "      <th>target_AIAN</th>\n",
       "      <th>target_Black</th>\n",
       "      <th>target_White</th>\n",
       "      <th>target_Other</th>\n",
       "      <th>target_NHPI</th>\n",
       "    </tr>\n",
       "  </thead>\n",
       "  <tbody>\n",
       "    <tr>\n",
       "      <th>0</th>\n",
       "      <td>0</td>\n",
       "      <td>0</td>\n",
       "      <td>0</td>\n",
       "      <td>0</td>\n",
       "      <td>0</td>\n",
       "      <td>0</td>\n",
       "    </tr>\n",
       "    <tr>\n",
       "      <th>1</th>\n",
       "      <td>0</td>\n",
       "      <td>0</td>\n",
       "      <td>0</td>\n",
       "      <td>0</td>\n",
       "      <td>0</td>\n",
       "      <td>0</td>\n",
       "    </tr>\n",
       "    <tr>\n",
       "      <th>2</th>\n",
       "      <td>0</td>\n",
       "      <td>0</td>\n",
       "      <td>0</td>\n",
       "      <td>0</td>\n",
       "      <td>0</td>\n",
       "      <td>0</td>\n",
       "    </tr>\n",
       "    <tr>\n",
       "      <th>3</th>\n",
       "      <td>0</td>\n",
       "      <td>0</td>\n",
       "      <td>0</td>\n",
       "      <td>0</td>\n",
       "      <td>0</td>\n",
       "      <td>0</td>\n",
       "    </tr>\n",
       "    <tr>\n",
       "      <th>4</th>\n",
       "      <td>0</td>\n",
       "      <td>0</td>\n",
       "      <td>0</td>\n",
       "      <td>0</td>\n",
       "      <td>0</td>\n",
       "      <td>0</td>\n",
       "    </tr>\n",
       "    <tr>\n",
       "      <th>...</th>\n",
       "      <td>...</td>\n",
       "      <td>...</td>\n",
       "      <td>...</td>\n",
       "      <td>...</td>\n",
       "      <td>...</td>\n",
       "      <td>...</td>\n",
       "    </tr>\n",
       "    <tr>\n",
       "      <th>15835</th>\n",
       "      <td>0</td>\n",
       "      <td>0</td>\n",
       "      <td>0</td>\n",
       "      <td>0</td>\n",
       "      <td>0</td>\n",
       "      <td>0</td>\n",
       "    </tr>\n",
       "    <tr>\n",
       "      <th>15836</th>\n",
       "      <td>0</td>\n",
       "      <td>0</td>\n",
       "      <td>0</td>\n",
       "      <td>0</td>\n",
       "      <td>0</td>\n",
       "      <td>0</td>\n",
       "    </tr>\n",
       "    <tr>\n",
       "      <th>15837</th>\n",
       "      <td>0</td>\n",
       "      <td>0</td>\n",
       "      <td>0</td>\n",
       "      <td>0</td>\n",
       "      <td>0</td>\n",
       "      <td>0</td>\n",
       "    </tr>\n",
       "    <tr>\n",
       "      <th>15838</th>\n",
       "      <td>0</td>\n",
       "      <td>0</td>\n",
       "      <td>0</td>\n",
       "      <td>0</td>\n",
       "      <td>0</td>\n",
       "      <td>0</td>\n",
       "    </tr>\n",
       "    <tr>\n",
       "      <th>15839</th>\n",
       "      <td>0</td>\n",
       "      <td>0</td>\n",
       "      <td>0</td>\n",
       "      <td>0</td>\n",
       "      <td>0</td>\n",
       "      <td>0</td>\n",
       "    </tr>\n",
       "  </tbody>\n",
       "</table>\n",
       "<p>15840 rows × 6 columns</p>\n",
       "</div>"
      ],
      "text/plain": [
       "       target_Asian  target_AIAN  target_Black  target_White  target_Other  \\\n",
       "0                 0            0             0             0             0   \n",
       "1                 0            0             0             0             0   \n",
       "2                 0            0             0             0             0   \n",
       "3                 0            0             0             0             0   \n",
       "4                 0            0             0             0             0   \n",
       "...             ...          ...           ...           ...           ...   \n",
       "15835             0            0             0             0             0   \n",
       "15836             0            0             0             0             0   \n",
       "15837             0            0             0             0             0   \n",
       "15838             0            0             0             0             0   \n",
       "15839             0            0             0             0             0   \n",
       "\n",
       "       target_NHPI  \n",
       "0                0  \n",
       "1                0  \n",
       "2                0  \n",
       "3                0  \n",
       "4                0  \n",
       "...            ...  \n",
       "15835            0  \n",
       "15836            0  \n",
       "15837            0  \n",
       "15838            0  \n",
       "15839            0  \n",
       "\n",
       "[15840 rows x 6 columns]"
      ]
     },
     "execution_count": 517,
     "metadata": {},
     "output_type": "execute_result"
    }
   ],
   "source": [
    "target_data = target_data.drop(columns=target_data.columns[0])\n",
    "target_data"
   ]
  },
  {
   "cell_type": "code",
   "execution_count": 519,
   "metadata": {},
   "outputs": [
    {
     "data": {
      "text/plain": [
       "0    14782\n",
       "1     1058\n",
       "Name: target_Asian, dtype: int64"
      ]
     },
     "execution_count": 519,
     "metadata": {},
     "output_type": "execute_result"
    }
   ],
   "source": [
    "target_data.target_Asian.value_counts()"
   ]
  },
  {
   "cell_type": "code",
   "execution_count": 520,
   "metadata": {},
   "outputs": [
    {
     "data": {
      "text/plain": [
       "0    13375\n",
       "1     2465\n",
       "Name: target_Black, dtype: int64"
      ]
     },
     "execution_count": 520,
     "metadata": {},
     "output_type": "execute_result"
    }
   ],
   "source": [
    "target_data.target_Black.value_counts()\n"
   ]
  },
  {
   "cell_type": "code",
   "execution_count": 521,
   "metadata": {},
   "outputs": [
    {
     "data": {
      "text/plain": [
       "0    12545\n",
       "1     3295\n",
       "Name: target_White, dtype: int64"
      ]
     },
     "execution_count": 521,
     "metadata": {},
     "output_type": "execute_result"
    }
   ],
   "source": [
    "target_data.target_White.value_counts()\n"
   ]
  },
  {
   "cell_type": "code",
   "execution_count": 523,
   "metadata": {},
   "outputs": [
    {
     "data": {
      "text/plain": [
       "0    15329\n",
       "1      511\n",
       "Name: target_AIAN, dtype: int64"
      ]
     },
     "execution_count": 523,
     "metadata": {},
     "output_type": "execute_result"
    }
   ],
   "source": [
    "target_data.target_AIAN.value_counts()\n"
   ]
  },
  {
   "cell_type": "code",
   "execution_count": 524,
   "metadata": {},
   "outputs": [
    {
     "data": {
      "text/plain": [
       "0    15661\n",
       "1      179\n",
       "Name: target_NHPI, dtype: int64"
      ]
     },
     "execution_count": 524,
     "metadata": {},
     "output_type": "execute_result"
    }
   ],
   "source": [
    "target_data.target_NHPI.value_counts()\n"
   ]
  },
  {
   "cell_type": "code",
   "execution_count": 541,
   "metadata": {},
   "outputs": [
    {
     "data": {
      "text/html": [
       "<div>\n",
       "<style scoped>\n",
       "    .dataframe tbody tr th:only-of-type {\n",
       "        vertical-align: middle;\n",
       "    }\n",
       "\n",
       "    .dataframe tbody tr th {\n",
       "        vertical-align: top;\n",
       "    }\n",
       "\n",
       "    .dataframe thead th {\n",
       "        text-align: right;\n",
       "    }\n",
       "</style>\n",
       "<table border=\"1\" class=\"dataframe\">\n",
       "  <thead>\n",
       "    <tr style=\"text-align: right;\">\n",
       "      <th></th>\n",
       "      <th>days</th>\n",
       "      <th>p2</th>\n",
       "      <th>p3</th>\n",
       "      <th>p4</th>\n",
       "      <th>p5</th>\n",
       "      <th>p6</th>\n",
       "    </tr>\n",
       "  </thead>\n",
       "  <tbody>\n",
       "    <tr>\n",
       "      <th>0</th>\n",
       "      <td>1</td>\n",
       "      <td>0.000000</td>\n",
       "      <td>0.000000</td>\n",
       "      <td>0.000000</td>\n",
       "      <td>0.000</td>\n",
       "      <td>0.0</td>\n",
       "    </tr>\n",
       "    <tr>\n",
       "      <th>1</th>\n",
       "      <td>2</td>\n",
       "      <td>0.000000</td>\n",
       "      <td>0.000000</td>\n",
       "      <td>0.000000</td>\n",
       "      <td>0.000</td>\n",
       "      <td>0.0</td>\n",
       "    </tr>\n",
       "    <tr>\n",
       "      <th>2</th>\n",
       "      <td>3</td>\n",
       "      <td>0.000000</td>\n",
       "      <td>0.000000</td>\n",
       "      <td>0.000000</td>\n",
       "      <td>0.000</td>\n",
       "      <td>0.0</td>\n",
       "    </tr>\n",
       "    <tr>\n",
       "      <th>3</th>\n",
       "      <td>4</td>\n",
       "      <td>0.000000</td>\n",
       "      <td>0.000000</td>\n",
       "      <td>0.000000</td>\n",
       "      <td>0.000</td>\n",
       "      <td>0.0</td>\n",
       "    </tr>\n",
       "    <tr>\n",
       "      <th>4</th>\n",
       "      <td>5</td>\n",
       "      <td>0.000000</td>\n",
       "      <td>0.000000</td>\n",
       "      <td>0.000000</td>\n",
       "      <td>0.000</td>\n",
       "      <td>0.0</td>\n",
       "    </tr>\n",
       "    <tr>\n",
       "      <th>...</th>\n",
       "      <td>...</td>\n",
       "      <td>...</td>\n",
       "      <td>...</td>\n",
       "      <td>...</td>\n",
       "      <td>...</td>\n",
       "      <td>...</td>\n",
       "    </tr>\n",
       "    <tr>\n",
       "      <th>325</th>\n",
       "      <td>326</td>\n",
       "      <td>0.045732</td>\n",
       "      <td>0.046457</td>\n",
       "      <td>0.045732</td>\n",
       "      <td>0.582</td>\n",
       "      <td>0.0</td>\n",
       "    </tr>\n",
       "    <tr>\n",
       "      <th>326</th>\n",
       "      <td>327</td>\n",
       "      <td>0.045277</td>\n",
       "      <td>0.045995</td>\n",
       "      <td>0.045277</td>\n",
       "      <td>0.582</td>\n",
       "      <td>0.0</td>\n",
       "    </tr>\n",
       "    <tr>\n",
       "      <th>327</th>\n",
       "      <td>328</td>\n",
       "      <td>0.044826</td>\n",
       "      <td>0.045537</td>\n",
       "      <td>0.044826</td>\n",
       "      <td>0.582</td>\n",
       "      <td>0.0</td>\n",
       "    </tr>\n",
       "    <tr>\n",
       "      <th>328</th>\n",
       "      <td>329</td>\n",
       "      <td>0.044380</td>\n",
       "      <td>0.045084</td>\n",
       "      <td>0.044380</td>\n",
       "      <td>0.582</td>\n",
       "      <td>0.0</td>\n",
       "    </tr>\n",
       "    <tr>\n",
       "      <th>329</th>\n",
       "      <td>330</td>\n",
       "      <td>0.043938</td>\n",
       "      <td>0.044635</td>\n",
       "      <td>0.043938</td>\n",
       "      <td>0.582</td>\n",
       "      <td>0.0</td>\n",
       "    </tr>\n",
       "  </tbody>\n",
       "</table>\n",
       "<p>330 rows × 6 columns</p>\n",
       "</div>"
      ],
      "text/plain": [
       "     days        p2        p3        p4     p5   p6\n",
       "0       1  0.000000  0.000000  0.000000  0.000  0.0\n",
       "1       2  0.000000  0.000000  0.000000  0.000  0.0\n",
       "2       3  0.000000  0.000000  0.000000  0.000  0.0\n",
       "3       4  0.000000  0.000000  0.000000  0.000  0.0\n",
       "4       5  0.000000  0.000000  0.000000  0.000  0.0\n",
       "..    ...       ...       ...       ...    ...  ...\n",
       "325   326  0.045732  0.046457  0.045732  0.582  0.0\n",
       "326   327  0.045277  0.045995  0.045277  0.582  0.0\n",
       "327   328  0.044826  0.045537  0.044826  0.582  0.0\n",
       "328   329  0.044380  0.045084  0.044380  0.582  0.0\n",
       "329   330  0.043938  0.044635  0.043938  0.582  0.0\n",
       "\n",
       "[330 rows x 6 columns]"
      ]
     },
     "execution_count": 541,
     "metadata": {},
     "output_type": "execute_result"
    }
   ],
   "source": [
    "policy_data[:410][:330]"
   ]
  },
  {
   "cell_type": "code",
   "execution_count": 562,
   "metadata": {},
   "outputs": [],
   "source": [
    "j=410\n",
    "policy_data_update = policy_data[:410][:330]\n",
    "for i in range(820,len(policy_data),410):\n",
    "    policy_data_update=policy_data_update.append(policy_data[j:i][:330])\n",
    "    j=i\n",
    "    "
   ]
  },
  {
   "cell_type": "code",
   "execution_count": 568,
   "metadata": {},
   "outputs": [],
   "source": [
    "\n",
    "policy_data_update=policy_data_update.append(policy_data[19270:][:330])"
   ]
  },
  {
   "cell_type": "code",
   "execution_count": 595,
   "metadata": {},
   "outputs": [],
   "source": [
    "policy_data_update_copy=policy_data_update.copy()"
   ]
  },
  {
   "cell_type": "code",
   "execution_count": 604,
   "metadata": {},
   "outputs": [],
   "source": [
    "policy_data_update_copy.reset_index(inplace=True)\n"
   ]
  },
  {
   "cell_type": "code",
   "execution_count": 609,
   "metadata": {},
   "outputs": [
    {
     "data": {
      "text/html": [
       "<div>\n",
       "<style scoped>\n",
       "    .dataframe tbody tr th:only-of-type {\n",
       "        vertical-align: middle;\n",
       "    }\n",
       "\n",
       "    .dataframe tbody tr th {\n",
       "        vertical-align: top;\n",
       "    }\n",
       "\n",
       "    .dataframe thead th {\n",
       "        text-align: right;\n",
       "    }\n",
       "</style>\n",
       "<table border=\"1\" class=\"dataframe\">\n",
       "  <thead>\n",
       "    <tr style=\"text-align: right;\">\n",
       "      <th></th>\n",
       "      <th>index</th>\n",
       "      <th>days</th>\n",
       "      <th>p2</th>\n",
       "      <th>p3</th>\n",
       "      <th>p4</th>\n",
       "      <th>p5</th>\n",
       "      <th>p6</th>\n",
       "    </tr>\n",
       "  </thead>\n",
       "  <tbody>\n",
       "    <tr>\n",
       "      <th>0</th>\n",
       "      <td>0</td>\n",
       "      <td>1</td>\n",
       "      <td>0.0</td>\n",
       "      <td>0.000000</td>\n",
       "      <td>0.000000</td>\n",
       "      <td>0.000</td>\n",
       "      <td>0.0</td>\n",
       "    </tr>\n",
       "    <tr>\n",
       "      <th>1</th>\n",
       "      <td>1</td>\n",
       "      <td>2</td>\n",
       "      <td>0.0</td>\n",
       "      <td>0.000000</td>\n",
       "      <td>0.000000</td>\n",
       "      <td>0.000</td>\n",
       "      <td>0.0</td>\n",
       "    </tr>\n",
       "    <tr>\n",
       "      <th>2</th>\n",
       "      <td>2</td>\n",
       "      <td>3</td>\n",
       "      <td>0.0</td>\n",
       "      <td>0.000000</td>\n",
       "      <td>0.000000</td>\n",
       "      <td>0.000</td>\n",
       "      <td>0.0</td>\n",
       "    </tr>\n",
       "    <tr>\n",
       "      <th>3</th>\n",
       "      <td>3</td>\n",
       "      <td>4</td>\n",
       "      <td>0.0</td>\n",
       "      <td>0.000000</td>\n",
       "      <td>0.000000</td>\n",
       "      <td>0.000</td>\n",
       "      <td>0.0</td>\n",
       "    </tr>\n",
       "    <tr>\n",
       "      <th>4</th>\n",
       "      <td>4</td>\n",
       "      <td>5</td>\n",
       "      <td>0.0</td>\n",
       "      <td>0.000000</td>\n",
       "      <td>0.000000</td>\n",
       "      <td>0.000</td>\n",
       "      <td>0.0</td>\n",
       "    </tr>\n",
       "    <tr>\n",
       "      <th>...</th>\n",
       "      <td>...</td>\n",
       "      <td>...</td>\n",
       "      <td>...</td>\n",
       "      <td>...</td>\n",
       "      <td>...</td>\n",
       "      <td>...</td>\n",
       "      <td>...</td>\n",
       "    </tr>\n",
       "    <tr>\n",
       "      <th>15835</th>\n",
       "      <td>19595</td>\n",
       "      <td>326</td>\n",
       "      <td>0.0</td>\n",
       "      <td>0.052655</td>\n",
       "      <td>0.052655</td>\n",
       "      <td>0.638</td>\n",
       "      <td>0.0</td>\n",
       "    </tr>\n",
       "    <tr>\n",
       "      <th>15836</th>\n",
       "      <td>19596</td>\n",
       "      <td>327</td>\n",
       "      <td>0.0</td>\n",
       "      <td>0.052131</td>\n",
       "      <td>0.052131</td>\n",
       "      <td>0.638</td>\n",
       "      <td>0.0</td>\n",
       "    </tr>\n",
       "    <tr>\n",
       "      <th>15837</th>\n",
       "      <td>19597</td>\n",
       "      <td>328</td>\n",
       "      <td>0.0</td>\n",
       "      <td>0.051612</td>\n",
       "      <td>0.051612</td>\n",
       "      <td>0.638</td>\n",
       "      <td>0.0</td>\n",
       "    </tr>\n",
       "    <tr>\n",
       "      <th>15838</th>\n",
       "      <td>19598</td>\n",
       "      <td>329</td>\n",
       "      <td>0.0</td>\n",
       "      <td>0.051098</td>\n",
       "      <td>0.051098</td>\n",
       "      <td>0.638</td>\n",
       "      <td>0.0</td>\n",
       "    </tr>\n",
       "    <tr>\n",
       "      <th>15839</th>\n",
       "      <td>19599</td>\n",
       "      <td>330</td>\n",
       "      <td>0.0</td>\n",
       "      <td>0.050590</td>\n",
       "      <td>0.050590</td>\n",
       "      <td>0.638</td>\n",
       "      <td>0.0</td>\n",
       "    </tr>\n",
       "  </tbody>\n",
       "</table>\n",
       "<p>15840 rows × 7 columns</p>\n",
       "</div>"
      ],
      "text/plain": [
       "       index  days   p2        p3        p4     p5   p6\n",
       "0          0     1  0.0  0.000000  0.000000  0.000  0.0\n",
       "1          1     2  0.0  0.000000  0.000000  0.000  0.0\n",
       "2          2     3  0.0  0.000000  0.000000  0.000  0.0\n",
       "3          3     4  0.0  0.000000  0.000000  0.000  0.0\n",
       "4          4     5  0.0  0.000000  0.000000  0.000  0.0\n",
       "...      ...   ...  ...       ...       ...    ...  ...\n",
       "15835  19595   326  0.0  0.052655  0.052655  0.638  0.0\n",
       "15836  19596   327  0.0  0.052131  0.052131  0.638  0.0\n",
       "15837  19597   328  0.0  0.051612  0.051612  0.638  0.0\n",
       "15838  19598   329  0.0  0.051098  0.051098  0.638  0.0\n",
       "15839  19599   330  0.0  0.050590  0.050590  0.638  0.0\n",
       "\n",
       "[15840 rows x 7 columns]"
      ]
     },
     "execution_count": 609,
     "metadata": {},
     "output_type": "execute_result"
    }
   ],
   "source": [
    "# policy_data_update_copy.drop(policy_data_update_copy.index,inplace=True,axis=1)\n",
    "policy_data_update_copy"
   ]
  },
  {
   "cell_type": "code",
   "execution_count": 583,
   "metadata": {},
   "outputs": [
    {
     "data": {
      "text/html": [
       "<div>\n",
       "<style scoped>\n",
       "    .dataframe tbody tr th:only-of-type {\n",
       "        vertical-align: middle;\n",
       "    }\n",
       "\n",
       "    .dataframe tbody tr th {\n",
       "        vertical-align: top;\n",
       "    }\n",
       "\n",
       "    .dataframe thead th {\n",
       "        text-align: right;\n",
       "    }\n",
       "</style>\n",
       "<table border=\"1\" class=\"dataframe\">\n",
       "  <thead>\n",
       "    <tr style=\"text-align: right;\">\n",
       "      <th></th>\n",
       "      <th>target_Asian</th>\n",
       "      <th>target_AIAN</th>\n",
       "      <th>target_Black</th>\n",
       "      <th>target_White</th>\n",
       "      <th>target_Other</th>\n",
       "      <th>target_NHPI</th>\n",
       "    </tr>\n",
       "  </thead>\n",
       "  <tbody>\n",
       "    <tr>\n",
       "      <th>0</th>\n",
       "      <td>0</td>\n",
       "      <td>0</td>\n",
       "      <td>0</td>\n",
       "      <td>0</td>\n",
       "      <td>0</td>\n",
       "      <td>0</td>\n",
       "    </tr>\n",
       "    <tr>\n",
       "      <th>1</th>\n",
       "      <td>0</td>\n",
       "      <td>0</td>\n",
       "      <td>0</td>\n",
       "      <td>0</td>\n",
       "      <td>0</td>\n",
       "      <td>0</td>\n",
       "    </tr>\n",
       "    <tr>\n",
       "      <th>2</th>\n",
       "      <td>0</td>\n",
       "      <td>0</td>\n",
       "      <td>0</td>\n",
       "      <td>0</td>\n",
       "      <td>0</td>\n",
       "      <td>0</td>\n",
       "    </tr>\n",
       "    <tr>\n",
       "      <th>3</th>\n",
       "      <td>0</td>\n",
       "      <td>0</td>\n",
       "      <td>0</td>\n",
       "      <td>0</td>\n",
       "      <td>0</td>\n",
       "      <td>0</td>\n",
       "    </tr>\n",
       "    <tr>\n",
       "      <th>4</th>\n",
       "      <td>0</td>\n",
       "      <td>0</td>\n",
       "      <td>0</td>\n",
       "      <td>0</td>\n",
       "      <td>0</td>\n",
       "      <td>0</td>\n",
       "    </tr>\n",
       "    <tr>\n",
       "      <th>...</th>\n",
       "      <td>...</td>\n",
       "      <td>...</td>\n",
       "      <td>...</td>\n",
       "      <td>...</td>\n",
       "      <td>...</td>\n",
       "      <td>...</td>\n",
       "    </tr>\n",
       "    <tr>\n",
       "      <th>15835</th>\n",
       "      <td>0</td>\n",
       "      <td>0</td>\n",
       "      <td>0</td>\n",
       "      <td>0</td>\n",
       "      <td>0</td>\n",
       "      <td>0</td>\n",
       "    </tr>\n",
       "    <tr>\n",
       "      <th>15836</th>\n",
       "      <td>0</td>\n",
       "      <td>0</td>\n",
       "      <td>0</td>\n",
       "      <td>0</td>\n",
       "      <td>0</td>\n",
       "      <td>0</td>\n",
       "    </tr>\n",
       "    <tr>\n",
       "      <th>15837</th>\n",
       "      <td>0</td>\n",
       "      <td>0</td>\n",
       "      <td>0</td>\n",
       "      <td>0</td>\n",
       "      <td>0</td>\n",
       "      <td>0</td>\n",
       "    </tr>\n",
       "    <tr>\n",
       "      <th>15838</th>\n",
       "      <td>0</td>\n",
       "      <td>0</td>\n",
       "      <td>0</td>\n",
       "      <td>0</td>\n",
       "      <td>0</td>\n",
       "      <td>0</td>\n",
       "    </tr>\n",
       "    <tr>\n",
       "      <th>15839</th>\n",
       "      <td>0</td>\n",
       "      <td>0</td>\n",
       "      <td>0</td>\n",
       "      <td>0</td>\n",
       "      <td>0</td>\n",
       "      <td>0</td>\n",
       "    </tr>\n",
       "  </tbody>\n",
       "</table>\n",
       "<p>15840 rows × 6 columns</p>\n",
       "</div>"
      ],
      "text/plain": [
       "       target_Asian  target_AIAN  target_Black  target_White  target_Other  \\\n",
       "0                 0            0             0             0             0   \n",
       "1                 0            0             0             0             0   \n",
       "2                 0            0             0             0             0   \n",
       "3                 0            0             0             0             0   \n",
       "4                 0            0             0             0             0   \n",
       "...             ...          ...           ...           ...           ...   \n",
       "15835             0            0             0             0             0   \n",
       "15836             0            0             0             0             0   \n",
       "15837             0            0             0             0             0   \n",
       "15838             0            0             0             0             0   \n",
       "15839             0            0             0             0             0   \n",
       "\n",
       "       target_NHPI  \n",
       "0                0  \n",
       "1                0  \n",
       "2                0  \n",
       "3                0  \n",
       "4                0  \n",
       "...            ...  \n",
       "15835            0  \n",
       "15836            0  \n",
       "15837            0  \n",
       "15838            0  \n",
       "15839            0  \n",
       "\n",
       "[15840 rows x 6 columns]"
      ]
     },
     "execution_count": 583,
     "metadata": {},
     "output_type": "execute_result"
    }
   ],
   "source": [
    "target_data"
   ]
  },
  {
   "cell_type": "code",
   "execution_count": null,
   "metadata": {},
   "outputs": [],
   "source": []
  },
  {
   "cell_type": "code",
   "execution_count": 610,
   "metadata": {},
   "outputs": [
    {
     "data": {
      "text/html": [
       "<div>\n",
       "<style scoped>\n",
       "    .dataframe tbody tr th:only-of-type {\n",
       "        vertical-align: middle;\n",
       "    }\n",
       "\n",
       "    .dataframe tbody tr th {\n",
       "        vertical-align: top;\n",
       "    }\n",
       "\n",
       "    .dataframe thead th {\n",
       "        text-align: right;\n",
       "    }\n",
       "</style>\n",
       "<table border=\"1\" class=\"dataframe\">\n",
       "  <thead>\n",
       "    <tr style=\"text-align: right;\">\n",
       "      <th></th>\n",
       "      <th>index</th>\n",
       "      <th>days</th>\n",
       "      <th>p2</th>\n",
       "      <th>p3</th>\n",
       "      <th>p4</th>\n",
       "      <th>p5</th>\n",
       "      <th>p6</th>\n",
       "      <th>target_Asian</th>\n",
       "      <th>target_AIAN</th>\n",
       "      <th>target_Black</th>\n",
       "      <th>target_White</th>\n",
       "      <th>target_Other</th>\n",
       "      <th>target_NHPI</th>\n",
       "    </tr>\n",
       "  </thead>\n",
       "  <tbody>\n",
       "    <tr>\n",
       "      <th>0</th>\n",
       "      <td>0</td>\n",
       "      <td>1</td>\n",
       "      <td>0.0</td>\n",
       "      <td>0.000000</td>\n",
       "      <td>0.000000</td>\n",
       "      <td>0.000</td>\n",
       "      <td>0.0</td>\n",
       "      <td>0</td>\n",
       "      <td>0</td>\n",
       "      <td>0</td>\n",
       "      <td>0</td>\n",
       "      <td>0</td>\n",
       "      <td>0</td>\n",
       "    </tr>\n",
       "    <tr>\n",
       "      <th>1</th>\n",
       "      <td>1</td>\n",
       "      <td>2</td>\n",
       "      <td>0.0</td>\n",
       "      <td>0.000000</td>\n",
       "      <td>0.000000</td>\n",
       "      <td>0.000</td>\n",
       "      <td>0.0</td>\n",
       "      <td>0</td>\n",
       "      <td>0</td>\n",
       "      <td>0</td>\n",
       "      <td>0</td>\n",
       "      <td>0</td>\n",
       "      <td>0</td>\n",
       "    </tr>\n",
       "    <tr>\n",
       "      <th>2</th>\n",
       "      <td>2</td>\n",
       "      <td>3</td>\n",
       "      <td>0.0</td>\n",
       "      <td>0.000000</td>\n",
       "      <td>0.000000</td>\n",
       "      <td>0.000</td>\n",
       "      <td>0.0</td>\n",
       "      <td>0</td>\n",
       "      <td>0</td>\n",
       "      <td>0</td>\n",
       "      <td>0</td>\n",
       "      <td>0</td>\n",
       "      <td>0</td>\n",
       "    </tr>\n",
       "    <tr>\n",
       "      <th>3</th>\n",
       "      <td>3</td>\n",
       "      <td>4</td>\n",
       "      <td>0.0</td>\n",
       "      <td>0.000000</td>\n",
       "      <td>0.000000</td>\n",
       "      <td>0.000</td>\n",
       "      <td>0.0</td>\n",
       "      <td>0</td>\n",
       "      <td>0</td>\n",
       "      <td>0</td>\n",
       "      <td>0</td>\n",
       "      <td>0</td>\n",
       "      <td>0</td>\n",
       "    </tr>\n",
       "    <tr>\n",
       "      <th>4</th>\n",
       "      <td>4</td>\n",
       "      <td>5</td>\n",
       "      <td>0.0</td>\n",
       "      <td>0.000000</td>\n",
       "      <td>0.000000</td>\n",
       "      <td>0.000</td>\n",
       "      <td>0.0</td>\n",
       "      <td>0</td>\n",
       "      <td>0</td>\n",
       "      <td>0</td>\n",
       "      <td>0</td>\n",
       "      <td>0</td>\n",
       "      <td>0</td>\n",
       "    </tr>\n",
       "    <tr>\n",
       "      <th>...</th>\n",
       "      <td>...</td>\n",
       "      <td>...</td>\n",
       "      <td>...</td>\n",
       "      <td>...</td>\n",
       "      <td>...</td>\n",
       "      <td>...</td>\n",
       "      <td>...</td>\n",
       "      <td>...</td>\n",
       "      <td>...</td>\n",
       "      <td>...</td>\n",
       "      <td>...</td>\n",
       "      <td>...</td>\n",
       "      <td>...</td>\n",
       "    </tr>\n",
       "    <tr>\n",
       "      <th>15835</th>\n",
       "      <td>19595</td>\n",
       "      <td>326</td>\n",
       "      <td>0.0</td>\n",
       "      <td>0.052655</td>\n",
       "      <td>0.052655</td>\n",
       "      <td>0.638</td>\n",
       "      <td>0.0</td>\n",
       "      <td>0</td>\n",
       "      <td>0</td>\n",
       "      <td>0</td>\n",
       "      <td>0</td>\n",
       "      <td>0</td>\n",
       "      <td>0</td>\n",
       "    </tr>\n",
       "    <tr>\n",
       "      <th>15836</th>\n",
       "      <td>19596</td>\n",
       "      <td>327</td>\n",
       "      <td>0.0</td>\n",
       "      <td>0.052131</td>\n",
       "      <td>0.052131</td>\n",
       "      <td>0.638</td>\n",
       "      <td>0.0</td>\n",
       "      <td>0</td>\n",
       "      <td>0</td>\n",
       "      <td>0</td>\n",
       "      <td>0</td>\n",
       "      <td>0</td>\n",
       "      <td>0</td>\n",
       "    </tr>\n",
       "    <tr>\n",
       "      <th>15837</th>\n",
       "      <td>19597</td>\n",
       "      <td>328</td>\n",
       "      <td>0.0</td>\n",
       "      <td>0.051612</td>\n",
       "      <td>0.051612</td>\n",
       "      <td>0.638</td>\n",
       "      <td>0.0</td>\n",
       "      <td>0</td>\n",
       "      <td>0</td>\n",
       "      <td>0</td>\n",
       "      <td>0</td>\n",
       "      <td>0</td>\n",
       "      <td>0</td>\n",
       "    </tr>\n",
       "    <tr>\n",
       "      <th>15838</th>\n",
       "      <td>19598</td>\n",
       "      <td>329</td>\n",
       "      <td>0.0</td>\n",
       "      <td>0.051098</td>\n",
       "      <td>0.051098</td>\n",
       "      <td>0.638</td>\n",
       "      <td>0.0</td>\n",
       "      <td>0</td>\n",
       "      <td>0</td>\n",
       "      <td>0</td>\n",
       "      <td>0</td>\n",
       "      <td>0</td>\n",
       "      <td>0</td>\n",
       "    </tr>\n",
       "    <tr>\n",
       "      <th>15839</th>\n",
       "      <td>19599</td>\n",
       "      <td>330</td>\n",
       "      <td>0.0</td>\n",
       "      <td>0.050590</td>\n",
       "      <td>0.050590</td>\n",
       "      <td>0.638</td>\n",
       "      <td>0.0</td>\n",
       "      <td>0</td>\n",
       "      <td>0</td>\n",
       "      <td>0</td>\n",
       "      <td>0</td>\n",
       "      <td>0</td>\n",
       "      <td>0</td>\n",
       "    </tr>\n",
       "  </tbody>\n",
       "</table>\n",
       "<p>15840 rows × 13 columns</p>\n",
       "</div>"
      ],
      "text/plain": [
       "       index  days   p2        p3        p4     p5   p6  target_Asian  \\\n",
       "0          0     1  0.0  0.000000  0.000000  0.000  0.0             0   \n",
       "1          1     2  0.0  0.000000  0.000000  0.000  0.0             0   \n",
       "2          2     3  0.0  0.000000  0.000000  0.000  0.0             0   \n",
       "3          3     4  0.0  0.000000  0.000000  0.000  0.0             0   \n",
       "4          4     5  0.0  0.000000  0.000000  0.000  0.0             0   \n",
       "...      ...   ...  ...       ...       ...    ...  ...           ...   \n",
       "15835  19595   326  0.0  0.052655  0.052655  0.638  0.0             0   \n",
       "15836  19596   327  0.0  0.052131  0.052131  0.638  0.0             0   \n",
       "15837  19597   328  0.0  0.051612  0.051612  0.638  0.0             0   \n",
       "15838  19598   329  0.0  0.051098  0.051098  0.638  0.0             0   \n",
       "15839  19599   330  0.0  0.050590  0.050590  0.638  0.0             0   \n",
       "\n",
       "       target_AIAN  target_Black  target_White  target_Other  target_NHPI  \n",
       "0                0             0             0             0            0  \n",
       "1                0             0             0             0            0  \n",
       "2                0             0             0             0            0  \n",
       "3                0             0             0             0            0  \n",
       "4                0             0             0             0            0  \n",
       "...            ...           ...           ...           ...          ...  \n",
       "15835            0             0             0             0            0  \n",
       "15836            0             0             0             0            0  \n",
       "15837            0             0             0             0            0  \n",
       "15838            0             0             0             0            0  \n",
       "15839            0             0             0             0            0  \n",
       "\n",
       "[15840 rows x 13 columns]"
      ]
     },
     "execution_count": 610,
     "metadata": {},
     "output_type": "execute_result"
    }
   ],
   "source": [
    "pd.concat([policy_data_update_copy,target_data],axis=1)"
   ]
  },
  {
   "cell_type": "code",
   "execution_count": 611,
   "metadata": {},
   "outputs": [
    {
     "data": {
      "text/html": [
       "<div>\n",
       "<style scoped>\n",
       "    .dataframe tbody tr th:only-of-type {\n",
       "        vertical-align: middle;\n",
       "    }\n",
       "\n",
       "    .dataframe tbody tr th {\n",
       "        vertical-align: top;\n",
       "    }\n",
       "\n",
       "    .dataframe thead th {\n",
       "        text-align: right;\n",
       "    }\n",
       "</style>\n",
       "<table border=\"1\" class=\"dataframe\">\n",
       "  <thead>\n",
       "    <tr style=\"text-align: right;\">\n",
       "      <th></th>\n",
       "      <th>index</th>\n",
       "      <th>days</th>\n",
       "      <th>p2</th>\n",
       "      <th>p3</th>\n",
       "      <th>p4</th>\n",
       "      <th>p5</th>\n",
       "      <th>p6</th>\n",
       "      <th>target_Asian</th>\n",
       "      <th>target_AIAN</th>\n",
       "      <th>target_Black</th>\n",
       "      <th>target_White</th>\n",
       "      <th>target_Other</th>\n",
       "      <th>target_NHPI</th>\n",
       "    </tr>\n",
       "  </thead>\n",
       "  <tbody>\n",
       "    <tr>\n",
       "      <th>0</th>\n",
       "      <td>0</td>\n",
       "      <td>1</td>\n",
       "      <td>0.0</td>\n",
       "      <td>0.000000</td>\n",
       "      <td>0.000000</td>\n",
       "      <td>0.000</td>\n",
       "      <td>0.0</td>\n",
       "      <td>0</td>\n",
       "      <td>0</td>\n",
       "      <td>0</td>\n",
       "      <td>0</td>\n",
       "      <td>0</td>\n",
       "      <td>0</td>\n",
       "    </tr>\n",
       "    <tr>\n",
       "      <th>1</th>\n",
       "      <td>1</td>\n",
       "      <td>2</td>\n",
       "      <td>0.0</td>\n",
       "      <td>0.000000</td>\n",
       "      <td>0.000000</td>\n",
       "      <td>0.000</td>\n",
       "      <td>0.0</td>\n",
       "      <td>0</td>\n",
       "      <td>0</td>\n",
       "      <td>0</td>\n",
       "      <td>0</td>\n",
       "      <td>0</td>\n",
       "      <td>0</td>\n",
       "    </tr>\n",
       "    <tr>\n",
       "      <th>2</th>\n",
       "      <td>2</td>\n",
       "      <td>3</td>\n",
       "      <td>0.0</td>\n",
       "      <td>0.000000</td>\n",
       "      <td>0.000000</td>\n",
       "      <td>0.000</td>\n",
       "      <td>0.0</td>\n",
       "      <td>0</td>\n",
       "      <td>0</td>\n",
       "      <td>0</td>\n",
       "      <td>0</td>\n",
       "      <td>0</td>\n",
       "      <td>0</td>\n",
       "    </tr>\n",
       "    <tr>\n",
       "      <th>3</th>\n",
       "      <td>3</td>\n",
       "      <td>4</td>\n",
       "      <td>0.0</td>\n",
       "      <td>0.000000</td>\n",
       "      <td>0.000000</td>\n",
       "      <td>0.000</td>\n",
       "      <td>0.0</td>\n",
       "      <td>0</td>\n",
       "      <td>0</td>\n",
       "      <td>0</td>\n",
       "      <td>0</td>\n",
       "      <td>0</td>\n",
       "      <td>0</td>\n",
       "    </tr>\n",
       "    <tr>\n",
       "      <th>4</th>\n",
       "      <td>4</td>\n",
       "      <td>5</td>\n",
       "      <td>0.0</td>\n",
       "      <td>0.000000</td>\n",
       "      <td>0.000000</td>\n",
       "      <td>0.000</td>\n",
       "      <td>0.0</td>\n",
       "      <td>0</td>\n",
       "      <td>0</td>\n",
       "      <td>0</td>\n",
       "      <td>0</td>\n",
       "      <td>0</td>\n",
       "      <td>0</td>\n",
       "    </tr>\n",
       "    <tr>\n",
       "      <th>...</th>\n",
       "      <td>...</td>\n",
       "      <td>...</td>\n",
       "      <td>...</td>\n",
       "      <td>...</td>\n",
       "      <td>...</td>\n",
       "      <td>...</td>\n",
       "      <td>...</td>\n",
       "      <td>...</td>\n",
       "      <td>...</td>\n",
       "      <td>...</td>\n",
       "      <td>...</td>\n",
       "      <td>...</td>\n",
       "      <td>...</td>\n",
       "    </tr>\n",
       "    <tr>\n",
       "      <th>15835</th>\n",
       "      <td>19595</td>\n",
       "      <td>326</td>\n",
       "      <td>0.0</td>\n",
       "      <td>0.052655</td>\n",
       "      <td>0.052655</td>\n",
       "      <td>0.638</td>\n",
       "      <td>0.0</td>\n",
       "      <td>0</td>\n",
       "      <td>0</td>\n",
       "      <td>0</td>\n",
       "      <td>0</td>\n",
       "      <td>0</td>\n",
       "      <td>0</td>\n",
       "    </tr>\n",
       "    <tr>\n",
       "      <th>15836</th>\n",
       "      <td>19596</td>\n",
       "      <td>327</td>\n",
       "      <td>0.0</td>\n",
       "      <td>0.052131</td>\n",
       "      <td>0.052131</td>\n",
       "      <td>0.638</td>\n",
       "      <td>0.0</td>\n",
       "      <td>0</td>\n",
       "      <td>0</td>\n",
       "      <td>0</td>\n",
       "      <td>0</td>\n",
       "      <td>0</td>\n",
       "      <td>0</td>\n",
       "    </tr>\n",
       "    <tr>\n",
       "      <th>15837</th>\n",
       "      <td>19597</td>\n",
       "      <td>328</td>\n",
       "      <td>0.0</td>\n",
       "      <td>0.051612</td>\n",
       "      <td>0.051612</td>\n",
       "      <td>0.638</td>\n",
       "      <td>0.0</td>\n",
       "      <td>0</td>\n",
       "      <td>0</td>\n",
       "      <td>0</td>\n",
       "      <td>0</td>\n",
       "      <td>0</td>\n",
       "      <td>0</td>\n",
       "    </tr>\n",
       "    <tr>\n",
       "      <th>15838</th>\n",
       "      <td>19598</td>\n",
       "      <td>329</td>\n",
       "      <td>0.0</td>\n",
       "      <td>0.051098</td>\n",
       "      <td>0.051098</td>\n",
       "      <td>0.638</td>\n",
       "      <td>0.0</td>\n",
       "      <td>0</td>\n",
       "      <td>0</td>\n",
       "      <td>0</td>\n",
       "      <td>0</td>\n",
       "      <td>0</td>\n",
       "      <td>0</td>\n",
       "    </tr>\n",
       "    <tr>\n",
       "      <th>15839</th>\n",
       "      <td>19599</td>\n",
       "      <td>330</td>\n",
       "      <td>0.0</td>\n",
       "      <td>0.050590</td>\n",
       "      <td>0.050590</td>\n",
       "      <td>0.638</td>\n",
       "      <td>0.0</td>\n",
       "      <td>0</td>\n",
       "      <td>0</td>\n",
       "      <td>0</td>\n",
       "      <td>0</td>\n",
       "      <td>0</td>\n",
       "      <td>0</td>\n",
       "    </tr>\n",
       "  </tbody>\n",
       "</table>\n",
       "<p>15840 rows × 13 columns</p>\n",
       "</div>"
      ],
      "text/plain": [
       "       index  days   p2        p3        p4     p5   p6  target_Asian  \\\n",
       "0          0     1  0.0  0.000000  0.000000  0.000  0.0             0   \n",
       "1          1     2  0.0  0.000000  0.000000  0.000  0.0             0   \n",
       "2          2     3  0.0  0.000000  0.000000  0.000  0.0             0   \n",
       "3          3     4  0.0  0.000000  0.000000  0.000  0.0             0   \n",
       "4          4     5  0.0  0.000000  0.000000  0.000  0.0             0   \n",
       "...      ...   ...  ...       ...       ...    ...  ...           ...   \n",
       "15835  19595   326  0.0  0.052655  0.052655  0.638  0.0             0   \n",
       "15836  19596   327  0.0  0.052131  0.052131  0.638  0.0             0   \n",
       "15837  19597   328  0.0  0.051612  0.051612  0.638  0.0             0   \n",
       "15838  19598   329  0.0  0.051098  0.051098  0.638  0.0             0   \n",
       "15839  19599   330  0.0  0.050590  0.050590  0.638  0.0             0   \n",
       "\n",
       "       target_AIAN  target_Black  target_White  target_Other  target_NHPI  \n",
       "0                0             0             0             0            0  \n",
       "1                0             0             0             0            0  \n",
       "2                0             0             0             0            0  \n",
       "3                0             0             0             0            0  \n",
       "4                0             0             0             0            0  \n",
       "...            ...           ...           ...           ...          ...  \n",
       "15835            0             0             0             0            0  \n",
       "15836            0             0             0             0            0  \n",
       "15837            0             0             0             0            0  \n",
       "15838            0             0             0             0            0  \n",
       "15839            0             0             0             0            0  \n",
       "\n",
       "[15840 rows x 13 columns]"
      ]
     },
     "execution_count": 611,
     "metadata": {},
     "output_type": "execute_result"
    }
   ],
   "source": [
    "final_race_data = pd.concat([policy_data_update_copy,target_data],axis=1)\n",
    "final_race_data"
   ]
  },
  {
   "cell_type": "code",
   "execution_count": 612,
   "metadata": {},
   "outputs": [
    {
     "data": {
      "text/html": [
       "<div>\n",
       "<style scoped>\n",
       "    .dataframe tbody tr th:only-of-type {\n",
       "        vertical-align: middle;\n",
       "    }\n",
       "\n",
       "    .dataframe tbody tr th {\n",
       "        vertical-align: top;\n",
       "    }\n",
       "\n",
       "    .dataframe thead th {\n",
       "        text-align: right;\n",
       "    }\n",
       "</style>\n",
       "<table border=\"1\" class=\"dataframe\">\n",
       "  <thead>\n",
       "    <tr style=\"text-align: right;\">\n",
       "      <th></th>\n",
       "      <th>p2</th>\n",
       "      <th>p3</th>\n",
       "      <th>p4</th>\n",
       "      <th>p5</th>\n",
       "      <th>p6</th>\n",
       "      <th>target_Asian</th>\n",
       "      <th>target_AIAN</th>\n",
       "      <th>target_Black</th>\n",
       "      <th>target_White</th>\n",
       "      <th>target_Other</th>\n",
       "      <th>target_NHPI</th>\n",
       "    </tr>\n",
       "  </thead>\n",
       "  <tbody>\n",
       "    <tr>\n",
       "      <th>0</th>\n",
       "      <td>0.0</td>\n",
       "      <td>0.000000</td>\n",
       "      <td>0.000000</td>\n",
       "      <td>0.000</td>\n",
       "      <td>0.0</td>\n",
       "      <td>0</td>\n",
       "      <td>0</td>\n",
       "      <td>0</td>\n",
       "      <td>0</td>\n",
       "      <td>0</td>\n",
       "      <td>0</td>\n",
       "    </tr>\n",
       "    <tr>\n",
       "      <th>1</th>\n",
       "      <td>0.0</td>\n",
       "      <td>0.000000</td>\n",
       "      <td>0.000000</td>\n",
       "      <td>0.000</td>\n",
       "      <td>0.0</td>\n",
       "      <td>0</td>\n",
       "      <td>0</td>\n",
       "      <td>0</td>\n",
       "      <td>0</td>\n",
       "      <td>0</td>\n",
       "      <td>0</td>\n",
       "    </tr>\n",
       "    <tr>\n",
       "      <th>2</th>\n",
       "      <td>0.0</td>\n",
       "      <td>0.000000</td>\n",
       "      <td>0.000000</td>\n",
       "      <td>0.000</td>\n",
       "      <td>0.0</td>\n",
       "      <td>0</td>\n",
       "      <td>0</td>\n",
       "      <td>0</td>\n",
       "      <td>0</td>\n",
       "      <td>0</td>\n",
       "      <td>0</td>\n",
       "    </tr>\n",
       "    <tr>\n",
       "      <th>3</th>\n",
       "      <td>0.0</td>\n",
       "      <td>0.000000</td>\n",
       "      <td>0.000000</td>\n",
       "      <td>0.000</td>\n",
       "      <td>0.0</td>\n",
       "      <td>0</td>\n",
       "      <td>0</td>\n",
       "      <td>0</td>\n",
       "      <td>0</td>\n",
       "      <td>0</td>\n",
       "      <td>0</td>\n",
       "    </tr>\n",
       "    <tr>\n",
       "      <th>4</th>\n",
       "      <td>0.0</td>\n",
       "      <td>0.000000</td>\n",
       "      <td>0.000000</td>\n",
       "      <td>0.000</td>\n",
       "      <td>0.0</td>\n",
       "      <td>0</td>\n",
       "      <td>0</td>\n",
       "      <td>0</td>\n",
       "      <td>0</td>\n",
       "      <td>0</td>\n",
       "      <td>0</td>\n",
       "    </tr>\n",
       "    <tr>\n",
       "      <th>...</th>\n",
       "      <td>...</td>\n",
       "      <td>...</td>\n",
       "      <td>...</td>\n",
       "      <td>...</td>\n",
       "      <td>...</td>\n",
       "      <td>...</td>\n",
       "      <td>...</td>\n",
       "      <td>...</td>\n",
       "      <td>...</td>\n",
       "      <td>...</td>\n",
       "      <td>...</td>\n",
       "    </tr>\n",
       "    <tr>\n",
       "      <th>15835</th>\n",
       "      <td>0.0</td>\n",
       "      <td>0.052655</td>\n",
       "      <td>0.052655</td>\n",
       "      <td>0.638</td>\n",
       "      <td>0.0</td>\n",
       "      <td>0</td>\n",
       "      <td>0</td>\n",
       "      <td>0</td>\n",
       "      <td>0</td>\n",
       "      <td>0</td>\n",
       "      <td>0</td>\n",
       "    </tr>\n",
       "    <tr>\n",
       "      <th>15836</th>\n",
       "      <td>0.0</td>\n",
       "      <td>0.052131</td>\n",
       "      <td>0.052131</td>\n",
       "      <td>0.638</td>\n",
       "      <td>0.0</td>\n",
       "      <td>0</td>\n",
       "      <td>0</td>\n",
       "      <td>0</td>\n",
       "      <td>0</td>\n",
       "      <td>0</td>\n",
       "      <td>0</td>\n",
       "    </tr>\n",
       "    <tr>\n",
       "      <th>15837</th>\n",
       "      <td>0.0</td>\n",
       "      <td>0.051612</td>\n",
       "      <td>0.051612</td>\n",
       "      <td>0.638</td>\n",
       "      <td>0.0</td>\n",
       "      <td>0</td>\n",
       "      <td>0</td>\n",
       "      <td>0</td>\n",
       "      <td>0</td>\n",
       "      <td>0</td>\n",
       "      <td>0</td>\n",
       "    </tr>\n",
       "    <tr>\n",
       "      <th>15838</th>\n",
       "      <td>0.0</td>\n",
       "      <td>0.051098</td>\n",
       "      <td>0.051098</td>\n",
       "      <td>0.638</td>\n",
       "      <td>0.0</td>\n",
       "      <td>0</td>\n",
       "      <td>0</td>\n",
       "      <td>0</td>\n",
       "      <td>0</td>\n",
       "      <td>0</td>\n",
       "      <td>0</td>\n",
       "    </tr>\n",
       "    <tr>\n",
       "      <th>15839</th>\n",
       "      <td>0.0</td>\n",
       "      <td>0.050590</td>\n",
       "      <td>0.050590</td>\n",
       "      <td>0.638</td>\n",
       "      <td>0.0</td>\n",
       "      <td>0</td>\n",
       "      <td>0</td>\n",
       "      <td>0</td>\n",
       "      <td>0</td>\n",
       "      <td>0</td>\n",
       "      <td>0</td>\n",
       "    </tr>\n",
       "  </tbody>\n",
       "</table>\n",
       "<p>15840 rows × 11 columns</p>\n",
       "</div>"
      ],
      "text/plain": [
       "        p2        p3        p4     p5   p6  target_Asian  target_AIAN  \\\n",
       "0      0.0  0.000000  0.000000  0.000  0.0             0            0   \n",
       "1      0.0  0.000000  0.000000  0.000  0.0             0            0   \n",
       "2      0.0  0.000000  0.000000  0.000  0.0             0            0   \n",
       "3      0.0  0.000000  0.000000  0.000  0.0             0            0   \n",
       "4      0.0  0.000000  0.000000  0.000  0.0             0            0   \n",
       "...    ...       ...       ...    ...  ...           ...          ...   \n",
       "15835  0.0  0.052655  0.052655  0.638  0.0             0            0   \n",
       "15836  0.0  0.052131  0.052131  0.638  0.0             0            0   \n",
       "15837  0.0  0.051612  0.051612  0.638  0.0             0            0   \n",
       "15838  0.0  0.051098  0.051098  0.638  0.0             0            0   \n",
       "15839  0.0  0.050590  0.050590  0.638  0.0             0            0   \n",
       "\n",
       "       target_Black  target_White  target_Other  target_NHPI  \n",
       "0                 0             0             0            0  \n",
       "1                 0             0             0            0  \n",
       "2                 0             0             0            0  \n",
       "3                 0             0             0            0  \n",
       "4                 0             0             0            0  \n",
       "...             ...           ...           ...          ...  \n",
       "15835             0             0             0            0  \n",
       "15836             0             0             0            0  \n",
       "15837             0             0             0            0  \n",
       "15838             0             0             0            0  \n",
       "15839             0             0             0            0  \n",
       "\n",
       "[15840 rows x 11 columns]"
      ]
     },
     "execution_count": 612,
     "metadata": {},
     "output_type": "execute_result"
    }
   ],
   "source": [
    "final_race_data=final_race_data.drop([\"index\",\"days\"],axis=1)\n",
    "final_race_data"
   ]
  },
  {
   "cell_type": "code",
   "execution_count": 614,
   "metadata": {},
   "outputs": [],
   "source": [
    "# final_race_data.to_csv(\"Combined_Final_Race_data.csv\")"
   ]
  },
  {
   "cell_type": "markdown",
   "metadata": {},
   "source": [
    "# RACES"
   ]
  },
  {
   "cell_type": "markdown",
   "metadata": {},
   "source": [
    "## Race"
   ]
  },
  {
   "cell_type": "code",
   "execution_count": 615,
   "metadata": {},
   "outputs": [
    {
     "data": {
      "text/plain": [
       "(1058, 14782)"
      ]
     },
     "execution_count": 615,
     "metadata": {},
     "output_type": "execute_result"
    }
   ],
   "source": [
    "positive_asian_data = final_race_data[final_race_data.target_Asian == 1]\n",
    "negative_asian_data = final_race_data[final_race_data.target_Asian == 0]\n",
    "len(positive_asian_data),len(negative_asian_data) # 2144"
   ]
  },
  {
   "cell_type": "code",
   "execution_count": 669,
   "metadata": {},
   "outputs": [
    {
     "data": {
      "text/html": [
       "<div>\n",
       "<style scoped>\n",
       "    .dataframe tbody tr th:only-of-type {\n",
       "        vertical-align: middle;\n",
       "    }\n",
       "\n",
       "    .dataframe tbody tr th {\n",
       "        vertical-align: top;\n",
       "    }\n",
       "\n",
       "    .dataframe thead th {\n",
       "        text-align: right;\n",
       "    }\n",
       "</style>\n",
       "<table border=\"1\" class=\"dataframe\">\n",
       "  <thead>\n",
       "    <tr style=\"text-align: right;\">\n",
       "      <th></th>\n",
       "      <th>p2</th>\n",
       "      <th>p3</th>\n",
       "      <th>p4</th>\n",
       "      <th>p5</th>\n",
       "      <th>p6</th>\n",
       "    </tr>\n",
       "  </thead>\n",
       "  <tbody>\n",
       "    <tr>\n",
       "      <th>257</th>\n",
       "      <td>0.090269</td>\n",
       "      <td>0.091701</td>\n",
       "      <td>0.090269</td>\n",
       "      <td>0.560</td>\n",
       "      <td>0.0</td>\n",
       "    </tr>\n",
       "    <tr>\n",
       "      <th>279</th>\n",
       "      <td>0.072442</td>\n",
       "      <td>0.073591</td>\n",
       "      <td>0.072442</td>\n",
       "      <td>0.648</td>\n",
       "      <td>0.0</td>\n",
       "    </tr>\n",
       "    <tr>\n",
       "      <th>280</th>\n",
       "      <td>0.071721</td>\n",
       "      <td>0.072859</td>\n",
       "      <td>0.071721</td>\n",
       "      <td>0.648</td>\n",
       "      <td>0.0</td>\n",
       "    </tr>\n",
       "    <tr>\n",
       "      <th>281</th>\n",
       "      <td>0.071008</td>\n",
       "      <td>0.072134</td>\n",
       "      <td>0.071008</td>\n",
       "      <td>0.648</td>\n",
       "      <td>0.0</td>\n",
       "    </tr>\n",
       "    <tr>\n",
       "      <th>300</th>\n",
       "      <td>0.058721</td>\n",
       "      <td>0.059652</td>\n",
       "      <td>0.058721</td>\n",
       "      <td>0.624</td>\n",
       "      <td>0.0</td>\n",
       "    </tr>\n",
       "    <tr>\n",
       "      <th>...</th>\n",
       "      <td>...</td>\n",
       "      <td>...</td>\n",
       "      <td>...</td>\n",
       "      <td>...</td>\n",
       "      <td>...</td>\n",
       "    </tr>\n",
       "    <tr>\n",
       "      <th>15495</th>\n",
       "      <td>0.052639</td>\n",
       "      <td>0.052639</td>\n",
       "      <td>0.051597</td>\n",
       "      <td>0.612</td>\n",
       "      <td>0.0</td>\n",
       "    </tr>\n",
       "    <tr>\n",
       "      <th>15496</th>\n",
       "      <td>0.052115</td>\n",
       "      <td>0.052115</td>\n",
       "      <td>0.051083</td>\n",
       "      <td>0.612</td>\n",
       "      <td>0.0</td>\n",
       "    </tr>\n",
       "    <tr>\n",
       "      <th>15501</th>\n",
       "      <td>0.049574</td>\n",
       "      <td>0.049574</td>\n",
       "      <td>0.048592</td>\n",
       "      <td>0.612</td>\n",
       "      <td>0.0</td>\n",
       "    </tr>\n",
       "    <tr>\n",
       "      <th>15502</th>\n",
       "      <td>0.049080</td>\n",
       "      <td>0.049080</td>\n",
       "      <td>0.048109</td>\n",
       "      <td>0.612</td>\n",
       "      <td>0.0</td>\n",
       "    </tr>\n",
       "    <tr>\n",
       "      <th>15503</th>\n",
       "      <td>0.048592</td>\n",
       "      <td>0.048592</td>\n",
       "      <td>0.047630</td>\n",
       "      <td>0.612</td>\n",
       "      <td>0.0</td>\n",
       "    </tr>\n",
       "  </tbody>\n",
       "</table>\n",
       "<p>1058 rows × 5 columns</p>\n",
       "</div>"
      ],
      "text/plain": [
       "             p2        p3        p4     p5   p6\n",
       "257    0.090269  0.091701  0.090269  0.560  0.0\n",
       "279    0.072442  0.073591  0.072442  0.648  0.0\n",
       "280    0.071721  0.072859  0.071721  0.648  0.0\n",
       "281    0.071008  0.072134  0.071008  0.648  0.0\n",
       "300    0.058721  0.059652  0.058721  0.624  0.0\n",
       "...         ...       ...       ...    ...  ...\n",
       "15495  0.052639  0.052639  0.051597  0.612  0.0\n",
       "15496  0.052115  0.052115  0.051083  0.612  0.0\n",
       "15501  0.049574  0.049574  0.048592  0.612  0.0\n",
       "15502  0.049080  0.049080  0.048109  0.612  0.0\n",
       "15503  0.048592  0.048592  0.047630  0.612  0.0\n",
       "\n",
       "[1058 rows x 5 columns]"
      ]
     },
     "execution_count": 669,
     "metadata": {},
     "output_type": "execute_result"
    }
   ],
   "source": [
    "positive_asian_data.iloc[:,:5]"
   ]
  },
  {
   "cell_type": "markdown",
   "metadata": {},
   "source": [
    "### Asian Model"
   ]
  },
  {
   "cell_type": "code",
   "execution_count": 618,
   "metadata": {},
   "outputs": [],
   "source": [
    "from sklearn.model_selection import train_test_split\n",
    "from sklearn.linear_model import LogisticRegression\n",
    "from sklearn.model_selection import cross_val_score\n",
    "from sklearn.model_selection import RepeatedStratifiedKFold\n",
    "from sklearn.utils import shuffle\n",
    "from sklearn.metrics import classification_report, confusion_matrix"
   ]
  },
  {
   "cell_type": "code",
   "execution_count": 619,
   "metadata": {},
   "outputs": [],
   "source": [
    "import random\n",
    "random.seed(0)"
   ]
  },
  {
   "cell_type": "code",
   "execution_count": 622,
   "metadata": {},
   "outputs": [],
   "source": [
    "x_asian = positive_asian_data\n",
    "x_asian_1200 = shuffle(negative_asian_data,random_state=0).sample(1200)\n",
    "x_asian = x_asian.append(x_asian_1200,ignore_index=True)\n",
    "x_asian = shuffle(x_asian,random_state=0)\n",
    "\n",
    "X_asian = x_asian.iloc[:,:5]\n",
    "y_asian = x_asian.target_Asian\n",
    "\n",
    "x_asian_train,x_asian_test,y_asian_train,y_asian_test = train_test_split(X_asian,y_asian,test_size=0.3,random_state=0)\n"
   ]
  },
  {
   "cell_type": "markdown",
   "metadata": {},
   "source": [
    "#### Logistic Model"
   ]
  },
  {
   "cell_type": "code",
   "execution_count": 623,
   "metadata": {},
   "outputs": [
    {
     "name": "stdout",
     "output_type": "stream",
     "text": [
      "              precision    recall  f1-score   support\n",
      "\n",
      "           0       0.70      0.61      0.65       368\n",
      "           1       0.60      0.68      0.64       310\n",
      "\n",
      "    accuracy                           0.64       678\n",
      "   macro avg       0.65      0.65      0.64       678\n",
      "weighted avg       0.65      0.64      0.65       678\n",
      "\n",
      "[ 0.67313983 -3.1657798   0.65057251  0.78221745 -1.3022636 ]\n"
     ]
    },
    {
     "data": {
      "text/plain": [
       "Text(0.5, 1.0, ' LR Policy Impact')"
      ]
     },
     "execution_count": 623,
     "metadata": {},
     "output_type": "execute_result"
    },
    {
     "data": {
      "image/png": "[encoded data removed]",
      "text/plain": [
       "<Figure size 432x288 with 1 Axes>"
      ]
     },
     "metadata": {
      "needs_background": "light"
     },
     "output_type": "display_data"
    }
   ],
   "source": [
    "model_asian = LogisticRegression()\n",
    "model_asian.fit(x_asian_train,y_asian_train)\n",
    "model_asian_prob= model_asian.predict_proba(x_asian_test)\n",
    "pred_asian_lr = model_asian.predict(x_asian_test)\n",
    "cm = confusion_matrix(y_asian_test, pred_asian_lr)\n",
    "\n",
    "# fig, ax = plt.subplots()\n",
    "# ax.imshow(cm)\n",
    "# ax.grid(False)\n",
    "# ax.xaxis.set(ticks=(0, 1), ticklabels=('Predicted 0s', 'Predicted 1s'))\n",
    "# ax.yaxis.set(ticks=(0, 1), ticklabels=('Actual 0s', 'Actual 1s'))\n",
    "# ax.set_ylim(1.5, -0.5)\n",
    "# for i in range(2):\n",
    "    # for j in range(2):\n",
    "        # ax.text(j, i, cm[i, j], ha='center', va='center', color='red')\n",
    "# plt.show()\n",
    "\n",
    "print(classification_report(y_asian_test, pred_asian_lr))\n",
    "\n",
    "importance = model_asian.coef_[0]\n",
    "print(importance)\n",
    "\n",
    "plt.bar([x for x in x_asian.columns[:5]],importance)\n",
    "# plt.ylim().\n",
    "plt.title(\" LR Policy Impact\")"
   ]
  },
  {
   "cell_type": "markdown",
   "metadata": {},
   "source": [
    "### Random Forest"
   ]
  },
  {
   "cell_type": "code",
   "execution_count": 624,
   "metadata": {},
   "outputs": [],
   "source": [
    "from sklearn.ensemble import RandomForestClassifier\n",
    "from sklearn.metrics import accuracy_score, confusion_matrix, classification_report\n",
    "from sklearn.utils import shuffle\n",
    "from sklearn.model_selection import train_test_split"
   ]
  },
  {
   "cell_type": "code",
   "execution_count": 626,
   "metadata": {},
   "outputs": [
    {
     "name": "stdout",
     "output_type": "stream",
     "text": [
      "              precision    recall  f1-score   support\n",
      "\n",
      "           0       0.84      0.81      0.82       368\n",
      "           1       0.78      0.82      0.80       310\n",
      "\n",
      "    accuracy                           0.81       678\n",
      "   macro avg       0.81      0.81      0.81       678\n",
      "weighted avg       0.82      0.81      0.81       678\n",
      "\n"
     ]
    },
    {
     "data": {
      "text/plain": [
       "Text(0.5, 1.0, 'RF Policy Impact')"
      ]
     },
     "execution_count": 626,
     "metadata": {},
     "output_type": "execute_result"
    },
    {
     "data": {
      "image/png": "[encoded data removed]",
      "text/plain": [
       "<Figure size 432x288 with 1 Axes>"
      ]
     },
     "metadata": {
      "needs_background": "light"
     },
     "output_type": "display_data"
    }
   ],
   "source": [
    "clf_asian = RandomForestClassifier(n_estimators = 300,max_depth=25,criterion='entropy',\n",
    "            n_jobs=-1, oob_score=True,random_state = 0).fit(x_asian_train, y_asian_train)\n",
    "\n",
    "y_pred_asian=clf_asian.predict(x_asian_test)\n",
    "y_prob_asian = clf_asian.predict_proba(x_asian_test)\n",
    "print(classification_report(y_asian_test, y_pred_asian))\n",
    "plt.bar(x_asian.columns[:5],clf_asian.feature_importances_)\n",
    "# plt.ylim(0.14)\n",
    "plt.title(\"RF Policy Impact\")"
   ]
  },
  {
   "cell_type": "code",
   "execution_count": 627,
   "metadata": {},
   "outputs": [
    {
     "data": {
      "text/plain": [
       "array([0.22481158, 0.26507748, 0.28231575, 0.14957137, 0.07822382])"
      ]
     },
     "execution_count": 627,
     "metadata": {},
     "output_type": "execute_result"
    }
   ],
   "source": [
    "clf_asian.feature_importances_"
   ]
  },
  {
   "cell_type": "code",
   "execution_count": null,
   "metadata": {},
   "outputs": [
    {
     "data": {
      "text/plain": [
       "{'bootstrap': True,\n",
       " 'ccp_alpha': 0.0,\n",
       " 'class_weight': None,\n",
       " 'criterion': 'entropy',\n",
       " 'max_depth': 30,\n",
       " 'max_features': 'auto',\n",
       " 'max_leaf_nodes': None,\n",
       " 'max_samples': None,\n",
       " 'min_impurity_decrease': 0.0,\n",
       " 'min_impurity_split': None,\n",
       " 'min_samples_leaf': 1,\n",
       " 'min_samples_split': 2,\n",
       " 'min_weight_fraction_leaf': 0.0,\n",
       " 'n_estimators': 500,\n",
       " 'n_jobs': -1,\n",
       " 'oob_score': True,\n",
       " 'random_state': 0,\n",
       " 'verbose': 0,\n",
       " 'warm_start': False}"
      ]
     },
     "execution_count": 47,
     "metadata": {},
     "output_type": "execute_result"
    }
   ],
   "source": [
    "clf_asian.get_params()"
   ]
  },
  {
   "cell_type": "markdown",
   "metadata": {},
   "source": [
    "### Gradient Boosting"
   ]
  },
  {
   "cell_type": "code",
   "execution_count": 628,
   "metadata": {},
   "outputs": [],
   "source": [
    "from sklearn.ensemble import GradientBoostingClassifier\n",
    "from sklearn.model_selection import KFold"
   ]
  },
  {
   "cell_type": "code",
   "execution_count": 630,
   "metadata": {},
   "outputs": [],
   "source": [
    "gbc_asian = GradientBoostingClassifier(n_estimators=1000,max_depth=15,random_state=0)\n",
    "gbc_asian.fit(x_asian_train,y_asian_train)\n",
    "pred_gbc_asian= gbc_asian.predict(x_asian_test)\n"
   ]
  },
  {
   "cell_type": "code",
   "execution_count": 631,
   "metadata": {},
   "outputs": [
    {
     "name": "stdout",
     "output_type": "stream",
     "text": [
      "              precision    recall  f1-score   support\n",
      "\n",
      "           0       0.82      0.82      0.82       368\n",
      "           1       0.79      0.79      0.79       310\n",
      "\n",
      "    accuracy                           0.81       678\n",
      "   macro avg       0.81      0.81      0.81       678\n",
      "weighted avg       0.81      0.81      0.81       678\n",
      "\n"
     ]
    }
   ],
   "source": [
    "print(classification_report(y_asian_test,pred_gbc_asian))"
   ]
  },
  {
   "cell_type": "code",
   "execution_count": 632,
   "metadata": {},
   "outputs": [
    {
     "data": {
      "text/plain": [
       "Text(0.5, 1.0, 'GBC Policy Impact')"
      ]
     },
     "execution_count": 632,
     "metadata": {},
     "output_type": "execute_result"
    },
    {
     "data": {
      "image/png": "[encoded data removed]",
      "text/plain": [
       "<Figure size 432x288 with 1 Axes>"
      ]
     },
     "metadata": {
      "needs_background": "light"
     },
     "output_type": "display_data"
    }
   ],
   "source": [
    "\n",
    "plt.bar(x_asian.columns[:5],gbc_asian.feature_importances_)\n",
    "# plt.ylim(0.14)\n",
    "plt.title(\"GBC Policy Impact\")"
   ]
  },
  {
   "cell_type": "code",
   "execution_count": null,
   "metadata": {},
   "outputs": [
    {
     "data": {
      "text/plain": [
       "{'ccp_alpha': 0.0,\n",
       " 'criterion': 'friedman_mse',\n",
       " 'init': None,\n",
       " 'learning_rate': 0.1,\n",
       " 'loss': 'deviance',\n",
       " 'max_depth': 15,\n",
       " 'max_features': None,\n",
       " 'max_leaf_nodes': None,\n",
       " 'min_impurity_decrease': 0.0,\n",
       " 'min_impurity_split': None,\n",
       " 'min_samples_leaf': 1,\n",
       " 'min_samples_split': 2,\n",
       " 'min_weight_fraction_leaf': 0.0,\n",
       " 'n_estimators': 800,\n",
       " 'n_iter_no_change': None,\n",
       " 'random_state': None,\n",
       " 'subsample': 1.0,\n",
       " 'tol': 0.0001,\n",
       " 'validation_fraction': 0.1,\n",
       " 'verbose': 0,\n",
       " 'warm_start': False}"
      ]
     },
     "execution_count": 23,
     "metadata": {},
     "output_type": "execute_result"
    }
   ],
   "source": [
    "gbc_asian.get_params()"
   ]
  },
  {
   "cell_type": "markdown",
   "metadata": {},
   "source": [
    "### BLACK RACE"
   ]
  },
  {
   "cell_type": "code",
   "execution_count": 633,
   "metadata": {},
   "outputs": [],
   "source": [
    "positive_black_data = final_race_data[final_race_data.target_Black == 1]\n",
    "negative_black_data = final_race_data[final_race_data.target_Black == 0]"
   ]
  },
  {
   "cell_type": "code",
   "execution_count": 634,
   "metadata": {},
   "outputs": [
    {
     "data": {
      "text/plain": [
       "(2465, 13375)"
      ]
     },
     "execution_count": 634,
     "metadata": {},
     "output_type": "execute_result"
    }
   ],
   "source": [
    "len(positive_black_data),len(negative_black_data) # "
   ]
  },
  {
   "cell_type": "code",
   "execution_count": 635,
   "metadata": {},
   "outputs": [],
   "source": [
    "x_black = positive_black_data\n",
    "x_black_2565 = shuffle(negative_black_data,random_state=0).sample(2565)\n",
    "x_black = x_black.append(x_black_2565,ignore_index=True)\n",
    "x_black = shuffle(x_black,random_state=0)\n",
    "\n",
    "X_black = x_black.iloc[:,:5]\n",
    "y_black = x_black.target_Black\n",
    "\n",
    "x_black_train,x_black_test,y_black_train,y_black_test = train_test_split(X_black,y_black,test_size=0.3,random_state=0)"
   ]
  },
  {
   "cell_type": "markdown",
   "metadata": {},
   "source": [
    "#### LR"
   ]
  },
  {
   "cell_type": "code",
   "execution_count": 636,
   "metadata": {},
   "outputs": [
    {
     "name": "stdout",
     "output_type": "stream",
     "text": [
      "              precision    recall  f1-score   support\n",
      "\n",
      "           0       0.57      0.62      0.59       744\n",
      "           1       0.59      0.54      0.57       765\n",
      "\n",
      "    accuracy                           0.58      1509\n",
      "   macro avg       0.58      0.58      0.58      1509\n",
      "weighted avg       0.58      0.58      0.58      1509\n",
      "\n",
      "[ 0.65299522 -1.81470557  1.29307555  1.01895372 -0.76114082]\n"
     ]
    },
    {
     "data": {
      "text/plain": [
       "Text(0.5, 1.0, ' LR Policy Impact')"
      ]
     },
     "execution_count": 636,
     "metadata": {},
     "output_type": "execute_result"
    },
    {
     "data": {
      "image/png": "[encoded data removed]",
      "text/plain": [
       "<Figure size 432x288 with 1 Axes>"
      ]
     },
     "metadata": {
      "needs_background": "light"
     },
     "output_type": "display_data"
    }
   ],
   "source": [
    "model_black = LogisticRegression()\n",
    "model_black.fit(x_black_train,y_black_train)\n",
    "model_black_prob= model_black.predict_proba(x_black_test)\n",
    "pred_black_lr = model_black.predict(x_black_test)\n",
    "cm = confusion_matrix(y_black_test, pred_black_lr)\n",
    "\n",
    "# fig, ax = plt.subplots()\n",
    "# ax.imshow(cm)\n",
    "# ax.grid(False)\n",
    "# ax.xaxis.set(ticks=(0, 1), ticklabels=('Predicted 0s', 'Predicted 1s'))\n",
    "# ax.yaxis.set(ticks=(0, 1), ticklabels=('Actual 0s', 'Actual 1s'))\n",
    "# ax.set_ylim(1.5, -0.5)\n",
    "# for i in range(2):\n",
    "    # for j in range(2):\n",
    "        # ax.text(j, i, cm[i, j], ha='center', va='center', color='red')\n",
    "# plt.show()\n",
    "\n",
    "print(classification_report(y_black_test, pred_black_lr))\n",
    "\n",
    "importance = model_black.coef_[0]\n",
    "print(importance)\n",
    "\n",
    "plt.bar([x for x in x_asian.columns[:5]],importance)\n",
    "# plt.ylim().\n",
    "plt.title(\" LR Policy Impact\")"
   ]
  },
  {
   "cell_type": "markdown",
   "metadata": {},
   "source": [
    "#### RF"
   ]
  },
  {
   "cell_type": "code",
   "execution_count": 638,
   "metadata": {},
   "outputs": [
    {
     "name": "stdout",
     "output_type": "stream",
     "text": [
      "              precision    recall  f1-score   support\n",
      "\n",
      "           0       0.78      0.77      0.78       744\n",
      "           1       0.78      0.79      0.78       765\n",
      "\n",
      "    accuracy                           0.78      1509\n",
      "   macro avg       0.78      0.78      0.78      1509\n",
      "weighted avg       0.78      0.78      0.78      1509\n",
      "\n"
     ]
    },
    {
     "data": {
      "text/plain": [
       "Text(0.5, 1.0, 'RF Policy Impact')"
      ]
     },
     "execution_count": 638,
     "metadata": {},
     "output_type": "execute_result"
    },
    {
     "data": {
      "image/png": "[encoded data removed]",
      "text/plain": [
       "<Figure size 432x288 with 1 Axes>"
      ]
     },
     "metadata": {
      "needs_background": "light"
     },
     "output_type": "display_data"
    }
   ],
   "source": [
    "clf_black = RandomForestClassifier(n_estimators = 300,max_depth=25,criterion='entropy',\n",
    "n_jobs=-1, oob_score=True,random_state = 0).fit(x_black_train, y_black_train)\n",
    "\n",
    "y_pred_black=clf_black.predict(x_black_test)\n",
    "y_prob_black = clf_black.predict_proba(x_black_test)\n",
    "print(classification_report(y_black_test, y_pred_black))\n",
    "plt.bar(x_asian.columns[:5],clf_black.feature_importances_)\n",
    "# plt.ylim(0.14)\n",
    "plt.title(\"RF Policy Impact\")"
   ]
  },
  {
   "cell_type": "markdown",
   "metadata": {},
   "source": [
    "#### GB"
   ]
  },
  {
   "cell_type": "code",
   "execution_count": 639,
   "metadata": {},
   "outputs": [
    {
     "name": "stdout",
     "output_type": "stream",
     "text": [
      "              precision    recall  f1-score   support\n",
      "\n",
      "           0       0.78      0.79      0.79       744\n",
      "           1       0.79      0.78      0.79       765\n",
      "\n",
      "    accuracy                           0.79      1509\n",
      "   macro avg       0.79      0.79      0.79      1509\n",
      "weighted avg       0.79      0.79      0.79      1509\n",
      "\n"
     ]
    },
    {
     "data": {
      "text/plain": [
       "Text(0.5, 1.0, 'GBC Policy Impact')"
      ]
     },
     "execution_count": 639,
     "metadata": {},
     "output_type": "execute_result"
    },
    {
     "data": {
      "image/png": "[encoded data removed]",
      "text/plain": [
       "<Figure size 432x288 with 1 Axes>"
      ]
     },
     "metadata": {
      "needs_background": "light"
     },
     "output_type": "display_data"
    }
   ],
   "source": [
    "gbc_black = GradientBoostingClassifier(n_estimators=1000,max_depth=15,random_state=0)\n",
    "gbc_black.fit(x_black_train,y_black_train)\n",
    "pred_gbc_black= gbc_black.predict(x_black_test)\n",
    "print(classification_report(y_black_test,pred_gbc_black))\n",
    "plt.bar(x_asian.columns[:5],gbc_black.feature_importances_)\n",
    "# plt.ylim(0.14)\n",
    "plt.title(\"GBC Policy Impact\")"
   ]
  },
  {
   "cell_type": "code",
   "execution_count": null,
   "metadata": {},
   "outputs": [],
   "source": []
  },
  {
   "cell_type": "markdown",
   "metadata": {},
   "source": [
    "### White RAce"
   ]
  },
  {
   "cell_type": "code",
   "execution_count": 640,
   "metadata": {},
   "outputs": [
    {
     "data": {
      "text/plain": [
       "(3295, 12545)"
      ]
     },
     "execution_count": 640,
     "metadata": {},
     "output_type": "execute_result"
    }
   ],
   "source": [
    "positive_white_data = final_race_data[final_race_data.target_White == 1]\n",
    "negative_white_data = final_race_data[final_race_data.target_White == 0]\n",
    "len(positive_white_data),len(negative_white_data) # 2144"
   ]
  },
  {
   "cell_type": "code",
   "execution_count": 641,
   "metadata": {},
   "outputs": [],
   "source": [
    "x_white = positive_white_data\n",
    "x_white_3400 = shuffle(negative_white_data,random_state=0).sample(3400)\n",
    "x_white = x_white.append(x_white_3400,ignore_index=True)\n",
    "x_white = shuffle(x_white,random_state=0)\n",
    "\n",
    "X_white = x_white.iloc[:,:5]\n",
    "y_white = x_white.target_White\n",
    "\n",
    "x_white_train,x_white_test,y_white_train,y_white_test = train_test_split(X_white,y_white,test_size=0.3,random_state=0)"
   ]
  },
  {
   "cell_type": "markdown",
   "metadata": {},
   "source": [
    "#### LR"
   ]
  },
  {
   "cell_type": "code",
   "execution_count": 642,
   "metadata": {},
   "outputs": [
    {
     "name": "stdout",
     "output_type": "stream",
     "text": [
      "              precision    recall  f1-score   support\n",
      "\n",
      "           0       0.63      0.50      0.56      1016\n",
      "           1       0.58      0.69      0.63       993\n",
      "\n",
      "    accuracy                           0.60      2009\n",
      "   macro avg       0.60      0.60      0.59      2009\n",
      "weighted avg       0.60      0.60      0.59      2009\n",
      "\n",
      "[ 0.9471     -3.118467    0.82161728  0.59800931 -0.64780646]\n"
     ]
    },
    {
     "data": {
      "text/plain": [
       "Text(0.5, 1.0, ' LR Policy Impact')"
      ]
     },
     "execution_count": 642,
     "metadata": {},
     "output_type": "execute_result"
    },
    {
     "data": {
      "image/png": "[encoded data removed]",
      "text/plain": [
       "<Figure size 432x288 with 1 Axes>"
      ]
     },
     "metadata": {
      "needs_background": "light"
     },
     "output_type": "display_data"
    }
   ],
   "source": [
    "model_white = LogisticRegression()\n",
    "model_white.fit(x_white_train,y_white_train)\n",
    "model_white_prob= model_white.predict_proba(x_white_test)\n",
    "pred_white_lr = model_white.predict(x_white_test)\n",
    "cm = confusion_matrix(y_white_test, pred_white_lr)\n",
    "\n",
    "# fig, ax = plt.subplots()\n",
    "# ax.imshow(cm)\n",
    "# ax.grid(False)\n",
    "# ax.xaxis.set(ticks=(0, 1), ticklabels=('Predicted 0s', 'Predicted 1s'))\n",
    "# ax.yaxis.set(ticks=(0, 1), ticklabels=('Actual 0s', 'Actual 1s'))\n",
    "# ax.set_ylim(1.5, -0.5)\n",
    "# for i in range(2):\n",
    "    # for j in range(2):\n",
    "        # ax.text(j, i, cm[i, j], ha='center', va='center', color='red')\n",
    "# plt.show()\n",
    "\n",
    "print(classification_report(y_white_test, pred_white_lr))\n",
    "\n",
    "importance = model_white.coef_[0]\n",
    "print(importance)\n",
    "\n",
    "plt.bar([x for x in x_asian.columns[:5]],importance)\n",
    "# plt.ylim().\n",
    "plt.title(\" LR Policy Impact\")"
   ]
  },
  {
   "cell_type": "markdown",
   "metadata": {},
   "source": [
    "#### RF"
   ]
  },
  {
   "cell_type": "code",
   "execution_count": 643,
   "metadata": {},
   "outputs": [
    {
     "name": "stdout",
     "output_type": "stream",
     "text": [
      "              precision    recall  f1-score   support\n",
      "\n",
      "           0       0.82      0.82      0.82      1016\n",
      "           1       0.81      0.82      0.82       993\n",
      "\n",
      "    accuracy                           0.82      2009\n",
      "   macro avg       0.82      0.82      0.82      2009\n",
      "weighted avg       0.82      0.82      0.82      2009\n",
      "\n"
     ]
    },
    {
     "data": {
      "text/plain": [
       "Text(0.5, 1.0, 'RF White Policy Impact')"
      ]
     },
     "execution_count": 643,
     "metadata": {},
     "output_type": "execute_result"
    },
    {
     "data": {
      "image/png": "[encoded data removed]",
      "text/plain": [
       "<Figure size 432x288 with 1 Axes>"
      ]
     },
     "metadata": {
      "needs_background": "light"
     },
     "output_type": "display_data"
    }
   ],
   "source": [
    "clf_white = RandomForestClassifier(n_estimators =300,max_depth=25,criterion='entropy',\n",
    "n_jobs=-1, oob_score=True,random_state = 0).fit(x_white_train, y_white_train)\n",
    "\n",
    "y_pred_white=clf_white.predict(x_white_test)\n",
    "y_prob_white = clf_white.predict_proba(x_white_test)\n",
    "print(classification_report(y_white_test, y_pred_white))\n",
    "plt.bar(x_asian.columns[:5],clf_white.feature_importances_)\n",
    "# plt.ylim(0.14)\n",
    "plt.title(\"RF White Policy Impact\")"
   ]
  },
  {
   "cell_type": "markdown",
   "metadata": {},
   "source": [
    "#### GB"
   ]
  },
  {
   "cell_type": "code",
   "execution_count": 644,
   "metadata": {},
   "outputs": [
    {
     "name": "stdout",
     "output_type": "stream",
     "text": [
      "              precision    recall  f1-score   support\n",
      "\n",
      "           0       0.83      0.81      0.82      1016\n",
      "           1       0.81      0.83      0.82       993\n",
      "\n",
      "    accuracy                           0.82      2009\n",
      "   macro avg       0.82      0.82      0.82      2009\n",
      "weighted avg       0.82      0.82      0.82      2009\n",
      "\n"
     ]
    },
    {
     "data": {
      "text/plain": [
       "Text(0.5, 1.0, 'GBC Policy Impact')"
      ]
     },
     "execution_count": 644,
     "metadata": {},
     "output_type": "execute_result"
    },
    {
     "data": {
      "image/png": "[encoded data removed]",
      "text/plain": [
       "<Figure size 432x288 with 1 Axes>"
      ]
     },
     "metadata": {
      "needs_background": "light"
     },
     "output_type": "display_data"
    }
   ],
   "source": [
    "gbc_white = GradientBoostingClassifier(n_estimators=1000,max_depth=15,random_state=0)\n",
    "gbc_white.fit(x_white_train,y_white_train)\n",
    "pred_gbc_white= gbc_white.predict(x_white_test)\n",
    "print(classification_report(y_white_test,pred_gbc_white))\n",
    "plt.bar(x_asian.columns[:5],gbc_white.feature_importances_)\n",
    "# plt.ylim(0.14)\n",
    "plt.title(\"GBC Policy Impact\")"
   ]
  },
  {
   "cell_type": "markdown",
   "metadata": {},
   "source": [
    "### NHPI"
   ]
  },
  {
   "cell_type": "code",
   "execution_count": 645,
   "metadata": {},
   "outputs": [
    {
     "data": {
      "text/plain": [
       "(179, 15661)"
      ]
     },
     "execution_count": 645,
     "metadata": {},
     "output_type": "execute_result"
    }
   ],
   "source": [
    "positive_nhpi_data = final_race_data[final_race_data.target_NHPI == 1]\n",
    "negative_nhpi_data = final_race_data[final_race_data.target_NHPI == 0]\n",
    "len(positive_nhpi_data),len(negative_nhpi_data) # "
   ]
  },
  {
   "cell_type": "code",
   "execution_count": 646,
   "metadata": {},
   "outputs": [],
   "source": [
    "x_nhpi = positive_nhpi_data\n",
    "x_nhpi_279 = shuffle(negative_nhpi_data,random_state=0).sample(279)\n",
    "x_nhpi = x_nhpi.append(x_nhpi_279,ignore_index=True)\n",
    "x_nhpi = shuffle(x_nhpi,random_state=0)\n",
    "\n",
    "X_nhpi = x_nhpi.iloc[:,:5]\n",
    "y_nhpi = x_nhpi.target_NHPI\n",
    "\n",
    "x_nhpi_train,x_nhpi_test,y_nhpi_train,y_nhpi_test = train_test_split(X_nhpi,y_nhpi,test_size=0.3,random_state=0)"
   ]
  },
  {
   "cell_type": "markdown",
   "metadata": {},
   "source": [
    "#### LR"
   ]
  },
  {
   "cell_type": "code",
   "execution_count": 648,
   "metadata": {},
   "outputs": [
    {
     "name": "stdout",
     "output_type": "stream",
     "text": [
      "              precision    recall  f1-score   support\n",
      "\n",
      "           0       0.75      0.87      0.81        92\n",
      "           1       0.62      0.43      0.51        46\n",
      "\n",
      "    accuracy                           0.72       138\n",
      "   macro avg       0.69      0.65      0.66       138\n",
      "weighted avg       0.71      0.72      0.71       138\n",
      "\n",
      "[ 1.26914898 -0.34225318 -3.59742798 -0.86303041 -1.04244674]\n"
     ]
    },
    {
     "data": {
      "text/plain": [
       "Text(0.5, 1.0, ' LR NHPI Policy Impact')"
      ]
     },
     "execution_count": 648,
     "metadata": {},
     "output_type": "execute_result"
    },
    {
     "data": {
      "image/png": "[encoded data removed]",
      "text/plain": [
       "<Figure size 432x288 with 1 Axes>"
      ]
     },
     "metadata": {
      "needs_background": "light"
     },
     "output_type": "display_data"
    }
   ],
   "source": [
    "model_nhpi = LogisticRegression()\n",
    "model_nhpi.fit(x_nhpi_train,y_nhpi_train)\n",
    "model_nhpi_prob= model_nhpi.predict_proba(x_nhpi_test)\n",
    "pred_nhpi_lr = model_nhpi.predict(x_nhpi_test)\n",
    "cm = confusion_matrix(y_nhpi_test, pred_nhpi_lr)\n",
    "\n",
    "# fig, ax = plt.subplots()\n",
    "# ax.imshow(cm)\n",
    "# ax.grid(False)\n",
    "# ax.xaxis.set(ticks=(0, 1), ticklabels=('Predicted 0s', 'Predicted 1s'))\n",
    "# ax.yaxis.set(ticks=(0, 1), ticklabels=('Actual 0s', 'Actual 1s'))\n",
    "# ax.set_ylim(1.5, -0.5)\n",
    "# for i in range(2):\n",
    "    # for j in range(2):\n",
    "        # ax.text(j, i, cm[i, j], ha='center', va='center', color='red')\n",
    "# plt.show()\n",
    "\n",
    "print(classification_report(y_nhpi_test, pred_nhpi_lr))\n",
    "\n",
    "importance = model_nhpi.coef_[0]\n",
    "print(importance)\n",
    "\n",
    "plt.bar([x for x in x_asian.columns[:5]],importance)\n",
    "# plt.ylim().\n",
    "plt.title(\" LR NHPI Policy Impact\")"
   ]
  },
  {
   "cell_type": "markdown",
   "metadata": {},
   "source": [
    "#### RF"
   ]
  },
  {
   "cell_type": "code",
   "execution_count": 649,
   "metadata": {},
   "outputs": [
    {
     "name": "stdout",
     "output_type": "stream",
     "text": [
      "              precision    recall  f1-score   support\n",
      "\n",
      "           0       0.98      0.89      0.93        92\n",
      "           1       0.81      0.96      0.88        46\n",
      "\n",
      "    accuracy                           0.91       138\n",
      "   macro avg       0.90      0.92      0.91       138\n",
      "weighted avg       0.92      0.91      0.91       138\n",
      "\n"
     ]
    },
    {
     "data": {
      "text/plain": [
       "Text(0.5, 1.0, 'RF Policy Impact')"
      ]
     },
     "execution_count": 649,
     "metadata": {},
     "output_type": "execute_result"
    },
    {
     "data": {
      "image/png": "[encoded data removed]",
      "text/plain": [
       "<Figure size 432x288 with 1 Axes>"
      ]
     },
     "metadata": {
      "needs_background": "light"
     },
     "output_type": "display_data"
    }
   ],
   "source": [
    "clf_nhpi = RandomForestClassifier(n_estimators = 300,max_depth=25,criterion='entropy',\n",
    "n_jobs=-1, oob_score=True,random_state = 0).fit(x_nhpi_train, y_nhpi_train)\n",
    "\n",
    "y_pred_nhpi=clf_nhpi.predict(x_nhpi_test)\n",
    "y_prob_nhpi = clf_nhpi.predict_proba(x_nhpi_test)\n",
    "print(classification_report(y_nhpi_test, y_pred_nhpi))\n",
    "plt.bar(x_asian.columns[:5],clf_nhpi.feature_importances_)\n",
    "# plt.ylim(0.14)\n",
    "plt.title(\"RF Policy Impact\")"
   ]
  },
  {
   "cell_type": "markdown",
   "metadata": {},
   "source": [
    "#### GB"
   ]
  },
  {
   "cell_type": "code",
   "execution_count": 650,
   "metadata": {},
   "outputs": [
    {
     "name": "stdout",
     "output_type": "stream",
     "text": [
      "              precision    recall  f1-score   support\n",
      "\n",
      "           0       0.93      0.88      0.91        92\n",
      "           1       0.78      0.87      0.82        46\n",
      "\n",
      "    accuracy                           0.88       138\n",
      "   macro avg       0.86      0.88      0.86       138\n",
      "weighted avg       0.88      0.88      0.88       138\n",
      "\n"
     ]
    },
    {
     "data": {
      "text/plain": [
       "Text(0.5, 1.0, 'GBC NHPI Policy Impact')"
      ]
     },
     "execution_count": 650,
     "metadata": {},
     "output_type": "execute_result"
    },
    {
     "data": {
      "image/png": "[encoded data removed]",
      "text/plain": [
       "<Figure size 432x288 with 1 Axes>"
      ]
     },
     "metadata": {
      "needs_background": "light"
     },
     "output_type": "display_data"
    }
   ],
   "source": [
    "gbc_nhpi = GradientBoostingClassifier(n_estimators=1000,max_depth=15,random_state=0)\n",
    "gbc_nhpi.fit(x_nhpi_train,y_nhpi_train)\n",
    "pred_gbc_nhpi= gbc_nhpi.predict(x_nhpi_test)\n",
    "print(classification_report(y_nhpi_test,pred_gbc_nhpi))\n",
    "plt.bar(x_asian.columns[:5],gbc_nhpi.feature_importances_)\n",
    "plt.ylim(0.14)\n",
    "plt.title(\"GBC NHPI Policy Impact\")"
   ]
  },
  {
   "cell_type": "code",
   "execution_count": null,
   "metadata": {},
   "outputs": [
    {
     "data": {
      "text/plain": [
       "{'ccp_alpha': 0.0,\n",
       " 'criterion': 'friedman_mse',\n",
       " 'init': None,\n",
       " 'learning_rate': 0.1,\n",
       " 'loss': 'deviance',\n",
       " 'max_depth': 3,\n",
       " 'max_features': None,\n",
       " 'max_leaf_nodes': None,\n",
       " 'min_impurity_decrease': 0.0,\n",
       " 'min_impurity_split': None,\n",
       " 'min_samples_leaf': 1,\n",
       " 'min_samples_split': 2,\n",
       " 'min_weight_fraction_leaf': 0.0,\n",
       " 'n_estimators': 100,\n",
       " 'n_iter_no_change': None,\n",
       " 'random_state': None,\n",
       " 'subsample': 1.0,\n",
       " 'tol': 0.0001,\n",
       " 'validation_fraction': 0.1,\n",
       " 'verbose': 0,\n",
       " 'warm_start': False}"
      ]
     },
     "execution_count": 972,
     "metadata": {},
     "output_type": "execute_result"
    }
   ],
   "source": [
    "gbc_nhpi.get_params()"
   ]
  },
  {
   "cell_type": "markdown",
   "metadata": {},
   "source": [
    "### AIAN"
   ]
  },
  {
   "cell_type": "code",
   "execution_count": 651,
   "metadata": {},
   "outputs": [
    {
     "data": {
      "text/plain": [
       "(511, 15329)"
      ]
     },
     "execution_count": 651,
     "metadata": {},
     "output_type": "execute_result"
    }
   ],
   "source": [
    "positive_aian_data = final_race_data[final_race_data.target_AIAN == 1]\n",
    "negative_aian_data = final_race_data[final_race_data.target_AIAN == 0]\n",
    "len(positive_aian_data),len(negative_aian_data) # 2144"
   ]
  },
  {
   "cell_type": "code",
   "execution_count": 652,
   "metadata": {},
   "outputs": [],
   "source": [
    "x_aian = positive_aian_data\n",
    "x_aian_611 = shuffle(negative_aian_data,random_state=0).sample(611)\n",
    "x_aian = x_aian.append(x_aian_611,ignore_index=True)\n",
    "x_aian = shuffle(x_aian)\n",
    "\n",
    "X_aian = x_aian.iloc[:,:5]\n",
    "y_aian = x_aian.target_AIAN\n",
    "\n",
    "x_aian_train,x_aian_test,y_aian_train,y_aian_test = train_test_split(X_aian,y_aian,test_size=0.3,random_state=0)"
   ]
  },
  {
   "cell_type": "markdown",
   "metadata": {},
   "source": [
    "#### LR"
   ]
  },
  {
   "cell_type": "code",
   "execution_count": 653,
   "metadata": {},
   "outputs": [
    {
     "name": "stdout",
     "output_type": "stream",
     "text": [
      "              precision    recall  f1-score   support\n",
      "\n",
      "           0       0.64      0.68      0.66       166\n",
      "           1       0.67      0.63      0.65       171\n",
      "\n",
      "    accuracy                           0.65       337\n",
      "   macro avg       0.65      0.65      0.65       337\n",
      "weighted avg       0.65      0.65      0.65       337\n",
      "\n",
      "[ 1.74085635 -3.49553719 -0.93956096  0.31962464 -0.70148895]\n"
     ]
    },
    {
     "data": {
      "text/plain": [
       "Text(0.5, 1.0, ' LR Policy Impact')"
      ]
     },
     "execution_count": 653,
     "metadata": {},
     "output_type": "execute_result"
    },
    {
     "data": {
      "image/png": "[encoded data removed]",
      "text/plain": [
       "<Figure size 432x288 with 1 Axes>"
      ]
     },
     "metadata": {
      "needs_background": "light"
     },
     "output_type": "display_data"
    }
   ],
   "source": [
    "model_aian = LogisticRegression()\n",
    "model_aian.fit(x_aian_train,y_aian_train)\n",
    "model_aian_prob= model_aian.predict_proba(x_aian_test)\n",
    "pred_aian_lr = model_aian.predict(x_aian_test)\n",
    "cm = confusion_matrix(y_aian_test, pred_aian_lr)\n",
    "\n",
    "# fig, ax = plt.subplots()\n",
    "# ax.imshow(cm)\n",
    "# ax.grid(False)\n",
    "# ax.xaxis.set(ticks=(0, 1), ticklabels=('Predicted 0s', 'Predicted 1s'))\n",
    "# ax.yaxis.set(ticks=(0, 1), ticklabels=('Actual 0s', 'Actual 1s'))\n",
    "# ax.set_ylim(1.5, -0.5)\n",
    "# for i in range(2):\n",
    "    # for j in range(2):\n",
    "        # ax.text(j, i, cm[i, j], ha='center', va='center', color='red')\n",
    "# plt.show()\n",
    "\n",
    "print(classification_report(y_aian_test, pred_aian_lr))\n",
    "\n",
    "importance = model_aian.coef_[0]\n",
    "print(importance)\n",
    "\n",
    "plt.bar([x for x in x_asian.columns[:5]],importance)\n",
    "# plt.ylim().\n",
    "plt.title(\" LR Policy Impact\")"
   ]
  },
  {
   "cell_type": "markdown",
   "metadata": {},
   "source": [
    "#### RF"
   ]
  },
  {
   "cell_type": "code",
   "execution_count": 654,
   "metadata": {},
   "outputs": [
    {
     "name": "stdout",
     "output_type": "stream",
     "text": [
      "              precision    recall  f1-score   support\n",
      "\n",
      "           0       0.89      0.91      0.90       166\n",
      "           1       0.91      0.89      0.90       171\n",
      "\n",
      "    accuracy                           0.90       337\n",
      "   macro avg       0.90      0.90      0.90       337\n",
      "weighted avg       0.90      0.90      0.90       337\n",
      "\n"
     ]
    },
    {
     "data": {
      "text/plain": [
       "Text(0.5, 1.0, 'RF Policy Impact')"
      ]
     },
     "execution_count": 654,
     "metadata": {},
     "output_type": "execute_result"
    },
    {
     "data": {
      "image/png": "[encoded data removed]",
      "text/plain": [
       "<Figure size 432x288 with 1 Axes>"
      ]
     },
     "metadata": {
      "needs_background": "light"
     },
     "output_type": "display_data"
    }
   ],
   "source": [
    "clf_aian = RandomForestClassifier(n_estimators =300,max_depth=25,criterion='entropy',\n",
    "n_jobs=-1, oob_score=True,random_state = 0).fit(x_aian_train, y_aian_train)\n",
    "\n",
    "y_pred_aian=clf_aian.predict(x_aian_test)\n",
    "y_prob_aian = clf_aian.predict_proba(x_aian_test)\n",
    "print(classification_report(y_aian_test, y_pred_aian))\n",
    "plt.bar(x_asian.columns[:5],clf_aian.feature_importances_)\n",
    "plt.ylim(0.14)\n",
    "plt.title(\"RF Policy Impact\")"
   ]
  },
  {
   "cell_type": "markdown",
   "metadata": {},
   "source": [
    "### GB"
   ]
  },
  {
   "cell_type": "code",
   "execution_count": 655,
   "metadata": {},
   "outputs": [
    {
     "name": "stdout",
     "output_type": "stream",
     "text": [
      "              precision    recall  f1-score   support\n",
      "\n",
      "           0       0.86      0.91      0.89       166\n",
      "           1       0.91      0.86      0.88       171\n",
      "\n",
      "    accuracy                           0.88       337\n",
      "   macro avg       0.89      0.88      0.88       337\n",
      "weighted avg       0.89      0.88      0.88       337\n",
      "\n"
     ]
    },
    {
     "data": {
      "text/plain": [
       "Text(0.5, 1.0, 'GBC Policy Impact')"
      ]
     },
     "execution_count": 655,
     "metadata": {},
     "output_type": "execute_result"
    },
    {
     "data": {
      "image/png": "[encoded data removed]",
      "text/plain": [
       "<Figure size 432x288 with 1 Axes>"
      ]
     },
     "metadata": {
      "needs_background": "light"
     },
     "output_type": "display_data"
    }
   ],
   "source": [
    "gbc_aian = GradientBoostingClassifier(n_estimators=1000,max_depth=15,random_state=0)\n",
    "gbc_aian.fit(x_aian_train,y_aian_train)\n",
    "pred_gbc_aian= gbc_aian.predict(x_aian_test)\n",
    "print(classification_report(y_aian_test,pred_gbc_aian))\n",
    "plt.bar(x_asian.columns[:5],gbc_aian.feature_importances_)\n",
    "plt.ylim(0.14)\n",
    "plt.title(\"GBC Policy Impact\")"
   ]
  },
  {
   "cell_type": "markdown",
   "metadata": {},
   "source": [
    "#### Other"
   ]
  },
  {
   "cell_type": "code",
   "execution_count": 656,
   "metadata": {},
   "outputs": [
    {
     "data": {
      "text/plain": [
       "(2111, 12545)"
      ]
     },
     "execution_count": 656,
     "metadata": {},
     "output_type": "execute_result"
    }
   ],
   "source": [
    "positive_other_data = final_race_data[final_race_data.target_Other == 1]\n",
    "negative_other_data = final_race_data[final_race_data.target_Other == 0]\n",
    "len(positive_other_data),len(negative_white_data) # 2144"
   ]
  },
  {
   "cell_type": "code",
   "execution_count": 657,
   "metadata": {},
   "outputs": [],
   "source": [
    "x_other = positive_other_data\n",
    "x_other_2211 = shuffle(negative_other_data,random_state=0).sample(2211)\n",
    "x_other = x_other.append(x_other_2211,ignore_index=True)\n",
    "x_other = shuffle(x_other,random_state=0)\n",
    "\n",
    "X_other = x_other.iloc[:,:5]\n",
    "y_other = x_other.target_Other\n",
    "\n",
    "x_other_train,x_other_test,y_other_train,y_other_test = train_test_split(X_other,y_other,test_size=0.3,random_state=0)"
   ]
  },
  {
   "cell_type": "markdown",
   "metadata": {},
   "source": [
    "#### LR"
   ]
  },
  {
   "cell_type": "code",
   "execution_count": 658,
   "metadata": {},
   "outputs": [
    {
     "name": "stdout",
     "output_type": "stream",
     "text": [
      "              precision    recall  f1-score   support\n",
      "\n",
      "           0       0.64      0.58      0.61       676\n",
      "           1       0.59      0.65      0.62       621\n",
      "\n",
      "    accuracy                           0.61      1297\n",
      "   macro avg       0.61      0.61      0.61      1297\n",
      "weighted avg       0.62      0.61      0.61      1297\n",
      "\n",
      "[ 1.285828   -1.86198628 -0.89787141  0.61256364 -0.91585989]\n"
     ]
    },
    {
     "data": {
      "text/plain": [
       "Text(0.5, 1.0, ' LR Policy Impact')"
      ]
     },
     "execution_count": 658,
     "metadata": {},
     "output_type": "execute_result"
    },
    {
     "data": {
      "image/png": "[encoded data removed]",
      "text/plain": [
       "<Figure size 432x288 with 1 Axes>"
      ]
     },
     "metadata": {
      "needs_background": "light"
     },
     "output_type": "display_data"
    }
   ],
   "source": [
    "model_other = LogisticRegression()\n",
    "model_other.fit(x_other_train,y_other_train)\n",
    "model_other_prob= model_other.predict_proba(x_other_test)\n",
    "pred_other_lr = model_other.predict(x_other_test)\n",
    "cm = confusion_matrix(y_other_test, pred_other_lr)\n",
    "\n",
    "# fig, ax = plt.subplots()\n",
    "# ax.imshow(cm)\n",
    "# ax.grid(False)\n",
    "# ax.xaxis.set(ticks=(0, 1), ticklabels=('Predicted 0s', 'Predicted 1s'))\n",
    "# ax.yaxis.set(ticks=(0, 1), ticklabels=('Actual 0s', 'Actual 1s'))\n",
    "# ax.set_ylim(1.5, -0.5)\n",
    "# for i in range(2):\n",
    "    # for j in range(2):\n",
    "        # ax.text(j, i, cm[i, j], ha='center', va='center', color='red')\n",
    "# plt.show()\n",
    "\n",
    "print(classification_report(y_other_test, pred_other_lr))\n",
    "\n",
    "importance = model_other.coef_[0]\n",
    "print(importance)\n",
    "\n",
    "plt.bar([x for x in x_asian.columns[:5]],importance)\n",
    "# plt.ylim().\n",
    "plt.title(\" LR Policy Impact\")"
   ]
  },
  {
   "cell_type": "markdown",
   "metadata": {},
   "source": [
    "#### SVC"
   ]
  },
  {
   "cell_type": "code",
   "execution_count": null,
   "metadata": {},
   "outputs": [
    {
     "name": "stdout",
     "output_type": "stream",
     "text": [
      "              precision    recall  f1-score   support\n",
      "\n",
      "           0       0.56      0.30      0.39       786\n",
      "           1       0.52      0.76      0.62       785\n",
      "\n",
      "    accuracy                           0.53      1571\n",
      "   macro avg       0.54      0.53      0.50      1571\n",
      "weighted avg       0.54      0.53      0.50      1571\n",
      "\n"
     ]
    },
    {
     "data": {
      "text/plain": [
       "Text(0.5, 1.0, ' SVC other Policy Impact')"
      ]
     },
     "execution_count": 108,
     "metadata": {},
     "output_type": "execute_result"
    },
    {
     "data": {
      "image/png": "[encoded data removed]",
      "text/plain": [
       "<Figure size 432x288 with 1 Axes>"
      ]
     },
     "metadata": {
      "needs_background": "light"
     },
     "output_type": "display_data"
    }
   ],
   "source": [
    "model_other_svc = svm.SVC(kernel='linear')\n",
    "model_other_svc.fit(x_other_train,y_other_train)\n",
    "other_svc_pred = model_other_svc.predict(x_other_test)\n",
    "print(classification_report(y_other_test,other_svc_pred))\n",
    "\n",
    "plt.bar([x for x in x_asian.columns[:5]],model_other_svc.coef_[0])\n",
    "# plt.ylim().\n",
    "plt.title(\" SVC other Policy Impact\")"
   ]
  },
  {
   "cell_type": "markdown",
   "metadata": {},
   "source": [
    "#### RF"
   ]
  },
  {
   "cell_type": "code",
   "execution_count": 659,
   "metadata": {},
   "outputs": [
    {
     "name": "stdout",
     "output_type": "stream",
     "text": [
      "              precision    recall  f1-score   support\n",
      "\n",
      "           0       0.85      0.79      0.82       676\n",
      "           1       0.79      0.85      0.81       621\n",
      "\n",
      "    accuracy                           0.82      1297\n",
      "   macro avg       0.82      0.82      0.82      1297\n",
      "weighted avg       0.82      0.82      0.82      1297\n",
      "\n"
     ]
    },
    {
     "data": {
      "text/plain": [
       "Text(0.5, 1.0, 'RF other Policy Impact')"
      ]
     },
     "execution_count": 659,
     "metadata": {},
     "output_type": "execute_result"
    },
    {
     "data": {
      "image/png": "[encoded data removed]",
      "text/plain": [
       "<Figure size 432x288 with 1 Axes>"
      ]
     },
     "metadata": {
      "needs_background": "light"
     },
     "output_type": "display_data"
    }
   ],
   "source": [
    "clf_other = RandomForestClassifier(n_estimators = 1000,max_depth=25,criterion='entropy',\n",
    "n_jobs=-1, oob_score=True,random_state = 0).fit(x_other_train, y_other_train)\n",
    "\n",
    "y_pred_other=clf_other.predict(x_other_test)\n",
    "y_prob_other = clf_other.predict_proba(x_other_test)\n",
    "print(classification_report(y_other_test, y_pred_other))\n",
    "plt.bar(x_asian.columns[:5],clf_other.feature_importances_)\n",
    "# plt.ylim(0.14)\n",
    "plt.title(\"RF other Policy Impact\")"
   ]
  },
  {
   "cell_type": "markdown",
   "metadata": {},
   "source": [
    "#### GB"
   ]
  },
  {
   "cell_type": "code",
   "execution_count": 660,
   "metadata": {},
   "outputs": [
    {
     "name": "stdout",
     "output_type": "stream",
     "text": [
      "              precision    recall  f1-score   support\n",
      "\n",
      "           0       0.84      0.78      0.81       676\n",
      "           1       0.78      0.84      0.81       621\n",
      "\n",
      "    accuracy                           0.81      1297\n",
      "   macro avg       0.81      0.81      0.81      1297\n",
      "weighted avg       0.81      0.81      0.81      1297\n",
      "\n"
     ]
    },
    {
     "data": {
      "text/plain": [
       "Text(0.5, 1.0, 'GBC Policy Impact')"
      ]
     },
     "execution_count": 660,
     "metadata": {},
     "output_type": "execute_result"
    },
    {
     "data": {
      "image/png": "[encoded data removed]",
      "text/plain": [
       "<Figure size 432x288 with 1 Axes>"
      ]
     },
     "metadata": {
      "needs_background": "light"
     },
     "output_type": "display_data"
    }
   ],
   "source": [
    "gbc_other = GradientBoostingClassifier(n_estimators=1000,max_depth=15,random_state=0)\n",
    "gbc_other.fit(x_other_train,y_other_train)\n",
    "pred_gbc_other= gbc_other.predict(x_other_test)\n",
    "print(classification_report(y_other_test,pred_gbc_other))\n",
    "plt.bar(x_asian.columns[:5],gbc_other.feature_importances_)\n",
    "plt.ylim(0.14)\n",
    "plt.title(\"GBC Policy Impact\")"
   ]
  },
  {
   "cell_type": "markdown",
   "metadata": {},
   "source": [
    "# Comparing ALL RACES"
   ]
  },
  {
   "cell_type": "code",
   "execution_count": 7,
   "metadata": {},
   "outputs": [
    {
     "ename": "NameError",
     "evalue": "name 'plt' is not defined",
     "output_type": "error",
     "traceback": [
      "\u001b[1;31m---------------------------------------------------------------------------\u001b[0m",
      "\u001b[1;31mNameError\u001b[0m                                 Traceback (most recent call last)",
      "\u001b[1;32m~\\AppData\\Local\\Temp/ipykernel_272/2970127692.py\u001b[0m in \u001b[0;36m<module>\u001b[1;34m\u001b[0m\n\u001b[0;32m      1\u001b[0m \u001b[0mpolicy\u001b[0m\u001b[1;33m=\u001b[0m\u001b[1;33m[\u001b[0m\u001b[1;34m\"Stay_Home\"\u001b[0m\u001b[1;33m,\u001b[0m\u001b[1;34m'Cls_Rest'\u001b[0m\u001b[1;33m,\u001b[0m\u001b[1;34m\"Cls_Buss.\"\u001b[0m\u001b[1;33m,\u001b[0m\u001b[1;34m\"FaceMask\"\u001b[0m\u001b[1;33m,\u001b[0m\u001b[1;34m'Trav_Quar_Ban'\u001b[0m\u001b[1;33m]\u001b[0m\u001b[1;33m\u001b[0m\u001b[1;33m\u001b[0m\u001b[0m\n\u001b[1;32m----> 2\u001b[1;33m \u001b[0mfig\u001b[0m\u001b[1;33m,\u001b[0m \u001b[0max\u001b[0m \u001b[1;33m=\u001b[0m \u001b[0mplt\u001b[0m\u001b[1;33m.\u001b[0m\u001b[0msubplots\u001b[0m\u001b[1;33m(\u001b[0m\u001b[1;36m6\u001b[0m\u001b[1;33m,\u001b[0m\u001b[1;36m2\u001b[0m\u001b[1;33m,\u001b[0m\u001b[0mfigsize\u001b[0m\u001b[1;33m=\u001b[0m\u001b[1;33m(\u001b[0m\u001b[1;36m15\u001b[0m\u001b[1;33m,\u001b[0m\u001b[1;36m25\u001b[0m\u001b[1;33m)\u001b[0m\u001b[1;33m)\u001b[0m\u001b[1;33m\u001b[0m\u001b[1;33m\u001b[0m\u001b[0m\n\u001b[0m\u001b[0;32m      3\u001b[0m \u001b[0mfig\u001b[0m\u001b[1;33m.\u001b[0m\u001b[0msuptitle\u001b[0m\u001b[1;33m(\u001b[0m\u001b[1;34m\"Policy Impact on All Races\"\u001b[0m\u001b[1;33m,\u001b[0m\u001b[0mfontsize\u001b[0m\u001b[1;33m=\u001b[0m\u001b[1;36m20\u001b[0m\u001b[1;33m)\u001b[0m\u001b[1;33m\u001b[0m\u001b[1;33m\u001b[0m\u001b[0m\n\u001b[0;32m      4\u001b[0m \u001b[1;31m# fig.subplots_adjust(top=2)\u001b[0m\u001b[1;33m\u001b[0m\u001b[1;33m\u001b[0m\u001b[1;33m\u001b[0m\u001b[0m\n\u001b[0;32m      5\u001b[0m \u001b[1;31m# fig.text(x=-10,y=10,s=labels)\u001b[0m\u001b[1;33m\u001b[0m\u001b[1;33m\u001b[0m\u001b[1;33m\u001b[0m\u001b[0m\n",
      "\u001b[1;31mNameError\u001b[0m: name 'plt' is not defined"
     ]
    }
   ],
   "source": [
    "policy=[\"Stay_Home\",'Cls_Rest',\"Cls_Buss.\",\"FaceMask\",'Trav_Quar_Ban']\n",
    "fig, ax = plt.subplots(6,2,figsize=(15,25))\n",
    "fig.suptitle(\"Policy Impact on All Races\",fontsize=20)\n",
    "# fig.subplots_adjust(top=2)\n",
    "# fig.text(x=-10,y=10,s=labels)\n",
    "# fig.legend(labels,'center')\n",
    "# fig.text(0,1,[x for x in labels],horizontalalignment='center', verticalalignment='center')\n",
    "# ax[0,0].set_title('Random Forest',fontsize=15)\n",
    "# ax[0,1].set_title(\"Gradient Boosting\",fontsize=15)\n",
    "fig.supylabel(\"Policy Impact\",fontsize=25)\n",
    "fig.supxlabel(\"Policies\",fontsize=25)\n",
    "# ax[0,2].set_title(\"Linear SVC\")\n",
    "# ax[0,3].set_title(\"Logistic Regression\")\n",
    "ax[0,0].set_ylabel(\"Asian\",fontsize=20)\n",
    "ax[1,0].set_ylabel(\"White\",fontsize=20)\n",
    "ax[2,0].set_ylabel(\"Black\",fontsize=20)\n",
    "ax[3,0].set_ylabel(\"NHPI\",fontsize=20)\n",
    "ax[4,0].set_ylabel(\"AIAN\",fontsize=20)\n",
    "ax[5,0].set_ylabel(\"Other\",fontsize=20)\n",
    "\n",
    "ax[0,0].set_xlabel(\"Policies\",fontsize=15)\n",
    "ax[1,0].set_xlabel(\"Policies\",fontsize=15)\n",
    "ax[2,0].set_xlabel(\"Policies\",fontsize=15)\n",
    "ax[3,0].set_xlabel(\"Policies\",fontsize=15)\n",
    "ax[4,0].set_xlabel(\"Policies\",fontsize=15)\n",
    "ax[5,0].set_xlabel(\"Policies\",fontsize=15)\n",
    "\n",
    "ax[0,1].set_xlabel(\"Policies\",fontsize=15)\n",
    "ax[1,1].set_xlabel(\"Policies\",fontsize=15)\n",
    "ax[2,1].set_xlabel(\"Policies\",fontsize=15)\n",
    "ax[3,1].set_xlabel(\"Policies\",fontsize=15)\n",
    "ax[4,1].set_xlabel(\"Policies\",fontsize=15)\n",
    "ax[5,1].set_xlabel(\"Policies\",fontsize=15)\n",
    "\n",
    "ax[0,0].set_title('Random Forest',fontsize=15)\n",
    "ax[1,0].set_title('Random Forest',fontsize=15)\n",
    "ax[2,0].set_title('Random Forest',fontsize=15)\n",
    "ax[3,0].set_title('Random Forest',fontsize=15)\n",
    "ax[4,0].set_title('Random Forest',fontsize=15)\n",
    "ax[5,0].set_title('Random Forest',fontsize=15)\n",
    "\n",
    "ax[0,1].set_title(\"Gradient Boosting\",fontsize=15)\n",
    "ax[1,1].set_title(\"Gradient Boosting\",fontsize=15)\n",
    "ax[2,1].set_title(\"Gradient Boosting\",fontsize=15)\n",
    "ax[3,1].set_title(\"Gradient Boosting\",fontsize=15)\n",
    "ax[4,1].set_title(\"Gradient Boosting\",fontsize=15)\n",
    "ax[5,1].set_title(\"Gradient Boosting\",fontsize=15)\n",
    "\n",
    "# ASIAN\n",
    "a00=ax[0,0].bar(policy,clf_asian.feature_importances_,color = ['gray' if (x != max(clf_asian.feature_importances_)) else 'red' for x in clf_asian.feature_importances_]) # RF\n",
    "ax[0,0].bar_label(a00)\n",
    "# ax[0,0].set_ylim(0.14)\n",
    "a01=ax[0,1].bar(policy,gbc_asian.feature_importances_,color = ['gray' if (x != max(gbc_asian.feature_importances_)) else 'red' for x in gbc_asian.feature_importances_])\n",
    "ax[0,1].bar_label(a01)\n",
    "# ax[0,1].set_ylim(0.14)\n",
    "# ax[0,2].bar([x for x in policy],model_asian_svc.coef_[0])  # SVC\n",
    "# ax[0,3].bar([x for x in policy],model_asian.coef_[0])    # Logistic Regression\n",
    "\n",
    "# White\n",
    "a10=ax[1,0].bar(policy,clf_white.feature_importances_,color = ['gray' if (x != max(clf_white.feature_importances_)) else 'red' for x in clf_white.feature_importances_])\n",
    "ax[1,0].bar_label(a10)\n",
    "# ax[1,0].set_ylim(0.14)\n",
    "a11=ax[1,1].bar(policy,gbc_white.feature_importances_,color = ['gray' if (x != max(gbc_white.feature_importances_)) else 'red' for x in gbc_white.feature_importances_])\n",
    "ax[1,1].bar_label(a11)\n",
    "# ax[1,1].set_ylim(0.14)\n",
    "# ax[1,2].bar([x for x in policy],model_white_svc.coef_[0])\n",
    "# ax[1,3].bar([x for x in policy],model_white.coef_[0])\n",
    "\n",
    "# BLACK\n",
    "a20=ax[2,0].bar(policy,clf_black.feature_importances_,color = ['gray' if (x != max(clf_black.feature_importances_)) else 'red' for x in clf_black.feature_importances_])\n",
    "ax[2,0].bar_label(a20)\n",
    "# ax[2,0].set_ylim(0.14)\n",
    "a21=ax[2,1].bar(policy,gbc_black.feature_importances_,color = ['gray' if (x != max(gbc_black.feature_importances_)) else 'red' for x in gbc_black.feature_importances_])\n",
    "ax[2,1].bar_label(a21)\n",
    "# ax[2,1].set_ylim(0.14)\n",
    "\n",
    "# ax[2,2].bar([x for x in policy],model_black_svc.coef_[0])\n",
    "# ax[2,3].bar([x for x in policy],model_black.coef_[0])\n",
    "\n",
    "# NHPI\n",
    "a30=ax[3,0].bar(policy,clf_nhpi.feature_importances_,color = ['gray' if (x != max(clf_nhpi.feature_importances_)) else 'red' for x in clf_nhpi.feature_importances_])\n",
    "ax[3,0].bar_label(a30)\n",
    "# ax[3,0].set_ylim(0.14)\n",
    "a31=ax[3,1].bar(policy,gbc_nhpi.feature_importances_,color = ['gray' if (x != max(gbc_nhpi.feature_importances_)) else 'red' for x in gbc_nhpi.feature_importances_])\n",
    "ax[3,1].bar_label(a31)\n",
    "# ax[3,1].set_ylim(0.14)\n",
    "\n",
    "# ax[3,2].bar([x for x in policy],model_nhpi_svc.coef_[0])\n",
    "# ax[3,3].bar([x for x in policy],model_nhpi.coef_[0])\n",
    "\n",
    "# AIAN\n",
    "a40=ax[4,0].bar(policy,clf_aian.feature_importances_,color = ['gray' if (x != max(clf_aian.feature_importances_)) else 'red' for x in clf_aian.feature_importances_])\n",
    "ax[4,0].bar_label(a40)\n",
    "# ax[4,0].set_ylim(0.14)\n",
    "a41=ax[4,1].bar(policy,gbc_aian.feature_importances_,color = ['gray' if (x != max(gbc_aian.feature_importances_)) else 'red' for x in gbc_aian.feature_importances_])\n",
    "ax[4,1].bar_label(a41)\n",
    "# ax[4,1].set_ylim(0.14)\n",
    "\n",
    "# ax[4,2].bar([x for x in policy],model_aian_svc.coef_[0])\n",
    "# ax[4,3].bar([x for x in policy],model_aian.coef_[0])\n",
    "\n",
    "# Other\n",
    "a50=ax[5,0].bar(policy,clf_other.feature_importances_,color = ['gray' if (x != max(clf_other.feature_importances_)) else 'red' for x in clf_other.feature_importances_])\n",
    "ax[5,0].bar_label(a50)\n",
    "# ax[5,0].set_ylim(0.14)\n",
    "ax[5,1].bar_label(ax[5,1].bar(policy,gbc_other.feature_importances_,color = ['gray' if (x != max(gbc_other.feature_importances_)) else 'red' for x in gbc_other.feature_importances_]), width=0.2)\n",
    "# ax[5,1].set_ylim(0.14)\n",
    "\n",
    "# ax[5,2].bar([x for x in policy],model_other_svc.coef_[0])\n",
    "# ax[5,3].bar([x for x in policy],model_other.coef_[0])\n",
    "# for i, v in enumerate(gbc_other.feature_importances_):\n",
    "    # ax[5,1].text(v+0.3,i+0.3,str(v.round(3)),fontweight='bold')\n",
    "    \n",
    "labels = {\"p2\" : \"Stay-At-Home/Shelter-In-Place\",\n",
    "          \"p3\" : \"Closing Restaurants\",\n",
    "          \"p4\" : \"Closing Business overnight\",\n",
    "          \"p5\" : \"Face Mask Mandate\",\n",
    "          \"p6\" : \"Inter-State Quarantine Travel\"}\n",
    "\n",
    "\n",
    "\n",
    "# fig.legend([\"p2\",\"p3\",\"p4\",\"p5\",\"p6\"],labels=labels.values(),loc=\"upper center\")\n",
    "# fig.add_artist(matplotlib.offsetbox.AnchoredText(labels))\n",
    "           \n",
    "fig.tight_layout(pad=2)"
   ]
  },
  {
   "cell_type": "code",
   "execution_count": null,
   "metadata": {},
   "outputs": [],
   "source": [
    "import matplotlib.pyplot as plt\n",
    "plt.rcParams.update({'font.size':12})\n",
    "\n",
    "fig, ax = plt.subplots(6,2,figsize=(10,20))\n",
    "fig.suptitle(\"Policy Impact on All Races\",fontsize=20,weight='bold')\n",
    "fig.subplots_adjust(top=1)\n",
    "# fig.text(x=-10,y=10,s=labels)\n",
    "# fig.legend(labels,'center')\n",
    "# fig.text(0,1,[x for x in labels],horizontalalignment='center', verticalalignment='center')\n",
    "# ax[0,0].set_title('Random Forest',fontsize=15)\n",
    "# ax[0,1].set_title(\"Gradient Boosting\",fontsize=15)\n",
    "fig.supylabel(\"Policy Impact\",fontsize=25,weight='bold')\n",
    "fig.supxlabel(\"Policies\",fontsize=25,weight='bold')\n",
    "# ax[0,2].set_title(\"Linear SVC\")\n",
    "# ax[0,3].set_title(\"Logistic Regression\")\n",
    "ax[0,0].set_ylabel(\"Asian\",fontsize=20,weight='bold')\n",
    "ax[1,0].set_ylabel(\"White\",fontsize=20,weight='bold')\n",
    "ax[2,0].set_ylabel(\"Black\",fontsize=20,weight='bold')\n",
    "ax[3,0].set_ylabel(\"NHPI\",fontsize=20,weight='bold')\n",
    "ax[4,0].set_ylabel(\"AIAN\",fontsize=20,weight='bold')\n",
    "ax[5,0].set_ylabel(\"Other\",fontsize=20,weight='bold')\n",
    "\n",
    "ax[0,0].set_xlabel(\"Policies\",fontsize=15,weight='bold')\n",
    "ax[1,0].set_xlabel(\"Policies\",fontsize=15,weight='bold')\n",
    "ax[2,0].set_xlabel(\"Policies\",fontsize=15,weight='bold')\n",
    "ax[3,0].set_xlabel(\"Policies\",fontsize=15,weight='bold')\n",
    "ax[4,0].set_xlabel(\"Policies\",fontsize=15,weight='bold')\n",
    "ax[5,0].set_xlabel(\"Policies\",fontsize=15,weight='bold')\n",
    "\n",
    "ax[0,1].set_xlabel(\"Policies\",fontsize=15,weight='bold')\n",
    "ax[1,1].set_xlabel(\"Policies\",fontsize=15,weight='bold')\n",
    "ax[2,1].set_xlabel(\"Policies\",fontsize=15,weight='bold')\n",
    "ax[3,1].set_xlabel(\"Policies\",fontsize=15,weight='bold')\n",
    "ax[4,1].set_xlabel(\"Policies\",fontsize=15,weight='bold')\n",
    "ax[5,1].set_xlabel(\"Policies\",fontsize=15,weight='bold')\n",
    "\n",
    "ax[0,0].set_title('Random Forest',fontsize=15,weight='bold')\n",
    "ax[1,0].set_title('Random Forest',fontsize=15,weight='bold')\n",
    "ax[2,0].set_title('Random Forest',fontsize=15,weight='bold')\n",
    "ax[3,0].set_title('Random Forest',fontsize=15,weight='bold')\n",
    "ax[4,0].set_title('Random Forest',fontsize=15,weight='bold')\n",
    "ax[5,0].set_title('Random Forest',fontsize=15,weight='bold')\n",
    "\n",
    "ax[0,1].set_title(\"Gradient Boosting\",fontsize=15,weight='bold')\n",
    "ax[1,1].set_title(\"Gradient Boosting\",fontsize=15,weight='bold')\n",
    "ax[2,1].set_title(\"Gradient Boosting\",fontsize=15,weight='bold')\n",
    "ax[3,1].set_title(\"Gradient Boosting\",fontsize=15,weight='bold')\n",
    "ax[4,1].set_title(\"Gradient Boosting\",fontsize=15,weight='bold')\n",
    "ax[5,1].set_title(\"Gradient Boosting\",fontsize=15,weight='bold')\n",
    "\n",
    "# ASIAN\n",
    "a00=ax[0,0].bar(policy,asians_rf,color = ['gray' if (x != max(asians_rf)) else 'red' for x in asians_rf]) # RF\n",
    "ax[0,0].bar_label(a00)\n",
    "ax[0,0].set_ylim(0.15)\n",
    "a01=ax[0,1].bar(policy,asians_gb,color = ['gray' if (x != max(asians_gb)) else 'red' for x in asians_gb])\n",
    "ax[0,1].set_ylim(0.15)\n",
    "ax[0,1].bar_label(a01)\n",
    "# ax[0,2].bar([x for x in policy],model_asian_svc.coef_[0])  # SVC\n",
    "# ax[0,3].bar([x for x in policy],model_asian.coef_[0])    # Logistic Regression\n",
    "\n",
    "# White\n",
    "a10=ax[1,0].bar(policy,white_rf,color = ['gray' if (x != max(white_rf)) else 'red' for x in white_rf])\n",
    "ax[1,0].bar_label(a10)\n",
    "ax[1,0].set_ylim(0.15)\n",
    "a11=ax[1,1].bar(policy,white_gb,color = ['gray' if (x != max(white_gb)) else 'red' for x in white_gb])\n",
    "ax[1,1].bar_label(a11)\n",
    "ax[1,1].set_ylim(0.15)\n",
    "# ax[1,2].bar([x for x in policy],model_white_svc.coef_[0])\n",
    "# ax[1,3].bar([x for x in policy],model_white.coef_[0])\n",
    "\n",
    "# BLACK\n",
    "a20=ax[2,0].bar(policy,black_rf,color = ['gray' if (x != max(black_rf)) else 'red' for x in black_rf])\n",
    "ax[2,0].bar_label(a20)\n",
    "ax[2,0].set_ylim(0.15)\n",
    "a21=ax[2,1].bar(policy,black_gb,color = ['gray' if (x != max(black_gb)) else 'red' for x in black_gb])\n",
    "ax[2,1].set_ylim(0.15)\n",
    "ax[2,1].bar_label(a21)\n",
    "# ax[2,2].bar([x for x in policy],model_black_svc.coef_[0])\n",
    "# ax[2,3].bar([x for x in policy],model_black.coef_[0])\n",
    "\n",
    "# NHPI\n",
    "a30=ax[3,0].bar(policy,nhpi_rf,color = ['gray' if (x != max(nhpi_rf)) else 'red' for x in nhpi_rf])\n",
    "ax[3,0].bar_label(a30)\n",
    "ax[3,0].set_ylim(0.15)\n",
    "a31=ax[3,1].bar(policy,nhpi_gb,color = ['gray' if (x != max(nhpi_gb)) else 'red' for x in nhpi_gb])\n",
    "ax[3,1].bar_label(a31)\n",
    "# ax[3,2].bar([x for x in policy],model_nhpi_svc.coef_[0])\n",
    "# ax[3,3].bar([x for x in policy],model_nhpi.coef_[0])\n",
    "\n",
    "# AIAN\n",
    "a40=ax[4,0].bar(policy,aian_rf,color = ['gray' if (x != max(aian_rf)) else 'red' for x in aian_rf])\n",
    "ax[4,0].bar_label(a40)\n",
    "ax[4,0].set_ylim(0.15)\n",
    "a41=ax[4,1].bar(policy,aian_gb,color = ['gray' if (x != max(aian_gb)) else 'red' for x in aian_gb])\n",
    "ax[4,1].set_ylim(0.15)\n",
    "ax[4,1].bar_label(a41)\n",
    "# ax[4,2].bar([x for x in policy],model_aian_svc.coef_[0])\n",
    "# ax[4,3].bar([x for x in policy],model_aian.coef_[0])\n",
    "\n",
    "# Other\n",
    "a50=ax[5,0].bar(policy,other_rf,color = ['gray' if (x != max(other_rf)) else 'red' for x in other_rf])\n",
    "ax[5,0].bar_label(a50)\n",
    "ax[5,0].set_ylim(0.15)\n",
    "ax[5,1].bar_label(ax[5,1].bar(policy,other_gb,color = ['gray' if (x != max(other_gb)) else 'red' for x in other_gb]))\n",
    "ax[5,1].set_ylim(0.15)\n",
    "# ax[5,2].bar([x for x in policy],model_other_svc.coef_[0])\n",
    "# ax[5,3].bar([x for x in policy],model_other.coef_[0])\n",
    "# for i, v in enumerate(gbc_other.feature_importances_):\n",
    "    # ax[5,1].text(v+0.3,i+0.3,str(v.round(3)),fontweight='bold')\n",
    "    \n",
    "labels = {\"p2\" : \"Stay-At-Home/Shelter-In-Place\",\n",
    "          \"p3\" : \"Closing Restaurants\",\n",
    "          \"p4\" : \"Closing Business overnight\",\n",
    "          \"p5\" : \"Face Mask Mandate\",\n",
    "          \"p6\" : \"Inter-State Quarantine Travel\"}\n",
    "\n",
    "\n",
    "\n",
    "# fig.legend([\"p2\",\"p3\",\"p4\",\"p5\",\"p6\"],labels=labels.values(),loc=\"upper center\")\n",
    "# fig.add_artist(matplotlib.offsetbox.AnchoredText(labels))\n",
    "           \n",
    "fig.tight_layout(pad=2)"
   ]
  },
  {
   "cell_type": "code",
   "execution_count": 663,
   "metadata": {},
   "outputs": [
    {
     "data": {
      "text/html": [
       "<div>\n",
       "<style scoped>\n",
       "    .dataframe tbody tr th:only-of-type {\n",
       "        vertical-align: middle;\n",
       "    }\n",
       "\n",
       "    .dataframe tbody tr th {\n",
       "        vertical-align: top;\n",
       "    }\n",
       "\n",
       "    .dataframe thead th {\n",
       "        text-align: right;\n",
       "    }\n",
       "</style>\n",
       "<table border=\"1\" class=\"dataframe\">\n",
       "  <thead>\n",
       "    <tr style=\"text-align: right;\">\n",
       "      <th></th>\n",
       "      <th>Stay_Home</th>\n",
       "      <th>Cls_Rest</th>\n",
       "      <th>Cls_Buss.</th>\n",
       "      <th>FaceMask</th>\n",
       "      <th>Trav_Quar_Ban</th>\n",
       "    </tr>\n",
       "  </thead>\n",
       "  <tbody>\n",
       "    <tr>\n",
       "      <th>GB_Asian</th>\n",
       "      <td>0.200797</td>\n",
       "      <td>0.323977</td>\n",
       "      <td>0.252691</td>\n",
       "      <td>0.118534</td>\n",
       "      <td>0.104001</td>\n",
       "    </tr>\n",
       "    <tr>\n",
       "      <th>GB_White</th>\n",
       "      <td>0.190880</td>\n",
       "      <td>0.349588</td>\n",
       "      <td>0.212437</td>\n",
       "      <td>0.162175</td>\n",
       "      <td>0.084920</td>\n",
       "    </tr>\n",
       "    <tr>\n",
       "      <th>GB_Black</th>\n",
       "      <td>0.239368</td>\n",
       "      <td>0.252595</td>\n",
       "      <td>0.243512</td>\n",
       "      <td>0.167569</td>\n",
       "      <td>0.096956</td>\n",
       "    </tr>\n",
       "    <tr>\n",
       "      <th>GB_AIAN</th>\n",
       "      <td>0.128328</td>\n",
       "      <td>0.384892</td>\n",
       "      <td>0.161855</td>\n",
       "      <td>0.256107</td>\n",
       "      <td>0.068818</td>\n",
       "    </tr>\n",
       "    <tr>\n",
       "      <th>GB_NHPI</th>\n",
       "      <td>0.248013</td>\n",
       "      <td>0.232104</td>\n",
       "      <td>0.296709</td>\n",
       "      <td>0.159534</td>\n",
       "      <td>0.063640</td>\n",
       "    </tr>\n",
       "    <tr>\n",
       "      <th>Others</th>\n",
       "      <td>0.199273</td>\n",
       "      <td>0.340996</td>\n",
       "      <td>0.187396</td>\n",
       "      <td>0.178684</td>\n",
       "      <td>0.093650</td>\n",
       "    </tr>\n",
       "  </tbody>\n",
       "</table>\n",
       "</div>"
      ],
      "text/plain": [
       "          Stay_Home  Cls_Rest  Cls_Buss.  FaceMask  Trav_Quar_Ban\n",
       "GB_Asian   0.200797  0.323977   0.252691  0.118534       0.104001\n",
       "GB_White   0.190880  0.349588   0.212437  0.162175       0.084920\n",
       "GB_Black   0.239368  0.252595   0.243512  0.167569       0.096956\n",
       "GB_AIAN    0.128328  0.384892   0.161855  0.256107       0.068818\n",
       "GB_NHPI    0.248013  0.232104   0.296709  0.159534       0.063640\n",
       "Others     0.199273  0.340996   0.187396  0.178684       0.093650"
      ]
     },
     "execution_count": 663,
     "metadata": {},
     "output_type": "execute_result"
    }
   ],
   "source": [
    "gbdf=pd.DataFrame(data=[gbc_asian.feature_importances_, gbc_white.feature_importances_, gbc_black.feature_importances_,gbc_aian.feature_importances_, gbc_nhpi.feature_importances_, gbc_other.feature_importances_],index=[\"GB_Asian\",\"GB_White\",\"GB_Black\",\"GB_AIAN\",\"GB_NHPI\",\"Others\"],columns=policy)\n",
    "gbdf"
   ]
  },
  {
   "cell_type": "code",
   "execution_count": 27,
   "metadata": {},
   "outputs": [],
   "source": [
    "policy=[\"Stay_Home\",'Cls_Rest',\"Cls_Buss.\",\"FaceMask\",'Trav_Quar_Ban']\n"
   ]
  },
  {
   "cell_type": "code",
   "execution_count": 26,
   "metadata": {},
   "outputs": [],
   "source": [
    "GB_Asian = [0.200797, 0.323977, 0.252691,\t0.118534,\t0.104001]\n",
    "GB_White = [0.190880, 0.349588, 0.212437,\t0.162175,\t0.084920]\n",
    "GB_Black = [0.239368, 0.252595, 0.243512,\t0.167569,\t0.096956]\n",
    "GB_AIAN\t=  [0.128328, 0.384892, 0.161855,\t0.256107,\t0.068818]\n",
    "GB_NHPI\t=  [0.248013, 0.232104, 0.296709,\t0.159534,\t0.063640]\n",
    "Others\t=  [0.199273, 0.340996, 0.187396,\t0.178684,\t0.093650]"
   ]
  },
  {
   "cell_type": "code",
   "execution_count": 28,
   "metadata": {},
   "outputs": [],
   "source": [
    "gb_country = [0.20662415, 0.28510733, 0.21638292, 0.19848551, 0.09340009]\n",
    "rf_country = [0.22076113, 0.25715806, 0.25806681, 0.17685803, 0.08715597]"
   ]
  },
  {
   "cell_type": "markdown",
   "metadata": {},
   "source": [
    "# MSE"
   ]
  },
  {
   "cell_type": "code",
   "execution_count": 29,
   "metadata": {},
   "outputs": [
    {
     "data": {
      "text/html": [
       "<div>\n",
       "<style scoped>\n",
       "    .dataframe tbody tr th:only-of-type {\n",
       "        vertical-align: middle;\n",
       "    }\n",
       "\n",
       "    .dataframe tbody tr th {\n",
       "        vertical-align: top;\n",
       "    }\n",
       "\n",
       "    .dataframe thead th {\n",
       "        text-align: right;\n",
       "    }\n",
       "</style>\n",
       "<table border=\"1\" class=\"dataframe\">\n",
       "  <thead>\n",
       "    <tr style=\"text-align: right;\">\n",
       "      <th></th>\n",
       "      <th>Stay_Home</th>\n",
       "      <th>Cls_Rest</th>\n",
       "      <th>Cls_Buss.</th>\n",
       "      <th>FaceMask</th>\n",
       "      <th>Trav_Quar_Ban</th>\n",
       "    </tr>\n",
       "  </thead>\n",
       "  <tbody>\n",
       "    <tr>\n",
       "      <th>GB_Asian</th>\n",
       "      <td>0.200797</td>\n",
       "      <td>0.323977</td>\n",
       "      <td>0.252691</td>\n",
       "      <td>0.118534</td>\n",
       "      <td>0.104001</td>\n",
       "    </tr>\n",
       "    <tr>\n",
       "      <th>GB_White</th>\n",
       "      <td>0.190880</td>\n",
       "      <td>0.349588</td>\n",
       "      <td>0.212437</td>\n",
       "      <td>0.162175</td>\n",
       "      <td>0.084920</td>\n",
       "    </tr>\n",
       "    <tr>\n",
       "      <th>GB_Black</th>\n",
       "      <td>0.239368</td>\n",
       "      <td>0.252595</td>\n",
       "      <td>0.243512</td>\n",
       "      <td>0.167569</td>\n",
       "      <td>0.096956</td>\n",
       "    </tr>\n",
       "    <tr>\n",
       "      <th>GB_AIAN</th>\n",
       "      <td>0.128328</td>\n",
       "      <td>0.384892</td>\n",
       "      <td>0.161855</td>\n",
       "      <td>0.256107</td>\n",
       "      <td>0.068818</td>\n",
       "    </tr>\n",
       "    <tr>\n",
       "      <th>GB_NHPI</th>\n",
       "      <td>0.248013</td>\n",
       "      <td>0.232104</td>\n",
       "      <td>0.296709</td>\n",
       "      <td>0.159534</td>\n",
       "      <td>0.063640</td>\n",
       "    </tr>\n",
       "  </tbody>\n",
       "</table>\n",
       "</div>"
      ],
      "text/plain": [
       "          Stay_Home  Cls_Rest  Cls_Buss.  FaceMask  Trav_Quar_Ban\n",
       "GB_Asian   0.200797  0.323977   0.252691  0.118534       0.104001\n",
       "GB_White   0.190880  0.349588   0.212437  0.162175       0.084920\n",
       "GB_Black   0.239368  0.252595   0.243512  0.167569       0.096956\n",
       "GB_AIAN    0.128328  0.384892   0.161855  0.256107       0.068818\n",
       "GB_NHPI    0.248013  0.232104   0.296709  0.159534       0.063640"
      ]
     },
     "execution_count": 29,
     "metadata": {},
     "output_type": "execute_result"
    }
   ],
   "source": [
    "import pandas as pd\n",
    "gbdf=pd.DataFrame(data=[GB_Asian\n",
    ",GB_White\n",
    ",GB_Black\n",
    ",GB_AIAN\t\n",
    ",GB_NHPI],index=[\"GB_Asian\",\"GB_White\",\"GB_Black\",\"GB_AIAN\",\"GB_NHPI\"],columns=policy)\n",
    "gbdf"
   ]
  },
  {
   "cell_type": "code",
   "execution_count": 21,
   "metadata": {},
   "outputs": [
    {
     "data": {
      "text/plain": [
       "0.02820168891196892"
      ]
     },
     "execution_count": 21,
     "metadata": {},
     "output_type": "execute_result"
    }
   ],
   "source": [
    "(gb_country[0] -gbdf['Stay_Home'])/gb_country[0]  # (country -state)/country"
   ]
  },
  {
   "cell_type": "code",
   "execution_count": 22,
   "metadata": {},
   "outputs": [
    {
     "data": {
      "text/html": [
       "<div>\n",
       "<style scoped>\n",
       "    .dataframe tbody tr th:only-of-type {\n",
       "        vertical-align: middle;\n",
       "    }\n",
       "\n",
       "    .dataframe tbody tr th {\n",
       "        vertical-align: top;\n",
       "    }\n",
       "\n",
       "    .dataframe thead th {\n",
       "        text-align: right;\n",
       "    }\n",
       "</style>\n",
       "<table border=\"1\" class=\"dataframe\">\n",
       "  <thead>\n",
       "    <tr style=\"text-align: right;\">\n",
       "      <th></th>\n",
       "      <th>Stay_Home</th>\n",
       "      <th>Cls_Rest</th>\n",
       "      <th>Cls_Buss.</th>\n",
       "      <th>FaceMask</th>\n",
       "      <th>Trav_Quar_Ban</th>\n",
       "      <th>RACE_MSE</th>\n",
       "    </tr>\n",
       "  </thead>\n",
       "  <tbody>\n",
       "    <tr>\n",
       "      <th>GB_Asian</th>\n",
       "      <td>0.001</td>\n",
       "      <td>0.019</td>\n",
       "      <td>0.028</td>\n",
       "      <td>0.162</td>\n",
       "      <td>0.013</td>\n",
       "      <td>0.223</td>\n",
       "    </tr>\n",
       "    <tr>\n",
       "      <th>GB_White</th>\n",
       "      <td>0.006</td>\n",
       "      <td>0.051</td>\n",
       "      <td>0.000</td>\n",
       "      <td>0.033</td>\n",
       "      <td>0.008</td>\n",
       "      <td>0.098</td>\n",
       "    </tr>\n",
       "    <tr>\n",
       "      <th>GB_Black</th>\n",
       "      <td>0.025</td>\n",
       "      <td>0.013</td>\n",
       "      <td>0.016</td>\n",
       "      <td>0.024</td>\n",
       "      <td>0.001</td>\n",
       "      <td>0.079</td>\n",
       "    </tr>\n",
       "    <tr>\n",
       "      <th>GB_AIAN</th>\n",
       "      <td>0.144</td>\n",
       "      <td>0.122</td>\n",
       "      <td>0.064</td>\n",
       "      <td>0.084</td>\n",
       "      <td>0.069</td>\n",
       "      <td>0.483</td>\n",
       "    </tr>\n",
       "    <tr>\n",
       "      <th>GB_NHPI</th>\n",
       "      <td>0.040</td>\n",
       "      <td>0.035</td>\n",
       "      <td>0.138</td>\n",
       "      <td>0.039</td>\n",
       "      <td>0.102</td>\n",
       "      <td>0.354</td>\n",
       "    </tr>\n",
       "    <tr>\n",
       "      <th>Policy_MSE</th>\n",
       "      <td>0.216</td>\n",
       "      <td>0.240</td>\n",
       "      <td>0.246</td>\n",
       "      <td>0.342</td>\n",
       "      <td>0.193</td>\n",
       "      <td>1.237</td>\n",
       "    </tr>\n",
       "  </tbody>\n",
       "</table>\n",
       "</div>"
      ],
      "text/plain": [
       "            Stay_Home  Cls_Rest  Cls_Buss.  FaceMask  Trav_Quar_Ban  RACE_MSE\n",
       "GB_Asian        0.001     0.019      0.028     0.162          0.013     0.223\n",
       "GB_White        0.006     0.051      0.000     0.033          0.008     0.098\n",
       "GB_Black        0.025     0.013      0.016     0.024          0.001     0.079\n",
       "GB_AIAN         0.144     0.122      0.064     0.084          0.069     0.483\n",
       "GB_NHPI         0.040     0.035      0.138     0.039          0.102     0.354\n",
       "Policy_MSE      0.216     0.240      0.246     0.342          0.193     1.237"
      ]
     },
     "execution_count": 22,
     "metadata": {},
     "output_type": "execute_result"
    }
   ],
   "source": [
    "gbdf[\"Stay_Home\"]=abs(gb_country[0] - gbdf['Stay_Home'])/gb_country[0] # abs(country - state/country)\n",
    "gbdf[\"Cls_Rest\"]= abs(gb_country[1] -gbdf['Cls_Rest'])/gb_country[1]\n",
    "gbdf[\"Cls_Buss.\"]=abs(gb_country[2] -gbdf['Cls_Buss.'])/gb_country[2]\n",
    "gbdf[\"FaceMask\"]= abs(gb_country[3] -gbdf['FaceMask'])/gb_country[3]\n",
    "gbdf[\"Trav_Quar_Ban\"]=abs(gb_country[4] -gbdf['Trav_Quar_Ban'])/gb_country[4]\n",
    "\n",
    "gbdf=((gbdf.iloc[:,-5:])**2).round(3)\n",
    "gbdf[\"RACE_MSE\"]=gbdf.sum(axis=1)\n",
    "gbdf.loc[\"Policy_MSE\"]=[x for x in gbdf.sum(axis=0)]\n",
    "gbdf\n"
   ]
  },
  {
   "cell_type": "code",
   "execution_count": 30,
   "metadata": {},
   "outputs": [],
   "source": [
    "RF_Asian=[0.224812,\t0.265077,\t0.282316,\t0.149571,\t0.078224]\n",
    "RF_White=[0.209599,\t0.273907,\t0.264282,\t0.157752,\t0.094459]\n",
    "RF_Black=[0.227421,\t0.258004,\t0.254562,\t0.166186,\t0.093827]\n",
    "RF_AIAN\t=[0.190734,\t0.275136,\t0.234849,\t0.208997,\t0.090285]\n",
    "RF_NHPI\t=[0.216859,\t0.238834,\t0.266594,\t0.183109,\t0.094604]\n",
    "Others\t=[0.228734,\t0.266631,\t0.249800,\t0.170744,\t0.084092]"
   ]
  },
  {
   "cell_type": "code",
   "execution_count": 31,
   "metadata": {},
   "outputs": [
    {
     "data": {
      "text/html": [
       "<div>\n",
       "<style scoped>\n",
       "    .dataframe tbody tr th:only-of-type {\n",
       "        vertical-align: middle;\n",
       "    }\n",
       "\n",
       "    .dataframe tbody tr th {\n",
       "        vertical-align: top;\n",
       "    }\n",
       "\n",
       "    .dataframe thead th {\n",
       "        text-align: right;\n",
       "    }\n",
       "</style>\n",
       "<table border=\"1\" class=\"dataframe\">\n",
       "  <thead>\n",
       "    <tr style=\"text-align: right;\">\n",
       "      <th></th>\n",
       "      <th>Stay_Home</th>\n",
       "      <th>Cls_Rest</th>\n",
       "      <th>Cls_Buss.</th>\n",
       "      <th>FaceMask</th>\n",
       "      <th>Trav_Quar_Ban</th>\n",
       "    </tr>\n",
       "  </thead>\n",
       "  <tbody>\n",
       "    <tr>\n",
       "      <th>RF_Asian</th>\n",
       "      <td>0.224812</td>\n",
       "      <td>0.265077</td>\n",
       "      <td>0.282316</td>\n",
       "      <td>0.149571</td>\n",
       "      <td>0.078224</td>\n",
       "    </tr>\n",
       "    <tr>\n",
       "      <th>RF_White</th>\n",
       "      <td>0.209599</td>\n",
       "      <td>0.273907</td>\n",
       "      <td>0.264282</td>\n",
       "      <td>0.157752</td>\n",
       "      <td>0.094459</td>\n",
       "    </tr>\n",
       "    <tr>\n",
       "      <th>RF_Black</th>\n",
       "      <td>0.227421</td>\n",
       "      <td>0.258004</td>\n",
       "      <td>0.254562</td>\n",
       "      <td>0.166186</td>\n",
       "      <td>0.093827</td>\n",
       "    </tr>\n",
       "    <tr>\n",
       "      <th>RF_AIAN</th>\n",
       "      <td>0.190734</td>\n",
       "      <td>0.275136</td>\n",
       "      <td>0.234849</td>\n",
       "      <td>0.208997</td>\n",
       "      <td>0.090285</td>\n",
       "    </tr>\n",
       "    <tr>\n",
       "      <th>RF_NHPI</th>\n",
       "      <td>0.216859</td>\n",
       "      <td>0.238834</td>\n",
       "      <td>0.266594</td>\n",
       "      <td>0.183109</td>\n",
       "      <td>0.094604</td>\n",
       "    </tr>\n",
       "  </tbody>\n",
       "</table>\n",
       "</div>"
      ],
      "text/plain": [
       "          Stay_Home  Cls_Rest  Cls_Buss.  FaceMask  Trav_Quar_Ban\n",
       "RF_Asian   0.224812  0.265077   0.282316  0.149571       0.078224\n",
       "RF_White   0.209599  0.273907   0.264282  0.157752       0.094459\n",
       "RF_Black   0.227421  0.258004   0.254562  0.166186       0.093827\n",
       "RF_AIAN    0.190734  0.275136   0.234849  0.208997       0.090285\n",
       "RF_NHPI    0.216859  0.238834   0.266594  0.183109       0.094604"
      ]
     },
     "execution_count": 31,
     "metadata": {},
     "output_type": "execute_result"
    }
   ],
   "source": [
    "\n",
    "rfdf=pd.DataFrame(data=[RF_Asian,RF_White,RF_Black,RF_AIAN,RF_NHPI],index=[\"RF_Asian\",\"RF_White\",\"RF_Black\",\"RF_AIAN\",\"RF_NHPI\"],columns=policy)\n",
    "rfdf"
   ]
  },
  {
   "cell_type": "code",
   "execution_count": 32,
   "metadata": {},
   "outputs": [
    {
     "data": {
      "text/html": [
       "<div>\n",
       "<style scoped>\n",
       "    .dataframe tbody tr th:only-of-type {\n",
       "        vertical-align: middle;\n",
       "    }\n",
       "\n",
       "    .dataframe tbody tr th {\n",
       "        vertical-align: top;\n",
       "    }\n",
       "\n",
       "    .dataframe thead th {\n",
       "        text-align: right;\n",
       "    }\n",
       "</style>\n",
       "<table border=\"1\" class=\"dataframe\">\n",
       "  <thead>\n",
       "    <tr style=\"text-align: right;\">\n",
       "      <th></th>\n",
       "      <th>Stay_Home</th>\n",
       "      <th>Cls_Rest</th>\n",
       "      <th>Cls_Buss.</th>\n",
       "      <th>FaceMask</th>\n",
       "      <th>Trav_Quar_Ban</th>\n",
       "      <th>RACE_MSE</th>\n",
       "    </tr>\n",
       "  </thead>\n",
       "  <tbody>\n",
       "    <tr>\n",
       "      <th>RF_Asian</th>\n",
       "      <td>0.000</td>\n",
       "      <td>0.001</td>\n",
       "      <td>0.009</td>\n",
       "      <td>0.024</td>\n",
       "      <td>0.011</td>\n",
       "      <td>0.045</td>\n",
       "    </tr>\n",
       "    <tr>\n",
       "      <th>RF_White</th>\n",
       "      <td>0.003</td>\n",
       "      <td>0.004</td>\n",
       "      <td>0.001</td>\n",
       "      <td>0.012</td>\n",
       "      <td>0.007</td>\n",
       "      <td>0.027</td>\n",
       "    </tr>\n",
       "    <tr>\n",
       "      <th>RF_Black</th>\n",
       "      <td>0.001</td>\n",
       "      <td>0.000</td>\n",
       "      <td>0.000</td>\n",
       "      <td>0.004</td>\n",
       "      <td>0.006</td>\n",
       "      <td>0.011</td>\n",
       "    </tr>\n",
       "    <tr>\n",
       "      <th>RF_AIAN</th>\n",
       "      <td>0.019</td>\n",
       "      <td>0.005</td>\n",
       "      <td>0.008</td>\n",
       "      <td>0.033</td>\n",
       "      <td>0.001</td>\n",
       "      <td>0.066</td>\n",
       "    </tr>\n",
       "    <tr>\n",
       "      <th>RF_NHPI</th>\n",
       "      <td>0.000</td>\n",
       "      <td>0.005</td>\n",
       "      <td>0.001</td>\n",
       "      <td>0.001</td>\n",
       "      <td>0.007</td>\n",
       "      <td>0.014</td>\n",
       "    </tr>\n",
       "    <tr>\n",
       "      <th>Policy_MSE</th>\n",
       "      <td>0.023</td>\n",
       "      <td>0.015</td>\n",
       "      <td>0.019</td>\n",
       "      <td>0.074</td>\n",
       "      <td>0.032</td>\n",
       "      <td>0.163</td>\n",
       "    </tr>\n",
       "  </tbody>\n",
       "</table>\n",
       "</div>"
      ],
      "text/plain": [
       "            Stay_Home  Cls_Rest  Cls_Buss.  FaceMask  Trav_Quar_Ban  RACE_MSE\n",
       "RF_Asian        0.000     0.001      0.009     0.024          0.011     0.045\n",
       "RF_White        0.003     0.004      0.001     0.012          0.007     0.027\n",
       "RF_Black        0.001     0.000      0.000     0.004          0.006     0.011\n",
       "RF_AIAN         0.019     0.005      0.008     0.033          0.001     0.066\n",
       "RF_NHPI         0.000     0.005      0.001     0.001          0.007     0.014\n",
       "Policy_MSE      0.023     0.015      0.019     0.074          0.032     0.163"
      ]
     },
     "execution_count": 32,
     "metadata": {},
     "output_type": "execute_result"
    }
   ],
   "source": [
    "rfdf[\"Stay_Home\"]=abs(rf_country[0] - rfdf['Stay_Home'])/rf_country[0] # abs(country - state/country)\n",
    "rfdf[\"Cls_Rest\"]= abs(rf_country[1] -rfdf['Cls_Rest'])/rf_country[1]\n",
    "rfdf[\"Cls_Buss.\"]=abs(rf_country[2] -rfdf['Cls_Buss.'])/rf_country[2]\n",
    "rfdf[\"FaceMask\"]= abs(rf_country[3] -rfdf['FaceMask'])/rf_country[3]\n",
    "rfdf[\"Trav_Quar_Ban\"]=abs(rf_country[4] -rfdf['Trav_Quar_Ban'])/rf_country[4]\n",
    "\n",
    "rfdf=((rfdf.iloc[:,-5:])**2).round(3)\n",
    "rfdf[\"RACE_MSE\"]=rfdf.sum(axis=1)\n",
    "rfdf.loc[\"Policy_MSE\"]=[x for x in rfdf.sum(axis=0)]\n",
    "rfdf\n"
   ]
  },
  {
   "cell_type": "code",
   "execution_count": 31,
   "metadata": {},
   "outputs": [
    {
     "name": "stdout",
     "output_type": "stream",
     "text": [
      "            Stay_Home  Cls_Rest  Cls_Buss.  FaceMask  Trav_Quar_Ban  RACE_MSE\n",
      "GB_Asian        0.001     0.019      0.028     0.162          0.013     0.223\n",
      "GB_White        0.006     0.051      0.000     0.033          0.008     0.098\n",
      "GB_Black        0.025     0.013      0.016     0.024          0.001     0.079\n",
      "GB_AIAN         0.144     0.122      0.064     0.084          0.069     0.483\n",
      "GB_NHPI         0.040     0.035      0.138     0.039          0.102     0.354\n",
      "Policy_MSE      0.216     0.240      0.246     0.342          0.193     1.237\n",
      "\n",
      "            Stay_Home  Cls_Rest  Cls_Buss.  FaceMask  Trav_Quar_Ban  RACE_MSE\n",
      "RF_Asian        0.000     0.001      0.009     0.024          0.011     0.045\n",
      "RF_White        0.003     0.004      0.001     0.012          0.007     0.027\n",
      "RF_Black        0.001     0.000      0.000     0.004          0.006     0.011\n",
      "RF_AIAN         0.019     0.005      0.008     0.033          0.001     0.066\n",
      "RF_NHPI         0.000     0.005      0.001     0.001          0.007     0.014\n",
      "Policy_MSE      0.023     0.015      0.019     0.074          0.032     0.163\n"
     ]
    }
   ],
   "source": [
    "print(gbdf)\n",
    "print(\"\")\n",
    "print(rfdf)"
   ]
  },
  {
   "cell_type": "code",
   "execution_count": 48,
   "metadata": {},
   "outputs": [
    {
     "data": {
      "text/html": [
       "<div>\n",
       "<style scoped>\n",
       "    .dataframe tbody tr th:only-of-type {\n",
       "        vertical-align: middle;\n",
       "    }\n",
       "\n",
       "    .dataframe tbody tr th {\n",
       "        vertical-align: top;\n",
       "    }\n",
       "\n",
       "    .dataframe thead th {\n",
       "        text-align: right;\n",
       "    }\n",
       "</style>\n",
       "<table border=\"1\" class=\"dataframe\">\n",
       "  <thead>\n",
       "    <tr style=\"text-align: right;\">\n",
       "      <th></th>\n",
       "      <th>Stay_Home</th>\n",
       "      <th>Cls_Rest</th>\n",
       "      <th>Cls_Buss.</th>\n",
       "      <th>FaceMask</th>\n",
       "      <th>Trav_Quar_Ban</th>\n",
       "    </tr>\n",
       "  </thead>\n",
       "  <tbody>\n",
       "    <tr>\n",
       "      <th>GB_Asian</th>\n",
       "      <td>0.001</td>\n",
       "      <td>0.019</td>\n",
       "      <td>0.028</td>\n",
       "      <td>0.162</td>\n",
       "      <td>0.013</td>\n",
       "    </tr>\n",
       "    <tr>\n",
       "      <th>GB_White</th>\n",
       "      <td>0.006</td>\n",
       "      <td>0.051</td>\n",
       "      <td>0.000</td>\n",
       "      <td>0.033</td>\n",
       "      <td>0.008</td>\n",
       "    </tr>\n",
       "    <tr>\n",
       "      <th>GB_Black</th>\n",
       "      <td>0.025</td>\n",
       "      <td>0.013</td>\n",
       "      <td>0.016</td>\n",
       "      <td>0.024</td>\n",
       "      <td>0.001</td>\n",
       "    </tr>\n",
       "    <tr>\n",
       "      <th>GB_AIAN</th>\n",
       "      <td>0.144</td>\n",
       "      <td>0.122</td>\n",
       "      <td>0.064</td>\n",
       "      <td>0.084</td>\n",
       "      <td>0.069</td>\n",
       "    </tr>\n",
       "    <tr>\n",
       "      <th>GB_NHPI</th>\n",
       "      <td>0.040</td>\n",
       "      <td>0.035</td>\n",
       "      <td>0.138</td>\n",
       "      <td>0.039</td>\n",
       "      <td>0.102</td>\n",
       "    </tr>\n",
       "  </tbody>\n",
       "</table>\n",
       "</div>"
      ],
      "text/plain": [
       "          Stay_Home  Cls_Rest  Cls_Buss.  FaceMask  Trav_Quar_Ban\n",
       "GB_Asian      0.001     0.019      0.028     0.162          0.013\n",
       "GB_White      0.006     0.051      0.000     0.033          0.008\n",
       "GB_Black      0.025     0.013      0.016     0.024          0.001\n",
       "GB_AIAN       0.144     0.122      0.064     0.084          0.069\n",
       "GB_NHPI       0.040     0.035      0.138     0.039          0.102"
      ]
     },
     "execution_count": 48,
     "metadata": {},
     "output_type": "execute_result"
    }
   ],
   "source": [
    "gbdf[:-1].iloc[:,:-1]"
   ]
  },
  {
   "cell_type": "code",
   "execution_count": 49,
   "metadata": {},
   "outputs": [
    {
     "data": {
      "text/plain": [
       "[<matplotlib.lines.Line2D at 0x2c9a359e5f8>,\n",
       " <matplotlib.lines.Line2D at 0x2c9a35ad128>,\n",
       " <matplotlib.lines.Line2D at 0x2c9a35ad208>,\n",
       " <matplotlib.lines.Line2D at 0x2c9a35ad2e8>,\n",
       " <matplotlib.lines.Line2D at 0x2c9a35ad3c8>]"
      ]
     },
     "execution_count": 49,
     "metadata": {},
     "output_type": "execute_result"
    },
    {
     "data": {
      "image/png": "[encoded data removed]",
      "text/plain": [
       "<Figure size 432x288 with 1 Axes>"
      ]
     },
     "metadata": {
      "needs_background": "light"
     },
     "output_type": "display_data"
    }
   ],
   "source": [
    "import matplotlib.pyplot as plt\n",
    "plt.plot(gbdf[:-1].iloc[:,:-1])\n",
    "# plt.legend(True)"
   ]
  },
  {
   "cell_type": "code",
   "execution_count": 145,
   "metadata": {},
   "outputs": [
    {
     "data": {
      "image/png": "[encoded data removed]",
      "text/plain": [
       "<Figure size 432x288 with 1 Axes>"
      ]
     },
     "metadata": {},
     "output_type": "display_data"
    }
   ],
   "source": [
    "plt.bar(policy,RF_Asian,color='r')\n",
    "plt.bar(policy,RF_White,bottom=RF_Asian,color='b')\n",
    "plt.bar(policy,RF_Black,bottom=[RF_Asian[i]+RF_White[i] for i in range(len(RF_Black))],color='g')\n",
    "plt.bar(policy,RF_AIAN,bottom=[RF_Asian[i]+RF_White[i]+RF_Black[i] for i in range(len(RF_Black))],color='y')\n",
    "plt.bar(policy,RF_NHPI,bottom=[RF_Asian[i]+RF_White[i]+RF_Black[i]+RF_AIAN[i] for i in range(len(RF_Black))],color='m')\n",
    "plt.legend([\"Asian\",\"White\",\"Black\",\"AIAN\",\"NHPI\"])\n",
    "plt.title(\"Policy effectiveness on the Races using Random Forest\")\n",
    "plt.xlabel(\"Policies\")\n",
    "plt.ylabel(\"Policy Effectiveness\")\n",
    "plt.show()\n"
   ]
  },
  {
   "cell_type": "code",
   "execution_count": 142,
   "metadata": {},
   "outputs": [
    {
     "data": {
      "image/png": "[encoded data removed]",
      "text/plain": [
       "<Figure size 432x288 with 1 Axes>"
      ]
     },
     "metadata": {},
     "output_type": "display_data"
    }
   ],
   "source": [
    "plt.bar(policy,GB_Asian,color='r')\n",
    "plt.bar(policy,GB_White,bottom=GB_Asian,color='b')\n",
    "plt.bar(policy,GB_Black,bottom=[GB_Asian[i]+GB_White[i] for i in range(len(GB_Black))],color='g')\n",
    "plt.bar(policy,GB_AIAN,bottom=[GB_Asian[i]+GB_White[i]+GB_Black[i] for i in range(len(GB_Black))],color='y')\n",
    "plt.bar(policy,GB_NHPI,bottom=[GB_Asian[i]+GB_White[i]+GB_Black[i]+GB_AIAN[i] for i in range(len(GB_Black))],color='m')\n",
    "plt.legend([\"Asian\",\"White\",\"Black\",\"AIAN\",\"NHPI\"])\n",
    "plt.title(\"Policy effectiveness on the Races using Gradient Boosting\")\n",
    "plt.xlabel(\"Policies\")\n",
    "plt.ylabel(\"Policy Effectiveness\")\n",
    "plt.show()\n"
   ]
  },
  {
   "cell_type": "code",
   "execution_count": 146,
   "metadata": {},
   "outputs": [
    {
     "data": {
      "text/html": [
       "<div>\n",
       "<style scoped>\n",
       "    .dataframe tbody tr th:only-of-type {\n",
       "        vertical-align: middle;\n",
       "    }\n",
       "\n",
       "    .dataframe tbody tr th {\n",
       "        vertical-align: top;\n",
       "    }\n",
       "\n",
       "    .dataframe thead th {\n",
       "        text-align: right;\n",
       "    }\n",
       "</style>\n",
       "<table border=\"1\" class=\"dataframe\">\n",
       "  <thead>\n",
       "    <tr style=\"text-align: right;\">\n",
       "      <th></th>\n",
       "      <th>Stay_Home</th>\n",
       "      <th>Cls_Rest</th>\n",
       "      <th>Cls_Buss.</th>\n",
       "      <th>FaceMask</th>\n",
       "      <th>Trav_Quar_Ban</th>\n",
       "    </tr>\n",
       "  </thead>\n",
       "  <tbody>\n",
       "    <tr>\n",
       "      <th>RF_Asian</th>\n",
       "      <td>0.224812</td>\n",
       "      <td>0.265077</td>\n",
       "      <td>0.282316</td>\n",
       "      <td>0.149571</td>\n",
       "      <td>0.078224</td>\n",
       "    </tr>\n",
       "    <tr>\n",
       "      <th>RF_White</th>\n",
       "      <td>0.209599</td>\n",
       "      <td>0.273907</td>\n",
       "      <td>0.264282</td>\n",
       "      <td>0.157752</td>\n",
       "      <td>0.094459</td>\n",
       "    </tr>\n",
       "    <tr>\n",
       "      <th>RF_Black</th>\n",
       "      <td>0.227421</td>\n",
       "      <td>0.258004</td>\n",
       "      <td>0.254562</td>\n",
       "      <td>0.166186</td>\n",
       "      <td>0.093827</td>\n",
       "    </tr>\n",
       "    <tr>\n",
       "      <th>RF_AIAN</th>\n",
       "      <td>0.190734</td>\n",
       "      <td>0.275136</td>\n",
       "      <td>0.234849</td>\n",
       "      <td>0.208997</td>\n",
       "      <td>0.090285</td>\n",
       "    </tr>\n",
       "    <tr>\n",
       "      <th>RF_NHPI</th>\n",
       "      <td>0.216859</td>\n",
       "      <td>0.238834</td>\n",
       "      <td>0.266594</td>\n",
       "      <td>0.183109</td>\n",
       "      <td>0.094604</td>\n",
       "    </tr>\n",
       "  </tbody>\n",
       "</table>\n",
       "</div>"
      ],
      "text/plain": [
       "          Stay_Home  Cls_Rest  Cls_Buss.  FaceMask  Trav_Quar_Ban\n",
       "RF_Asian   0.224812  0.265077   0.282316  0.149571       0.078224\n",
       "RF_White   0.209599  0.273907   0.264282  0.157752       0.094459\n",
       "RF_Black   0.227421  0.258004   0.254562  0.166186       0.093827\n",
       "RF_AIAN    0.190734  0.275136   0.234849  0.208997       0.090285\n",
       "RF_NHPI    0.216859  0.238834   0.266594  0.183109       0.094604"
      ]
     },
     "execution_count": 146,
     "metadata": {},
     "output_type": "execute_result"
    }
   ],
   "source": [
    "temp_rf=pd.DataFrame(data=[RF_Asian,RF_White,RF_Black,RF_AIAN,RF_NHPI],index=[\"RF_Asian\",\"RF_White\",\"RF_Black\",\"RF_AIAN\",\"RF_NHPI\"],columns=policy)\n",
    "temp_rf"
   ]
  },
  {
   "cell_type": "code",
   "execution_count": 159,
   "metadata": {},
   "outputs": [
    {
     "data": {
      "text/plain": [
       "<AxesSubplot:>"
      ]
     },
     "execution_count": 159,
     "metadata": {},
     "output_type": "execute_result"
    },
    {
     "data": {
      "image/png": "[encoded data removed]",
      "text/plain": [
       "<Figure size 720x720 with 1 Axes>"
      ]
     },
     "metadata": {},
     "output_type": "display_data"
    }
   ],
   "source": [
    "temp_rf.plot(kind=\"bar\",stacked=True,figsize=(10,10))"
   ]
  },
  {
   "cell_type": "code",
   "execution_count": 34,
   "metadata": {},
   "outputs": [
    {
     "data": {
      "text/html": [
       "<div>\n",
       "<style scoped>\n",
       "    .dataframe tbody tr th:only-of-type {\n",
       "        vertical-align: middle;\n",
       "    }\n",
       "\n",
       "    .dataframe tbody tr th {\n",
       "        vertical-align: top;\n",
       "    }\n",
       "\n",
       "    .dataframe thead th {\n",
       "        text-align: right;\n",
       "    }\n",
       "</style>\n",
       "<table border=\"1\" class=\"dataframe\">\n",
       "  <thead>\n",
       "    <tr style=\"text-align: right;\">\n",
       "      <th></th>\n",
       "      <th>Stay_Home</th>\n",
       "      <th>Cls_Rest</th>\n",
       "      <th>Cls_Buss.</th>\n",
       "      <th>FaceMask</th>\n",
       "      <th>Trav_Quar_Ban</th>\n",
       "    </tr>\n",
       "  </thead>\n",
       "  <tbody>\n",
       "    <tr>\n",
       "      <th>GB_Asian</th>\n",
       "      <td>0.200797</td>\n",
       "      <td>0.323977</td>\n",
       "      <td>0.252691</td>\n",
       "      <td>0.118534</td>\n",
       "      <td>0.104001</td>\n",
       "    </tr>\n",
       "    <tr>\n",
       "      <th>GB_White</th>\n",
       "      <td>0.190880</td>\n",
       "      <td>0.349588</td>\n",
       "      <td>0.212437</td>\n",
       "      <td>0.162175</td>\n",
       "      <td>0.084920</td>\n",
       "    </tr>\n",
       "    <tr>\n",
       "      <th>GB_Black</th>\n",
       "      <td>0.239368</td>\n",
       "      <td>0.252595</td>\n",
       "      <td>0.243512</td>\n",
       "      <td>0.167569</td>\n",
       "      <td>0.096956</td>\n",
       "    </tr>\n",
       "    <tr>\n",
       "      <th>GB_AIAN</th>\n",
       "      <td>0.128328</td>\n",
       "      <td>0.384892</td>\n",
       "      <td>0.161855</td>\n",
       "      <td>0.256107</td>\n",
       "      <td>0.068818</td>\n",
       "    </tr>\n",
       "    <tr>\n",
       "      <th>GB_NHPI</th>\n",
       "      <td>0.248013</td>\n",
       "      <td>0.232104</td>\n",
       "      <td>0.296709</td>\n",
       "      <td>0.159534</td>\n",
       "      <td>0.063640</td>\n",
       "    </tr>\n",
       "  </tbody>\n",
       "</table>\n",
       "</div>"
      ],
      "text/plain": [
       "          Stay_Home  Cls_Rest  Cls_Buss.  FaceMask  Trav_Quar_Ban\n",
       "GB_Asian   0.200797  0.323977   0.252691  0.118534       0.104001\n",
       "GB_White   0.190880  0.349588   0.212437  0.162175       0.084920\n",
       "GB_Black   0.239368  0.252595   0.243512  0.167569       0.096956\n",
       "GB_AIAN    0.128328  0.384892   0.161855  0.256107       0.068818\n",
       "GB_NHPI    0.248013  0.232104   0.296709  0.159534       0.063640"
      ]
     },
     "execution_count": 34,
     "metadata": {},
     "output_type": "execute_result"
    }
   ],
   "source": [
    "import pandas as pd\n",
    "temp_gb=pd.DataFrame(data=[GB_Asian\n",
    ",GB_White\n",
    ",GB_Black\n",
    ",GB_AIAN\t\n",
    ",GB_NHPI],index=[\"GB_Asian\",\"GB_White\",\"GB_Black\",\"GB_AIAN\",\"GB_NHPI\"],columns=policy)\n",
    "temp_gb"
   ]
  },
  {
   "cell_type": "code",
   "execution_count": 43,
   "metadata": {},
   "outputs": [
    {
     "data": {
      "image/png": "[encoded data removed]",
      "text/plain": [
       "<Figure size 720x720 with 1 Axes>"
      ]
     },
     "metadata": {},
     "output_type": "display_data"
    },
    {
     "data": {
      "text/plain": [
       "<Figure size 432x288 with 0 Axes>"
      ]
     },
     "metadata": {},
     "output_type": "display_data"
    }
   ],
   "source": [
    "plt.style.use('ggplot')\n",
    "\n",
    "ax_gb = temp_gb.plot(kind='bar',stacked=True,figsize=(10,10),rot=45,fontsize=14)\n",
    "\n",
    "# .patches is everything inside of the chart\n",
    "for rect in ax_gb.patches:\n",
    "    # Find where everything is located\n",
    "    height = rect.get_height().round(3)\n",
    "    width = rect.get_width().round(3)\n",
    "    x = rect.get_x()\n",
    "    y = rect.get_y()\n",
    "    \n",
    "    # The height of the bar is the data value and can be used as the label\n",
    "    label_text = f'{height}'  # f'{height:.2f}' to format decimal values\n",
    "    \n",
    "    # ax.text(x, y, text)\n",
    "    label_x = x + width / 2\n",
    "    label_y = y + height / 2\n",
    "\n",
    "    # plot only when height is greater than specified value\n",
    "    if height > 0:\n",
    "        ax_gb.text(label_x.round(3), label_y.round(3), label_text, ha='center', va='center', fontsize=12)\n",
    "    \n",
    "ax_gb.legend(bbox_to_anchor=(0.05, 1.00), loc='upper left', borderaxespad=0.,ncol=5)    \n",
    "ax_gb.set_ylabel(\"Policy Effectiveness\", fontsize=18,weight='bold')\n",
    "ax_gb.set_xlabel(\"Races\", fontsize=18,weight='bold')\n",
    "plt.title(\"Policy effectiveness on the Races using Gradient Boosting\",fontsize=14,weight='bold')\n",
    "plt.grid(True)\n",
    "plt.show()\n",
    "\n",
    "plt.savefig(\"race_gb.png\")"
   ]
  },
  {
   "cell_type": "code",
   "execution_count": 156,
   "metadata": {},
   "outputs": [
    {
     "data": {
      "text/html": [
       "<div>\n",
       "<style scoped>\n",
       "    .dataframe tbody tr th:only-of-type {\n",
       "        vertical-align: middle;\n",
       "    }\n",
       "\n",
       "    .dataframe tbody tr th {\n",
       "        vertical-align: top;\n",
       "    }\n",
       "\n",
       "    .dataframe thead th {\n",
       "        text-align: right;\n",
       "    }\n",
       "</style>\n",
       "<table border=\"1\" class=\"dataframe\">\n",
       "  <thead>\n",
       "    <tr style=\"text-align: right;\">\n",
       "      <th></th>\n",
       "      <th>Stay_Home</th>\n",
       "      <th>Cls_Rest</th>\n",
       "      <th>Cls_Buss.</th>\n",
       "      <th>FaceMask</th>\n",
       "      <th>Trav_Quar_Ban</th>\n",
       "    </tr>\n",
       "  </thead>\n",
       "  <tbody>\n",
       "    <tr>\n",
       "      <th>GB_Asian</th>\n",
       "      <td>0.200797</td>\n",
       "      <td>0.323977</td>\n",
       "      <td>0.252691</td>\n",
       "      <td>0.118534</td>\n",
       "      <td>0.104001</td>\n",
       "    </tr>\n",
       "    <tr>\n",
       "      <th>GB_White</th>\n",
       "      <td>0.190880</td>\n",
       "      <td>0.349588</td>\n",
       "      <td>0.212437</td>\n",
       "      <td>0.162175</td>\n",
       "      <td>0.084920</td>\n",
       "    </tr>\n",
       "    <tr>\n",
       "      <th>GB_Black</th>\n",
       "      <td>0.239368</td>\n",
       "      <td>0.252595</td>\n",
       "      <td>0.243512</td>\n",
       "      <td>0.167569</td>\n",
       "      <td>0.096956</td>\n",
       "    </tr>\n",
       "    <tr>\n",
       "      <th>GB_AIAN</th>\n",
       "      <td>0.128328</td>\n",
       "      <td>0.384892</td>\n",
       "      <td>0.161855</td>\n",
       "      <td>0.256107</td>\n",
       "      <td>0.068818</td>\n",
       "    </tr>\n",
       "    <tr>\n",
       "      <th>GB_NHPI</th>\n",
       "      <td>0.248013</td>\n",
       "      <td>0.232104</td>\n",
       "      <td>0.296709</td>\n",
       "      <td>0.159534</td>\n",
       "      <td>0.063640</td>\n",
       "    </tr>\n",
       "  </tbody>\n",
       "</table>\n",
       "</div>"
      ],
      "text/plain": [
       "          Stay_Home  Cls_Rest  Cls_Buss.  FaceMask  Trav_Quar_Ban\n",
       "GB_Asian   0.200797  0.323977   0.252691  0.118534       0.104001\n",
       "GB_White   0.190880  0.349588   0.212437  0.162175       0.084920\n",
       "GB_Black   0.239368  0.252595   0.243512  0.167569       0.096956\n",
       "GB_AIAN    0.128328  0.384892   0.161855  0.256107       0.068818\n",
       "GB_NHPI    0.248013  0.232104   0.296709  0.159534       0.063640"
      ]
     },
     "execution_count": 156,
     "metadata": {},
     "output_type": "execute_result"
    }
   ],
   "source": [
    "temp_gb"
   ]
  },
  {
   "cell_type": "code",
   "execution_count": 51,
   "metadata": {},
   "outputs": [
    {
     "ename": "NameError",
     "evalue": "name 'temp_rf' is not defined",
     "output_type": "error",
     "traceback": [
      "\u001b[1;31m---------------------------------------------------------------------------\u001b[0m",
      "\u001b[1;31mNameError\u001b[0m                                 Traceback (most recent call last)",
      "\u001b[1;32m~\\AppData\\Local\\Temp/ipykernel_272/1329875096.py\u001b[0m in \u001b[0;36m<module>\u001b[1;34m\u001b[0m\n\u001b[0;32m      1\u001b[0m \u001b[0mplt\u001b[0m\u001b[1;33m.\u001b[0m\u001b[0mstyle\u001b[0m\u001b[1;33m.\u001b[0m\u001b[0muse\u001b[0m\u001b[1;33m(\u001b[0m\u001b[1;34m'ggplot'\u001b[0m\u001b[1;33m)\u001b[0m\u001b[1;33m\u001b[0m\u001b[1;33m\u001b[0m\u001b[0m\n\u001b[0;32m      2\u001b[0m \u001b[1;33m\u001b[0m\u001b[0m\n\u001b[1;32m----> 3\u001b[1;33m \u001b[0max_rf\u001b[0m \u001b[1;33m=\u001b[0m \u001b[0mtemp_rf\u001b[0m\u001b[1;33m.\u001b[0m\u001b[0mplot\u001b[0m\u001b[1;33m(\u001b[0m\u001b[0mkind\u001b[0m\u001b[1;33m=\u001b[0m\u001b[1;34m'bar'\u001b[0m\u001b[1;33m,\u001b[0m\u001b[0mstacked\u001b[0m\u001b[1;33m=\u001b[0m\u001b[1;32mTrue\u001b[0m\u001b[1;33m,\u001b[0m\u001b[0mfigsize\u001b[0m\u001b[1;33m=\u001b[0m\u001b[1;33m(\u001b[0m\u001b[1;36m10\u001b[0m\u001b[1;33m,\u001b[0m\u001b[1;36m10\u001b[0m\u001b[1;33m)\u001b[0m\u001b[1;33m)\u001b[0m\u001b[1;33m\u001b[0m\u001b[1;33m\u001b[0m\u001b[0m\n\u001b[0m\u001b[0;32m      4\u001b[0m \u001b[1;33m\u001b[0m\u001b[0m\n\u001b[0;32m      5\u001b[0m \u001b[1;31m# .patches is everything inside of the chart\u001b[0m\u001b[1;33m\u001b[0m\u001b[1;33m\u001b[0m\u001b[1;33m\u001b[0m\u001b[0m\n",
      "\u001b[1;31mNameError\u001b[0m: name 'temp_rf' is not defined"
     ]
    }
   ],
   "source": [
    "plt.style.use('ggplot')\n",
    "\n",
    "ax_rf = temp_rf.plot(kind='bar',stacked=True,figsize=(10,10))\n",
    "\n",
    "# .patches is everything inside of the chart\n",
    "for rect in ax_rf.patches:\n",
    "    # Find where everything is located\n",
    "    height = rect.get_height().round(3)\n",
    "    width = rect.get_width().round(3)\n",
    "    x = rect.get_x()\n",
    "    y = rect.get_y()\n",
    "    \n",
    "    # The height of the bar is the data value and can be used as the label\n",
    "    label_text = f'{height}'  # f'{height:.2f}' to format decimal values\n",
    "    \n",
    "    # ax.text(x, y, text)\n",
    "    label_x = x + width / 2\n",
    "    label_y = y + height / 2\n",
    "\n",
    "    # plot only when height is greater than specified value\n",
    "    if height > 0:\n",
    "        ax_rf.text(label_x.round(3), label_y.round(3), label_text, ha='center', va='center', fontsize=12)\n",
    "    \n",
    "ax_rf.legend(bbox_to_anchor=(0.5, 1.00), loc='upper center', borderaxespad=0.3,ncol=5)    \n",
    "ax_rf.set_ylabel(\"Policy Effectiveness\", fontsize=18)\n",
    "ax_rf.set_xlabel(\"Races\", fontsize=18)\n",
    "plt.title(\"Policy effectiveness on the Races using Random Forest\")\n",
    "plt.show()\n",
    "\n",
    "plt.savefig(\"race_rf.png\")"
   ]
  },
  {
   "cell_type": "code",
   "execution_count": 52,
   "metadata": {},
   "outputs": [],
   "source": [
    "gb_country = [round(i,3) for i in [0.20662415, 0.28510733, 0.21638292, 0.19848551, 0.09340009]]\n",
    "rf_country = [round(i,3) for i in [0.22076113, 0.25715806, 0.25806681, 0.17685803, 0.08715597]]"
   ]
  },
  {
   "cell_type": "code",
   "execution_count": 53,
   "metadata": {},
   "outputs": [
    {
     "data": {
      "text/html": [
       "<div>\n",
       "<style scoped>\n",
       "    .dataframe tbody tr th:only-of-type {\n",
       "        vertical-align: middle;\n",
       "    }\n",
       "\n",
       "    .dataframe tbody tr th {\n",
       "        vertical-align: top;\n",
       "    }\n",
       "\n",
       "    .dataframe thead th {\n",
       "        text-align: right;\n",
       "    }\n",
       "</style>\n",
       "<table border=\"1\" class=\"dataframe\">\n",
       "  <thead>\n",
       "    <tr style=\"text-align: right;\">\n",
       "      <th></th>\n",
       "      <th>Stay_Home</th>\n",
       "      <th>Cls_Rest</th>\n",
       "      <th>Cls_Buss.</th>\n",
       "      <th>FaceMask</th>\n",
       "      <th>Trav_Quar_Ban</th>\n",
       "    </tr>\n",
       "  </thead>\n",
       "  <tbody>\n",
       "    <tr>\n",
       "      <th>RF</th>\n",
       "      <td>0.221</td>\n",
       "      <td>0.257</td>\n",
       "      <td>0.258</td>\n",
       "      <td>0.177</td>\n",
       "      <td>0.087</td>\n",
       "    </tr>\n",
       "    <tr>\n",
       "      <th>GB</th>\n",
       "      <td>0.207</td>\n",
       "      <td>0.285</td>\n",
       "      <td>0.216</td>\n",
       "      <td>0.198</td>\n",
       "      <td>0.093</td>\n",
       "    </tr>\n",
       "  </tbody>\n",
       "</table>\n",
       "</div>"
      ],
      "text/plain": [
       "    Stay_Home  Cls_Rest  Cls_Buss.  FaceMask  Trav_Quar_Ban\n",
       "RF      0.221     0.257      0.258     0.177          0.087\n",
       "GB      0.207     0.285      0.216     0.198          0.093"
      ]
     },
     "execution_count": 53,
     "metadata": {},
     "output_type": "execute_result"
    }
   ],
   "source": [
    "import pandas as pd \n",
    "import matplotlib.pyplot as plt\n",
    "df=pd.DataFrame(data=[rf_country,gb_country],index=[\"RF\",\"GB\"],columns=policy)\n",
    "df"
   ]
  },
  {
   "cell_type": "code",
   "execution_count": 18,
   "metadata": {},
   "outputs": [
    {
     "data": {
      "image/png": "[encoded data removed]",
      "text/plain": [
       "<Figure size 432x288 with 1 Axes>"
      ]
     },
     "metadata": {
      "needs_background": "light"
     },
     "output_type": "display_data"
    }
   ],
   "source": [
    "ax1=df.T.plot(kind='bar',rot=45,fontsize=14)\n",
    "for rec in ax1.patches:\n",
    "    height= rec.get_height().round(3)\n",
    "    width = rec.get_width().round(3)\n",
    "    x=rec.get_x()\n",
    "    y=rec.get_y()\n",
    "    label_x = x + width / 2\n",
    "    label_y = 0.06 #y + height / 2\n",
    "    label_text = f'{height}'\n",
    "    if height>0:\n",
    "        ax1.text(label_x,label_y,label_text,ha='center',va='top',fontsize=12,rotation=90)\n",
    "    \n",
    "ax1.legend(bbox_to_anchor=(0.9,0.9), loc='center', borderaxespad=0.)\n",
    "ax1.set_ylabel(\"Policy Effectiveness\", fontsize=14,weight='bold')\n",
    "ax1.set_xlabel(\"Policies\", fontsize=14,weight='bold')\n",
    "plt.title(\"Policy effectiveness of Confirmed cases on Country-Level\",weight='bold',fontsize=12)\n",
    "plt.show()"
   ]
  },
  {
   "cell_type": "code",
   "execution_count": 47,
   "metadata": {},
   "outputs": [],
   "source": [
    "gb_death=[round(i,3) for i in [0.30725152, 0.15806256, 0.18431637, 0.21624268, 0.13412687]]\n",
    "rf_death=[round(i,3) for i in [0.28018098, 0.17253167, 0.20428046, 0.19945049, 0.14355639]]"
   ]
  },
  {
   "cell_type": "code",
   "execution_count": 48,
   "metadata": {},
   "outputs": [
    {
     "data": {
      "text/html": [
       "<div>\n",
       "<style scoped>\n",
       "    .dataframe tbody tr th:only-of-type {\n",
       "        vertical-align: middle;\n",
       "    }\n",
       "\n",
       "    .dataframe tbody tr th {\n",
       "        vertical-align: top;\n",
       "    }\n",
       "\n",
       "    .dataframe thead th {\n",
       "        text-align: right;\n",
       "    }\n",
       "</style>\n",
       "<table border=\"1\" class=\"dataframe\">\n",
       "  <thead>\n",
       "    <tr style=\"text-align: right;\">\n",
       "      <th></th>\n",
       "      <th>Stay_Home</th>\n",
       "      <th>Cls_Rest</th>\n",
       "      <th>Cls_Buss.</th>\n",
       "      <th>FaceMask</th>\n",
       "      <th>Trav_Quar_Ban</th>\n",
       "    </tr>\n",
       "  </thead>\n",
       "  <tbody>\n",
       "    <tr>\n",
       "      <th>RF</th>\n",
       "      <td>0.280</td>\n",
       "      <td>0.173</td>\n",
       "      <td>0.204</td>\n",
       "      <td>0.199</td>\n",
       "      <td>0.144</td>\n",
       "    </tr>\n",
       "    <tr>\n",
       "      <th>GB</th>\n",
       "      <td>0.307</td>\n",
       "      <td>0.158</td>\n",
       "      <td>0.184</td>\n",
       "      <td>0.216</td>\n",
       "      <td>0.134</td>\n",
       "    </tr>\n",
       "  </tbody>\n",
       "</table>\n",
       "</div>"
      ],
      "text/plain": [
       "    Stay_Home  Cls_Rest  Cls_Buss.  FaceMask  Trav_Quar_Ban\n",
       "RF      0.280     0.173      0.204     0.199          0.144\n",
       "GB      0.307     0.158      0.184     0.216          0.134"
      ]
     },
     "execution_count": 48,
     "metadata": {},
     "output_type": "execute_result"
    }
   ],
   "source": [
    "df_death=pd.DataFrame(data=[rf_death,gb_death],index=[\"RF\",\"GB\"],columns=policy)\n",
    "df_death"
   ]
  },
  {
   "cell_type": "code",
   "execution_count": 24,
   "metadata": {},
   "outputs": [
    {
     "data": {
      "image/png": "[encoded data removed]",
      "text/plain": [
       "<Figure size 432x288 with 1 Axes>"
      ]
     },
     "metadata": {
      "needs_background": "light"
     },
     "output_type": "display_data"
    }
   ],
   "source": [
    "ax2=df_death.T.plot(kind='bar',rot=45,fontsize=14)\n",
    "for rec in ax2.patches:\n",
    "    height= rec.get_height().round(3)\n",
    "    width = rec.get_width().round(3)\n",
    "    x=rec.get_x()\n",
    "    y=rec.get_y()\n",
    "    label_x = x + width / 2\n",
    "    label_y = 0.06 #y + height / 2\n",
    "    label_text = f'{height}'\n",
    "    if height>0:\n",
    "        ax2.text(label_x,label_y,label_text,ha='center',va='top',fontsize=12,rotation=90)\n",
    "    \n",
    "ax2.legend(bbox_to_anchor=(0.9,0.9), loc='center', borderaxespad=0.)\n",
    "ax2.set_ylabel(\"Policy Effectiveness\", fontsize=14,weight='bold')\n",
    "ax2.set_xlabel(\"Policies\", fontsize=14,weight='bold')\n",
    "plt.title(\"Policy effectiveness of Confirmed Deaths on Country-Level\",weight='bold',fontsize=12)\n",
    "plt.show()"
   ]
  },
  {
   "cell_type": "code",
   "execution_count": 244,
   "metadata": {},
   "outputs": [
    {
     "data": {
      "image/png": "[encoded data removed]",
      "text/plain": [
       "<Figure size 360x360 with 2 Axes>"
      ]
     },
     "metadata": {},
     "output_type": "display_data"
    },
    {
     "data": {
      "image/png": "[encoded data removed]",
      "text/plain": [
       "<Figure size 432x288 with 1 Axes>"
      ]
     },
     "metadata": {},
     "output_type": "display_data"
    },
    {
     "data": {
      "image/png": "[encoded data removed]",
      "text/plain": [
       "<Figure size 432x288 with 1 Axes>"
      ]
     },
     "metadata": {},
     "output_type": "display_data"
    }
   ],
   "source": [
    "\n"
   ]
  },
  {
   "cell_type": "code",
   "execution_count": null,
   "metadata": {},
   "outputs": [],
   "source": []
  }
 ],
 "metadata": {
  "kernelspec": {
   "display_name": "Python 3.7.8 64-bit",
   "language": "python",
   "name": "python3"
  },
  "language_info": {
   "codemirror_mode": {
    "name": "ipython",
    "version": 3
   },
   "file_extension": ".py",
   "mimetype": "text/x-python",
   "name": "python",
   "nbconvert_exporter": "python",
   "pygments_lexer": "ipython3",
   "version": "3.7.8"
  },
  "orig_nbformat": 4,
  "vscode": {
   "interpreter": {
    "hash": "0a54084e6b208ee8d1ce3989ffc20924477a5f55f5a43e22e699a6741623861e"
   }
  }
 },
 "nbformat": 4,
 "nbformat_minor": 2
}
