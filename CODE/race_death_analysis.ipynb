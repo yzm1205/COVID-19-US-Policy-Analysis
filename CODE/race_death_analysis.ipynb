{
 "cells": [
  {
   "cell_type": "code",
   "execution_count": null,
   "metadata": {},
   "outputs": [
    {
     "ename": "Error",
     "evalue": "Session cannot generate requests",
     "output_type": "error",
     "traceback": [
      "Error: Session cannot generate requests",
      "at S.executeCodeCell (c:\\Users\\lenovo\\.vscode\\extensions\\ms-toolsai.jupyter-2021.10.1101450599\\out\\client\\extension.js:66:301742)",
      "at S.execute (c:\\Users\\lenovo\\.vscode\\extensions\\ms-toolsai.jupyter-2021.10.1101450599\\out\\client\\extension.js:66:300732)",
      "at S.start (c:\\Users\\lenovo\\.vscode\\extensions\\ms-toolsai.jupyter-2021.10.1101450599\\out\\client\\extension.js:66:296408)",
      "at runMicrotasks (<anonymous>)",
      "at processTicksAndRejections (internal/process/task_queues.js:93:5)",
      "at async t.CellExecutionQueue.executeQueuedCells (c:\\Users\\lenovo\\.vscode\\extensions\\ms-toolsai.jupyter-2021.10.1101450599\\out\\client\\extension.js:66:312326)",
      "at async t.CellExecutionQueue.start (c:\\Users\\lenovo\\.vscode\\extensions\\ms-toolsai.jupyter-2021.10.1101450599\\out\\client\\extension.js:66:311862)"
     ]
    }
   ],
   "source": [
    "import pandas as pd\n",
    "import os\n",
    "import matplotlib.pyplot as plt\n",
    "import numpy as np\n",
    "from datetime import datetime as dt"
   ]
  },
  {
   "cell_type": "code",
   "execution_count": null,
   "metadata": {},
   "outputs": [],
   "source": [
    "# AI/AN -> American Indian/ Alska Native\n",
    "# NHPI -> Native Hawaiian/ Pacific Islander"
   ]
  },
  {
   "cell_type": "code",
   "execution_count": null,
   "metadata": {},
   "outputs": [],
   "source": [
    "import os\n",
    "import pandas as pd\n",
    "\n",
    "path = r\"Dataset/Race and ethinicity state data\"\n",
    "\n",
    "def read_cvs(path):\n",
    "    f = [cvs_ for cvs_ in os.listdir(path) if cvs_.endswith('.csv')]  # fetching all csv files\n",
    "    return f\n",
    "\n",
    "files_ = read_cvs(path)\n",
    "st = ['al', 'ak', 'az', 'ar', 'ca', 'co', 'ct', 'de', 'dc', 'fl', 'ga', 'hi', 'id', 'il', 'in', 'ia', 'ks', 'ky', 'la', 'md', 'ma', 'mi', 'mn', 'ms', 'mo', 'mt', 'ne', 'nv', 'nh', 'nj', 'nm', 'ny', 'nd', 'oh', 'ok', 'or', 'pa', 'ri', 'sc', 'sd', 'tn', 'tx', 'ut', 'vt', 'va', 'wa', 'wv', 'wi', 'wy']\n",
    "st= [x.upper() for x in st]\n",
    "\n",
    "st_copy = st.copy()\n",
    "\n",
    "\n",
    "records = []\n",
    "files_ = read_cvs(path)\n",
    "for index_, js_ in enumerate(files_):\n",
    "        with open(os.path.join(path, js_)) as file_:\n",
    "            st_copy[index_] = pd.read_csv(file_,parse_dates=True)\n",
    "            st_copy[index_] = st_copy[index_][::-1].reset_index().drop('index',axis=1)\n",
    "            # st_copy[index_] = st_copy[index_].drop(\"Index\")\n",
    "            records.append(st_copy[index_])\n",
    "\n",
    "data_records = dict(zip(st,records))\n",
    "records_copy = data_records.copy()\n"
   ]
  },
  {
   "cell_type": "code",
   "execution_count": 131,
   "metadata": {},
   "outputs": [
    {
     "name": "stderr",
     "output_type": "stream",
     "text": [
      "C:\\Users\\lenovo\\AppData\\Roaming\\Python\\Python37\\site-packages\\ipykernel_launcher.py:6: SettingWithCopyWarning: \n",
      "A value is trying to be set on a copy of a slice from a DataFrame\n",
      "\n",
      "See the caveats in the documentation: https://pandas.pydata.org/pandas-docs/stable/user_guide/indexing.html#returning-a-view-versus-a-copy\n",
      "  \n"
     ]
    }
   ],
   "source": [
    "import pandas as pd\n",
    "date_list = pd.DataFrame(data=pd.date_range(start='04-12-2020',end='03-07-2021'),columns=[\"Date\"])\n",
    "\n",
    "for state in st:\n",
    "    for i in range(len(records_copy[\"AL\"][\"Date\"])):\n",
    "        data_records[state].Date[i]=dt.strftime(pd.to_datetime(str(data_records[state].Date[i])[:4]+\"-\"+ str(data_records[state].Date[i])[4:6]+\"-\"+ str(data_records[state].Date[i])[6:],format=\"%Y-%m-%d\").date(),format=\"%m-%d-%y\")\n",
    "        \n",
    "    data_records[state].Date=pd.to_datetime(data_records[state].Date)  \n",
    "    \n",
    "    data_records[state]=pd.merge(date_list,data_records[state],on='Date',how='outer')  # Merging Dataset. \n",
    "\n",
    "def race_data_processing(data=data_records,states=st,date_df=date_list):\n",
    "    for state in states:\n",
    "        for i in range(len(date_list)):\n",
    "            # data[state].Date[i]=dt.strftime(pd.to_datetime(str(data[state].Date[i])[:4]+\"-\"+ str(data[state].Date[i])[4:6]+\"-\"+ str(data[state].Date[i])[6:],format=\"%Y-%m-%d\").date(),format=\"%m-%d-%y\")\n",
    "            # \n",
    "        # data[state].Date=pd.to_datetime(data[state].Date)  \n",
    "    # \n",
    "        # data[state]=pd.merge(date_df,data[state],on='Date',how='outer')  # Merging Dataset. \n",
    "            data[state].State.fillna(state,inplace=True)\n",
    "            data[state].iloc[:,14:17] = data[state].iloc[:,14:17].interpolate(method='polynomial',order=2).fillna(0).astype('int')  # interpolation\n",
    "            data[state].iloc[:,22:25] = data[state].iloc[:,22:25].interpolate(method='polynomial',order=2).fillna(0).astype('int')\n",
    "            # data[state].iloc[:,2:8].fillna(0,inplace=True)\n",
    "            # data[state].iloc[:,2:8].astype('int')\n",
    "               \n",
    "            data[state][\"Daily_Deaths_Asian\"]= data[state][\"Deaths_Asian\"]- data[state][\"Deaths_Asian\"].shift(1).rolling(7).mean() # number of new cases on that particular day. \n",
    "            data[state][\"Daily_Deaths_Black\"]= data[state][\"Deaths_Black\"]- data[state][\"Deaths_Black\"].shift(1).rolling(7).mean() # number of new cases on that particular day. \n",
    "            data[state][\"Daily_Deaths_White\"]= data[state][\"Deaths_White\"]- data[state][\"Deaths_White\"].shift(1).rolling(7).mean() # number of new cases on that particular day. \n",
    "            data[state][\"Daily_Deaths_Other\"]= data[state][\"Deaths_Other\"]- data[state][\"Deaths_Other\"].shift(1).rolling(7).mean() # number of new cases on that particular day. \n",
    "            data[state][\"Daily_Deaths_AIAN\"] = data[state][\"Deaths_AIAN\"] -  data[state][\"Deaths_AIAN\"].shift(1).rolling(7).mean()\n",
    "            data[state][\"Daily_Deaths_NHPI\"] = data[state][\"Deaths_NHPI\"] -  data[state][\"Deaths_NHPI\"].shift(1).rolling(7).mean()\n",
    "            # data[state][\"Daily_Cases_Mulltiracial\"] = data[state][\"Cases_Multiracial\"] -  data[state][\"Cases_Multiracial\"].shift(1).rolling(7).mean()\n",
    "            # data[state][\"Daily_Cases_LatinX\"] = data[state][\"Cases_LatinX\"] -  data[state][\"Cases_LatinX\"].shift(1).rolling(7).mean()\n",
    "            # # data[state][\"Daily_Cases_Ethnicity_NonHispanic\"] = data[state][\"Cases_Ethnicity_NonHispanic\"] -  data[state][\"Cases_Ethnicity_NonHispanic\"].shift(1).rolling(7).mean()\n",
    "            # # data[state][\"Daily_Cases_Ethnicity_Hispanic\"] = data[state][\"Cases_Ethnicity_Hispanic\"] -  data[state][\"Cases_Ethnicity_Hispanic\"].shift(1).rolling(7).mean()\n",
    "            # # data[state][\"Daily_Cases_Ethnicity_Unknown\"] = data[state][\"Cases_Ethnicity_Unknown\"] -  data[state][\"Cases_Ethnicity_Unknown\"].shift(1).rolling(7).mean()\n",
    "            \n",
    "            \n",
    "            data[state].iloc[:,-6:] = data[state].iloc[:,-6:].interpolate(method='linear',limit_direction = 'backward').round()\n",
    "        \n",
    "    \n",
    "        \n",
    "   \n",
    "        "
   ]
  },
  {
   "cell_type": "code",
   "execution_count": 126,
   "metadata": {},
   "outputs": [],
   "source": [
    "race_data_processing()"
   ]
  },
  {
   "cell_type": "code",
   "execution_count": 62,
   "metadata": {},
   "outputs": [
    {
     "data": {
      "text/html": [
       "<div>\n",
       "<style scoped>\n",
       "    .dataframe tbody tr th:only-of-type {\n",
       "        vertical-align: middle;\n",
       "    }\n",
       "\n",
       "    .dataframe tbody tr th {\n",
       "        vertical-align: top;\n",
       "    }\n",
       "\n",
       "    .dataframe thead th {\n",
       "        text-align: right;\n",
       "    }\n",
       "</style>\n",
       "<table border=\"1\" class=\"dataframe\">\n",
       "  <thead>\n",
       "    <tr style=\"text-align: right;\">\n",
       "      <th></th>\n",
       "      <th>Deaths_AIAN</th>\n",
       "      <th>Deaths_Asian</th>\n",
       "      <th>Deaths_Black</th>\n",
       "    </tr>\n",
       "  </thead>\n",
       "  <tbody>\n",
       "    <tr>\n",
       "      <th>0</th>\n",
       "      <td>NaN</td>\n",
       "      <td>NaN</td>\n",
       "      <td>NaN</td>\n",
       "    </tr>\n",
       "    <tr>\n",
       "      <th>1</th>\n",
       "      <td>NaN</td>\n",
       "      <td>NaN</td>\n",
       "      <td>NaN</td>\n",
       "    </tr>\n",
       "    <tr>\n",
       "      <th>2</th>\n",
       "      <td>NaN</td>\n",
       "      <td>NaN</td>\n",
       "      <td>NaN</td>\n",
       "    </tr>\n",
       "    <tr>\n",
       "      <th>3</th>\n",
       "      <td>NaN</td>\n",
       "      <td>3.0</td>\n",
       "      <td>43.0</td>\n",
       "    </tr>\n",
       "    <tr>\n",
       "      <th>4</th>\n",
       "      <td>NaN</td>\n",
       "      <td>NaN</td>\n",
       "      <td>NaN</td>\n",
       "    </tr>\n",
       "    <tr>\n",
       "      <th>...</th>\n",
       "      <td>...</td>\n",
       "      <td>...</td>\n",
       "      <td>...</td>\n",
       "    </tr>\n",
       "    <tr>\n",
       "      <th>325</th>\n",
       "      <td>NaN</td>\n",
       "      <td>24.0</td>\n",
       "      <td>2193.0</td>\n",
       "    </tr>\n",
       "    <tr>\n",
       "      <th>326</th>\n",
       "      <td>NaN</td>\n",
       "      <td>NaN</td>\n",
       "      <td>NaN</td>\n",
       "    </tr>\n",
       "    <tr>\n",
       "      <th>327</th>\n",
       "      <td>NaN</td>\n",
       "      <td>NaN</td>\n",
       "      <td>NaN</td>\n",
       "    </tr>\n",
       "    <tr>\n",
       "      <th>328</th>\n",
       "      <td>NaN</td>\n",
       "      <td>NaN</td>\n",
       "      <td>NaN</td>\n",
       "    </tr>\n",
       "    <tr>\n",
       "      <th>329</th>\n",
       "      <td>NaN</td>\n",
       "      <td>24.0</td>\n",
       "      <td>2223.0</td>\n",
       "    </tr>\n",
       "  </tbody>\n",
       "</table>\n",
       "<p>330 rows × 3 columns</p>\n",
       "</div>"
      ],
      "text/plain": [
       "     Deaths_AIAN  Deaths_Asian  Deaths_Black\n",
       "0            NaN           NaN           NaN\n",
       "1            NaN           NaN           NaN\n",
       "2            NaN           NaN           NaN\n",
       "3            NaN           3.0          43.0\n",
       "4            NaN           NaN           NaN\n",
       "..           ...           ...           ...\n",
       "325          NaN          24.0        2193.0\n",
       "326          NaN           NaN           NaN\n",
       "327          NaN           NaN           NaN\n",
       "328          NaN           NaN           NaN\n",
       "329          NaN          24.0        2223.0\n",
       "\n",
       "[330 rows x 3 columns]"
      ]
     },
     "execution_count": 62,
     "metadata": {},
     "output_type": "execute_result"
    }
   ],
   "source": [
    "data_records[\"AL\"].iloc[:,14:17]"
   ]
  },
  {
   "cell_type": "code",
   "execution_count": 77,
   "metadata": {},
   "outputs": [
    {
     "data": {
      "text/plain": [
       "Index(['Daily_Deaths_Asian', 'Daily_Deaths_Black', 'Daily_Deaths_White',\n",
       "       'Daily_Deaths_Other', 'Daily_Deaths_AIAN', 'Daily_Deaths_NHPI'],\n",
       "      dtype='object')"
      ]
     },
     "execution_count": 77,
     "metadata": {},
     "output_type": "execute_result"
    }
   ],
   "source": [
    "data_records[\"AL\"].columns[-6:]"
   ]
  },
  {
   "cell_type": "code",
   "execution_count": 92,
   "metadata": {},
   "outputs": [],
   "source": [
    "race=data_records['AL'].columns[-6:]\n",
    "\n",
    "for sts in st:\n",
    "   for r in race:\n",
    "       data_records[sts][\"target_death_\" + f\"{r.split('_')[-1]}\"] = np.nan\n",
    "\n",
    "for sts in st:\n",
    "    for r in race:\n",
    "        data = data_records[sts][r]\n",
    "        # data_records[sts][\"target_\" + f\"{r.split('_')[-1]}\"] = np.nan\n",
    "        target = data_records[sts][\"target_death_\" + f\"{r.split('_')[-1]}\"]\n",
    "        target_conse_3(data,target)\n",
    "# how to can include below function for target variables\n",
    "    \n",
    "    "
   ]
  },
  {
   "cell_type": "code",
   "execution_count": 93,
   "metadata": {},
   "outputs": [],
   "source": [
    "def target_conse_3(data,target): \n",
    "    \"\"\"\n",
    "    data = ca_data.%change\n",
    "    target = ca_data.target_conse_3\n",
    "    \n",
    "    Target Assigning 1 when we see drop in % change in \n",
    "    number of cases for 3 consecutive days.\n",
    "\n",
    "    Problems: 1) for cal state we found on 4 1's. which is very \n",
    "    less when considered 3 consecutive day delays.\n",
    "    2) \n",
    "    \"\"\"\n",
    "    for i in range(5,len(data)-1):\n",
    "        if data[i]<data[i-1]:                   # 5 - 4th day\n",
    "            if data[i-1] < data[i-2]:           # 4 - 3nd day\n",
    "                if data[i-2] < data[i-3]:       # 3 - 2rd day\n",
    "                    if data[i-3] < data[i-4]:   # 2 - 1st day\n",
    "                        # if data[i+4] < data[i-5]:\n",
    "                            # target[i] = 1\n",
    "                            # target[i+1] = 1\n",
    "                            # target[i+2] = 1\n",
    "                        target[i] = 1\n",
    "        \n",
    "    target.fillna(0,inplace=True)"
   ]
  },
  {
   "cell_type": "code",
   "execution_count": 94,
   "metadata": {},
   "outputs": [
    {
     "data": {
      "text/html": [
       "<div>\n",
       "<style scoped>\n",
       "    .dataframe tbody tr th:only-of-type {\n",
       "        vertical-align: middle;\n",
       "    }\n",
       "\n",
       "    .dataframe tbody tr th {\n",
       "        vertical-align: top;\n",
       "    }\n",
       "\n",
       "    .dataframe thead th {\n",
       "        text-align: right;\n",
       "    }\n",
       "</style>\n",
       "<table border=\"1\" class=\"dataframe\">\n",
       "  <thead>\n",
       "    <tr style=\"text-align: right;\">\n",
       "      <th></th>\n",
       "      <th>target_death_Asian</th>\n",
       "      <th>target_death_Black</th>\n",
       "      <th>target_death_White</th>\n",
       "      <th>target_death_Other</th>\n",
       "      <th>target_death_AIAN</th>\n",
       "      <th>target_death_NHPI</th>\n",
       "    </tr>\n",
       "  </thead>\n",
       "  <tbody>\n",
       "    <tr>\n",
       "      <th>0</th>\n",
       "      <td>0.0</td>\n",
       "      <td>0.0</td>\n",
       "      <td>0.0</td>\n",
       "      <td>0.0</td>\n",
       "      <td>0.0</td>\n",
       "      <td>0.0</td>\n",
       "    </tr>\n",
       "    <tr>\n",
       "      <th>1</th>\n",
       "      <td>0.0</td>\n",
       "      <td>0.0</td>\n",
       "      <td>0.0</td>\n",
       "      <td>0.0</td>\n",
       "      <td>0.0</td>\n",
       "      <td>0.0</td>\n",
       "    </tr>\n",
       "    <tr>\n",
       "      <th>2</th>\n",
       "      <td>0.0</td>\n",
       "      <td>0.0</td>\n",
       "      <td>0.0</td>\n",
       "      <td>0.0</td>\n",
       "      <td>0.0</td>\n",
       "      <td>0.0</td>\n",
       "    </tr>\n",
       "    <tr>\n",
       "      <th>3</th>\n",
       "      <td>0.0</td>\n",
       "      <td>0.0</td>\n",
       "      <td>0.0</td>\n",
       "      <td>0.0</td>\n",
       "      <td>0.0</td>\n",
       "      <td>0.0</td>\n",
       "    </tr>\n",
       "    <tr>\n",
       "      <th>4</th>\n",
       "      <td>0.0</td>\n",
       "      <td>0.0</td>\n",
       "      <td>0.0</td>\n",
       "      <td>0.0</td>\n",
       "      <td>0.0</td>\n",
       "      <td>0.0</td>\n",
       "    </tr>\n",
       "    <tr>\n",
       "      <th>...</th>\n",
       "      <td>...</td>\n",
       "      <td>...</td>\n",
       "      <td>...</td>\n",
       "      <td>...</td>\n",
       "      <td>...</td>\n",
       "      <td>...</td>\n",
       "    </tr>\n",
       "    <tr>\n",
       "      <th>325</th>\n",
       "      <td>0.0</td>\n",
       "      <td>0.0</td>\n",
       "      <td>0.0</td>\n",
       "      <td>0.0</td>\n",
       "      <td>0.0</td>\n",
       "      <td>0.0</td>\n",
       "    </tr>\n",
       "    <tr>\n",
       "      <th>326</th>\n",
       "      <td>0.0</td>\n",
       "      <td>0.0</td>\n",
       "      <td>0.0</td>\n",
       "      <td>0.0</td>\n",
       "      <td>0.0</td>\n",
       "      <td>0.0</td>\n",
       "    </tr>\n",
       "    <tr>\n",
       "      <th>327</th>\n",
       "      <td>0.0</td>\n",
       "      <td>0.0</td>\n",
       "      <td>0.0</td>\n",
       "      <td>0.0</td>\n",
       "      <td>0.0</td>\n",
       "      <td>0.0</td>\n",
       "    </tr>\n",
       "    <tr>\n",
       "      <th>328</th>\n",
       "      <td>0.0</td>\n",
       "      <td>0.0</td>\n",
       "      <td>0.0</td>\n",
       "      <td>0.0</td>\n",
       "      <td>0.0</td>\n",
       "      <td>0.0</td>\n",
       "    </tr>\n",
       "    <tr>\n",
       "      <th>329</th>\n",
       "      <td>0.0</td>\n",
       "      <td>0.0</td>\n",
       "      <td>0.0</td>\n",
       "      <td>0.0</td>\n",
       "      <td>0.0</td>\n",
       "      <td>0.0</td>\n",
       "    </tr>\n",
       "  </tbody>\n",
       "</table>\n",
       "<p>330 rows × 6 columns</p>\n",
       "</div>"
      ],
      "text/plain": [
       "     target_death_Asian  target_death_Black  target_death_White  \\\n",
       "0                   0.0                 0.0                 0.0   \n",
       "1                   0.0                 0.0                 0.0   \n",
       "2                   0.0                 0.0                 0.0   \n",
       "3                   0.0                 0.0                 0.0   \n",
       "4                   0.0                 0.0                 0.0   \n",
       "..                  ...                 ...                 ...   \n",
       "325                 0.0                 0.0                 0.0   \n",
       "326                 0.0                 0.0                 0.0   \n",
       "327                 0.0                 0.0                 0.0   \n",
       "328                 0.0                 0.0                 0.0   \n",
       "329                 0.0                 0.0                 0.0   \n",
       "\n",
       "     target_death_Other  target_death_AIAN  target_death_NHPI  \n",
       "0                   0.0                0.0                0.0  \n",
       "1                   0.0                0.0                0.0  \n",
       "2                   0.0                0.0                0.0  \n",
       "3                   0.0                0.0                0.0  \n",
       "4                   0.0                0.0                0.0  \n",
       "..                  ...                ...                ...  \n",
       "325                 0.0                0.0                0.0  \n",
       "326                 0.0                0.0                0.0  \n",
       "327                 0.0                0.0                0.0  \n",
       "328                 0.0                0.0                0.0  \n",
       "329                 0.0                0.0                0.0  \n",
       "\n",
       "[330 rows x 6 columns]"
      ]
     },
     "execution_count": 94,
     "metadata": {},
     "output_type": "execute_result"
    }
   ],
   "source": [
    "data_records[\"AL\"].iloc[::,-6:]"
   ]
  },
  {
   "cell_type": "code",
   "execution_count": 95,
   "metadata": {},
   "outputs": [
    {
     "data": {
      "text/html": [
       "<div>\n",
       "<style scoped>\n",
       "    .dataframe tbody tr th:only-of-type {\n",
       "        vertical-align: middle;\n",
       "    }\n",
       "\n",
       "    .dataframe tbody tr th {\n",
       "        vertical-align: top;\n",
       "    }\n",
       "\n",
       "    .dataframe thead th {\n",
       "        text-align: right;\n",
       "    }\n",
       "</style>\n",
       "<table border=\"1\" class=\"dataframe\">\n",
       "  <thead>\n",
       "    <tr style=\"text-align: right;\">\n",
       "      <th></th>\n",
       "      <th>target_death_Asian</th>\n",
       "      <th>target_death_Black</th>\n",
       "      <th>target_death_White</th>\n",
       "      <th>target_death_Other</th>\n",
       "      <th>target_death_AIAN</th>\n",
       "      <th>target_death_NHPI</th>\n",
       "    </tr>\n",
       "  </thead>\n",
       "  <tbody>\n",
       "    <tr>\n",
       "      <th>0</th>\n",
       "      <td>0.0</td>\n",
       "      <td>0.0</td>\n",
       "      <td>0.0</td>\n",
       "      <td>0.0</td>\n",
       "      <td>0.0</td>\n",
       "      <td>0.0</td>\n",
       "    </tr>\n",
       "    <tr>\n",
       "      <th>1</th>\n",
       "      <td>0.0</td>\n",
       "      <td>0.0</td>\n",
       "      <td>0.0</td>\n",
       "      <td>0.0</td>\n",
       "      <td>0.0</td>\n",
       "      <td>0.0</td>\n",
       "    </tr>\n",
       "    <tr>\n",
       "      <th>2</th>\n",
       "      <td>0.0</td>\n",
       "      <td>0.0</td>\n",
       "      <td>0.0</td>\n",
       "      <td>0.0</td>\n",
       "      <td>0.0</td>\n",
       "      <td>0.0</td>\n",
       "    </tr>\n",
       "    <tr>\n",
       "      <th>3</th>\n",
       "      <td>0.0</td>\n",
       "      <td>0.0</td>\n",
       "      <td>0.0</td>\n",
       "      <td>0.0</td>\n",
       "      <td>0.0</td>\n",
       "      <td>0.0</td>\n",
       "    </tr>\n",
       "    <tr>\n",
       "      <th>4</th>\n",
       "      <td>0.0</td>\n",
       "      <td>0.0</td>\n",
       "      <td>0.0</td>\n",
       "      <td>0.0</td>\n",
       "      <td>0.0</td>\n",
       "      <td>0.0</td>\n",
       "    </tr>\n",
       "    <tr>\n",
       "      <th>...</th>\n",
       "      <td>...</td>\n",
       "      <td>...</td>\n",
       "      <td>...</td>\n",
       "      <td>...</td>\n",
       "      <td>...</td>\n",
       "      <td>...</td>\n",
       "    </tr>\n",
       "    <tr>\n",
       "      <th>325</th>\n",
       "      <td>0.0</td>\n",
       "      <td>0.0</td>\n",
       "      <td>0.0</td>\n",
       "      <td>0.0</td>\n",
       "      <td>0.0</td>\n",
       "      <td>0.0</td>\n",
       "    </tr>\n",
       "    <tr>\n",
       "      <th>326</th>\n",
       "      <td>0.0</td>\n",
       "      <td>0.0</td>\n",
       "      <td>0.0</td>\n",
       "      <td>0.0</td>\n",
       "      <td>0.0</td>\n",
       "      <td>0.0</td>\n",
       "    </tr>\n",
       "    <tr>\n",
       "      <th>327</th>\n",
       "      <td>0.0</td>\n",
       "      <td>0.0</td>\n",
       "      <td>0.0</td>\n",
       "      <td>0.0</td>\n",
       "      <td>0.0</td>\n",
       "      <td>0.0</td>\n",
       "    </tr>\n",
       "    <tr>\n",
       "      <th>328</th>\n",
       "      <td>0.0</td>\n",
       "      <td>0.0</td>\n",
       "      <td>0.0</td>\n",
       "      <td>0.0</td>\n",
       "      <td>0.0</td>\n",
       "      <td>0.0</td>\n",
       "    </tr>\n",
       "    <tr>\n",
       "      <th>329</th>\n",
       "      <td>0.0</td>\n",
       "      <td>0.0</td>\n",
       "      <td>0.0</td>\n",
       "      <td>0.0</td>\n",
       "      <td>0.0</td>\n",
       "      <td>0.0</td>\n",
       "    </tr>\n",
       "  </tbody>\n",
       "</table>\n",
       "<p>330 rows × 6 columns</p>\n",
       "</div>"
      ],
      "text/plain": [
       "     target_death_Asian  target_death_Black  target_death_White  \\\n",
       "0                   0.0                 0.0                 0.0   \n",
       "1                   0.0                 0.0                 0.0   \n",
       "2                   0.0                 0.0                 0.0   \n",
       "3                   0.0                 0.0                 0.0   \n",
       "4                   0.0                 0.0                 0.0   \n",
       "..                  ...                 ...                 ...   \n",
       "325                 0.0                 0.0                 0.0   \n",
       "326                 0.0                 0.0                 0.0   \n",
       "327                 0.0                 0.0                 0.0   \n",
       "328                 0.0                 0.0                 0.0   \n",
       "329                 0.0                 0.0                 0.0   \n",
       "\n",
       "     target_death_Other  target_death_AIAN  target_death_NHPI  \n",
       "0                   0.0                0.0                0.0  \n",
       "1                   0.0                0.0                0.0  \n",
       "2                   0.0                0.0                0.0  \n",
       "3                   0.0                0.0                0.0  \n",
       "4                   0.0                0.0                0.0  \n",
       "..                  ...                ...                ...  \n",
       "325                 0.0                0.0                0.0  \n",
       "326                 0.0                0.0                0.0  \n",
       "327                 0.0                0.0                0.0  \n",
       "328                 0.0                0.0                0.0  \n",
       "329                 0.0                0.0                0.0  \n",
       "\n",
       "[330 rows x 6 columns]"
      ]
     },
     "execution_count": 95,
     "metadata": {},
     "output_type": "execute_result"
    }
   ],
   "source": [
    "data_records[\"CA\"].iloc[:,-6:]"
   ]
  },
  {
   "cell_type": "code",
   "execution_count": 103,
   "metadata": {},
   "outputs": [],
   "source": [
    "target_data=data_records[\"AL\"].iloc[::,-6:]\n",
    "for ste in st[1:]:\n",
    "    # temp = data_records[ste].iloc[::,-6:]\n",
    "    target_data=target_data.append(data_records[ste].iloc[::,-6:],ignore_index=True)\n",
    "    "
   ]
  },
  {
   "cell_type": "code",
   "execution_count": 104,
   "metadata": {},
   "outputs": [],
   "source": [
    "target_data=target_data.astype('int')"
   ]
  },
  {
   "cell_type": "code",
   "execution_count": 98,
   "metadata": {},
   "outputs": [],
   "source": [
    "# target_data.to_csv(\"race_taget.csv\")"
   ]
  },
  {
   "cell_type": "code",
   "execution_count": 105,
   "metadata": {},
   "outputs": [
    {
     "data": {
      "text/html": [
       "<div>\n",
       "<style scoped>\n",
       "    .dataframe tbody tr th:only-of-type {\n",
       "        vertical-align: middle;\n",
       "    }\n",
       "\n",
       "    .dataframe tbody tr th {\n",
       "        vertical-align: top;\n",
       "    }\n",
       "\n",
       "    .dataframe thead th {\n",
       "        text-align: right;\n",
       "    }\n",
       "</style>\n",
       "<table border=\"1\" class=\"dataframe\">\n",
       "  <thead>\n",
       "    <tr style=\"text-align: right;\">\n",
       "      <th></th>\n",
       "      <th>target_death_Asian</th>\n",
       "      <th>target_death_Black</th>\n",
       "      <th>target_death_White</th>\n",
       "      <th>target_death_Other</th>\n",
       "      <th>target_death_AIAN</th>\n",
       "      <th>target_death_NHPI</th>\n",
       "    </tr>\n",
       "  </thead>\n",
       "  <tbody>\n",
       "    <tr>\n",
       "      <th>0</th>\n",
       "      <td>0</td>\n",
       "      <td>0</td>\n",
       "      <td>0</td>\n",
       "      <td>0</td>\n",
       "      <td>0</td>\n",
       "      <td>0</td>\n",
       "    </tr>\n",
       "    <tr>\n",
       "      <th>1</th>\n",
       "      <td>0</td>\n",
       "      <td>0</td>\n",
       "      <td>0</td>\n",
       "      <td>0</td>\n",
       "      <td>0</td>\n",
       "      <td>0</td>\n",
       "    </tr>\n",
       "    <tr>\n",
       "      <th>2</th>\n",
       "      <td>0</td>\n",
       "      <td>0</td>\n",
       "      <td>0</td>\n",
       "      <td>0</td>\n",
       "      <td>0</td>\n",
       "      <td>0</td>\n",
       "    </tr>\n",
       "    <tr>\n",
       "      <th>3</th>\n",
       "      <td>0</td>\n",
       "      <td>0</td>\n",
       "      <td>0</td>\n",
       "      <td>0</td>\n",
       "      <td>0</td>\n",
       "      <td>0</td>\n",
       "    </tr>\n",
       "    <tr>\n",
       "      <th>4</th>\n",
       "      <td>0</td>\n",
       "      <td>0</td>\n",
       "      <td>0</td>\n",
       "      <td>0</td>\n",
       "      <td>0</td>\n",
       "      <td>0</td>\n",
       "    </tr>\n",
       "    <tr>\n",
       "      <th>...</th>\n",
       "      <td>...</td>\n",
       "      <td>...</td>\n",
       "      <td>...</td>\n",
       "      <td>...</td>\n",
       "      <td>...</td>\n",
       "      <td>...</td>\n",
       "    </tr>\n",
       "    <tr>\n",
       "      <th>16165</th>\n",
       "      <td>0</td>\n",
       "      <td>0</td>\n",
       "      <td>0</td>\n",
       "      <td>0</td>\n",
       "      <td>0</td>\n",
       "      <td>0</td>\n",
       "    </tr>\n",
       "    <tr>\n",
       "      <th>16166</th>\n",
       "      <td>0</td>\n",
       "      <td>0</td>\n",
       "      <td>0</td>\n",
       "      <td>0</td>\n",
       "      <td>0</td>\n",
       "      <td>0</td>\n",
       "    </tr>\n",
       "    <tr>\n",
       "      <th>16167</th>\n",
       "      <td>0</td>\n",
       "      <td>0</td>\n",
       "      <td>0</td>\n",
       "      <td>0</td>\n",
       "      <td>0</td>\n",
       "      <td>0</td>\n",
       "    </tr>\n",
       "    <tr>\n",
       "      <th>16168</th>\n",
       "      <td>0</td>\n",
       "      <td>0</td>\n",
       "      <td>0</td>\n",
       "      <td>0</td>\n",
       "      <td>0</td>\n",
       "      <td>0</td>\n",
       "    </tr>\n",
       "    <tr>\n",
       "      <th>16169</th>\n",
       "      <td>0</td>\n",
       "      <td>0</td>\n",
       "      <td>0</td>\n",
       "      <td>0</td>\n",
       "      <td>0</td>\n",
       "      <td>0</td>\n",
       "    </tr>\n",
       "  </tbody>\n",
       "</table>\n",
       "<p>16170 rows × 6 columns</p>\n",
       "</div>"
      ],
      "text/plain": [
       "       target_death_Asian  target_death_Black  target_death_White  \\\n",
       "0                       0                   0                   0   \n",
       "1                       0                   0                   0   \n",
       "2                       0                   0                   0   \n",
       "3                       0                   0                   0   \n",
       "4                       0                   0                   0   \n",
       "...                   ...                 ...                 ...   \n",
       "16165                   0                   0                   0   \n",
       "16166                   0                   0                   0   \n",
       "16167                   0                   0                   0   \n",
       "16168                   0                   0                   0   \n",
       "16169                   0                   0                   0   \n",
       "\n",
       "       target_death_Other  target_death_AIAN  target_death_NHPI  \n",
       "0                       0                  0                  0  \n",
       "1                       0                  0                  0  \n",
       "2                       0                  0                  0  \n",
       "3                       0                  0                  0  \n",
       "4                       0                  0                  0  \n",
       "...                   ...                ...                ...  \n",
       "16165                   0                  0                  0  \n",
       "16166                   0                  0                  0  \n",
       "16167                   0                  0                  0  \n",
       "16168                   0                  0                  0  \n",
       "16169                   0                  0                  0  \n",
       "\n",
       "[16170 rows x 6 columns]"
      ]
     },
     "execution_count": 105,
     "metadata": {},
     "output_type": "execute_result"
    }
   ],
   "source": [
    "target_data"
   ]
  },
  {
   "cell_type": "markdown",
   "metadata": {},
   "source": [
    "# Calling Policy Data"
   ]
  },
  {
   "cell_type": "code",
   "execution_count": 106,
   "metadata": {},
   "outputs": [
    {
     "data": {
      "text/html": [
       "<div>\n",
       "<style scoped>\n",
       "    .dataframe tbody tr th:only-of-type {\n",
       "        vertical-align: middle;\n",
       "    }\n",
       "\n",
       "    .dataframe tbody tr th {\n",
       "        vertical-align: top;\n",
       "    }\n",
       "\n",
       "    .dataframe thead th {\n",
       "        text-align: right;\n",
       "    }\n",
       "</style>\n",
       "<table border=\"1\" class=\"dataframe\">\n",
       "  <thead>\n",
       "    <tr style=\"text-align: right;\">\n",
       "      <th></th>\n",
       "      <th>p1</th>\n",
       "      <th>p2</th>\n",
       "      <th>p3</th>\n",
       "      <th>p4</th>\n",
       "      <th>p5</th>\n",
       "      <th>p6</th>\n",
       "    </tr>\n",
       "  </thead>\n",
       "  <tbody>\n",
       "    <tr>\n",
       "      <th>0</th>\n",
       "      <td>0.818731</td>\n",
       "      <td>0.000000</td>\n",
       "      <td>0.951229</td>\n",
       "      <td>0.951229</td>\n",
       "      <td>0.980199</td>\n",
       "      <td>0.818731</td>\n",
       "    </tr>\n",
       "    <tr>\n",
       "      <th>1</th>\n",
       "      <td>0.810584</td>\n",
       "      <td>0.000000</td>\n",
       "      <td>0.941765</td>\n",
       "      <td>0.941765</td>\n",
       "      <td>0.990050</td>\n",
       "      <td>0.810584</td>\n",
       "    </tr>\n",
       "    <tr>\n",
       "      <th>2</th>\n",
       "      <td>0.802519</td>\n",
       "      <td>0.000000</td>\n",
       "      <td>0.932394</td>\n",
       "      <td>0.932394</td>\n",
       "      <td>1.000000</td>\n",
       "      <td>0.802519</td>\n",
       "    </tr>\n",
       "    <tr>\n",
       "      <th>3</th>\n",
       "      <td>0.794534</td>\n",
       "      <td>0.000000</td>\n",
       "      <td>0.923116</td>\n",
       "      <td>0.923116</td>\n",
       "      <td>0.990050</td>\n",
       "      <td>0.794534</td>\n",
       "    </tr>\n",
       "    <tr>\n",
       "      <th>4</th>\n",
       "      <td>0.786628</td>\n",
       "      <td>0.000000</td>\n",
       "      <td>0.913931</td>\n",
       "      <td>0.913931</td>\n",
       "      <td>0.980199</td>\n",
       "      <td>0.786628</td>\n",
       "    </tr>\n",
       "    <tr>\n",
       "      <th>...</th>\n",
       "      <td>...</td>\n",
       "      <td>...</td>\n",
       "      <td>...</td>\n",
       "      <td>...</td>\n",
       "      <td>...</td>\n",
       "      <td>...</td>\n",
       "    </tr>\n",
       "    <tr>\n",
       "      <th>16165</th>\n",
       "      <td>0.031746</td>\n",
       "      <td>0.031746</td>\n",
       "      <td>0.033709</td>\n",
       "      <td>0.033709</td>\n",
       "      <td>0.477114</td>\n",
       "      <td>0.031746</td>\n",
       "    </tr>\n",
       "    <tr>\n",
       "      <th>16166</th>\n",
       "      <td>0.031430</td>\n",
       "      <td>0.031430</td>\n",
       "      <td>0.033373</td>\n",
       "      <td>0.033373</td>\n",
       "      <td>0.472367</td>\n",
       "      <td>0.031430</td>\n",
       "    </tr>\n",
       "    <tr>\n",
       "      <th>16167</th>\n",
       "      <td>0.031117</td>\n",
       "      <td>0.031117</td>\n",
       "      <td>0.033041</td>\n",
       "      <td>0.033041</td>\n",
       "      <td>0.467666</td>\n",
       "      <td>0.031117</td>\n",
       "    </tr>\n",
       "    <tr>\n",
       "      <th>16168</th>\n",
       "      <td>0.030807</td>\n",
       "      <td>0.030807</td>\n",
       "      <td>0.032712</td>\n",
       "      <td>0.032712</td>\n",
       "      <td>0.463013</td>\n",
       "      <td>0.030807</td>\n",
       "    </tr>\n",
       "    <tr>\n",
       "      <th>16169</th>\n",
       "      <td>0.030501</td>\n",
       "      <td>0.030501</td>\n",
       "      <td>0.032387</td>\n",
       "      <td>0.032387</td>\n",
       "      <td>0.458406</td>\n",
       "      <td>0.030501</td>\n",
       "    </tr>\n",
       "  </tbody>\n",
       "</table>\n",
       "<p>16170 rows × 6 columns</p>\n",
       "</div>"
      ],
      "text/plain": [
       "             p1        p2        p3        p4        p5        p6\n",
       "0      0.818731  0.000000  0.951229  0.951229  0.980199  0.818731\n",
       "1      0.810584  0.000000  0.941765  0.941765  0.990050  0.810584\n",
       "2      0.802519  0.000000  0.932394  0.932394  1.000000  0.802519\n",
       "3      0.794534  0.000000  0.923116  0.923116  0.990050  0.794534\n",
       "4      0.786628  0.000000  0.913931  0.913931  0.980199  0.786628\n",
       "...         ...       ...       ...       ...       ...       ...\n",
       "16165  0.031746  0.031746  0.033709  0.033709  0.477114  0.031746\n",
       "16166  0.031430  0.031430  0.033373  0.033373  0.472367  0.031430\n",
       "16167  0.031117  0.031117  0.033041  0.033041  0.467666  0.031117\n",
       "16168  0.030807  0.030807  0.032712  0.032712  0.463013  0.030807\n",
       "16169  0.030501  0.030501  0.032387  0.032387  0.458406  0.030501\n",
       "\n",
       "[16170 rows x 6 columns]"
      ]
     },
     "execution_count": 106,
     "metadata": {},
     "output_type": "execute_result"
    }
   ],
   "source": [
    "# Call policy data\n",
    "policy_data = pd.read_csv(\"State_combine_data.csv\")\n",
    "# target_data=pd.read_csv(\"race_taget.csv\")\n",
    "policy_data.drop(policy_data.columns[0],axis=1,inplace=True)\n",
    "policy_data"
   ]
  },
  {
   "cell_type": "code",
   "execution_count": 107,
   "metadata": {},
   "outputs": [
    {
     "data": {
      "text/html": [
       "<div>\n",
       "<style scoped>\n",
       "    .dataframe tbody tr th:only-of-type {\n",
       "        vertical-align: middle;\n",
       "    }\n",
       "\n",
       "    .dataframe tbody tr th {\n",
       "        vertical-align: top;\n",
       "    }\n",
       "\n",
       "    .dataframe thead th {\n",
       "        text-align: right;\n",
       "    }\n",
       "</style>\n",
       "<table border=\"1\" class=\"dataframe\">\n",
       "  <thead>\n",
       "    <tr style=\"text-align: right;\">\n",
       "      <th></th>\n",
       "      <th>p1</th>\n",
       "      <th>p2</th>\n",
       "      <th>p3</th>\n",
       "      <th>p4</th>\n",
       "      <th>p5</th>\n",
       "      <th>p6</th>\n",
       "      <th>target_death_Asian</th>\n",
       "      <th>target_death_Black</th>\n",
       "      <th>target_death_White</th>\n",
       "      <th>target_death_Other</th>\n",
       "      <th>target_death_AIAN</th>\n",
       "      <th>target_death_NHPI</th>\n",
       "    </tr>\n",
       "  </thead>\n",
       "  <tbody>\n",
       "    <tr>\n",
       "      <th>0</th>\n",
       "      <td>0.818731</td>\n",
       "      <td>0.000000</td>\n",
       "      <td>0.951229</td>\n",
       "      <td>0.951229</td>\n",
       "      <td>0.980199</td>\n",
       "      <td>0.818731</td>\n",
       "      <td>0</td>\n",
       "      <td>0</td>\n",
       "      <td>0</td>\n",
       "      <td>0</td>\n",
       "      <td>0</td>\n",
       "      <td>0</td>\n",
       "    </tr>\n",
       "    <tr>\n",
       "      <th>1</th>\n",
       "      <td>0.810584</td>\n",
       "      <td>0.000000</td>\n",
       "      <td>0.941765</td>\n",
       "      <td>0.941765</td>\n",
       "      <td>0.990050</td>\n",
       "      <td>0.810584</td>\n",
       "      <td>0</td>\n",
       "      <td>0</td>\n",
       "      <td>0</td>\n",
       "      <td>0</td>\n",
       "      <td>0</td>\n",
       "      <td>0</td>\n",
       "    </tr>\n",
       "    <tr>\n",
       "      <th>2</th>\n",
       "      <td>0.802519</td>\n",
       "      <td>0.000000</td>\n",
       "      <td>0.932394</td>\n",
       "      <td>0.932394</td>\n",
       "      <td>1.000000</td>\n",
       "      <td>0.802519</td>\n",
       "      <td>0</td>\n",
       "      <td>0</td>\n",
       "      <td>0</td>\n",
       "      <td>0</td>\n",
       "      <td>0</td>\n",
       "      <td>0</td>\n",
       "    </tr>\n",
       "    <tr>\n",
       "      <th>3</th>\n",
       "      <td>0.794534</td>\n",
       "      <td>0.000000</td>\n",
       "      <td>0.923116</td>\n",
       "      <td>0.923116</td>\n",
       "      <td>0.990050</td>\n",
       "      <td>0.794534</td>\n",
       "      <td>0</td>\n",
       "      <td>0</td>\n",
       "      <td>0</td>\n",
       "      <td>0</td>\n",
       "      <td>0</td>\n",
       "      <td>0</td>\n",
       "    </tr>\n",
       "    <tr>\n",
       "      <th>4</th>\n",
       "      <td>0.786628</td>\n",
       "      <td>0.000000</td>\n",
       "      <td>0.913931</td>\n",
       "      <td>0.913931</td>\n",
       "      <td>0.980199</td>\n",
       "      <td>0.786628</td>\n",
       "      <td>0</td>\n",
       "      <td>0</td>\n",
       "      <td>0</td>\n",
       "      <td>0</td>\n",
       "      <td>0</td>\n",
       "      <td>0</td>\n",
       "    </tr>\n",
       "    <tr>\n",
       "      <th>...</th>\n",
       "      <td>...</td>\n",
       "      <td>...</td>\n",
       "      <td>...</td>\n",
       "      <td>...</td>\n",
       "      <td>...</td>\n",
       "      <td>...</td>\n",
       "      <td>...</td>\n",
       "      <td>...</td>\n",
       "      <td>...</td>\n",
       "      <td>...</td>\n",
       "      <td>...</td>\n",
       "      <td>...</td>\n",
       "    </tr>\n",
       "    <tr>\n",
       "      <th>16165</th>\n",
       "      <td>0.031746</td>\n",
       "      <td>0.031746</td>\n",
       "      <td>0.033709</td>\n",
       "      <td>0.033709</td>\n",
       "      <td>0.477114</td>\n",
       "      <td>0.031746</td>\n",
       "      <td>0</td>\n",
       "      <td>0</td>\n",
       "      <td>0</td>\n",
       "      <td>0</td>\n",
       "      <td>0</td>\n",
       "      <td>0</td>\n",
       "    </tr>\n",
       "    <tr>\n",
       "      <th>16166</th>\n",
       "      <td>0.031430</td>\n",
       "      <td>0.031430</td>\n",
       "      <td>0.033373</td>\n",
       "      <td>0.033373</td>\n",
       "      <td>0.472367</td>\n",
       "      <td>0.031430</td>\n",
       "      <td>0</td>\n",
       "      <td>0</td>\n",
       "      <td>0</td>\n",
       "      <td>0</td>\n",
       "      <td>0</td>\n",
       "      <td>0</td>\n",
       "    </tr>\n",
       "    <tr>\n",
       "      <th>16167</th>\n",
       "      <td>0.031117</td>\n",
       "      <td>0.031117</td>\n",
       "      <td>0.033041</td>\n",
       "      <td>0.033041</td>\n",
       "      <td>0.467666</td>\n",
       "      <td>0.031117</td>\n",
       "      <td>0</td>\n",
       "      <td>0</td>\n",
       "      <td>0</td>\n",
       "      <td>0</td>\n",
       "      <td>0</td>\n",
       "      <td>0</td>\n",
       "    </tr>\n",
       "    <tr>\n",
       "      <th>16168</th>\n",
       "      <td>0.030807</td>\n",
       "      <td>0.030807</td>\n",
       "      <td>0.032712</td>\n",
       "      <td>0.032712</td>\n",
       "      <td>0.463013</td>\n",
       "      <td>0.030807</td>\n",
       "      <td>0</td>\n",
       "      <td>0</td>\n",
       "      <td>0</td>\n",
       "      <td>0</td>\n",
       "      <td>0</td>\n",
       "      <td>0</td>\n",
       "    </tr>\n",
       "    <tr>\n",
       "      <th>16169</th>\n",
       "      <td>0.030501</td>\n",
       "      <td>0.030501</td>\n",
       "      <td>0.032387</td>\n",
       "      <td>0.032387</td>\n",
       "      <td>0.458406</td>\n",
       "      <td>0.030501</td>\n",
       "      <td>0</td>\n",
       "      <td>0</td>\n",
       "      <td>0</td>\n",
       "      <td>0</td>\n",
       "      <td>0</td>\n",
       "      <td>0</td>\n",
       "    </tr>\n",
       "  </tbody>\n",
       "</table>\n",
       "<p>16170 rows × 12 columns</p>\n",
       "</div>"
      ],
      "text/plain": [
       "             p1        p2        p3        p4        p5        p6  \\\n",
       "0      0.818731  0.000000  0.951229  0.951229  0.980199  0.818731   \n",
       "1      0.810584  0.000000  0.941765  0.941765  0.990050  0.810584   \n",
       "2      0.802519  0.000000  0.932394  0.932394  1.000000  0.802519   \n",
       "3      0.794534  0.000000  0.923116  0.923116  0.990050  0.794534   \n",
       "4      0.786628  0.000000  0.913931  0.913931  0.980199  0.786628   \n",
       "...         ...       ...       ...       ...       ...       ...   \n",
       "16165  0.031746  0.031746  0.033709  0.033709  0.477114  0.031746   \n",
       "16166  0.031430  0.031430  0.033373  0.033373  0.472367  0.031430   \n",
       "16167  0.031117  0.031117  0.033041  0.033041  0.467666  0.031117   \n",
       "16168  0.030807  0.030807  0.032712  0.032712  0.463013  0.030807   \n",
       "16169  0.030501  0.030501  0.032387  0.032387  0.458406  0.030501   \n",
       "\n",
       "       target_death_Asian  target_death_Black  target_death_White  \\\n",
       "0                       0                   0                   0   \n",
       "1                       0                   0                   0   \n",
       "2                       0                   0                   0   \n",
       "3                       0                   0                   0   \n",
       "4                       0                   0                   0   \n",
       "...                   ...                 ...                 ...   \n",
       "16165                   0                   0                   0   \n",
       "16166                   0                   0                   0   \n",
       "16167                   0                   0                   0   \n",
       "16168                   0                   0                   0   \n",
       "16169                   0                   0                   0   \n",
       "\n",
       "       target_death_Other  target_death_AIAN  target_death_NHPI  \n",
       "0                       0                  0                  0  \n",
       "1                       0                  0                  0  \n",
       "2                       0                  0                  0  \n",
       "3                       0                  0                  0  \n",
       "4                       0                  0                  0  \n",
       "...                   ...                ...                ...  \n",
       "16165                   0                  0                  0  \n",
       "16166                   0                  0                  0  \n",
       "16167                   0                  0                  0  \n",
       "16168                   0                  0                  0  \n",
       "16169                   0                  0                  0  \n",
       "\n",
       "[16170 rows x 12 columns]"
      ]
     },
     "execution_count": 107,
     "metadata": {},
     "output_type": "execute_result"
    }
   ],
   "source": [
    "final_race_data = pd.concat([policy_data,target_data],axis=1)\n",
    "final_race_data"
   ]
  },
  {
   "cell_type": "code",
   "execution_count": 108,
   "metadata": {},
   "outputs": [
    {
     "data": {
      "text/html": [
       "<div>\n",
       "<style scoped>\n",
       "    .dataframe tbody tr th:only-of-type {\n",
       "        vertical-align: middle;\n",
       "    }\n",
       "\n",
       "    .dataframe tbody tr th {\n",
       "        vertical-align: top;\n",
       "    }\n",
       "\n",
       "    .dataframe thead th {\n",
       "        text-align: right;\n",
       "    }\n",
       "</style>\n",
       "<table border=\"1\" class=\"dataframe\">\n",
       "  <thead>\n",
       "    <tr style=\"text-align: right;\">\n",
       "      <th></th>\n",
       "      <th>p2</th>\n",
       "      <th>p3</th>\n",
       "      <th>p4</th>\n",
       "      <th>p5</th>\n",
       "      <th>p6</th>\n",
       "      <th>target_death_Asian</th>\n",
       "      <th>target_death_Black</th>\n",
       "      <th>target_death_White</th>\n",
       "      <th>target_death_Other</th>\n",
       "      <th>target_death_AIAN</th>\n",
       "      <th>target_death_NHPI</th>\n",
       "    </tr>\n",
       "  </thead>\n",
       "  <tbody>\n",
       "    <tr>\n",
       "      <th>0</th>\n",
       "      <td>0.000000</td>\n",
       "      <td>0.951229</td>\n",
       "      <td>0.951229</td>\n",
       "      <td>0.980199</td>\n",
       "      <td>0.818731</td>\n",
       "      <td>0</td>\n",
       "      <td>0</td>\n",
       "      <td>0</td>\n",
       "      <td>0</td>\n",
       "      <td>0</td>\n",
       "      <td>0</td>\n",
       "    </tr>\n",
       "    <tr>\n",
       "      <th>1</th>\n",
       "      <td>0.000000</td>\n",
       "      <td>0.941765</td>\n",
       "      <td>0.941765</td>\n",
       "      <td>0.990050</td>\n",
       "      <td>0.810584</td>\n",
       "      <td>0</td>\n",
       "      <td>0</td>\n",
       "      <td>0</td>\n",
       "      <td>0</td>\n",
       "      <td>0</td>\n",
       "      <td>0</td>\n",
       "    </tr>\n",
       "    <tr>\n",
       "      <th>2</th>\n",
       "      <td>0.000000</td>\n",
       "      <td>0.932394</td>\n",
       "      <td>0.932394</td>\n",
       "      <td>1.000000</td>\n",
       "      <td>0.802519</td>\n",
       "      <td>0</td>\n",
       "      <td>0</td>\n",
       "      <td>0</td>\n",
       "      <td>0</td>\n",
       "      <td>0</td>\n",
       "      <td>0</td>\n",
       "    </tr>\n",
       "    <tr>\n",
       "      <th>3</th>\n",
       "      <td>0.000000</td>\n",
       "      <td>0.923116</td>\n",
       "      <td>0.923116</td>\n",
       "      <td>0.990050</td>\n",
       "      <td>0.794534</td>\n",
       "      <td>0</td>\n",
       "      <td>0</td>\n",
       "      <td>0</td>\n",
       "      <td>0</td>\n",
       "      <td>0</td>\n",
       "      <td>0</td>\n",
       "    </tr>\n",
       "    <tr>\n",
       "      <th>4</th>\n",
       "      <td>0.000000</td>\n",
       "      <td>0.913931</td>\n",
       "      <td>0.913931</td>\n",
       "      <td>0.980199</td>\n",
       "      <td>0.786628</td>\n",
       "      <td>0</td>\n",
       "      <td>0</td>\n",
       "      <td>0</td>\n",
       "      <td>0</td>\n",
       "      <td>0</td>\n",
       "      <td>0</td>\n",
       "    </tr>\n",
       "    <tr>\n",
       "      <th>...</th>\n",
       "      <td>...</td>\n",
       "      <td>...</td>\n",
       "      <td>...</td>\n",
       "      <td>...</td>\n",
       "      <td>...</td>\n",
       "      <td>...</td>\n",
       "      <td>...</td>\n",
       "      <td>...</td>\n",
       "      <td>...</td>\n",
       "      <td>...</td>\n",
       "      <td>...</td>\n",
       "    </tr>\n",
       "    <tr>\n",
       "      <th>16165</th>\n",
       "      <td>0.031746</td>\n",
       "      <td>0.033709</td>\n",
       "      <td>0.033709</td>\n",
       "      <td>0.477114</td>\n",
       "      <td>0.031746</td>\n",
       "      <td>0</td>\n",
       "      <td>0</td>\n",
       "      <td>0</td>\n",
       "      <td>0</td>\n",
       "      <td>0</td>\n",
       "      <td>0</td>\n",
       "    </tr>\n",
       "    <tr>\n",
       "      <th>16166</th>\n",
       "      <td>0.031430</td>\n",
       "      <td>0.033373</td>\n",
       "      <td>0.033373</td>\n",
       "      <td>0.472367</td>\n",
       "      <td>0.031430</td>\n",
       "      <td>0</td>\n",
       "      <td>0</td>\n",
       "      <td>0</td>\n",
       "      <td>0</td>\n",
       "      <td>0</td>\n",
       "      <td>0</td>\n",
       "    </tr>\n",
       "    <tr>\n",
       "      <th>16167</th>\n",
       "      <td>0.031117</td>\n",
       "      <td>0.033041</td>\n",
       "      <td>0.033041</td>\n",
       "      <td>0.467666</td>\n",
       "      <td>0.031117</td>\n",
       "      <td>0</td>\n",
       "      <td>0</td>\n",
       "      <td>0</td>\n",
       "      <td>0</td>\n",
       "      <td>0</td>\n",
       "      <td>0</td>\n",
       "    </tr>\n",
       "    <tr>\n",
       "      <th>16168</th>\n",
       "      <td>0.030807</td>\n",
       "      <td>0.032712</td>\n",
       "      <td>0.032712</td>\n",
       "      <td>0.463013</td>\n",
       "      <td>0.030807</td>\n",
       "      <td>0</td>\n",
       "      <td>0</td>\n",
       "      <td>0</td>\n",
       "      <td>0</td>\n",
       "      <td>0</td>\n",
       "      <td>0</td>\n",
       "    </tr>\n",
       "    <tr>\n",
       "      <th>16169</th>\n",
       "      <td>0.030501</td>\n",
       "      <td>0.032387</td>\n",
       "      <td>0.032387</td>\n",
       "      <td>0.458406</td>\n",
       "      <td>0.030501</td>\n",
       "      <td>0</td>\n",
       "      <td>0</td>\n",
       "      <td>0</td>\n",
       "      <td>0</td>\n",
       "      <td>0</td>\n",
       "      <td>0</td>\n",
       "    </tr>\n",
       "  </tbody>\n",
       "</table>\n",
       "<p>16170 rows × 11 columns</p>\n",
       "</div>"
      ],
      "text/plain": [
       "             p2        p3        p4        p5        p6  target_death_Asian  \\\n",
       "0      0.000000  0.951229  0.951229  0.980199  0.818731                   0   \n",
       "1      0.000000  0.941765  0.941765  0.990050  0.810584                   0   \n",
       "2      0.000000  0.932394  0.932394  1.000000  0.802519                   0   \n",
       "3      0.000000  0.923116  0.923116  0.990050  0.794534                   0   \n",
       "4      0.000000  0.913931  0.913931  0.980199  0.786628                   0   \n",
       "...         ...       ...       ...       ...       ...                 ...   \n",
       "16165  0.031746  0.033709  0.033709  0.477114  0.031746                   0   \n",
       "16166  0.031430  0.033373  0.033373  0.472367  0.031430                   0   \n",
       "16167  0.031117  0.033041  0.033041  0.467666  0.031117                   0   \n",
       "16168  0.030807  0.032712  0.032712  0.463013  0.030807                   0   \n",
       "16169  0.030501  0.032387  0.032387  0.458406  0.030501                   0   \n",
       "\n",
       "       target_death_Black  target_death_White  target_death_Other  \\\n",
       "0                       0                   0                   0   \n",
       "1                       0                   0                   0   \n",
       "2                       0                   0                   0   \n",
       "3                       0                   0                   0   \n",
       "4                       0                   0                   0   \n",
       "...                   ...                 ...                 ...   \n",
       "16165                   0                   0                   0   \n",
       "16166                   0                   0                   0   \n",
       "16167                   0                   0                   0   \n",
       "16168                   0                   0                   0   \n",
       "16169                   0                   0                   0   \n",
       "\n",
       "       target_death_AIAN  target_death_NHPI  \n",
       "0                      0                  0  \n",
       "1                      0                  0  \n",
       "2                      0                  0  \n",
       "3                      0                  0  \n",
       "4                      0                  0  \n",
       "...                  ...                ...  \n",
       "16165                  0                  0  \n",
       "16166                  0                  0  \n",
       "16167                  0                  0  \n",
       "16168                  0                  0  \n",
       "16169                  0                  0  \n",
       "\n",
       "[16170 rows x 11 columns]"
      ]
     },
     "execution_count": 108,
     "metadata": {},
     "output_type": "execute_result"
    }
   ],
   "source": [
    "final_race_data=final_race_data.drop(\"p1\",axis=1)\n",
    "final_race_data"
   ]
  },
  {
   "cell_type": "markdown",
   "metadata": {},
   "source": [
    "# RACES"
   ]
  },
  {
   "cell_type": "markdown",
   "metadata": {},
   "source": [
    "## Race"
   ]
  },
  {
   "cell_type": "code",
   "execution_count": 110,
   "metadata": {},
   "outputs": [
    {
     "data": {
      "text/plain": [
       "(0, 16170)"
      ]
     },
     "execution_count": 110,
     "metadata": {},
     "output_type": "execute_result"
    }
   ],
   "source": [
    "positive_asian_data = final_race_data[final_race_data.target_death_Asian == 1]\n",
    "negative_asian_data = final_race_data[final_race_data.target_death_Asian == 0]\n",
    "len(positive_asian_data),len(negative_asian_data) # 2144"
   ]
  },
  {
   "cell_type": "code",
   "execution_count": 111,
   "metadata": {},
   "outputs": [
    {
     "data": {
      "text/html": [
       "<div>\n",
       "<style scoped>\n",
       "    .dataframe tbody tr th:only-of-type {\n",
       "        vertical-align: middle;\n",
       "    }\n",
       "\n",
       "    .dataframe tbody tr th {\n",
       "        vertical-align: top;\n",
       "    }\n",
       "\n",
       "    .dataframe thead th {\n",
       "        text-align: right;\n",
       "    }\n",
       "</style>\n",
       "<table border=\"1\" class=\"dataframe\">\n",
       "  <thead>\n",
       "    <tr style=\"text-align: right;\">\n",
       "      <th></th>\n",
       "      <th>p2</th>\n",
       "      <th>p3</th>\n",
       "      <th>p4</th>\n",
       "      <th>p5</th>\n",
       "      <th>p6</th>\n",
       "      <th>target_death_Asian</th>\n",
       "      <th>target_death_Black</th>\n",
       "      <th>target_death_White</th>\n",
       "      <th>target_death_Other</th>\n",
       "      <th>target_death_AIAN</th>\n",
       "      <th>target_death_NHPI</th>\n",
       "    </tr>\n",
       "  </thead>\n",
       "  <tbody>\n",
       "  </tbody>\n",
       "</table>\n",
       "</div>"
      ],
      "text/plain": [
       "Empty DataFrame\n",
       "Columns: [p2, p3, p4, p5, p6, target_death_Asian, target_death_Black, target_death_White, target_death_Other, target_death_AIAN, target_death_NHPI]\n",
       "Index: []"
      ]
     },
     "execution_count": 111,
     "metadata": {},
     "output_type": "execute_result"
    }
   ],
   "source": [
    "positive_asian_data"
   ]
  },
  {
   "cell_type": "code",
   "execution_count": 112,
   "metadata": {},
   "outputs": [
    {
     "data": {
      "text/plain": [
       "(0, 16170)"
      ]
     },
     "execution_count": 112,
     "metadata": {},
     "output_type": "execute_result"
    }
   ],
   "source": [
    "len(positive_asian_data),len(negative_asian_data) # 2144"
   ]
  },
  {
   "cell_type": "markdown",
   "metadata": {},
   "source": [
    "### Asian Model"
   ]
  },
  {
   "cell_type": "code",
   "execution_count": 127,
   "metadata": {},
   "outputs": [],
   "source": [
    "from sklearn.model_selection import train_test_split\n",
    "from sklearn.linear_model import LogisticRegression\n",
    "from sklearn.model_selection import cross_val_score\n",
    "from sklearn.model_selection import RepeatedStratifiedKFold\n",
    "from sklearn.utils import shuffle\n",
    "from sklearn.metrics import classification_report, confusion_matrix"
   ]
  },
  {
   "cell_type": "code",
   "execution_count": 128,
   "metadata": {},
   "outputs": [],
   "source": [
    "x_asian = positive_asian_data\n",
    "x_asian_2200 = shuffle(negative_asian_data).sample(2200)\n",
    "x_asian = x_asian.append(x_asian_2200,ignore_index=True)\n",
    "x_asian = shuffle(x_asian)\n",
    "\n",
    "X_asian = x_asian.iloc[:,:5]\n",
    "y_asian = x_asian.target_death_Asian\n",
    "\n",
    "x_asian_train,x_asian_test,y_asian_train,y_asian_test = train_test_split(X_asian,y_asian,test_size=0.3,random_state=0)\n"
   ]
  },
  {
   "cell_type": "markdown",
   "metadata": {},
   "source": [
    "#### Logistic Model"
   ]
  },
  {
   "cell_type": "code",
   "execution_count": 85,
   "metadata": {},
   "outputs": [
    {
     "name": "stdout",
     "output_type": "stream",
     "text": [
      "              precision    recall  f1-score   support\n",
      "\n",
      "           0       0.56      0.44      0.49       643\n",
      "           1       0.55      0.67      0.61       661\n",
      "\n",
      "    accuracy                           0.56      1304\n",
      "   macro avg       0.56      0.56      0.55      1304\n",
      "weighted avg       0.56      0.56      0.55      1304\n",
      "\n",
      "[-0.00144508 -1.21474007  0.30451255  0.26281935 -0.66305641]\n"
     ]
    },
    {
     "data": {
      "text/plain": [
       "Text(0.5, 1.0, ' LR Policy Impact')"
      ]
     },
     "execution_count": 85,
     "metadata": {},
     "output_type": "execute_result"
    },
    {
     "data": {
      "image/png": "[encoded data removed]",
      "text/plain": [
       "<Figure size 432x288 with 1 Axes>"
      ]
     },
     "metadata": {
      "needs_background": "light"
     },
     "output_type": "display_data"
    }
   ],
   "source": [
    "model_asian = LogisticRegression()\n",
    "model_asian.fit(x_asian_train,y_asian_train)\n",
    "model_asian_prob= model_asian.predict_proba(x_asian_test)\n",
    "pred_asian_lr = model_asian.predict(x_asian_test)\n",
    "cm = confusion_matrix(y_asian_test, pred_asian_lr)\n",
    "\n",
    "# fig, ax = plt.subplots()\n",
    "# ax.imshow(cm)\n",
    "# ax.grid(False)\n",
    "# ax.xaxis.set(ticks=(0, 1), ticklabels=('Predicted 0s', 'Predicted 1s'))\n",
    "# ax.yaxis.set(ticks=(0, 1), ticklabels=('Actual 0s', 'Actual 1s'))\n",
    "# ax.set_ylim(1.5, -0.5)\n",
    "# for i in range(2):\n",
    "    # for j in range(2):\n",
    "        # ax.text(j, i, cm[i, j], ha='center', va='center', color='red')\n",
    "# plt.show()\n",
    "\n",
    "print(classification_report(y_asian_test, pred_asian_lr))\n",
    "\n",
    "importance = model_asian.coef_[0]\n",
    "print(importance)\n",
    "\n",
    "plt.bar([x for x in x_asian.columns[:5]],importance)\n",
    "# plt.ylim().\n",
    "plt.title(\" LR Policy Impact\")"
   ]
  },
  {
   "cell_type": "markdown",
   "metadata": {},
   "source": [
    "### Linear SVC"
   ]
  },
  {
   "cell_type": "code",
   "execution_count": 86,
   "metadata": {},
   "outputs": [],
   "source": [
    "from sklearn import svm"
   ]
  },
  {
   "cell_type": "code",
   "execution_count": 87,
   "metadata": {},
   "outputs": [
    {
     "name": "stdout",
     "output_type": "stream",
     "text": [
      "              precision    recall  f1-score   support\n",
      "\n",
      "           0       0.54      0.30      0.39       643\n",
      "           1       0.53      0.75      0.62       661\n",
      "\n",
      "    accuracy                           0.53      1304\n",
      "   macro avg       0.53      0.53      0.50      1304\n",
      "weighted avg       0.53      0.53      0.51      1304\n",
      "\n"
     ]
    },
    {
     "data": {
      "text/plain": [
       "Text(0.5, 1.0, ' SVC Policy Impact')"
      ]
     },
     "execution_count": 87,
     "metadata": {},
     "output_type": "execute_result"
    },
    {
     "data": {
      "image/png": "[encoded data removed]",
      "text/plain": [
       "<Figure size 432x288 with 1 Axes>"
      ]
     },
     "metadata": {
      "needs_background": "light"
     },
     "output_type": "display_data"
    }
   ],
   "source": [
    "model_asian_svc = svm.SVC(kernel='linear')\n",
    "model_asian_svc.fit(x_asian_train,y_asian_train)\n",
    "asian_svc_pred = model_asian_svc.predict(x_asian_test)\n",
    "print(classification_report(y_asian_test,asian_svc_pred))\n",
    "\n",
    "plt.bar([x for x in x_asian.columns[:5]],model_asian_svc.coef_[0])\n",
    "# plt.ylim().\n",
    "plt.title(\" SVC Policy Impact\")"
   ]
  },
  {
   "cell_type": "code",
   "execution_count": null,
   "metadata": {},
   "outputs": [],
   "source": []
  },
  {
   "cell_type": "markdown",
   "metadata": {},
   "source": [
    "### Random Forest"
   ]
  },
  {
   "cell_type": "code",
   "execution_count": 116,
   "metadata": {},
   "outputs": [],
   "source": [
    "from sklearn.ensemble import RandomForestClassifier\n",
    "from sklearn.metrics import accuracy_score, confusion_matrix, classification_report\n",
    "from sklearn.utils import shuffle\n",
    "from sklearn.model_selection import train_test_split"
   ]
  },
  {
   "cell_type": "code",
   "execution_count": 117,
   "metadata": {},
   "outputs": [
    {
     "name": "stdout",
     "output_type": "stream",
     "text": [
      "              precision    recall  f1-score   support\n",
      "\n",
      "           0       1.00      1.00      1.00       660\n",
      "\n",
      "    accuracy                           1.00       660\n",
      "   macro avg       1.00      1.00      1.00       660\n",
      "weighted avg       1.00      1.00      1.00       660\n",
      "\n"
     ]
    },
    {
     "data": {
      "text/plain": [
       "Text(0.5, 1.0, 'RF Policy Impact')"
      ]
     },
     "execution_count": 117,
     "metadata": {},
     "output_type": "execute_result"
    },
    {
     "data": {
      "image/png": "[encoded data removed]",
      "text/plain": [
       "<Figure size 432x288 with 1 Axes>"
      ]
     },
     "metadata": {
      "needs_background": "light"
     },
     "output_type": "display_data"
    }
   ],
   "source": [
    "clf_asian = RandomForestClassifier(n_estimators = 500,max_depth=30,criterion='entropy',\n",
    "            n_jobs=-1, oob_score=True,random_state = 0).fit(x_asian_train, y_asian_train)\n",
    "\n",
    "y_pred_asian=clf_asian.predict(x_asian_test)\n",
    "y_prob_asian = clf_asian.predict_proba(x_asian_test)\n",
    "print(classification_report(y_asian_test, y_pred_asian))\n",
    "plt.bar(x_asian.columns[:5],clf_asian.feature_importances_)\n",
    "plt.ylim(0.14)\n",
    "plt.title(\"RF Policy Impact\")"
   ]
  },
  {
   "cell_type": "code",
   "execution_count": 118,
   "metadata": {},
   "outputs": [
    {
     "data": {
      "text/plain": [
       "{'bootstrap': True,\n",
       " 'ccp_alpha': 0.0,\n",
       " 'class_weight': None,\n",
       " 'criterion': 'entropy',\n",
       " 'max_depth': 30,\n",
       " 'max_features': 'auto',\n",
       " 'max_leaf_nodes': None,\n",
       " 'max_samples': None,\n",
       " 'min_impurity_decrease': 0.0,\n",
       " 'min_impurity_split': None,\n",
       " 'min_samples_leaf': 1,\n",
       " 'min_samples_split': 2,\n",
       " 'min_weight_fraction_leaf': 0.0,\n",
       " 'n_estimators': 500,\n",
       " 'n_jobs': -1,\n",
       " 'oob_score': True,\n",
       " 'random_state': 0,\n",
       " 'verbose': 0,\n",
       " 'warm_start': False}"
      ]
     },
     "execution_count": 118,
     "metadata": {},
     "output_type": "execute_result"
    }
   ],
   "source": [
    "clf_asian.get_params()"
   ]
  },
  {
   "cell_type": "markdown",
   "metadata": {},
   "source": [
    "### Gradient Boosting"
   ]
  },
  {
   "cell_type": "code",
   "execution_count": 119,
   "metadata": {},
   "outputs": [],
   "source": [
    "from sklearn.ensemble import GradientBoostingClassifier\n",
    "from sklearn.model_selection import KFold"
   ]
  },
  {
   "cell_type": "code",
   "execution_count": 120,
   "metadata": {},
   "outputs": [
    {
     "ename": "ValueError",
     "evalue": "y contains 1 class after sample_weight trimmed classes with zero weights, while a minimum of 2 classes are required.",
     "output_type": "error",
     "traceback": [
      "\u001b[1;31m---------------------------------------------------------------------------\u001b[0m",
      "\u001b[1;31mValueError\u001b[0m                                Traceback (most recent call last)",
      "\u001b[1;32m<ipython-input-120-ecc2bf8b87b3>\u001b[0m in \u001b[0;36m<module>\u001b[1;34m\u001b[0m\n\u001b[0;32m      1\u001b[0m \u001b[0mgbc_asian\u001b[0m \u001b[1;33m=\u001b[0m \u001b[0mGradientBoostingClassifier\u001b[0m\u001b[1;33m(\u001b[0m\u001b[0mn_estimators\u001b[0m\u001b[1;33m=\u001b[0m\u001b[1;36m500\u001b[0m\u001b[1;33m,\u001b[0m\u001b[0mmax_depth\u001b[0m\u001b[1;33m=\u001b[0m\u001b[1;36m15\u001b[0m\u001b[1;33m)\u001b[0m\u001b[1;33m\u001b[0m\u001b[1;33m\u001b[0m\u001b[0m\n\u001b[1;32m----> 2\u001b[1;33m \u001b[0mgbc_asian\u001b[0m\u001b[1;33m.\u001b[0m\u001b[0mfit\u001b[0m\u001b[1;33m(\u001b[0m\u001b[0mx_asian_train\u001b[0m\u001b[1;33m,\u001b[0m\u001b[0my_asian_train\u001b[0m\u001b[1;33m)\u001b[0m\u001b[1;33m\u001b[0m\u001b[1;33m\u001b[0m\u001b[0m\n\u001b[0m\u001b[0;32m      3\u001b[0m \u001b[0mpred_gbc_asian\u001b[0m\u001b[1;33m=\u001b[0m \u001b[0mgbc_asian\u001b[0m\u001b[1;33m.\u001b[0m\u001b[0mpredict\u001b[0m\u001b[1;33m(\u001b[0m\u001b[0mx_asian_test\u001b[0m\u001b[1;33m)\u001b[0m\u001b[1;33m\u001b[0m\u001b[1;33m\u001b[0m\u001b[0m\n",
      "\u001b[1;32m~\\AppData\\Roaming\\Python\\Python37\\site-packages\\sklearn\\ensemble\\_gb.py\u001b[0m in \u001b[0;36mfit\u001b[1;34m(self, X, y, sample_weight, monitor)\u001b[0m\n\u001b[0;32m    421\u001b[0m \u001b[1;33m\u001b[0m\u001b[0m\n\u001b[0;32m    422\u001b[0m         \u001b[1;32mif\u001b[0m \u001b[0mis_classifier\u001b[0m\u001b[1;33m(\u001b[0m\u001b[0mself\u001b[0m\u001b[1;33m)\u001b[0m\u001b[1;33m:\u001b[0m\u001b[1;33m\u001b[0m\u001b[1;33m\u001b[0m\u001b[0m\n\u001b[1;32m--> 423\u001b[1;33m             \u001b[0my\u001b[0m \u001b[1;33m=\u001b[0m \u001b[0mself\u001b[0m\u001b[1;33m.\u001b[0m\u001b[0m_validate_y\u001b[0m\u001b[1;33m(\u001b[0m\u001b[0my\u001b[0m\u001b[1;33m,\u001b[0m \u001b[0msample_weight\u001b[0m\u001b[1;33m)\u001b[0m\u001b[1;33m\u001b[0m\u001b[1;33m\u001b[0m\u001b[0m\n\u001b[0m\u001b[0;32m    424\u001b[0m         \u001b[1;32melse\u001b[0m\u001b[1;33m:\u001b[0m\u001b[1;33m\u001b[0m\u001b[1;33m\u001b[0m\u001b[0m\n\u001b[0;32m    425\u001b[0m             \u001b[0my\u001b[0m \u001b[1;33m=\u001b[0m \u001b[0mself\u001b[0m\u001b[1;33m.\u001b[0m\u001b[0m_validate_y\u001b[0m\u001b[1;33m(\u001b[0m\u001b[0my\u001b[0m\u001b[1;33m)\u001b[0m\u001b[1;33m\u001b[0m\u001b[1;33m\u001b[0m\u001b[0m\n",
      "\u001b[1;32m~\\AppData\\Roaming\\Python\\Python37\\site-packages\\sklearn\\ensemble\\_gb.py\u001b[0m in \u001b[0;36m_validate_y\u001b[1;34m(self, y, sample_weight)\u001b[0m\n\u001b[0;32m   1108\u001b[0m                              \u001b[1;34m\"trimmed classes with zero weights, while a \"\u001b[0m\u001b[1;33m\u001b[0m\u001b[1;33m\u001b[0m\u001b[0m\n\u001b[0;32m   1109\u001b[0m                              \u001b[1;34m\"minimum of 2 classes are required.\"\u001b[0m\u001b[1;33m\u001b[0m\u001b[1;33m\u001b[0m\u001b[0m\n\u001b[1;32m-> 1110\u001b[1;33m                              % n_trim_classes)\n\u001b[0m\u001b[0;32m   1111\u001b[0m         \u001b[0mself\u001b[0m\u001b[1;33m.\u001b[0m\u001b[0m_n_classes\u001b[0m \u001b[1;33m=\u001b[0m \u001b[0mlen\u001b[0m\u001b[1;33m(\u001b[0m\u001b[0mself\u001b[0m\u001b[1;33m.\u001b[0m\u001b[0mclasses_\u001b[0m\u001b[1;33m)\u001b[0m\u001b[1;33m\u001b[0m\u001b[1;33m\u001b[0m\u001b[0m\n\u001b[0;32m   1112\u001b[0m         \u001b[1;31m# expose n_classes_ attribute\u001b[0m\u001b[1;33m\u001b[0m\u001b[1;33m\u001b[0m\u001b[1;33m\u001b[0m\u001b[0m\n",
      "\u001b[1;31mValueError\u001b[0m: y contains 1 class after sample_weight trimmed classes with zero weights, while a minimum of 2 classes are required."
     ]
    }
   ],
   "source": [
    "gbc_asian = GradientBoostingClassifier(n_estimators=500,max_depth=15)\n",
    "gbc_asian.fit(x_asian_train,y_asian_train)\n",
    "pred_gbc_asian= gbc_asian.predict(x_asian_test)\n"
   ]
  },
  {
   "cell_type": "code",
   "execution_count": 121,
   "metadata": {},
   "outputs": [
    {
     "ename": "NameError",
     "evalue": "name 'pred_gbc_asian' is not defined",
     "output_type": "error",
     "traceback": [
      "\u001b[1;31m---------------------------------------------------------------------------\u001b[0m",
      "\u001b[1;31mNameError\u001b[0m                                 Traceback (most recent call last)",
      "\u001b[1;32m<ipython-input-121-c3cfb674c4cf>\u001b[0m in \u001b[0;36m<module>\u001b[1;34m\u001b[0m\n\u001b[1;32m----> 1\u001b[1;33m \u001b[0mprint\u001b[0m\u001b[1;33m(\u001b[0m\u001b[0mclassification_report\u001b[0m\u001b[1;33m(\u001b[0m\u001b[0my_asian_test\u001b[0m\u001b[1;33m,\u001b[0m\u001b[0mpred_gbc_asian\u001b[0m\u001b[1;33m)\u001b[0m\u001b[1;33m)\u001b[0m\u001b[1;33m\u001b[0m\u001b[1;33m\u001b[0m\u001b[0m\n\u001b[0m",
      "\u001b[1;31mNameError\u001b[0m: name 'pred_gbc_asian' is not defined"
     ]
    }
   ],
   "source": [
    "print(classification_report(y_asian_test,pred_gbc_asian))"
   ]
  },
  {
   "cell_type": "code",
   "execution_count": 50,
   "metadata": {},
   "outputs": [
    {
     "data": {
      "text/plain": [
       "Text(0.5, 1.0, 'GBC Policy Impact')"
      ]
     },
     "execution_count": 50,
     "metadata": {},
     "output_type": "execute_result"
    },
    {
     "data": {
      "image/png": "[encoded data removed]",
      "text/plain": [
       "<Figure size 432x288 with 1 Axes>"
      ]
     },
     "metadata": {
      "needs_background": "light"
     },
     "output_type": "display_data"
    }
   ],
   "source": [
    "\n",
    "plt.bar(x_asian.columns[:5],gbc_asian.feature_importances_)\n",
    "plt.ylim(0.14)\n",
    "plt.title(\"GBC Policy Impact\")"
   ]
  },
  {
   "cell_type": "code",
   "execution_count": 40,
   "metadata": {},
   "outputs": [
    {
     "data": {
      "text/plain": [
       "{'ccp_alpha': 0.0,\n",
       " 'criterion': 'friedman_mse',\n",
       " 'init': None,\n",
       " 'learning_rate': 0.1,\n",
       " 'loss': 'deviance',\n",
       " 'max_depth': 3,\n",
       " 'max_features': None,\n",
       " 'max_leaf_nodes': None,\n",
       " 'min_impurity_decrease': 0.0,\n",
       " 'min_impurity_split': None,\n",
       " 'min_samples_leaf': 1,\n",
       " 'min_samples_split': 2,\n",
       " 'min_weight_fraction_leaf': 0.0,\n",
       " 'n_estimators': 100,\n",
       " 'n_iter_no_change': None,\n",
       " 'random_state': None,\n",
       " 'subsample': 1.0,\n",
       " 'tol': 0.0001,\n",
       " 'validation_fraction': 0.1,\n",
       " 'verbose': 0,\n",
       " 'warm_start': False}"
      ]
     },
     "execution_count": 40,
     "metadata": {},
     "output_type": "execute_result"
    }
   ],
   "source": [
    "gbc_asian.get_params()"
   ]
  },
  {
   "cell_type": "markdown",
   "metadata": {},
   "source": [
    "### BLACK RACE"
   ]
  },
  {
   "cell_type": "code",
   "execution_count": 122,
   "metadata": {},
   "outputs": [],
   "source": [
    "positive_black_data = final_race_data[final_race_data.target_death_Black == 1]\n",
    "negative_black_data = final_race_data[final_race_data.target_death_Black == 0]"
   ]
  },
  {
   "cell_type": "code",
   "execution_count": 123,
   "metadata": {},
   "outputs": [
    {
     "data": {
      "text/plain": [
       "(0, 16170)"
      ]
     },
     "execution_count": 123,
     "metadata": {},
     "output_type": "execute_result"
    }
   ],
   "source": [
    "len(positive_black_data),len(negative_black_data) # "
   ]
  },
  {
   "cell_type": "code",
   "execution_count": 90,
   "metadata": {},
   "outputs": [],
   "source": [
    "x_black = positive_black_data\n",
    "x_black_2950 = shuffle(negative_black_data).sample(2950)\n",
    "x_black = x_black.append(x_black_2950,ignore_index=True)\n",
    "x_black = shuffle(x_black)\n",
    "\n",
    "X_black = x_black.iloc[:,:5]\n",
    "y_black = x_black.target_Black\n",
    "\n",
    "x_black_train,x_black_test,y_black_train,y_black_test = train_test_split(X_black,y_black,test_size=0.3,random_state=0)"
   ]
  },
  {
   "cell_type": "markdown",
   "metadata": {},
   "source": [
    "#### LR"
   ]
  },
  {
   "cell_type": "code",
   "execution_count": 91,
   "metadata": {},
   "outputs": [
    {
     "name": "stdout",
     "output_type": "stream",
     "text": [
      "              precision    recall  f1-score   support\n",
      "\n",
      "           0       0.56      0.59      0.57       890\n",
      "           1       0.54      0.51      0.52       843\n",
      "\n",
      "    accuracy                           0.55      1733\n",
      "   macro avg       0.55      0.55      0.55      1733\n",
      "weighted avg       0.55      0.55      0.55      1733\n",
      "\n",
      "[-0.04421312 -0.94549112  0.66397925  0.15755503 -0.13940573]\n"
     ]
    },
    {
     "data": {
      "text/plain": [
       "Text(0.5, 1.0, ' LR Policy Impact')"
      ]
     },
     "execution_count": 91,
     "metadata": {},
     "output_type": "execute_result"
    },
    {
     "data": {
      "image/png": "[encoded data removed]",
      "text/plain": [
       "<Figure size 432x288 with 1 Axes>"
      ]
     },
     "metadata": {
      "needs_background": "light"
     },
     "output_type": "display_data"
    }
   ],
   "source": [
    "model_black = LogisticRegression()\n",
    "model_black.fit(x_black_train,y_black_train)\n",
    "model_black_prob= model_black.predict_proba(x_black_test)\n",
    "pred_black_lr = model_black.predict(x_black_test)\n",
    "cm = confusion_matrix(y_black_test, pred_black_lr)\n",
    "\n",
    "# fig, ax = plt.subplots()\n",
    "# ax.imshow(cm)\n",
    "# ax.grid(False)\n",
    "# ax.xaxis.set(ticks=(0, 1), ticklabels=('Predicted 0s', 'Predicted 1s'))\n",
    "# ax.yaxis.set(ticks=(0, 1), ticklabels=('Actual 0s', 'Actual 1s'))\n",
    "# ax.set_ylim(1.5, -0.5)\n",
    "# for i in range(2):\n",
    "    # for j in range(2):\n",
    "        # ax.text(j, i, cm[i, j], ha='center', va='center', color='red')\n",
    "# plt.show()\n",
    "\n",
    "print(classification_report(y_black_test, pred_black_lr))\n",
    "\n",
    "importance = model_black.coef_[0]\n",
    "print(importance)\n",
    "\n",
    "plt.bar([x for x in x_asian.columns[:5]],importance)\n",
    "# plt.ylim().\n",
    "plt.title(\" LR Policy Impact\")"
   ]
  },
  {
   "cell_type": "markdown",
   "metadata": {},
   "source": [
    "#### SVC"
   ]
  },
  {
   "cell_type": "code",
   "execution_count": 92,
   "metadata": {},
   "outputs": [
    {
     "name": "stdout",
     "output_type": "stream",
     "text": [
      "              precision    recall  f1-score   support\n",
      "\n",
      "           0       0.51      0.99      0.68       890\n",
      "           1       0.56      0.01      0.02       843\n",
      "\n",
      "    accuracy                           0.51      1733\n",
      "   macro avg       0.54      0.50      0.35      1733\n",
      "weighted avg       0.54      0.51      0.36      1733\n",
      "\n"
     ]
    },
    {
     "data": {
      "text/plain": [
       "Text(0.5, 1.0, ' SVC Policy Impact')"
      ]
     },
     "execution_count": 92,
     "metadata": {},
     "output_type": "execute_result"
    },
    {
     "data": {
      "image/png": "[encoded data removed]",
      "text/plain": [
       "<Figure size 432x288 with 1 Axes>"
      ]
     },
     "metadata": {
      "needs_background": "light"
     },
     "output_type": "display_data"
    }
   ],
   "source": [
    "model_black_svc = svm.SVC(kernel='linear')\n",
    "model_black_svc.fit(x_black_train,y_black_train)\n",
    "black_svc_pred = model_black_svc.predict(x_black_test)\n",
    "print(classification_report(y_black_test,black_svc_pred))\n",
    "\n",
    "plt.bar([x for x in x_asian.columns[:5]],model_black_svc.coef_[0])\n",
    "# plt.ylim().\n",
    "plt.title(\" SVC Policy Impact\")"
   ]
  },
  {
   "cell_type": "markdown",
   "metadata": {},
   "source": [
    "#### RF"
   ]
  },
  {
   "cell_type": "code",
   "execution_count": 53,
   "metadata": {},
   "outputs": [
    {
     "name": "stdout",
     "output_type": "stream",
     "text": [
      "              precision    recall  f1-score   support\n",
      "\n",
      "           0       0.72      0.65      0.68       859\n",
      "           1       0.68      0.75      0.72       874\n",
      "\n",
      "    accuracy                           0.70      1733\n",
      "   macro avg       0.70      0.70      0.70      1733\n",
      "weighted avg       0.70      0.70      0.70      1733\n",
      "\n"
     ]
    },
    {
     "data": {
      "text/plain": [
       "Text(0.5, 1.0, 'RF Policy Impact')"
      ]
     },
     "execution_count": 53,
     "metadata": {},
     "output_type": "execute_result"
    },
    {
     "data": {
      "image/png": "[encoded data removed]",
      "text/plain": [
       "<Figure size 432x288 with 1 Axes>"
      ]
     },
     "metadata": {
      "needs_background": "light"
     },
     "output_type": "display_data"
    }
   ],
   "source": [
    "clf_black = RandomForestClassifier(n_estimators = 500,max_depth=30,criterion='entropy',\n",
    "n_jobs=-1, oob_score=True,random_state = 0).fit(x_black_train, y_black_train)\n",
    "\n",
    "y_pred_black=clf_black.predict(x_black_test)\n",
    "y_prob_black = clf_black.predict_proba(x_black_test)\n",
    "print(classification_report(y_black_test, y_pred_black))\n",
    "plt.bar(x_asian.columns[:5],clf_black.feature_importances_)\n",
    "plt.ylim(0.14)\n",
    "plt.title(\"RF Policy Impact\")"
   ]
  },
  {
   "cell_type": "markdown",
   "metadata": {},
   "source": [
    "#### GB"
   ]
  },
  {
   "cell_type": "code",
   "execution_count": 54,
   "metadata": {},
   "outputs": [
    {
     "name": "stdout",
     "output_type": "stream",
     "text": [
      "              precision    recall  f1-score   support\n",
      "\n",
      "           0       0.72      0.68      0.70       859\n",
      "           1       0.70      0.75      0.72       874\n",
      "\n",
      "    accuracy                           0.71      1733\n",
      "   macro avg       0.71      0.71      0.71      1733\n",
      "weighted avg       0.71      0.71      0.71      1733\n",
      "\n"
     ]
    },
    {
     "data": {
      "text/plain": [
       "Text(0.5, 1.0, 'GBC Policy Impact')"
      ]
     },
     "execution_count": 54,
     "metadata": {},
     "output_type": "execute_result"
    },
    {
     "data": {
      "image/png": "[encoded data removed]",
      "text/plain": [
       "<Figure size 432x288 with 1 Axes>"
      ]
     },
     "metadata": {
      "needs_background": "light"
     },
     "output_type": "display_data"
    }
   ],
   "source": [
    "gbc_black = GradientBoostingClassifier(n_estimators=500,max_depth=15)\n",
    "gbc_black.fit(x_black_train,y_black_train)\n",
    "pred_gbc_black= gbc_black.predict(x_black_test)\n",
    "print(classification_report(y_black_test,pred_gbc_black))\n",
    "plt.bar(x_asian.columns[:5],gbc_black.feature_importances_)\n",
    "plt.ylim(0.14)\n",
    "plt.title(\"GBC Policy Impact\")"
   ]
  },
  {
   "cell_type": "code",
   "execution_count": null,
   "metadata": {},
   "outputs": [],
   "source": []
  },
  {
   "cell_type": "markdown",
   "metadata": {},
   "source": [
    "### White RAce"
   ]
  },
  {
   "cell_type": "code",
   "execution_count": 56,
   "metadata": {},
   "outputs": [
    {
     "data": {
      "text/plain": [
       "(3052, 13118)"
      ]
     },
     "execution_count": 56,
     "metadata": {},
     "output_type": "execute_result"
    }
   ],
   "source": [
    "positive_white_data = final_race_data[final_race_data.target_White == 1]\n",
    "negative_white_data = final_race_data[final_race_data.target_White == 0]\n",
    "len(positive_white_data),len(negative_white_data) # 2144"
   ]
  },
  {
   "cell_type": "code",
   "execution_count": 93,
   "metadata": {},
   "outputs": [],
   "source": [
    "x_white = positive_white_data\n",
    "x_white_3100 = shuffle(negative_white_data).sample(3100)\n",
    "x_white = x_white.append(x_white_3100,ignore_index=True)\n",
    "x_white = shuffle(x_white)\n",
    "\n",
    "X_white = x_white.iloc[:,:5]\n",
    "y_white = x_white.target_White\n",
    "\n",
    "x_white_train,x_white_test,y_white_train,y_white_test = train_test_split(X_white,y_white,test_size=0.3,random_state=0)"
   ]
  },
  {
   "cell_type": "markdown",
   "metadata": {},
   "source": [
    "#### LR"
   ]
  },
  {
   "cell_type": "code",
   "execution_count": 94,
   "metadata": {},
   "outputs": [
    {
     "name": "stdout",
     "output_type": "stream",
     "text": [
      "              precision    recall  f1-score   support\n",
      "\n",
      "           0       0.52      0.48      0.50       910\n",
      "           1       0.53      0.57      0.55       936\n",
      "\n",
      "    accuracy                           0.53      1846\n",
      "   macro avg       0.53      0.53      0.53      1846\n",
      "weighted avg       0.53      0.53      0.53      1846\n",
      "\n",
      "[-0.15912359 -0.47849713  0.13361088  0.01463448 -0.49608584]\n"
     ]
    },
    {
     "data": {
      "text/plain": [
       "Text(0.5, 1.0, ' LR Policy Impact')"
      ]
     },
     "execution_count": 94,
     "metadata": {},
     "output_type": "execute_result"
    },
    {
     "data": {
      "image/png": "[encoded data removed]",
      "text/plain": [
       "<Figure size 432x288 with 1 Axes>"
      ]
     },
     "metadata": {
      "needs_background": "light"
     },
     "output_type": "display_data"
    }
   ],
   "source": [
    "model_white = LogisticRegression()\n",
    "model_white.fit(x_white_train,y_white_train)\n",
    "model_white_prob= model_white.predict_proba(x_white_test)\n",
    "pred_white_lr = model_white.predict(x_white_test)\n",
    "cm = confusion_matrix(y_white_test, pred_white_lr)\n",
    "\n",
    "# fig, ax = plt.subplots()\n",
    "# ax.imshow(cm)\n",
    "# ax.grid(False)\n",
    "# ax.xaxis.set(ticks=(0, 1), ticklabels=('Predicted 0s', 'Predicted 1s'))\n",
    "# ax.yaxis.set(ticks=(0, 1), ticklabels=('Actual 0s', 'Actual 1s'))\n",
    "# ax.set_ylim(1.5, -0.5)\n",
    "# for i in range(2):\n",
    "    # for j in range(2):\n",
    "        # ax.text(j, i, cm[i, j], ha='center', va='center', color='red')\n",
    "# plt.show()\n",
    "\n",
    "print(classification_report(y_white_test, pred_white_lr))\n",
    "\n",
    "importance = model_white.coef_[0]\n",
    "print(importance)\n",
    "\n",
    "plt.bar([x for x in x_asian.columns[:5]],importance)\n",
    "# plt.ylim().\n",
    "plt.title(\" LR Policy Impact\")"
   ]
  },
  {
   "cell_type": "markdown",
   "metadata": {},
   "source": [
    "#### SVC"
   ]
  },
  {
   "cell_type": "code",
   "execution_count": 95,
   "metadata": {},
   "outputs": [
    {
     "name": "stdout",
     "output_type": "stream",
     "text": [
      "              precision    recall  f1-score   support\n",
      "\n",
      "           0       0.55      0.27      0.36       910\n",
      "           1       0.53      0.78      0.63       936\n",
      "\n",
      "    accuracy                           0.53      1846\n",
      "   macro avg       0.54      0.53      0.50      1846\n",
      "weighted avg       0.54      0.53      0.50      1846\n",
      "\n"
     ]
    },
    {
     "data": {
      "text/plain": [
       "Text(0.5, 1.0, ' SVC White Policy Impact')"
      ]
     },
     "execution_count": 95,
     "metadata": {},
     "output_type": "execute_result"
    },
    {
     "data": {
      "image/png": "[encoded data removed]",
      "text/plain": [
       "<Figure size 432x288 with 1 Axes>"
      ]
     },
     "metadata": {
      "needs_background": "light"
     },
     "output_type": "display_data"
    }
   ],
   "source": [
    "model_white_svc = svm.SVC(kernel='linear')\n",
    "model_white_svc.fit(x_white_train,y_white_train)\n",
    "white_svc_pred = model_white_svc.predict(x_white_test)\n",
    "print(classification_report(y_white_test,white_svc_pred))\n",
    "\n",
    "plt.bar([x for x in x_asian.columns[:5]],model_white_svc.coef_[0])\n",
    "# plt.ylim().\n",
    "plt.title(\" SVC White Policy Impact\")"
   ]
  },
  {
   "cell_type": "markdown",
   "metadata": {},
   "source": [
    "#### RF"
   ]
  },
  {
   "cell_type": "code",
   "execution_count": 96,
   "metadata": {},
   "outputs": [
    {
     "name": "stdout",
     "output_type": "stream",
     "text": [
      "              precision    recall  f1-score   support\n",
      "\n",
      "           0       0.72      0.69      0.71       910\n",
      "           1       0.71      0.74      0.73       936\n",
      "\n",
      "    accuracy                           0.72      1846\n",
      "   macro avg       0.72      0.72      0.72      1846\n",
      "weighted avg       0.72      0.72      0.72      1846\n",
      "\n"
     ]
    },
    {
     "data": {
      "text/plain": [
       "Text(0.5, 1.0, 'RF White Policy Impact')"
      ]
     },
     "execution_count": 96,
     "metadata": {},
     "output_type": "execute_result"
    },
    {
     "data": {
      "image/png": "[encoded data removed]",
      "text/plain": [
       "<Figure size 432x288 with 1 Axes>"
      ]
     },
     "metadata": {
      "needs_background": "light"
     },
     "output_type": "display_data"
    }
   ],
   "source": [
    "clf_white = RandomForestClassifier(n_estimators = 500,max_depth=30,criterion='entropy',\n",
    "n_jobs=-1, oob_score=True,random_state = 0).fit(x_white_train, y_white_train)\n",
    "\n",
    "y_pred_white=clf_white.predict(x_white_test)\n",
    "y_prob_white = clf_white.predict_proba(x_white_test)\n",
    "print(classification_report(y_white_test, y_pred_white))\n",
    "plt.bar(x_asian.columns[:5],clf_white.feature_importances_)\n",
    "plt.ylim(0.14)\n",
    "plt.title(\"RF White Policy Impact\")"
   ]
  },
  {
   "cell_type": "markdown",
   "metadata": {},
   "source": [
    "#### GB"
   ]
  },
  {
   "cell_type": "code",
   "execution_count": 59,
   "metadata": {},
   "outputs": [
    {
     "name": "stdout",
     "output_type": "stream",
     "text": [
      "              precision    recall  f1-score   support\n",
      "\n",
      "           0       0.76      0.70      0.73       959\n",
      "           1       0.70      0.77      0.73       887\n",
      "\n",
      "    accuracy                           0.73      1846\n",
      "   macro avg       0.73      0.73      0.73      1846\n",
      "weighted avg       0.73      0.73      0.73      1846\n",
      "\n"
     ]
    },
    {
     "data": {
      "text/plain": [
       "Text(0.5, 1.0, 'GBC Policy Impact')"
      ]
     },
     "execution_count": 59,
     "metadata": {},
     "output_type": "execute_result"
    },
    {
     "data": {
      "image/png": "[encoded data removed]",
      "text/plain": [
       "<Figure size 432x288 with 1 Axes>"
      ]
     },
     "metadata": {
      "needs_background": "light"
     },
     "output_type": "display_data"
    }
   ],
   "source": [
    "gbc_white = GradientBoostingClassifier(n_estimators=500,max_depth=15)\n",
    "gbc_white.fit(x_white_train,y_white_train)\n",
    "pred_gbc_white= gbc_white.predict(x_white_test)\n",
    "print(classification_report(y_white_test,pred_gbc_white))\n",
    "plt.bar(x_asian.columns[:5],gbc_white.feature_importances_)\n",
    "plt.ylim(0.14)\n",
    "plt.title(\"GBC Policy Impact\")"
   ]
  },
  {
   "cell_type": "markdown",
   "metadata": {},
   "source": [
    "### NHPI"
   ]
  },
  {
   "cell_type": "code",
   "execution_count": 97,
   "metadata": {},
   "outputs": [
    {
     "data": {
      "text/plain": [
       "(631, 15539)"
      ]
     },
     "execution_count": 97,
     "metadata": {},
     "output_type": "execute_result"
    }
   ],
   "source": [
    "positive_nhpi_data = final_race_data[final_race_data.target_NHPI == 1]\n",
    "negative_nhpi_data = final_race_data[final_race_data.target_NHPI == 0]\n",
    "len(positive_nhpi_data),len(negative_nhpi_data) # "
   ]
  },
  {
   "cell_type": "code",
   "execution_count": 98,
   "metadata": {},
   "outputs": [],
   "source": [
    "x_nhpi = positive_nhpi_data\n",
    "x_nhpi_750 = shuffle(negative_nhpi_data).sample(750)\n",
    "x_nhpi = x_nhpi.append(x_nhpi_750,ignore_index=True)\n",
    "x_nhpi = shuffle(x_nhpi)\n",
    "\n",
    "X_nhpi = x_nhpi.iloc[:,:5]\n",
    "y_nhpi = x_nhpi.target_NHPI\n",
    "\n",
    "x_nhpi_train,x_nhpi_test,y_nhpi_train,y_nhpi_test = train_test_split(X_nhpi,y_nhpi,test_size=0.3,random_state=0)"
   ]
  },
  {
   "cell_type": "markdown",
   "metadata": {},
   "source": [
    "#### LR"
   ]
  },
  {
   "cell_type": "code",
   "execution_count": 99,
   "metadata": {},
   "outputs": [
    {
     "name": "stdout",
     "output_type": "stream",
     "text": [
      "              precision    recall  f1-score   support\n",
      "\n",
      "           0       0.55      0.65      0.60       218\n",
      "           1       0.52      0.42      0.46       197\n",
      "\n",
      "    accuracy                           0.54       415\n",
      "   macro avg       0.54      0.53      0.53       415\n",
      "weighted avg       0.54      0.54      0.53       415\n",
      "\n",
      "[-0.53634098 -0.47184137 -0.06571119 -0.15035993 -0.57467294]\n"
     ]
    },
    {
     "data": {
      "text/plain": [
       "Text(0.5, 1.0, ' LR NHPI Policy Impact')"
      ]
     },
     "execution_count": 99,
     "metadata": {},
     "output_type": "execute_result"
    },
    {
     "data": {
      "image/png": "[encoded data removed]",
      "text/plain": [
       "<Figure size 432x288 with 1 Axes>"
      ]
     },
     "metadata": {
      "needs_background": "light"
     },
     "output_type": "display_data"
    }
   ],
   "source": [
    "model_nhpi = LogisticRegression()\n",
    "model_nhpi.fit(x_nhpi_train,y_nhpi_train)\n",
    "model_nhpi_prob= model_nhpi.predict_proba(x_nhpi_test)\n",
    "pred_nhpi_lr = model_nhpi.predict(x_nhpi_test)\n",
    "cm = confusion_matrix(y_nhpi_test, pred_nhpi_lr)\n",
    "\n",
    "# fig, ax = plt.subplots()\n",
    "# ax.imshow(cm)\n",
    "# ax.grid(False)\n",
    "# ax.xaxis.set(ticks=(0, 1), ticklabels=('Predicted 0s', 'Predicted 1s'))\n",
    "# ax.yaxis.set(ticks=(0, 1), ticklabels=('Actual 0s', 'Actual 1s'))\n",
    "# ax.set_ylim(1.5, -0.5)\n",
    "# for i in range(2):\n",
    "    # for j in range(2):\n",
    "        # ax.text(j, i, cm[i, j], ha='center', va='center', color='red')\n",
    "# plt.show()\n",
    "\n",
    "print(classification_report(y_nhpi_test, pred_nhpi_lr))\n",
    "\n",
    "importance = model_nhpi.coef_[0]\n",
    "print(importance)\n",
    "\n",
    "plt.bar([x for x in x_asian.columns[:5]],importance)\n",
    "# plt.ylim().\n",
    "plt.title(\" LR NHPI Policy Impact\")"
   ]
  },
  {
   "cell_type": "markdown",
   "metadata": {},
   "source": [
    "#### SVC"
   ]
  },
  {
   "cell_type": "code",
   "execution_count": 100,
   "metadata": {},
   "outputs": [
    {
     "name": "stdout",
     "output_type": "stream",
     "text": [
      "              precision    recall  f1-score   support\n",
      "\n",
      "           0       0.53      1.00      0.69       218\n",
      "           1       0.00      0.00      0.00       197\n",
      "\n",
      "    accuracy                           0.53       415\n",
      "   macro avg       0.26      0.50      0.34       415\n",
      "weighted avg       0.28      0.53      0.36       415\n",
      "\n"
     ]
    },
    {
     "name": "stderr",
     "output_type": "stream",
     "text": [
      "C:\\Users\\lenovo\\AppData\\Roaming\\Python\\Python37\\site-packages\\sklearn\\metrics\\_classification.py:1248: UndefinedMetricWarning: Precision and F-score are ill-defined and being set to 0.0 in labels with no predicted samples. Use `zero_division` parameter to control this behavior.\n",
      "  _warn_prf(average, modifier, msg_start, len(result))\n",
      "C:\\Users\\lenovo\\AppData\\Roaming\\Python\\Python37\\site-packages\\sklearn\\metrics\\_classification.py:1248: UndefinedMetricWarning: Precision and F-score are ill-defined and being set to 0.0 in labels with no predicted samples. Use `zero_division` parameter to control this behavior.\n",
      "  _warn_prf(average, modifier, msg_start, len(result))\n",
      "C:\\Users\\lenovo\\AppData\\Roaming\\Python\\Python37\\site-packages\\sklearn\\metrics\\_classification.py:1248: UndefinedMetricWarning: Precision and F-score are ill-defined and being set to 0.0 in labels with no predicted samples. Use `zero_division` parameter to control this behavior.\n",
      "  _warn_prf(average, modifier, msg_start, len(result))\n"
     ]
    },
    {
     "data": {
      "text/plain": [
       "Text(0.5, 1.0, ' SVC NHPI Policy Impact')"
      ]
     },
     "execution_count": 100,
     "metadata": {},
     "output_type": "execute_result"
    },
    {
     "data": {
      "image/png": "[encoded data removed]",
      "text/plain": [
       "<Figure size 432x288 with 1 Axes>"
      ]
     },
     "metadata": {
      "needs_background": "light"
     },
     "output_type": "display_data"
    }
   ],
   "source": [
    "model_nhpi_svc = svm.SVC(kernel='linear')\n",
    "model_nhpi_svc.fit(x_nhpi_train,y_nhpi_train)\n",
    "nhpi_svc_pred = model_nhpi_svc.predict(x_nhpi_test)\n",
    "print(classification_report(y_nhpi_test,nhpi_svc_pred))\n",
    "\n",
    "plt.bar([x for x in x_asian.columns[:5]],model_nhpi_svc.coef_[0])\n",
    "# plt.ylim().\n",
    "plt.title(\" SVC NHPI Policy Impact\")"
   ]
  },
  {
   "cell_type": "markdown",
   "metadata": {},
   "source": [
    "#### RF"
   ]
  },
  {
   "cell_type": "code",
   "execution_count": 62,
   "metadata": {},
   "outputs": [
    {
     "name": "stdout",
     "output_type": "stream",
     "text": [
      "              precision    recall  f1-score   support\n",
      "\n",
      "           0       0.81      0.76      0.79       234\n",
      "           1       0.71      0.77      0.74       181\n",
      "\n",
      "    accuracy                           0.77       415\n",
      "   macro avg       0.76      0.77      0.76       415\n",
      "weighted avg       0.77      0.77      0.77       415\n",
      "\n"
     ]
    },
    {
     "data": {
      "text/plain": [
       "Text(0.5, 1.0, 'RF Policy Impact')"
      ]
     },
     "execution_count": 62,
     "metadata": {},
     "output_type": "execute_result"
    },
    {
     "data": {
      "image/png": "[encoded data removed]",
      "text/plain": [
       "<Figure size 432x288 with 1 Axes>"
      ]
     },
     "metadata": {
      "needs_background": "light"
     },
     "output_type": "display_data"
    }
   ],
   "source": [
    "clf_nhpi = RandomForestClassifier(n_estimators = 500,max_depth=15,criterion='entropy',\n",
    "n_jobs=-1, oob_score=True,random_state = 0).fit(x_nhpi_train, y_nhpi_train)\n",
    "\n",
    "y_pred_nhpi=clf_nhpi.predict(x_nhpi_test)\n",
    "y_prob_nhpi = clf_nhpi.predict_proba(x_nhpi_test)\n",
    "print(classification_report(y_nhpi_test, y_pred_nhpi))\n",
    "plt.bar(x_asian.columns[:5],clf_nhpi.feature_importances_)\n",
    "plt.ylim(0.14)\n",
    "plt.title(\"RF Policy Impact\")"
   ]
  },
  {
   "cell_type": "markdown",
   "metadata": {},
   "source": [
    "#### GB"
   ]
  },
  {
   "cell_type": "code",
   "execution_count": 65,
   "metadata": {},
   "outputs": [
    {
     "name": "stdout",
     "output_type": "stream",
     "text": [
      "              precision    recall  f1-score   support\n",
      "\n",
      "           0       0.81      0.76      0.79       234\n",
      "           1       0.72      0.77      0.74       181\n",
      "\n",
      "    accuracy                           0.77       415\n",
      "   macro avg       0.76      0.77      0.76       415\n",
      "weighted avg       0.77      0.77      0.77       415\n",
      "\n"
     ]
    },
    {
     "data": {
      "text/plain": [
       "Text(0.5, 1.0, 'GBC NHPI Policy Impact')"
      ]
     },
     "execution_count": 65,
     "metadata": {},
     "output_type": "execute_result"
    },
    {
     "data": {
      "image/png": "[encoded data removed]",
      "text/plain": [
       "<Figure size 432x288 with 1 Axes>"
      ]
     },
     "metadata": {
      "needs_background": "light"
     },
     "output_type": "display_data"
    }
   ],
   "source": [
    "gbc_nhpi = GradientBoostingClassifier(n_estimators=500,max_depth=15)\n",
    "gbc_nhpi.fit(x_nhpi_train,y_nhpi_train)\n",
    "pred_gbc_nhpi= gbc_nhpi.predict(x_nhpi_test)\n",
    "print(classification_report(y_nhpi_test,pred_gbc_nhpi))\n",
    "plt.bar(x_asian.columns[:5],gbc_nhpi.feature_importances_)\n",
    "plt.ylim(0.14)\n",
    "plt.title(\"GBC NHPI Policy Impact\")"
   ]
  },
  {
   "cell_type": "code",
   "execution_count": 972,
   "metadata": {},
   "outputs": [
    {
     "data": {
      "text/plain": [
       "{'ccp_alpha': 0.0,\n",
       " 'criterion': 'friedman_mse',\n",
       " 'init': None,\n",
       " 'learning_rate': 0.1,\n",
       " 'loss': 'deviance',\n",
       " 'max_depth': 3,\n",
       " 'max_features': None,\n",
       " 'max_leaf_nodes': None,\n",
       " 'min_impurity_decrease': 0.0,\n",
       " 'min_impurity_split': None,\n",
       " 'min_samples_leaf': 1,\n",
       " 'min_samples_split': 2,\n",
       " 'min_weight_fraction_leaf': 0.0,\n",
       " 'n_estimators': 100,\n",
       " 'n_iter_no_change': None,\n",
       " 'random_state': None,\n",
       " 'subsample': 1.0,\n",
       " 'tol': 0.0001,\n",
       " 'validation_fraction': 0.1,\n",
       " 'verbose': 0,\n",
       " 'warm_start': False}"
      ]
     },
     "execution_count": 972,
     "metadata": {},
     "output_type": "execute_result"
    }
   ],
   "source": [
    "gbc_nhpi.get_params()"
   ]
  },
  {
   "cell_type": "markdown",
   "metadata": {},
   "source": [
    "### AIAN"
   ]
  },
  {
   "cell_type": "code",
   "execution_count": 101,
   "metadata": {},
   "outputs": [
    {
     "data": {
      "text/plain": [
       "(1474, 14696)"
      ]
     },
     "execution_count": 101,
     "metadata": {},
     "output_type": "execute_result"
    }
   ],
   "source": [
    "positive_aian_data = final_race_data[final_race_data.target_AIAN == 1]\n",
    "negative_aian_data = final_race_data[final_race_data.target_AIAN == 0]\n",
    "len(positive_aian_data),len(negative_aian_data) # 2144"
   ]
  },
  {
   "cell_type": "code",
   "execution_count": 102,
   "metadata": {},
   "outputs": [],
   "source": [
    "x_aian = positive_aian_data\n",
    "x_aian_1500 = shuffle(negative_aian_data).sample(1500)\n",
    "x_aian = x_aian.append(x_aian_1500,ignore_index=True)\n",
    "x_aian = shuffle(x_aian)\n",
    "\n",
    "X_aian = x_aian.iloc[:,:5]\n",
    "y_aian = x_aian.target_AIAN\n",
    "\n",
    "x_aian_train,x_aian_test,y_aian_train,y_aian_test = train_test_split(X_aian,y_aian,test_size=0.3,random_state=0)"
   ]
  },
  {
   "cell_type": "markdown",
   "metadata": {},
   "source": [
    "#### LR"
   ]
  },
  {
   "cell_type": "code",
   "execution_count": 103,
   "metadata": {},
   "outputs": [
    {
     "name": "stdout",
     "output_type": "stream",
     "text": [
      "              precision    recall  f1-score   support\n",
      "\n",
      "           0       0.56      0.45      0.50       438\n",
      "           1       0.55      0.65      0.60       455\n",
      "\n",
      "    accuracy                           0.55       893\n",
      "   macro avg       0.55      0.55      0.55       893\n",
      "weighted avg       0.55      0.55      0.55       893\n",
      "\n",
      "[-1.98586754 -0.12247212  0.67026005  0.16514054 -0.81785147]\n"
     ]
    },
    {
     "data": {
      "text/plain": [
       "Text(0.5, 1.0, ' LR Policy Impact')"
      ]
     },
     "execution_count": 103,
     "metadata": {},
     "output_type": "execute_result"
    },
    {
     "data": {
      "image/png": "[encoded data removed]",
      "text/plain": [
       "<Figure size 432x288 with 1 Axes>"
      ]
     },
     "metadata": {
      "needs_background": "light"
     },
     "output_type": "display_data"
    }
   ],
   "source": [
    "model_aian = LogisticRegression()\n",
    "model_aian.fit(x_aian_train,y_aian_train)\n",
    "model_aian_prob= model_aian.predict_proba(x_aian_test)\n",
    "pred_aian_lr = model_aian.predict(x_aian_test)\n",
    "cm = confusion_matrix(y_aian_test, pred_aian_lr)\n",
    "\n",
    "# fig, ax = plt.subplots()\n",
    "# ax.imshow(cm)\n",
    "# ax.grid(False)\n",
    "# ax.xaxis.set(ticks=(0, 1), ticklabels=('Predicted 0s', 'Predicted 1s'))\n",
    "# ax.yaxis.set(ticks=(0, 1), ticklabels=('Actual 0s', 'Actual 1s'))\n",
    "# ax.set_ylim(1.5, -0.5)\n",
    "# for i in range(2):\n",
    "    # for j in range(2):\n",
    "        # ax.text(j, i, cm[i, j], ha='center', va='center', color='red')\n",
    "# plt.show()\n",
    "\n",
    "print(classification_report(y_aian_test, pred_aian_lr))\n",
    "\n",
    "importance = model_aian.coef_[0]\n",
    "print(importance)\n",
    "\n",
    "plt.bar([x for x in x_asian.columns[:5]],importance)\n",
    "# plt.ylim().\n",
    "plt.title(\" LR Policy Impact\")"
   ]
  },
  {
   "cell_type": "markdown",
   "metadata": {},
   "source": [
    "#### SVC"
   ]
  },
  {
   "cell_type": "code",
   "execution_count": 104,
   "metadata": {},
   "outputs": [
    {
     "name": "stdout",
     "output_type": "stream",
     "text": [
      "              precision    recall  f1-score   support\n",
      "\n",
      "           0       0.59      0.34      0.44       438\n",
      "           1       0.55      0.77      0.64       455\n",
      "\n",
      "    accuracy                           0.56       893\n",
      "   macro avg       0.57      0.56      0.54       893\n",
      "weighted avg       0.57      0.56      0.54       893\n",
      "\n"
     ]
    },
    {
     "data": {
      "text/plain": [
       "Text(0.5, 1.0, ' SVC Policy Impact')"
      ]
     },
     "execution_count": 104,
     "metadata": {},
     "output_type": "execute_result"
    },
    {
     "data": {
      "image/png": "[encoded data removed]",
      "text/plain": [
       "<Figure size 432x288 with 1 Axes>"
      ]
     },
     "metadata": {
      "needs_background": "light"
     },
     "output_type": "display_data"
    }
   ],
   "source": [
    "model_aian_svc = svm.SVC(kernel='linear')\n",
    "model_aian_svc.fit(x_aian_train,y_aian_train)\n",
    "aian_svc_pred = model_aian_svc.predict(x_aian_test)\n",
    "print(classification_report(y_aian_test,aian_svc_pred))\n",
    "\n",
    "plt.bar([x for x in x_asian.columns[:5]],model_aian_svc.coef_[0])\n",
    "# plt.ylim().\n",
    "plt.title(\" SVC Policy Impact\")"
   ]
  },
  {
   "cell_type": "markdown",
   "metadata": {},
   "source": [
    "#### RF"
   ]
  },
  {
   "cell_type": "code",
   "execution_count": 70,
   "metadata": {},
   "outputs": [
    {
     "name": "stdout",
     "output_type": "stream",
     "text": [
      "              precision    recall  f1-score   support\n",
      "\n",
      "           0       0.76      0.72      0.74       451\n",
      "           1       0.73      0.77      0.75       442\n",
      "\n",
      "    accuracy                           0.75       893\n",
      "   macro avg       0.75      0.75      0.75       893\n",
      "weighted avg       0.75      0.75      0.75       893\n",
      "\n"
     ]
    },
    {
     "data": {
      "text/plain": [
       "Text(0.5, 1.0, 'RF Policy Impact')"
      ]
     },
     "execution_count": 70,
     "metadata": {},
     "output_type": "execute_result"
    },
    {
     "data": {
      "image/png": "[encoded data removed]",
      "text/plain": [
       "<Figure size 432x288 with 1 Axes>"
      ]
     },
     "metadata": {
      "needs_background": "light"
     },
     "output_type": "display_data"
    }
   ],
   "source": [
    "clf_aian = RandomForestClassifier(n_estimators = 500,max_depth=30,criterion='entropy',\n",
    "n_jobs=-1, oob_score=True,random_state = 0).fit(x_aian_train, y_aian_train)\n",
    "\n",
    "y_pred_aian=clf_aian.predict(x_aian_test)\n",
    "y_prob_aian = clf_aian.predict_proba(x_aian_test)\n",
    "print(classification_report(y_aian_test, y_pred_aian))\n",
    "plt.bar(x_asian.columns[:5],clf_aian.feature_importances_)\n",
    "plt.ylim(0.14)\n",
    "plt.title(\"RF Policy Impact\")"
   ]
  },
  {
   "cell_type": "markdown",
   "metadata": {},
   "source": [
    "### GB"
   ]
  },
  {
   "cell_type": "code",
   "execution_count": 74,
   "metadata": {},
   "outputs": [
    {
     "name": "stdout",
     "output_type": "stream",
     "text": [
      "              precision    recall  f1-score   support\n",
      "\n",
      "           0       0.73      0.70      0.71       451\n",
      "           1       0.71      0.74      0.72       442\n",
      "\n",
      "    accuracy                           0.72       893\n",
      "   macro avg       0.72      0.72      0.72       893\n",
      "weighted avg       0.72      0.72      0.72       893\n",
      "\n"
     ]
    },
    {
     "data": {
      "text/plain": [
       "Text(0.5, 1.0, 'GBC Policy Impact')"
      ]
     },
     "execution_count": 74,
     "metadata": {},
     "output_type": "execute_result"
    },
    {
     "data": {
      "image/png": "[encoded data removed]",
      "text/plain": [
       "<Figure size 432x288 with 1 Axes>"
      ]
     },
     "metadata": {
      "needs_background": "light"
     },
     "output_type": "display_data"
    }
   ],
   "source": [
    "gbc_aian = GradientBoostingClassifier(n_estimators=500,max_depth=15)\n",
    "gbc_aian.fit(x_aian_train,y_aian_train)\n",
    "pred_gbc_aian= gbc_aian.predict(x_aian_test)\n",
    "print(classification_report(y_aian_test,pred_gbc_aian))\n",
    "plt.bar(x_asian.columns[:5],gbc_aian.feature_importances_)\n",
    "plt.ylim(0.14)\n",
    "plt.title(\"GBC Policy Impact\")"
   ]
  },
  {
   "cell_type": "markdown",
   "metadata": {},
   "source": [
    "#### Other"
   ]
  },
  {
   "cell_type": "code",
   "execution_count": 105,
   "metadata": {},
   "outputs": [
    {
     "data": {
      "text/plain": [
       "(2585, 13118)"
      ]
     },
     "execution_count": 105,
     "metadata": {},
     "output_type": "execute_result"
    }
   ],
   "source": [
    "positive_other_data = final_race_data[final_race_data.target_Other == 1]\n",
    "negative_other_data = final_race_data[final_race_data.target_Other == 0]\n",
    "len(positive_other_data),len(negative_white_data) # 2144"
   ]
  },
  {
   "cell_type": "code",
   "execution_count": 106,
   "metadata": {},
   "outputs": [],
   "source": [
    "x_other = positive_other_data\n",
    "x_other_2650 = shuffle(negative_other_data).sample(2650)\n",
    "x_other = x_other.append(x_other_2650,ignore_index=True)\n",
    "x_other = shuffle(x_other)\n",
    "\n",
    "X_other = x_other.iloc[:,:5]\n",
    "y_other = x_other.target_Other\n",
    "\n",
    "x_other_train,x_other_test,y_other_train,y_other_test = train_test_split(X_other,y_other,test_size=0.3,random_state=0)"
   ]
  },
  {
   "cell_type": "markdown",
   "metadata": {},
   "source": [
    "#### LR"
   ]
  },
  {
   "cell_type": "code",
   "execution_count": 107,
   "metadata": {},
   "outputs": [
    {
     "name": "stdout",
     "output_type": "stream",
     "text": [
      "              precision    recall  f1-score   support\n",
      "\n",
      "           0       0.53      0.45      0.49       786\n",
      "           1       0.52      0.60      0.56       785\n",
      "\n",
      "    accuracy                           0.52      1571\n",
      "   macro avg       0.53      0.52      0.52      1571\n",
      "weighted avg       0.53      0.52      0.52      1571\n",
      "\n",
      "[ 0.40698814 -1.12732821 -0.12367391  0.04311477 -0.31864049]\n"
     ]
    },
    {
     "data": {
      "text/plain": [
       "Text(0.5, 1.0, ' LR Policy Impact')"
      ]
     },
     "execution_count": 107,
     "metadata": {},
     "output_type": "execute_result"
    },
    {
     "data": {
      "image/png": "[encoded data removed]",
      "text/plain": [
       "<Figure size 432x288 with 1 Axes>"
      ]
     },
     "metadata": {
      "needs_background": "light"
     },
     "output_type": "display_data"
    }
   ],
   "source": [
    "model_other = LogisticRegression()\n",
    "model_other.fit(x_other_train,y_other_train)\n",
    "model_other_prob= model_other.predict_proba(x_other_test)\n",
    "pred_other_lr = model_other.predict(x_other_test)\n",
    "cm = confusion_matrix(y_other_test, pred_other_lr)\n",
    "\n",
    "# fig, ax = plt.subplots()\n",
    "# ax.imshow(cm)\n",
    "# ax.grid(False)\n",
    "# ax.xaxis.set(ticks=(0, 1), ticklabels=('Predicted 0s', 'Predicted 1s'))\n",
    "# ax.yaxis.set(ticks=(0, 1), ticklabels=('Actual 0s', 'Actual 1s'))\n",
    "# ax.set_ylim(1.5, -0.5)\n",
    "# for i in range(2):\n",
    "    # for j in range(2):\n",
    "        # ax.text(j, i, cm[i, j], ha='center', va='center', color='red')\n",
    "# plt.show()\n",
    "\n",
    "print(classification_report(y_other_test, pred_other_lr))\n",
    "\n",
    "importance = model_other.coef_[0]\n",
    "print(importance)\n",
    "\n",
    "plt.bar([x for x in x_asian.columns[:5]],importance)\n",
    "# plt.ylim().\n",
    "plt.title(\" LR Policy Impact\")"
   ]
  },
  {
   "cell_type": "markdown",
   "metadata": {},
   "source": [
    "#### SVC"
   ]
  },
  {
   "cell_type": "code",
   "execution_count": 108,
   "metadata": {},
   "outputs": [
    {
     "name": "stdout",
     "output_type": "stream",
     "text": [
      "              precision    recall  f1-score   support\n",
      "\n",
      "           0       0.56      0.30      0.39       786\n",
      "           1       0.52      0.76      0.62       785\n",
      "\n",
      "    accuracy                           0.53      1571\n",
      "   macro avg       0.54      0.53      0.50      1571\n",
      "weighted avg       0.54      0.53      0.50      1571\n",
      "\n"
     ]
    },
    {
     "data": {
      "text/plain": [
       "Text(0.5, 1.0, ' SVC other Policy Impact')"
      ]
     },
     "execution_count": 108,
     "metadata": {},
     "output_type": "execute_result"
    },
    {
     "data": {
      "image/png": "[encoded data removed]",
      "text/plain": [
       "<Figure size 432x288 with 1 Axes>"
      ]
     },
     "metadata": {
      "needs_background": "light"
     },
     "output_type": "display_data"
    }
   ],
   "source": [
    "model_other_svc = svm.SVC(kernel='linear')\n",
    "model_other_svc.fit(x_other_train,y_other_train)\n",
    "other_svc_pred = model_other_svc.predict(x_other_test)\n",
    "print(classification_report(y_other_test,other_svc_pred))\n",
    "\n",
    "plt.bar([x for x in x_asian.columns[:5]],model_other_svc.coef_[0])\n",
    "# plt.ylim().\n",
    "plt.title(\" SVC other Policy Impact\")"
   ]
  },
  {
   "cell_type": "markdown",
   "metadata": {},
   "source": [
    "#### RF"
   ]
  },
  {
   "cell_type": "code",
   "execution_count": 81,
   "metadata": {},
   "outputs": [
    {
     "name": "stdout",
     "output_type": "stream",
     "text": [
      "              precision    recall  f1-score   support\n",
      "\n",
      "           0       0.70      0.67      0.68       763\n",
      "           1       0.70      0.73      0.71       808\n",
      "\n",
      "    accuracy                           0.70      1571\n",
      "   macro avg       0.70      0.70      0.70      1571\n",
      "weighted avg       0.70      0.70      0.70      1571\n",
      "\n"
     ]
    },
    {
     "data": {
      "text/plain": [
       "Text(0.5, 1.0, 'RF other Policy Impact')"
      ]
     },
     "execution_count": 81,
     "metadata": {},
     "output_type": "execute_result"
    },
    {
     "data": {
      "image/png": "[encoded data removed]",
      "text/plain": [
       "<Figure size 432x288 with 1 Axes>"
      ]
     },
     "metadata": {
      "needs_background": "light"
     },
     "output_type": "display_data"
    }
   ],
   "source": [
    "clf_other = RandomForestClassifier(n_estimators = 500,max_depth=30,criterion='entropy',\n",
    "n_jobs=-1, oob_score=True,random_state = 0).fit(x_other_train, y_other_train)\n",
    "\n",
    "y_pred_other=clf_other.predict(x_other_test)\n",
    "y_prob_other = clf_other.predict_proba(x_other_test)\n",
    "print(classification_report(y_other_test, y_pred_other))\n",
    "plt.bar(x_asian.columns[:5],clf_other.feature_importances_)\n",
    "plt.ylim(0.14)\n",
    "plt.title(\"RF other Policy Impact\")"
   ]
  },
  {
   "cell_type": "markdown",
   "metadata": {},
   "source": [
    "#### GB"
   ]
  },
  {
   "cell_type": "code",
   "execution_count": 82,
   "metadata": {},
   "outputs": [
    {
     "name": "stdout",
     "output_type": "stream",
     "text": [
      "              precision    recall  f1-score   support\n",
      "\n",
      "           0       0.70      0.66      0.68       763\n",
      "           1       0.69      0.73      0.71       808\n",
      "\n",
      "    accuracy                           0.69      1571\n",
      "   macro avg       0.69      0.69      0.69      1571\n",
      "weighted avg       0.69      0.69      0.69      1571\n",
      "\n"
     ]
    },
    {
     "data": {
      "text/plain": [
       "Text(0.5, 1.0, 'GBC Policy Impact')"
      ]
     },
     "execution_count": 82,
     "metadata": {},
     "output_type": "execute_result"
    },
    {
     "data": {
      "image/png": "[encoded data removed]",
      "text/plain": [
       "<Figure size 432x288 with 1 Axes>"
      ]
     },
     "metadata": {
      "needs_background": "light"
     },
     "output_type": "display_data"
    }
   ],
   "source": [
    "gbc_other = GradientBoostingClassifier(n_estimators=500,max_depth=15)\n",
    "gbc_other.fit(x_other_train,y_other_train)\n",
    "pred_gbc_other= gbc_other.predict(x_other_test)\n",
    "print(classification_report(y_other_test,pred_gbc_other))\n",
    "plt.bar(x_asian.columns[:5],gbc_other.feature_importances_)\n",
    "plt.ylim(0.14)\n",
    "plt.title(\"GBC Policy Impact\")"
   ]
  },
  {
   "cell_type": "markdown",
   "metadata": {},
   "source": [
    "# Comparing ALL RACES"
   ]
  },
  {
   "cell_type": "code",
   "execution_count": 201,
   "metadata": {},
   "outputs": [
    {
     "data": {
      "image/png": "[encoded data removed]",
      "text/plain": [
       "<Figure size 864x1440 with 12 Axes>"
      ]
     },
     "metadata": {
      "needs_background": "light"
     },
     "output_type": "display_data"
    }
   ],
   "source": [
    "fig, ax = plt.subplots(6,2,figsize=(12,20))\n",
    "fig.suptitle(\"Policy Impact on All Races\",fontsize=20)\n",
    "fig.subplots_adjust(top=1)\n",
    "# fig.text(x=-10,y=10,s=labels)\n",
    "# fig.legend(labels,'center')\n",
    "# fig.text(0,1,[x for x in labels],horizontalalignment='center', verticalalignment='center')\n",
    "ax[0,0].set_title('Random Forest',fontsize=15)\n",
    "ax[0,1].set_title(\"Gradient Boosting\",fontsize=15)\n",
    "fig.supylabel(\"Policy Impact\",fontsize=25)\n",
    "fig.supxlabel(\"Policies\",fontsize=25)\n",
    "# ax[0,2].set_title(\"Linear SVC\")\n",
    "# ax[0,3].set_title(\"Logistic Regression\")\n",
    "ax[0,0].set_ylabel(\"Asian\",fontsize=20)\n",
    "ax[1,0].set_ylabel(\"White\",fontsize=20)\n",
    "ax[2,0].set_ylabel(\"Black\",fontsize=20)\n",
    "ax[3,0].set_ylabel(\"NHPI\",fontsize=20)\n",
    "ax[4,0].set_ylabel(\"AIAN\",fontsize=20)\n",
    "ax[5,0].set_ylabel(\"Other\",fontsize=20)\n",
    "# ASIAN\n",
    "a00=ax[0,0].bar(x_asian.columns[:5],clf_asian.feature_importances_,color = ['gray' if (x != max(clf_asian.feature_importances_)) else 'red' for x in clf_asian.feature_importances_]) # RF\n",
    "ax[0,0].bar_label(a00)\n",
    "ax[0,0].set_ylim(0.14)\n",
    "a01=ax[0,1].bar(x_asian.columns[:5],gbc_asian.feature_importances_,color = ['gray' if (x != max(gbc_asian.feature_importances_)) else 'red' for x in gbc_asian.feature_importances_])\n",
    "ax[0,1].bar_label(a01)\n",
    "# ax[0,2].bar([x for x in x_asian.columns[:5]],model_asian_svc.coef_[0])  # SVC\n",
    "# ax[0,3].bar([x for x in x_asian.columns[:5]],model_asian.coef_[0])    # Logistic Regression\n",
    "\n",
    "# White\n",
    "a10=ax[1,0].bar(x_asian.columns[:5],clf_white.feature_importances_,color = ['gray' if (x != max(clf_white.feature_importances_)) else 'red' for x in clf_white.feature_importances_])\n",
    "ax[1,0].bar_label(a10)\n",
    "ax[1,0].set_ylim(0.14)\n",
    "a11=ax[1,1].bar(x_asian.columns[:5],gbc_white.feature_importances_,color = ['gray' if (x != max(gbc_white.feature_importances_)) else 'red' for x in gbc_white.feature_importances_])\n",
    "ax[1,1].bar_label(a11)\n",
    "# ax[1,2].bar([x for x in x_asian.columns[:5]],model_white_svc.coef_[0])\n",
    "# ax[1,3].bar([x for x in x_asian.columns[:5]],model_white.coef_[0])\n",
    "\n",
    "# BLACK\n",
    "a20=ax[2,0].bar(x_asian.columns[:5],clf_black.feature_importances_,color = ['gray' if (x != max(clf_black.feature_importances_)) else 'red' for x in clf_black.feature_importances_])\n",
    "ax[2,0].bar_label(a20)\n",
    "ax[2,0].set_ylim(0.14)\n",
    "a21=ax[2,1].bar(x_asian.columns[:5],gbc_black.feature_importances_,color = ['gray' if (x != max(gbc_black.feature_importances_)) else 'red' for x in gbc_black.feature_importances_])\n",
    "ax[2,1].bar_label(a21)\n",
    "# ax[2,2].bar([x for x in x_asian.columns[:5]],model_black_svc.coef_[0])\n",
    "# ax[2,3].bar([x for x in x_asian.columns[:5]],model_black.coef_[0])\n",
    "\n",
    "# NHPI\n",
    "a30=ax[3,0].bar(x_asian.columns[:5],clf_nhpi.feature_importances_,color = ['gray' if (x != max(clf_nhpi.feature_importances_)) else 'red' for x in clf_nhpi.feature_importances_])\n",
    "ax[3,0].bar_label(a30)\n",
    "ax[3,0].set_ylim(0.14)\n",
    "a31=ax[3,1].bar(x_asian.columns[:5],gbc_nhpi.feature_importances_,color = ['gray' if (x != max(gbc_nhpi.feature_importances_)) else 'red' for x in gbc_nhpi.feature_importances_])\n",
    "ax[3,1].bar_label(a31)\n",
    "# ax[3,2].bar([x for x in x_asian.columns[:5]],model_nhpi_svc.coef_[0])\n",
    "# ax[3,3].bar([x for x in x_asian.columns[:5]],model_nhpi.coef_[0])\n",
    "\n",
    "# AIAN\n",
    "a40=ax[4,0].bar(x_asian.columns[:5],clf_aian.feature_importances_,color = ['gray' if (x != max(clf_aian.feature_importances_)) else 'red' for x in clf_aian.feature_importances_])\n",
    "ax[4,0].bar_label(a40)\n",
    "ax[4,0].set_ylim(0.14)\n",
    "a41=ax[4,1].bar(x_asian.columns[:5],gbc_aian.feature_importances_,color = ['gray' if (x != max(gbc_aian.feature_importances_)) else 'red' for x in gbc_aian.feature_importances_])\n",
    "ax[4,1].bar_label(a41)\n",
    "# ax[4,2].bar([x for x in x_asian.columns[:5]],model_aian_svc.coef_[0])\n",
    "# ax[4,3].bar([x for x in x_asian.columns[:5]],model_aian.coef_[0])\n",
    "\n",
    "# Other\n",
    "a50=ax[5,0].bar(x_asian.columns[:5],clf_other.feature_importances_,color = ['gray' if (x != max(clf_other.feature_importances_)) else 'red' for x in clf_other.feature_importances_])\n",
    "ax[5,0].bar_label(a50)\n",
    "ax[5,0].set_ylim(0.14)\n",
    "ax[5,1].bar_label(ax[5,1].bar(x_asian.columns[:5],gbc_other.feature_importances_,color = ['gray' if (x != max(gbc_other.feature_importances_)) else 'red' for x in gbc_other.feature_importances_]))\n",
    "# ax[5,2].bar([x for x in x_asian.columns[:5]],model_other_svc.coef_[0])\n",
    "# ax[5,3].bar([x for x in x_asian.columns[:5]],model_other.coef_[0])\n",
    "# for i, v in enumerate(gbc_other.feature_importances_):\n",
    "    # ax[5,1].text(v+0.3,i+0.3,str(v.round(3)),fontweight='bold')\n",
    "    \n",
    "labels = {\"p2\" : \"Stay-At-Home/Shelter-In-Place\",\n",
    "          \"p3\" : \"Closing Restaurants\",\n",
    "          \"p4\" : \"Closing Business overnight\",\n",
    "          \"p5\" : \"Face Mask Mandate\",\n",
    "          \"p6\" : \"Inter-State Quarantine Travel\"}\n",
    "\n",
    "\n",
    "\n",
    "# fig.legend([\"p2\",\"p3\",\"p4\",\"p5\",\"p6\"],labels=labels.values(),loc=\"upper center\")\n",
    "# fig.add_artist(matplotlib.offsetbox.AnchoredText(labels))\n",
    "           \n",
    "fig.tight_layout(pad=2)"
   ]
  },
  {
   "cell_type": "code",
   "execution_count": 153,
   "metadata": {},
   "outputs": [
    {
     "data": {
      "text/plain": [
       "(Index(['p2', 'p3', 'p4', 'p5', 'p6'], dtype='object'),\n",
       " array([0.18343155, 0.1478067 , 0.25528138, 0.19245979, 0.22102058]))"
      ]
     },
     "execution_count": 153,
     "metadata": {},
     "output_type": "execute_result"
    }
   ],
   "source": [
    "x_asian.columns[:5],gbc_nhpi.feature_importances_"
   ]
  },
  {
   "cell_type": "code",
   "execution_count": 122,
   "metadata": {},
   "outputs": [],
   "source": [
    "# RF [0.21598387, 0.20951715, 0.18984367, 0.17460095, 0.21005436]\n",
    "country_level= {'P2': 0.21598387 , 'P3':0.20951715, 'P4': 0.18984367, 'P5':0.17460095, 'P6':0.21005436}\n",
    "RF_Asian={'P2':0.20660649,'P3': 0.21445735, 'P4':0.19001512, 'P5':0.19243849, 'P6':0.19648255 }\n",
    "RF_White={'P2':0.2064796,'P3': 0.20806044, 'P4':0.19086234, 'P5':0.19817212, 'P6':0.1964255}\n",
    "RF_Black={'P2':0.20438901,'P3': 0.20430149, 'P4':0.19291075, 'P5':0.19796361, 'P6':0.20043515}\n",
    "RF_AIAN= {'P2':0.22724511,'P3': 0.19732247, 'P4':0.18471862, 'P5':0.19887389, 'P6':0.1918399}\n",
    "RF_NHPI= {'P2':0.18732806,'P3': 0.17917959, 'P4':0.23693643, 'P5':0.18817406, 'P6':0.20838188}"
   ]
  },
  {
   "cell_type": "code",
   "execution_count": 116,
   "metadata": {},
   "outputs": [],
   "source": [
    "# GB 0.2571293 , 0.16798977, 0.16794329, 0.19203508, 0.21490256]\n",
    "country_level= {'P2': 0.2571293 , 'P3':0.16798977, 'P4': 0.16794329, 'P5':0.19203508, 'P6':0.21490256}\n",
    "GB_Asian = {'P2':0.19197667,'P3':0.23814722,'P4': 0.17284109, 'P5':0.21062762, 'P6':0.18640741}\n",
    "GB_White = {'P2':0.19620799,'P3':0.20404238,'P4': 0.20313938, 'P5':0.19399704, 'P6':0.2026132}\n",
    "GB_Black = {'P2':0.19924259,'P3':0.19270721,'P4': 0.19304445, 'P5':0.21443917, 'P6':0.20056658}\n",
    "GB_AIAN =  {'P2':0.24185725 ,'P3':0.15796355 ,'P4': 0.16861103, 'P5':0.24798716, 'P6':0.183581}\n",
    "GB_NHPI =  {'P2':0.18343155,'P3':0.20278182,'P4': 0.19702125, 'P5':0.18756193, 'P6':0.20190905}"
   ]
  },
  {
   "cell_type": "code",
   "execution_count": 123,
   "metadata": {},
   "outputs": [
    {
     "data": {
      "text/html": [
       "<div>\n",
       "<style scoped>\n",
       "    .dataframe tbody tr th:only-of-type {\n",
       "        vertical-align: middle;\n",
       "    }\n",
       "\n",
       "    .dataframe tbody tr th {\n",
       "        vertical-align: top;\n",
       "    }\n",
       "\n",
       "    .dataframe thead th {\n",
       "        text-align: right;\n",
       "    }\n",
       "</style>\n",
       "<table border=\"1\" class=\"dataframe\">\n",
       "  <thead>\n",
       "    <tr style=\"text-align: right;\">\n",
       "      <th></th>\n",
       "      <th>P2</th>\n",
       "      <th>P3</th>\n",
       "      <th>P4</th>\n",
       "      <th>P5</th>\n",
       "      <th>P6</th>\n",
       "      <th>P2_diff</th>\n",
       "      <th>P3_diff</th>\n",
       "      <th>P4_diff</th>\n",
       "      <th>P5_diff</th>\n",
       "      <th>P6_diff</th>\n",
       "      <th>P2_diff_2</th>\n",
       "      <th>P3_diff_2</th>\n",
       "      <th>P4_diff_2</th>\n",
       "      <th>P5_diff_2</th>\n",
       "      <th>P6_diff_2</th>\n",
       "    </tr>\n",
       "  </thead>\n",
       "  <tbody>\n",
       "    <tr>\n",
       "      <th>country_level</th>\n",
       "      <td>1.000000</td>\n",
       "      <td>1.000000</td>\n",
       "      <td>1.000000</td>\n",
       "      <td>1.000000</td>\n",
       "      <td>1.000000</td>\n",
       "      <td>0.000000</td>\n",
       "      <td>0.000000</td>\n",
       "      <td>0.000000</td>\n",
       "      <td>0.000000</td>\n",
       "      <td>0.000000</td>\n",
       "      <td>0.000000</td>\n",
       "      <td>0.000000</td>\n",
       "      <td>0.000000</td>\n",
       "      <td>0.000000</td>\n",
       "      <td>0.000000</td>\n",
       "    </tr>\n",
       "    <tr>\n",
       "      <th>GB_Asian</th>\n",
       "      <td>0.888847</td>\n",
       "      <td>1.136648</td>\n",
       "      <td>0.910439</td>\n",
       "      <td>1.206337</td>\n",
       "      <td>0.887425</td>\n",
       "      <td>0.111153</td>\n",
       "      <td>-0.136648</td>\n",
       "      <td>0.089561</td>\n",
       "      <td>-0.206337</td>\n",
       "      <td>0.112575</td>\n",
       "      <td>0.012355</td>\n",
       "      <td>0.018673</td>\n",
       "      <td>0.008021</td>\n",
       "      <td>0.042575</td>\n",
       "      <td>0.012673</td>\n",
       "    </tr>\n",
       "    <tr>\n",
       "      <th>GB_White</th>\n",
       "      <td>0.908438</td>\n",
       "      <td>0.973870</td>\n",
       "      <td>1.070035</td>\n",
       "      <td>1.111088</td>\n",
       "      <td>0.964575</td>\n",
       "      <td>0.091562</td>\n",
       "      <td>0.026130</td>\n",
       "      <td>-0.070035</td>\n",
       "      <td>-0.111088</td>\n",
       "      <td>0.035425</td>\n",
       "      <td>0.008384</td>\n",
       "      <td>0.000683</td>\n",
       "      <td>0.004905</td>\n",
       "      <td>0.012341</td>\n",
       "      <td>0.001255</td>\n",
       "    </tr>\n",
       "    <tr>\n",
       "      <th>GB_Black</th>\n",
       "      <td>0.922488</td>\n",
       "      <td>0.919768</td>\n",
       "      <td>1.016860</td>\n",
       "      <td>1.228167</td>\n",
       "      <td>0.954832</td>\n",
       "      <td>0.077512</td>\n",
       "      <td>0.080232</td>\n",
       "      <td>-0.016860</td>\n",
       "      <td>-0.228167</td>\n",
       "      <td>0.045168</td>\n",
       "      <td>0.006008</td>\n",
       "      <td>0.006437</td>\n",
       "      <td>0.000284</td>\n",
       "      <td>0.052060</td>\n",
       "      <td>0.002040</td>\n",
       "    </tr>\n",
       "    <tr>\n",
       "      <th>GB_AIAN</th>\n",
       "      <td>1.119793</td>\n",
       "      <td>0.753941</td>\n",
       "      <td>0.888157</td>\n",
       "      <td>1.420308</td>\n",
       "      <td>0.873969</td>\n",
       "      <td>-0.119793</td>\n",
       "      <td>0.246059</td>\n",
       "      <td>0.111843</td>\n",
       "      <td>-0.420308</td>\n",
       "      <td>0.126031</td>\n",
       "      <td>0.014350</td>\n",
       "      <td>0.060545</td>\n",
       "      <td>0.012509</td>\n",
       "      <td>0.176659</td>\n",
       "      <td>0.015884</td>\n",
       "    </tr>\n",
       "    <tr>\n",
       "      <th>GB_NHPI</th>\n",
       "      <td>0.849284</td>\n",
       "      <td>0.967853</td>\n",
       "      <td>1.037808</td>\n",
       "      <td>1.074232</td>\n",
       "      <td>0.961223</td>\n",
       "      <td>0.150716</td>\n",
       "      <td>0.032147</td>\n",
       "      <td>-0.037808</td>\n",
       "      <td>-0.074232</td>\n",
       "      <td>0.038777</td>\n",
       "      <td>0.022715</td>\n",
       "      <td>0.001033</td>\n",
       "      <td>0.001429</td>\n",
       "      <td>0.005510</td>\n",
       "      <td>0.001504</td>\n",
       "    </tr>\n",
       "  </tbody>\n",
       "</table>\n",
       "</div>"
      ],
      "text/plain": [
       "                     P2        P3        P4        P5        P6   P2_diff  \\\n",
       "country_level  1.000000  1.000000  1.000000  1.000000  1.000000  0.000000   \n",
       "GB_Asian       0.888847  1.136648  0.910439  1.206337  0.887425  0.111153   \n",
       "GB_White       0.908438  0.973870  1.070035  1.111088  0.964575  0.091562   \n",
       "GB_Black       0.922488  0.919768  1.016860  1.228167  0.954832  0.077512   \n",
       "GB_AIAN        1.119793  0.753941  0.888157  1.420308  0.873969 -0.119793   \n",
       "GB_NHPI        0.849284  0.967853  1.037808  1.074232  0.961223  0.150716   \n",
       "\n",
       "                P3_diff   P4_diff   P5_diff   P6_diff  P2_diff_2  P3_diff_2  \\\n",
       "country_level  0.000000  0.000000  0.000000  0.000000   0.000000   0.000000   \n",
       "GB_Asian      -0.136648  0.089561 -0.206337  0.112575   0.012355   0.018673   \n",
       "GB_White       0.026130 -0.070035 -0.111088  0.035425   0.008384   0.000683   \n",
       "GB_Black       0.080232 -0.016860 -0.228167  0.045168   0.006008   0.006437   \n",
       "GB_AIAN        0.246059  0.111843 -0.420308  0.126031   0.014350   0.060545   \n",
       "GB_NHPI        0.032147 -0.037808 -0.074232  0.038777   0.022715   0.001033   \n",
       "\n",
       "               P4_diff_2  P5_diff_2  P6_diff_2  \n",
       "country_level   0.000000   0.000000   0.000000  \n",
       "GB_Asian        0.008021   0.042575   0.012673  \n",
       "GB_White        0.004905   0.012341   0.001255  \n",
       "GB_Black        0.000284   0.052060   0.002040  \n",
       "GB_AIAN         0.012509   0.176659   0.015884  \n",
       "GB_NHPI         0.001429   0.005510   0.001504  "
      ]
     },
     "execution_count": 123,
     "metadata": {},
     "output_type": "execute_result"
    }
   ],
   "source": [
    "gb_df=pd.DataFrame(data=country_level,index=['country_level'])\n",
    "gb_df=gb_df.append(pd.DataFrame([GB_Asian,GB_White,GB_Black,GB_AIAN,GB_NHPI],index=[\"GB_Asian\",\"GB_White\",\"GB_Black\",\"GB_AIAN\",\"GB_NHPI\"]))\n",
    "\n",
    "gb_df[\"P2\"]=gb_df['P2']/gb_df.loc[\"country_level\"][0]\n",
    "gb_df[\"P3\"]=gb_df['P3']/gb_df.loc[\"country_level\"][1]\n",
    "gb_df[\"P4\"]=gb_df['P4']/gb_df.loc[\"country_level\"][2]\n",
    "gb_df[\"P5\"]=gb_df['P5']/gb_df.loc[\"country_level\"][3]\n",
    "gb_df[\"P6\"]=gb_df['P6']/gb_df.loc[\"country_level\"][4]\n",
    "\n",
    "gb_df[\"P2_diff\"]=gb_df[\"P2\"][0] - gb_df[\"P2\"][:]\n",
    "gb_df[\"P3_diff\"]=gb_df[\"P3\"][0] - gb_df[\"P3\"][:]\n",
    "gb_df[\"P4_diff\"]=gb_df[\"P4\"][0] - gb_df[\"P4\"][:]\n",
    "gb_df[\"P5_diff\"]=gb_df[\"P5\"][0] - gb_df[\"P5\"][:]\n",
    "gb_df[\"P6_diff\"]=gb_df[\"P6\"][0] - gb_df[\"P6\"][:]\n",
    "gb_df.fillna(1,inplace=True)\n",
    "\n",
    "gb_df[\"P2_diff_2\"]=(gb_df[\"P2_diff\"])**2\n",
    "gb_df[\"P3_diff_2\"]=(gb_df[\"P3_diff\"])**2\n",
    "gb_df[\"P4_diff_2\"]=(gb_df[\"P4_diff\"])**2\n",
    "gb_df[\"P5_diff_2\"]=(gb_df[\"P5_diff\"])**2\n",
    "gb_df[\"P6_diff_2\"]=(gb_df[\"P6_diff\"])**2\n",
    "\n",
    "gb_df"
   ]
  },
  {
   "cell_type": "code",
   "execution_count": 128,
   "metadata": {},
   "outputs": [
    {
     "data": {
      "text/html": [
       "<div>\n",
       "<style scoped>\n",
       "    .dataframe tbody tr th:only-of-type {\n",
       "        vertical-align: middle;\n",
       "    }\n",
       "\n",
       "    .dataframe tbody tr th {\n",
       "        vertical-align: top;\n",
       "    }\n",
       "\n",
       "    .dataframe thead th {\n",
       "        text-align: right;\n",
       "    }\n",
       "</style>\n",
       "<table border=\"1\" class=\"dataframe\">\n",
       "  <thead>\n",
       "    <tr style=\"text-align: right;\">\n",
       "      <th></th>\n",
       "      <th>P2_diff_2</th>\n",
       "      <th>P3_diff_2</th>\n",
       "      <th>P4_diff_2</th>\n",
       "      <th>P5_diff_2</th>\n",
       "      <th>P6_diff_2</th>\n",
       "      <th>RACE_MSE</th>\n",
       "    </tr>\n",
       "  </thead>\n",
       "  <tbody>\n",
       "    <tr>\n",
       "      <th>country_level</th>\n",
       "      <td>0.00000</td>\n",
       "      <td>0.00000</td>\n",
       "      <td>0.00000</td>\n",
       "      <td>0.00000</td>\n",
       "      <td>0.00000</td>\n",
       "      <td>0.00000</td>\n",
       "    </tr>\n",
       "    <tr>\n",
       "      <th>RF_Asian</th>\n",
       "      <td>0.00189</td>\n",
       "      <td>0.00056</td>\n",
       "      <td>0.00000</td>\n",
       "      <td>0.01044</td>\n",
       "      <td>0.00417</td>\n",
       "      <td>0.01706</td>\n",
       "    </tr>\n",
       "    <tr>\n",
       "      <th>RF_White</th>\n",
       "      <td>0.00194</td>\n",
       "      <td>0.00005</td>\n",
       "      <td>0.00003</td>\n",
       "      <td>0.01823</td>\n",
       "      <td>0.00421</td>\n",
       "      <td>0.02446</td>\n",
       "    </tr>\n",
       "    <tr>\n",
       "      <th>RF_Black</th>\n",
       "      <td>0.00288</td>\n",
       "      <td>0.00062</td>\n",
       "      <td>0.00026</td>\n",
       "      <td>0.01790</td>\n",
       "      <td>0.00210</td>\n",
       "      <td>0.02376</td>\n",
       "    </tr>\n",
       "    <tr>\n",
       "      <th>RF_AIAN</th>\n",
       "      <td>0.00272</td>\n",
       "      <td>0.00339</td>\n",
       "      <td>0.00073</td>\n",
       "      <td>0.01933</td>\n",
       "      <td>0.00752</td>\n",
       "      <td>0.03369</td>\n",
       "    </tr>\n",
       "    <tr>\n",
       "      <th>RF_NHPI</th>\n",
       "      <td>0.01760</td>\n",
       "      <td>0.02097</td>\n",
       "      <td>0.06153</td>\n",
       "      <td>0.00604</td>\n",
       "      <td>0.00006</td>\n",
       "      <td>0.10620</td>\n",
       "    </tr>\n",
       "    <tr>\n",
       "      <th>Policy_MSE</th>\n",
       "      <td>0.02703</td>\n",
       "      <td>0.02559</td>\n",
       "      <td>0.06255</td>\n",
       "      <td>0.07194</td>\n",
       "      <td>0.01806</td>\n",
       "      <td>0.20517</td>\n",
       "    </tr>\n",
       "  </tbody>\n",
       "</table>\n",
       "</div>"
      ],
      "text/plain": [
       "               P2_diff_2  P3_diff_2  P4_diff_2  P5_diff_2  P6_diff_2  RACE_MSE\n",
       "country_level    0.00000    0.00000    0.00000    0.00000    0.00000   0.00000\n",
       "RF_Asian         0.00189    0.00056    0.00000    0.01044    0.00417   0.01706\n",
       "RF_White         0.00194    0.00005    0.00003    0.01823    0.00421   0.02446\n",
       "RF_Black         0.00288    0.00062    0.00026    0.01790    0.00210   0.02376\n",
       "RF_AIAN          0.00272    0.00339    0.00073    0.01933    0.00752   0.03369\n",
       "RF_NHPI          0.01760    0.02097    0.06153    0.00604    0.00006   0.10620\n",
       "Policy_MSE       0.02703    0.02559    0.06255    0.07194    0.01806   0.20517"
      ]
     },
     "execution_count": 128,
     "metadata": {},
     "output_type": "execute_result"
    }
   ],
   "source": [
    "RF_df=pd.DataFrame(data=country_level,index=['country_level'])\n",
    "RF_df=RF_df.append(pd.DataFrame([RF_Asian,RF_White,RF_Black,RF_AIAN,RF_NHPI],index=[\"RF_Asian\",\"RF_White\",\"RF_Black\",\"RF_AIAN\",\"RF_NHPI\"]))\n",
    "\n",
    "RF_df[\"P2\"]=RF_df['P2']/RF_df.loc[\"country_level\"][0]\n",
    "RF_df[\"P3\"]=RF_df['P3']/RF_df.loc[\"country_level\"][1]\n",
    "RF_df[\"P4\"]=RF_df['P4']/RF_df.loc[\"country_level\"][2]\n",
    "RF_df[\"P5\"]=RF_df['P5']/RF_df.loc[\"country_level\"][3]\n",
    "RF_df[\"P6\"]=RF_df['P6']/RF_df.loc[\"country_level\"][4]\n",
    "\n",
    "RF_df[\"P2_diff\"]=RF_df[\"P2\"][0] - RF_df[\"P2\"][:]\n",
    "RF_df[\"P3_diff\"]=RF_df[\"P3\"][0] - RF_df[\"P3\"][:]\n",
    "RF_df[\"P4_diff\"]=RF_df[\"P4\"][0] - RF_df[\"P4\"][:]\n",
    "RF_df[\"P5_diff\"]=RF_df[\"P5\"][0] - RF_df[\"P5\"][:]\n",
    "RF_df[\"P6_diff\"]=RF_df[\"P6\"][0] - RF_df[\"P6\"][:]\n",
    "RF_df.fillna(1,inplace=True)\n",
    "\n",
    "RF_df[\"P2_diff_2\"]=(RF_df[\"P2_diff\"])**2\n",
    "RF_df[\"P3_diff_2\"]=(RF_df[\"P3_diff\"])**2\n",
    "RF_df[\"P4_diff_2\"]=(RF_df[\"P4_diff\"])**2\n",
    "RF_df[\"P5_diff_2\"]=(RF_df[\"P5_diff\"])**2\n",
    "RF_df[\"P6_diff_2\"]=(RF_df[\"P6_diff\"])**2\n",
    "\n",
    "new_rf=RF_df.iloc[:,-5:].round(5)\n",
    "new_rf[\"RACE_MSE\"]=new_rf.sum(axis=1)\n",
    "new_rf.loc[\"Policy_MSE\"]=[x for x in new_rf.sum(axis=0)]\n",
    "new_rf\n"
   ]
  },
  {
   "cell_type": "code",
   "execution_count": 125,
   "metadata": {},
   "outputs": [
    {
     "data": {
      "text/html": [
       "<div>\n",
       "<style scoped>\n",
       "    .dataframe tbody tr th:only-of-type {\n",
       "        vertical-align: middle;\n",
       "    }\n",
       "\n",
       "    .dataframe tbody tr th {\n",
       "        vertical-align: top;\n",
       "    }\n",
       "\n",
       "    .dataframe thead th {\n",
       "        text-align: right;\n",
       "    }\n",
       "</style>\n",
       "<table border=\"1\" class=\"dataframe\">\n",
       "  <thead>\n",
       "    <tr style=\"text-align: right;\">\n",
       "      <th></th>\n",
       "      <th>P2_diff_2</th>\n",
       "      <th>P3_diff_2</th>\n",
       "      <th>P4_diff_2</th>\n",
       "      <th>P5_diff_2</th>\n",
       "      <th>P6_diff_2</th>\n",
       "      <th>RACE_MSE</th>\n",
       "    </tr>\n",
       "  </thead>\n",
       "  <tbody>\n",
       "    <tr>\n",
       "      <th>country_level</th>\n",
       "      <td>0.000000</td>\n",
       "      <td>0.000000</td>\n",
       "      <td>0.000000</td>\n",
       "      <td>0.000000</td>\n",
       "      <td>0.000000</td>\n",
       "      <td>0.000000</td>\n",
       "    </tr>\n",
       "    <tr>\n",
       "      <th>GB_Asian</th>\n",
       "      <td>0.012355</td>\n",
       "      <td>0.018673</td>\n",
       "      <td>0.008021</td>\n",
       "      <td>0.042575</td>\n",
       "      <td>0.012673</td>\n",
       "      <td>0.094297</td>\n",
       "    </tr>\n",
       "    <tr>\n",
       "      <th>GB_White</th>\n",
       "      <td>0.008384</td>\n",
       "      <td>0.000683</td>\n",
       "      <td>0.004905</td>\n",
       "      <td>0.012341</td>\n",
       "      <td>0.001255</td>\n",
       "      <td>0.027567</td>\n",
       "    </tr>\n",
       "    <tr>\n",
       "      <th>GB_Black</th>\n",
       "      <td>0.006008</td>\n",
       "      <td>0.006437</td>\n",
       "      <td>0.000284</td>\n",
       "      <td>0.052060</td>\n",
       "      <td>0.002040</td>\n",
       "      <td>0.066830</td>\n",
       "    </tr>\n",
       "    <tr>\n",
       "      <th>GB_AIAN</th>\n",
       "      <td>0.014350</td>\n",
       "      <td>0.060545</td>\n",
       "      <td>0.012509</td>\n",
       "      <td>0.176659</td>\n",
       "      <td>0.015884</td>\n",
       "      <td>0.279947</td>\n",
       "    </tr>\n",
       "    <tr>\n",
       "      <th>GB_NHPI</th>\n",
       "      <td>0.022715</td>\n",
       "      <td>0.001033</td>\n",
       "      <td>0.001429</td>\n",
       "      <td>0.005510</td>\n",
       "      <td>0.001504</td>\n",
       "      <td>0.032192</td>\n",
       "    </tr>\n",
       "    <tr>\n",
       "      <th>Policy_MSE</th>\n",
       "      <td>0.063812</td>\n",
       "      <td>0.087371</td>\n",
       "      <td>0.027149</td>\n",
       "      <td>0.289145</td>\n",
       "      <td>0.033356</td>\n",
       "      <td>0.500833</td>\n",
       "    </tr>\n",
       "  </tbody>\n",
       "</table>\n",
       "</div>"
      ],
      "text/plain": [
       "               P2_diff_2  P3_diff_2  P4_diff_2  P5_diff_2  P6_diff_2  RACE_MSE\n",
       "country_level   0.000000   0.000000   0.000000   0.000000   0.000000  0.000000\n",
       "GB_Asian        0.012355   0.018673   0.008021   0.042575   0.012673  0.094297\n",
       "GB_White        0.008384   0.000683   0.004905   0.012341   0.001255  0.027567\n",
       "GB_Black        0.006008   0.006437   0.000284   0.052060   0.002040  0.066830\n",
       "GB_AIAN         0.014350   0.060545   0.012509   0.176659   0.015884  0.279947\n",
       "GB_NHPI         0.022715   0.001033   0.001429   0.005510   0.001504  0.032192\n",
       "Policy_MSE      0.063812   0.087371   0.027149   0.289145   0.033356  0.500833"
      ]
     },
     "execution_count": 125,
     "metadata": {},
     "output_type": "execute_result"
    }
   ],
   "source": [
    "new_gb=gb_df.iloc[:,-5:]\n",
    "new_gb[\"RACE_MSE\"]=new_gb.sum(axis=1)\n",
    "new_gb.loc[\"Policy_MSE\"]=[x for x in new_gb.sum(axis=0)]\n",
    "new_gb"
   ]
  },
  {
   "cell_type": "code",
   "execution_count": null,
   "metadata": {},
   "outputs": [],
   "source": [
    "# Which Race is being more impacted?  Ans -> RF_AIAN, GB_Asian\n",
    "# Which Policy has the highest impact on the Race?  \n",
    "# Which Policy is more impactfull? Rf-> P5, GB -> P3"
   ]
  },
  {
   "cell_type": "code",
   "execution_count": 131,
   "metadata": {},
   "outputs": [
    {
     "name": "stdout",
     "output_type": "stream",
     "text": [
      "               P2_diff_2  P3_diff_2  P4_diff_2  P5_diff_2  P6_diff_2  RACE_MSE\n",
      "country_level    0.00000    0.00000    0.00000    0.00000    0.00000   0.00000\n",
      "RF_Asian         0.00189    0.00056    0.00000    0.01044    0.00417   0.01706\n",
      "RF_White         0.00194    0.00005    0.00003    0.01823    0.00421   0.02446\n",
      "RF_Black         0.00288    0.00062    0.00026    0.01790    0.00210   0.02376\n",
      "RF_AIAN          0.00272    0.00339    0.00073    0.01933    0.00752   0.03369\n",
      "RF_NHPI          0.01760    0.02097    0.06153    0.00604    0.00006   0.10620\n",
      "Policy_MSE       0.02703    0.02559    0.06255    0.07194    0.01806   0.20517\n",
      "\n",
      "               P2_diff_2  P3_diff_2  P4_diff_2  P5_diff_2  P6_diff_2  RACE_MSE\n",
      "country_level   0.000000   0.000000   0.000000   0.000000   0.000000  0.000000\n",
      "GB_Asian        0.012355   0.018673   0.008021   0.042575   0.012673  0.094297\n",
      "GB_White        0.008384   0.000683   0.004905   0.012341   0.001255  0.027567\n",
      "GB_Black        0.006008   0.006437   0.000284   0.052060   0.002040  0.066830\n",
      "GB_AIAN         0.014350   0.060545   0.012509   0.176659   0.015884  0.279947\n",
      "GB_NHPI         0.022715   0.001033   0.001429   0.005510   0.001504  0.032192\n",
      "Policy_MSE      0.063812   0.087371   0.027149   0.289145   0.033356  0.500833\n"
     ]
    }
   ],
   "source": [
    "print(new_rf)\n",
    "print(\"\")\n",
    "print(new_gb)"
   ]
  },
  {
   "cell_type": "code",
   "execution_count": null,
   "metadata": {},
   "outputs": [],
   "source": []
  }
 ],
 "metadata": {
  "kernelspec": {
   "display_name": "Python 3.7.8 64-bit",
   "language": "python",
   "name": "python3"
  },
  "language_info": {
   "codemirror_mode": {
    "name": "ipython",
    "version": 3
   },
   "file_extension": ".py",
   "mimetype": "text/x-python",
   "name": "python",
   "nbconvert_exporter": "python",
   "pygments_lexer": "ipython3",
   "version": "3.7.8"
  },
  "orig_nbformat": 4,
  "vscode": {
   "interpreter": {
    "hash": "0a54084e6b208ee8d1ce3989ffc20924477a5f55f5a43e22e699a6741623861e"
   }
  }
 },
 "nbformat": 4,
 "nbformat_minor": 2
}
